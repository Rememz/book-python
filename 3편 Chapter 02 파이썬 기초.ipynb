{
 "cells": [
  {
   "cell_type": "markdown",
   "id": "83899c65",
   "metadata": {},
   "source": [
    "# Chapter 2 파이썬 기초"
   ]
  },
  {
   "cell_type": "markdown",
   "id": "344d6497",
   "metadata": {},
   "source": [
    "## 제1절 라이브러리 "
   ]
  },
  {
   "cell_type": "markdown",
   "id": "3a582c0f",
   "metadata": {},
   "source": [
    "## 1. 라이브러리 보기/설치"
   ]
  },
  {
   "cell_type": "markdown",
   "id": "a9bf2d98",
   "metadata": {},
   "source": [
    "### (1) 라이브러리가 필요한 사례보기"
   ]
  },
  {
   "cell_type": "code",
   "execution_count": 1,
   "id": "3e2dc242",
   "metadata": {
    "scrolled": true
   },
   "outputs": [
    {
     "data": {
      "text/plain": [
       "200"
      ]
     },
     "execution_count": 1,
     "metadata": {},
     "output_type": "execute_result"
    }
   ],
   "source": [
    "100*2"
   ]
  },
  {
   "cell_type": "code",
   "execution_count": 2,
   "id": "becd45de",
   "metadata": {},
   "outputs": [
    {
     "ename": "NameError",
     "evalue": "name 'log' is not defined",
     "output_type": "error",
     "traceback": [
      "\u001b[1;31m---------------------------------------------------------------------------\u001b[0m",
      "\u001b[1;31mNameError\u001b[0m                                 Traceback (most recent call last)",
      "Cell \u001b[1;32mIn [2], line 1\u001b[0m\n\u001b[1;32m----> 1\u001b[0m \u001b[43mlog\u001b[49m(\u001b[38;5;241m10\u001b[39m)\n",
      "\u001b[1;31mNameError\u001b[0m: name 'log' is not defined"
     ]
    }
   ],
   "source": [
    "log(10)"
   ]
  },
  {
   "cell_type": "code",
   "execution_count": 3,
   "id": "61c28d83",
   "metadata": {},
   "outputs": [
    {
     "data": {
      "text/plain": [
       "2.302585092994046"
      ]
     },
     "execution_count": 3,
     "metadata": {},
     "output_type": "execute_result"
    }
   ],
   "source": [
    "import math\n",
    "math.log(10)"
   ]
  },
  {
   "cell_type": "markdown",
   "id": "0dc4bcea",
   "metadata": {},
   "source": [
    "### (2) math 모듈(Math Module)"
   ]
  },
  {
   "cell_type": "code",
   "execution_count": 4,
   "id": "dba8e870",
   "metadata": {},
   "outputs": [],
   "source": [
    "from math import *  "
   ]
  },
  {
   "cell_type": "code",
   "execution_count": 5,
   "id": "5ba68ccc",
   "metadata": {},
   "outputs": [
    {
     "data": {
      "text/plain": [
       "2.302585092994046"
      ]
     },
     "execution_count": 5,
     "metadata": {},
     "output_type": "execute_result"
    }
   ],
   "source": [
    "log(10)"
   ]
  },
  {
   "cell_type": "markdown",
   "id": "77e2044b",
   "metadata": {},
   "source": [
    "### (3) 설치되어 있는 라이브러리 보기"
   ]
  },
  {
   "cell_type": "code",
   "execution_count": 6,
   "id": "4a80d5fe",
   "metadata": {},
   "outputs": [
    {
     "name": "stdout",
     "output_type": "stream",
     "text": [
      "Package                      Version\n",
      "---------------------------- ------------\n",
      "absl-py                      1.4.0\n",
      "accelerate                   0.21.0\n",
      "aiofiles                     23.2.1\n",
      "aiohttp                      3.8.5\n",
      "aiosignal                    1.3.1\n",
      "albumentations               1.3.1\n",
      "alpha-vantage                2.3.1\n",
      "altair                       5.0.1\n",
      "anyio                        3.7.1\n",
      "appdirs                      1.4.4\n",
      "argon2-cffi                  21.3.0\n",
      "argon2-cffi-bindings         21.2.0\n",
      "arrow                        1.2.3\n",
      "asttokens                    2.1.0\n",
      "astunparse                   1.6.3\n",
      "async-timeout                4.0.3\n",
      "attrs                        22.1.0\n",
      "autotrain-advanced           0.6.25\n",
      "backcall                     0.2.0\n",
      "Backtesting                  0.3.3\n",
      "backtrader                   1.9.76.123\n",
      "beautifulsoup4               4.12.2\n",
      "bitsandbytes                 0.41.1\n",
      "bleach                       6.0.0\n",
      "bokeh                        3.2.0\n",
      "branca                       0.6.0\n",
      "bs4                          0.0.1\n",
      "cachetools                   5.3.1\n",
      "certifi                      2022.9.24\n",
      "cffi                         1.15.1\n",
      "charset-normalizer           2.1.1\n",
      "chart-studio                 1.1.0\n",
      "clarabel                     0.6.0\n",
      "click                        8.1.6\n",
      "codecarbon                   2.2.3\n",
      "colorama                     0.4.6\n",
      "colorlover                   0.3.0\n",
      "contourpy                    1.1.0\n",
      "cufflinks                    0.17.3\n",
      "cvxopt                       1.3.2\n",
      "cvxpy                        1.4.1\n",
      "cycler                       0.11.0\n",
      "Cython                       0.29.36\n",
      "dataclasses                  0.6\n",
      "datapungi_fed                0.3.1\n",
      "datasets                     2.14.4\n",
      "DateTime                     4.7\n",
      "debugpy                      1.6.3\n",
      "decorator                    5.1.1\n",
      "defusedxml                   0.7.1\n",
      "Deprecated                   1.2.13\n",
      "diffusers                    0.20.0.dev0\n",
      "dill                         0.3.7\n",
      "ecos                         2.0.12\n",
      "einops                       0.6.1\n",
      "empyrical                    0.5.5\n",
      "entrypoints                  0.4\n",
      "et-xmlfile                   1.1.0\n",
      "evaluate                     0.3.0\n",
      "exceptiongroup               1.1.2\n",
      "executing                    1.2.0\n",
      "fastapi                      0.101.1\n",
      "fastjsonschema               2.16.2\n",
      "ffmpy                        0.3.1\n",
      "filelock                     3.12.2\n",
      "finance-datareader           0.9.66\n",
      "flatbuffers                  23.5.26\n",
      "folium                       0.14.0\n",
      "fonttools                    4.43.1\n",
      "fqdn                         1.5.1\n",
      "fredapi                      0.5.1\n",
      "frozendict                   2.3.4\n",
      "frozenlist                   1.4.0\n",
      "fsspec                       2023.6.0\n",
      "fuzzywuzzy                   0.18.0\n",
      "gast                         0.4.0\n",
      "gensim                       4.3.1\n",
      "google-auth                  2.22.0\n",
      "google-auth-oauthlib         1.0.0\n",
      "google-pasta                 0.2.0\n",
      "gradio                       3.39.0\n",
      "gradio_client                0.4.0\n",
      "graphviz                     0.20.1\n",
      "grpcio                       1.56.2\n",
      "h11                          0.14.0\n",
      "h5py                         3.9.0\n",
      "html5lib                     1.1\n",
      "httpcore                     0.17.3\n",
      "httpx                        0.24.1\n",
      "huggingface-hub              0.16.4\n",
      "idna                         3.4\n",
      "imageio                      2.31.1\n",
      "imbalanced-learn             0.11.0\n",
      "imblearn                     0.0\n",
      "importlib-metadata           6.7.0\n",
      "importlib-resources          6.1.0\n",
      "inflection                   0.5.1\n",
      "iniconfig                    2.0.0\n",
      "intrinio-sdk                 6.26.3\n",
      "invisible-watermark          0.2.0\n",
      "ipadic                       1.0.0\n",
      "ipykernel                    6.17.0\n",
      "ipython                      8.6.0\n",
      "ipython-genutils             0.2.0\n",
      "ipywidgets                   8.0.7\n",
      "isoduration                  20.11.0\n",
      "jedi                         0.18.1\n",
      "Jinja2                       3.1.2\n",
      "jiwer                        3.0.2\n",
      "joblib                       1.3.1\n",
      "jsonpointer                  2.4\n",
      "jsonschema                   4.17.0\n",
      "jupyter                      1.0.0\n",
      "jupyter_client               7.4.4\n",
      "jupyter-console              6.6.3\n",
      "jupyter_core                 5.3.1\n",
      "jupyter-events               0.6.3\n",
      "jupyter_server               2.7.0\n",
      "jupyter_server_terminals     0.4.4\n",
      "jupyterlab-pygments          0.2.2\n",
      "jupyterlab-widgets           3.0.8\n",
      "keras                        2.13.1\n",
      "kiwipiepy                    0.15.2\n",
      "kiwipiepy-model              0.15.0\n",
      "kiwisolver                   1.4.4\n",
      "lazy_loader                  0.3\n",
      "libclang                     16.0.6\n",
      "linkify-it-py                2.0.2\n",
      "loguru                       0.7.0\n",
      "lxml                         4.9.3\n",
      "Markdown                     3.4.3\n",
      "markdown-it-py               2.2.0\n",
      "MarkupSafe                   2.1.3\n",
      "matplotlib                   3.8.1\n",
      "matplotlib-inline            0.1.6\n",
      "mdit-py-plugins              0.3.3\n",
      "mdurl                        0.1.2\n",
      "mistune                      3.0.1\n",
      "more-itertools               10.2.0\n",
      "mpmath                       1.3.0\n",
      "multidict                    6.0.4\n",
      "multipledispatch             1.0.0\n",
      "multiprocess                 0.70.15\n",
      "multitasking                 0.0.11\n",
      "mypy-extensions              1.0.0\n",
      "Nasdaq-Data-Link             1.0.4\n",
      "nbclassic                    1.0.0\n",
      "nbclient                     0.8.0\n",
      "nbconvert                    7.6.0\n",
      "nbformat                     5.9.2\n",
      "nest-asyncio                 1.5.6\n",
      "networkx                     3.1\n",
      "nltk                         3.8.1\n",
      "notebook                     6.5.4\n",
      "notebook_shim                0.2.3\n",
      "numpy                        1.26.2\n",
      "numpy-financial              1.0.0\n",
      "oauthlib                     3.2.2\n",
      "opencv-python                4.8.0.76\n",
      "opencv-python-headless       4.8.0.76\n",
      "OpenDartReader               0.2.3\n",
      "openpyxl                     3.1.2\n",
      "opt-einsum                   3.3.0\n",
      "orjson                       3.9.5\n",
      "osqp                         0.6.3\n",
      "overrides                    7.3.1\n",
      "packaging                    21.3\n",
      "pandas                       2.1.3\n",
      "pandas-datareader            0.10.0\n",
      "pandocfilters                1.5.0\n",
      "parso                        0.8.3\n",
      "patsy                        0.5.3\n",
      "peewee                       3.17.0\n",
      "peft                         0.5.0.dev0\n",
      "pickleshare                  0.7.5\n",
      "Pillow                       10.0.0\n",
      "pip                          23.3.2\n",
      "platformdirs                 3.8.1\n",
      "plotly                       5.11.0\n",
      "plotly-express               0.4.1\n",
      "pluggy                       1.2.0\n",
      "pmdarima                     2.0.3\n",
      "prometheus-client            0.17.0\n",
      "prompt-toolkit               3.0.32\n",
      "protobuf                     4.23.4\n",
      "psutil                       5.9.3\n",
      "psycopg2                     2.9.6\n",
      "PuLP                         2.7.0\n",
      "pure-eval                    0.2.2\n",
      "py                           1.11.0\n",
      "py-cpuinfo                   9.0.0\n",
      "pyarrow                      12.0.1\n",
      "pyasn1                       0.5.0\n",
      "pyasn1-modules               0.3.0\n",
      "pybind11                     2.11.1\n",
      "pycoingecko                  3.1.0\n",
      "pycparser                    2.21\n",
      "pydantic                     1.10.11\n",
      "pydub                        0.25.1\n",
      "pyfolio                      0.9.2\n",
      "Pygments                     2.13.0\n",
      "pykrx                        1.0.45\n",
      "pynvml                       11.5.0\n",
      "pyparsing                    3.0.9\n",
      "pyperclip                    1.8.2\n",
      "pyre-extensions              0.0.29\n",
      "pyrsistent                   0.19.2\n",
      "pytest                       7.4.0\n",
      "pytest-html                  3.2.0\n",
      "pytest-metadata              3.0.0\n",
      "python-dateutil              2.8.2\n",
      "python-json-logger           2.0.7\n",
      "python-multipart             0.0.6\n",
      "pytz                         2022.6\n",
      "PyWavelets                   1.4.1\n",
      "pywin32                      305\n",
      "pywinpty                     2.0.10\n",
      "PyYAML                       6.0\n",
      "pyzmq                        24.0.1\n",
      "qdldl                        0.1.7.post0\n",
      "qtconsole                    5.4.3\n",
      "QtPy                         2.3.1\n",
      "QuantStats                   0.0.62\n",
      "qudida                       0.0.4\n",
      "rapidfuzz                    2.13.7\n",
      "regex                        2023.8.8\n",
      "requests                     2.31.0\n",
      "requests-file                1.5.1\n",
      "requests-futures             1.0.1\n",
      "requests-oauthlib            1.3.1\n",
      "responses                    0.18.0\n",
      "retrying                     1.3.4\n",
      "rfc3339-validator            0.1.4\n",
      "rfc3986-validator            0.1.1\n",
      "rsa                          4.9\n",
      "sacremoses                   0.0.53\n",
      "safetensors                  0.3.2\n",
      "scikit-image                 0.21.0\n",
      "scikit-learn                 1.3.0\n",
      "scipy                        1.11.4\n",
      "scs                          3.2.4.post1\n",
      "seaborn                      0.13.0\n",
      "semantic-version             2.10.0\n",
      "Send2Trash                   1.8.2\n",
      "sentencepiece                0.1.99\n",
      "setuptools                   58.1.0\n",
      "six                          1.16.0\n",
      "sklearn                      0.0.post1\n",
      "smart-open                   6.3.0\n",
      "sniffio                      1.3.0\n",
      "soupsieve                    2.4.1\n",
      "stack-data                   0.6.0\n",
      "starlette                    0.27.0\n",
      "statsmodels                  0.13.5\n",
      "sympy                        1.12\n",
      "ta                           0.11.0\n",
      "TA-Lib                       0.4.24\n",
      "tabulate                     0.9.0\n",
      "tenacity                     8.1.0\n",
      "tensorboard                  2.13.0\n",
      "tensorboard-data-server      0.7.1\n",
      "tensorflow                   2.13.0\n",
      "tensorflow-estimator         2.13.0\n",
      "tensorflow-intel             2.13.0\n",
      "tensorflow-io-gcs-filesystem 0.31.0\n",
      "termcolor                    2.3.0\n",
      "terminado                    0.17.1\n",
      "threadpoolctl                3.1.0\n",
      "tifffile                     2023.8.12\n",
      "tiktoken                     0.4.0\n",
      "tinycss2                     1.2.1\n",
      "tokenizers                   0.13.3\n",
      "tomli                        2.0.1\n",
      "toolz                        0.12.0\n",
      "torch                        2.0.1\n",
      "torchaudio                   2.0.2+cu118\n",
      "torchvision                  0.15.2+cu118\n",
      "tornado                      6.2\n",
      "tqdm                         4.65.0\n",
      "traitlets                    5.9.0\n",
      "transformers                 4.32.0.dev0\n",
      "trl                          0.5.1.dev0\n",
      "typing_extensions            4.5.0\n",
      "typing-inspect               0.9.0\n",
      "tzdata                       2023.3\n",
      "uc-micro-py                  1.0.2\n",
      "uri-template                 1.3.0\n",
      "urllib3                      1.26.12\n",
      "uvicorn                      0.23.2\n",
      "wcwidth                      0.2.5\n",
      "webcolors                    1.13\n",
      "webencodings                 0.5.1\n",
      "websocket-client             1.6.1\n",
      "websockets                   11.0.3\n",
      "Werkzeug                     2.3.6\n",
      "wheel                        0.40.0\n",
      "widgetsnbextension           4.0.8\n",
      "win32-setctime               1.1.0\n",
      "wrapt                        1.14.1\n",
      "xformers                     0.0.20\n",
      "xlrd                         2.0.1\n",
      "xxhash                       3.3.0\n",
      "xyzservices                  2023.5.0\n",
      "yahooquery                   2.3.6\n",
      "yarl                         1.9.2\n",
      "yfinance                     0.2.35\n",
      "zipp                         3.15.0\n",
      "zope.interface               5.5.1\n",
      "Note: you may need to restart the kernel to use updated packages.\n"
     ]
    },
    {
     "name": "stderr",
     "output_type": "stream",
     "text": [
      "WARNING: Ignoring invalid distribution -atplotlib (c:\\users\\operator-70\\appdata\\local\\programs\\python\\python39\\lib\\site-packages)\n",
      "\n",
      "[notice] A new release of pip is available: 23.3.2 -> 24.0\n",
      "[notice] To update, run: c:\\users\\operator-70\\appdata\\local\\programs\\python\\python39\\python.exe -m pip install --upgrade pip\n"
     ]
    }
   ],
   "source": [
    "pip list"
   ]
  },
  {
   "cell_type": "markdown",
   "id": "29adf628",
   "metadata": {},
   "source": [
    "## 2. 라이브러리 불러오기"
   ]
  },
  {
   "cell_type": "markdown",
   "id": "72ae6353",
   "metadata": {},
   "source": [
    "### (1) import 방법"
   ]
  },
  {
   "cell_type": "code",
   "execution_count": 7,
   "id": "82b526ae",
   "metadata": {},
   "outputs": [],
   "source": [
    "import numpy"
   ]
  },
  {
   "cell_type": "code",
   "execution_count": 8,
   "id": "2a10977f",
   "metadata": {},
   "outputs": [],
   "source": [
    "import numpy as np"
   ]
  },
  {
   "cell_type": "markdown",
   "id": "1e2fbc4c",
   "metadata": {},
   "source": [
    "### (2) 모듈을 한 번 로드 한 뒤 함수를 사용하는 방법"
   ]
  },
  {
   "cell_type": "code",
   "execution_count": 9,
   "id": "0101ff1c",
   "metadata": {},
   "outputs": [],
   "source": [
    "from math import asin"
   ]
  },
  {
   "cell_type": "code",
   "execution_count": 10,
   "id": "cb6a024a",
   "metadata": {},
   "outputs": [],
   "source": [
    "from math import* "
   ]
  },
  {
   "cell_type": "markdown",
   "id": "bed1a170",
   "metadata": {},
   "source": [
    "### (3) import된 라이브러리(패키지) 내용을 살펴보는 경우"
   ]
  },
  {
   "cell_type": "code",
   "execution_count": 11,
   "id": "acd2cb49",
   "metadata": {},
   "outputs": [
    {
     "data": {
      "text/plain": [
       "['ALLOW_THREADS',\n",
       " 'BUFSIZE',\n",
       " 'CLIP',\n",
       " 'DataSource',\n",
       " 'ERR_CALL',\n",
       " 'ERR_DEFAULT',\n",
       " 'ERR_IGNORE',\n",
       " 'ERR_LOG',\n",
       " 'ERR_PRINT',\n",
       " 'ERR_RAISE',\n",
       " 'ERR_WARN',\n",
       " 'FLOATING_POINT_SUPPORT',\n",
       " 'FPE_DIVIDEBYZERO',\n",
       " 'FPE_INVALID',\n",
       " 'FPE_OVERFLOW',\n",
       " 'FPE_UNDERFLOW',\n",
       " 'False_',\n",
       " 'Inf',\n",
       " 'Infinity',\n",
       " 'MAXDIMS',\n",
       " 'MAY_SHARE_BOUNDS',\n",
       " 'MAY_SHARE_EXACT',\n",
       " 'NAN',\n",
       " 'NINF',\n",
       " 'NZERO',\n",
       " 'NaN',\n",
       " 'PINF',\n",
       " 'PZERO',\n",
       " 'RAISE',\n",
       " 'RankWarning',\n",
       " 'SHIFT_DIVIDEBYZERO',\n",
       " 'SHIFT_INVALID',\n",
       " 'SHIFT_OVERFLOW',\n",
       " 'SHIFT_UNDERFLOW',\n",
       " 'ScalarType',\n",
       " 'True_',\n",
       " 'UFUNC_BUFSIZE_DEFAULT',\n",
       " 'UFUNC_PYVALS_NAME',\n",
       " 'WRAP',\n",
       " '_CopyMode',\n",
       " '_NoValue',\n",
       " '_UFUNC_API',\n",
       " '__NUMPY_SETUP__',\n",
       " '__all__',\n",
       " '__builtins__',\n",
       " '__cached__',\n",
       " '__config__',\n",
       " '__deprecated_attrs__',\n",
       " '__dir__',\n",
       " '__doc__',\n",
       " '__expired_functions__',\n",
       " '__file__',\n",
       " '__former_attrs__',\n",
       " '__future_scalars__',\n",
       " '__getattr__',\n",
       " '__loader__',\n",
       " '__name__',\n",
       " '__package__',\n",
       " '__path__',\n",
       " '__spec__',\n",
       " '__version__',\n",
       " '_add_newdoc_ufunc',\n",
       " '_builtins',\n",
       " '_distributor_init',\n",
       " '_financial_names',\n",
       " '_get_promotion_state',\n",
       " '_globals',\n",
       " '_int_extended_msg',\n",
       " '_mat',\n",
       " '_no_nep50_warning',\n",
       " '_pyinstaller_hooks_dir',\n",
       " '_pytesttester',\n",
       " '_set_promotion_state',\n",
       " '_specific_msg',\n",
       " '_typing',\n",
       " '_using_numpy2_behavior',\n",
       " '_utils',\n",
       " 'abs',\n",
       " 'absolute',\n",
       " 'add',\n",
       " 'add_docstring',\n",
       " 'add_newdoc',\n",
       " 'add_newdoc_ufunc',\n",
       " 'all',\n",
       " 'allclose',\n",
       " 'alltrue',\n",
       " 'amax',\n",
       " 'amin',\n",
       " 'angle',\n",
       " 'any',\n",
       " 'append',\n",
       " 'apply_along_axis',\n",
       " 'apply_over_axes',\n",
       " 'arange',\n",
       " 'arccos',\n",
       " 'arccosh',\n",
       " 'arcsin',\n",
       " 'arcsinh',\n",
       " 'arctan',\n",
       " 'arctan2',\n",
       " 'arctanh',\n",
       " 'argmax',\n",
       " 'argmin',\n",
       " 'argpartition',\n",
       " 'argsort',\n",
       " 'argwhere',\n",
       " 'around',\n",
       " 'array',\n",
       " 'array2string',\n",
       " 'array_equal',\n",
       " 'array_equiv',\n",
       " 'array_repr',\n",
       " 'array_split',\n",
       " 'array_str',\n",
       " 'asanyarray',\n",
       " 'asarray',\n",
       " 'asarray_chkfinite',\n",
       " 'ascontiguousarray',\n",
       " 'asfarray',\n",
       " 'asfortranarray',\n",
       " 'asmatrix',\n",
       " 'atleast_1d',\n",
       " 'atleast_2d',\n",
       " 'atleast_3d',\n",
       " 'average',\n",
       " 'bartlett',\n",
       " 'base_repr',\n",
       " 'binary_repr',\n",
       " 'bincount',\n",
       " 'bitwise_and',\n",
       " 'bitwise_not',\n",
       " 'bitwise_or',\n",
       " 'bitwise_xor',\n",
       " 'blackman',\n",
       " 'block',\n",
       " 'bmat',\n",
       " 'bool_',\n",
       " 'broadcast',\n",
       " 'broadcast_arrays',\n",
       " 'broadcast_shapes',\n",
       " 'broadcast_to',\n",
       " 'busday_count',\n",
       " 'busday_offset',\n",
       " 'busdaycalendar',\n",
       " 'byte',\n",
       " 'byte_bounds',\n",
       " 'bytes_',\n",
       " 'c_',\n",
       " 'can_cast',\n",
       " 'cast',\n",
       " 'cbrt',\n",
       " 'cdouble',\n",
       " 'ceil',\n",
       " 'cfloat',\n",
       " 'char',\n",
       " 'character',\n",
       " 'chararray',\n",
       " 'choose',\n",
       " 'clip',\n",
       " 'clongdouble',\n",
       " 'clongfloat',\n",
       " 'column_stack',\n",
       " 'common_type',\n",
       " 'compare_chararrays',\n",
       " 'compat',\n",
       " 'complex128',\n",
       " 'complex64',\n",
       " 'complex_',\n",
       " 'complexfloating',\n",
       " 'compress',\n",
       " 'concatenate',\n",
       " 'conj',\n",
       " 'conjugate',\n",
       " 'convolve',\n",
       " 'copy',\n",
       " 'copysign',\n",
       " 'copyto',\n",
       " 'corrcoef',\n",
       " 'correlate',\n",
       " 'cos',\n",
       " 'cosh',\n",
       " 'count_nonzero',\n",
       " 'cov',\n",
       " 'cross',\n",
       " 'csingle',\n",
       " 'ctypeslib',\n",
       " 'cumprod',\n",
       " 'cumproduct',\n",
       " 'cumsum',\n",
       " 'datetime64',\n",
       " 'datetime_as_string',\n",
       " 'datetime_data',\n",
       " 'deg2rad',\n",
       " 'degrees',\n",
       " 'delete',\n",
       " 'deprecate',\n",
       " 'deprecate_with_doc',\n",
       " 'diag',\n",
       " 'diag_indices',\n",
       " 'diag_indices_from',\n",
       " 'diagflat',\n",
       " 'diagonal',\n",
       " 'diff',\n",
       " 'digitize',\n",
       " 'disp',\n",
       " 'divide',\n",
       " 'divmod',\n",
       " 'dot',\n",
       " 'double',\n",
       " 'dsplit',\n",
       " 'dstack',\n",
       " 'dtype',\n",
       " 'dtypes',\n",
       " 'e',\n",
       " 'ediff1d',\n",
       " 'einsum',\n",
       " 'einsum_path',\n",
       " 'emath',\n",
       " 'empty',\n",
       " 'empty_like',\n",
       " 'equal',\n",
       " 'errstate',\n",
       " 'euler_gamma',\n",
       " 'exceptions',\n",
       " 'exp',\n",
       " 'exp2',\n",
       " 'expand_dims',\n",
       " 'expm1',\n",
       " 'extract',\n",
       " 'eye',\n",
       " 'fabs',\n",
       " 'fastCopyAndTranspose',\n",
       " 'fft',\n",
       " 'fill_diagonal',\n",
       " 'find_common_type',\n",
       " 'finfo',\n",
       " 'fix',\n",
       " 'flatiter',\n",
       " 'flatnonzero',\n",
       " 'flexible',\n",
       " 'flip',\n",
       " 'fliplr',\n",
       " 'flipud',\n",
       " 'float16',\n",
       " 'float32',\n",
       " 'float64',\n",
       " 'float_',\n",
       " 'float_power',\n",
       " 'floating',\n",
       " 'floor',\n",
       " 'floor_divide',\n",
       " 'fmax',\n",
       " 'fmin',\n",
       " 'fmod',\n",
       " 'format_float_positional',\n",
       " 'format_float_scientific',\n",
       " 'format_parser',\n",
       " 'frexp',\n",
       " 'from_dlpack',\n",
       " 'frombuffer',\n",
       " 'fromfile',\n",
       " 'fromfunction',\n",
       " 'fromiter',\n",
       " 'frompyfunc',\n",
       " 'fromregex',\n",
       " 'fromstring',\n",
       " 'full',\n",
       " 'full_like',\n",
       " 'gcd',\n",
       " 'generic',\n",
       " 'genfromtxt',\n",
       " 'geomspace',\n",
       " 'get_array_wrap',\n",
       " 'get_include',\n",
       " 'get_printoptions',\n",
       " 'getbufsize',\n",
       " 'geterr',\n",
       " 'geterrcall',\n",
       " 'geterrobj',\n",
       " 'gradient',\n",
       " 'greater',\n",
       " 'greater_equal',\n",
       " 'half',\n",
       " 'hamming',\n",
       " 'hanning',\n",
       " 'heaviside',\n",
       " 'histogram',\n",
       " 'histogram2d',\n",
       " 'histogram_bin_edges',\n",
       " 'histogramdd',\n",
       " 'hsplit',\n",
       " 'hstack',\n",
       " 'hypot',\n",
       " 'i0',\n",
       " 'identity',\n",
       " 'iinfo',\n",
       " 'imag',\n",
       " 'in1d',\n",
       " 'index_exp',\n",
       " 'indices',\n",
       " 'inexact',\n",
       " 'inf',\n",
       " 'info',\n",
       " 'infty',\n",
       " 'inner',\n",
       " 'insert',\n",
       " 'int16',\n",
       " 'int32',\n",
       " 'int64',\n",
       " 'int8',\n",
       " 'int_',\n",
       " 'intc',\n",
       " 'integer',\n",
       " 'interp',\n",
       " 'intersect1d',\n",
       " 'intp',\n",
       " 'invert',\n",
       " 'is_busday',\n",
       " 'isclose',\n",
       " 'iscomplex',\n",
       " 'iscomplexobj',\n",
       " 'isfinite',\n",
       " 'isfortran',\n",
       " 'isin',\n",
       " 'isinf',\n",
       " 'isnan',\n",
       " 'isnat',\n",
       " 'isneginf',\n",
       " 'isposinf',\n",
       " 'isreal',\n",
       " 'isrealobj',\n",
       " 'isscalar',\n",
       " 'issctype',\n",
       " 'issubclass_',\n",
       " 'issubdtype',\n",
       " 'issubsctype',\n",
       " 'iterable',\n",
       " 'ix_',\n",
       " 'kaiser',\n",
       " 'kron',\n",
       " 'lcm',\n",
       " 'ldexp',\n",
       " 'left_shift',\n",
       " 'less',\n",
       " 'less_equal',\n",
       " 'lexsort',\n",
       " 'lib',\n",
       " 'linalg',\n",
       " 'linspace',\n",
       " 'little_endian',\n",
       " 'load',\n",
       " 'loadtxt',\n",
       " 'log',\n",
       " 'log10',\n",
       " 'log1p',\n",
       " 'log2',\n",
       " 'logaddexp',\n",
       " 'logaddexp2',\n",
       " 'logical_and',\n",
       " 'logical_not',\n",
       " 'logical_or',\n",
       " 'logical_xor',\n",
       " 'logspace',\n",
       " 'longcomplex',\n",
       " 'longdouble',\n",
       " 'longfloat',\n",
       " 'longlong',\n",
       " 'lookfor',\n",
       " 'ma',\n",
       " 'mask_indices',\n",
       " 'mat',\n",
       " 'matmul',\n",
       " 'matrix',\n",
       " 'max',\n",
       " 'maximum',\n",
       " 'maximum_sctype',\n",
       " 'may_share_memory',\n",
       " 'mean',\n",
       " 'median',\n",
       " 'memmap',\n",
       " 'meshgrid',\n",
       " 'mgrid',\n",
       " 'min',\n",
       " 'min_scalar_type',\n",
       " 'minimum',\n",
       " 'mintypecode',\n",
       " 'mod',\n",
       " 'modf',\n",
       " 'moveaxis',\n",
       " 'msort',\n",
       " 'multiply',\n",
       " 'nan',\n",
       " 'nan_to_num',\n",
       " 'nanargmax',\n",
       " 'nanargmin',\n",
       " 'nancumprod',\n",
       " 'nancumsum',\n",
       " 'nanmax',\n",
       " 'nanmean',\n",
       " 'nanmedian',\n",
       " 'nanmin',\n",
       " 'nanpercentile',\n",
       " 'nanprod',\n",
       " 'nanquantile',\n",
       " 'nanstd',\n",
       " 'nansum',\n",
       " 'nanvar',\n",
       " 'nbytes',\n",
       " 'ndarray',\n",
       " 'ndenumerate',\n",
       " 'ndim',\n",
       " 'ndindex',\n",
       " 'nditer',\n",
       " 'negative',\n",
       " 'nested_iters',\n",
       " 'newaxis',\n",
       " 'nextafter',\n",
       " 'nonzero',\n",
       " 'not_equal',\n",
       " 'numarray',\n",
       " 'number',\n",
       " 'obj2sctype',\n",
       " 'object_',\n",
       " 'ogrid',\n",
       " 'oldnumeric',\n",
       " 'ones',\n",
       " 'ones_like',\n",
       " 'outer',\n",
       " 'packbits',\n",
       " 'pad',\n",
       " 'partition',\n",
       " 'percentile',\n",
       " 'pi',\n",
       " 'piecewise',\n",
       " 'place',\n",
       " 'poly',\n",
       " 'poly1d',\n",
       " 'polyadd',\n",
       " 'polyder',\n",
       " 'polydiv',\n",
       " 'polyfit',\n",
       " 'polyint',\n",
       " 'polymul',\n",
       " 'polynomial',\n",
       " 'polysub',\n",
       " 'polyval',\n",
       " 'positive',\n",
       " 'power',\n",
       " 'printoptions',\n",
       " 'prod',\n",
       " 'product',\n",
       " 'promote_types',\n",
       " 'ptp',\n",
       " 'put',\n",
       " 'put_along_axis',\n",
       " 'putmask',\n",
       " 'quantile',\n",
       " 'r_',\n",
       " 'rad2deg',\n",
       " 'radians',\n",
       " 'random',\n",
       " 'ravel',\n",
       " 'ravel_multi_index',\n",
       " 'real',\n",
       " 'real_if_close',\n",
       " 'rec',\n",
       " 'recarray',\n",
       " 'recfromcsv',\n",
       " 'recfromtxt',\n",
       " 'reciprocal',\n",
       " 'record',\n",
       " 'remainder',\n",
       " 'repeat',\n",
       " 'require',\n",
       " 'reshape',\n",
       " 'resize',\n",
       " 'result_type',\n",
       " 'right_shift',\n",
       " 'rint',\n",
       " 'roll',\n",
       " 'rollaxis',\n",
       " 'roots',\n",
       " 'rot90',\n",
       " 'round',\n",
       " 'round_',\n",
       " 'row_stack',\n",
       " 's_',\n",
       " 'safe_eval',\n",
       " 'save',\n",
       " 'savetxt',\n",
       " 'savez',\n",
       " 'savez_compressed',\n",
       " 'sctype2char',\n",
       " 'sctypeDict',\n",
       " 'sctypes',\n",
       " 'searchsorted',\n",
       " 'select',\n",
       " 'set_numeric_ops',\n",
       " 'set_printoptions',\n",
       " 'set_string_function',\n",
       " 'setbufsize',\n",
       " 'setdiff1d',\n",
       " 'seterr',\n",
       " 'seterrcall',\n",
       " 'seterrobj',\n",
       " 'setxor1d',\n",
       " 'shape',\n",
       " 'shares_memory',\n",
       " 'short',\n",
       " 'show_config',\n",
       " 'show_runtime',\n",
       " 'sign',\n",
       " 'signbit',\n",
       " 'signedinteger',\n",
       " 'sin',\n",
       " 'sinc',\n",
       " 'single',\n",
       " 'singlecomplex',\n",
       " 'sinh',\n",
       " 'size',\n",
       " 'sometrue',\n",
       " 'sort',\n",
       " 'sort_complex',\n",
       " 'source',\n",
       " 'spacing',\n",
       " 'split',\n",
       " 'sqrt',\n",
       " 'square',\n",
       " 'squeeze',\n",
       " 'stack',\n",
       " 'std',\n",
       " 'str_',\n",
       " 'string_',\n",
       " 'subtract',\n",
       " 'sum',\n",
       " 'swapaxes',\n",
       " 'take',\n",
       " 'take_along_axis',\n",
       " 'tan',\n",
       " 'tanh',\n",
       " 'tensordot',\n",
       " 'test',\n",
       " 'testing',\n",
       " 'tile',\n",
       " 'timedelta64',\n",
       " 'trace',\n",
       " 'tracemalloc_domain',\n",
       " 'transpose',\n",
       " 'trapz',\n",
       " 'tri',\n",
       " 'tril',\n",
       " 'tril_indices',\n",
       " 'tril_indices_from',\n",
       " 'trim_zeros',\n",
       " 'triu',\n",
       " 'triu_indices',\n",
       " 'triu_indices_from',\n",
       " 'true_divide',\n",
       " 'trunc',\n",
       " 'typecodes',\n",
       " 'typename',\n",
       " 'ubyte',\n",
       " 'ufunc',\n",
       " 'uint',\n",
       " 'uint16',\n",
       " 'uint32',\n",
       " 'uint64',\n",
       " 'uint8',\n",
       " 'uintc',\n",
       " 'uintp',\n",
       " 'ulonglong',\n",
       " 'unicode_',\n",
       " 'union1d',\n",
       " 'unique',\n",
       " 'unpackbits',\n",
       " 'unravel_index',\n",
       " 'unsignedinteger',\n",
       " 'unwrap',\n",
       " 'ushort',\n",
       " 'vander',\n",
       " 'var',\n",
       " 'vdot',\n",
       " 'vectorize',\n",
       " 'version',\n",
       " 'void',\n",
       " 'vsplit',\n",
       " 'vstack',\n",
       " 'where',\n",
       " 'who',\n",
       " 'zeros',\n",
       " 'zeros_like']"
      ]
     },
     "execution_count": 11,
     "metadata": {},
     "output_type": "execute_result"
    }
   ],
   "source": [
    "dir(np)"
   ]
  },
  {
   "cell_type": "markdown",
   "id": "5d0c1ac3",
   "metadata": {},
   "source": [
    "## 3. 사칙연산 연산자"
   ]
  },
  {
   "cell_type": "markdown",
   "id": "9d1b9dfa",
   "metadata": {},
   "source": [
    "### (1)  +, - , * , /"
   ]
  },
  {
   "cell_type": "markdown",
   "id": "b5054827",
   "metadata": {},
   "source": [
    "#### 1) 덧셈"
   ]
  },
  {
   "cell_type": "code",
   "execution_count": 12,
   "id": "b3c6ba75",
   "metadata": {},
   "outputs": [
    {
     "data": {
      "text/plain": [
       "3"
      ]
     },
     "execution_count": 12,
     "metadata": {},
     "output_type": "execute_result"
    }
   ],
   "source": [
    "1+2"
   ]
  },
  {
   "cell_type": "markdown",
   "id": "9a210fa1",
   "metadata": {},
   "source": [
    "#### 2) 뺄셈 "
   ]
  },
  {
   "cell_type": "code",
   "execution_count": 13,
   "id": "73a87417",
   "metadata": {},
   "outputs": [
    {
     "data": {
      "text/plain": [
       "2"
      ]
     },
     "execution_count": 13,
     "metadata": {},
     "output_type": "execute_result"
    }
   ],
   "source": [
    "5-3"
   ]
  },
  {
   "cell_type": "markdown",
   "id": "451ecb15",
   "metadata": {},
   "source": [
    "#### 3. 순서는 아래쪽"
   ]
  },
  {
   "cell_type": "code",
   "execution_count": 14,
   "id": "5aa0e0b4",
   "metadata": {},
   "outputs": [
    {
     "data": {
      "text/plain": [
       "2"
      ]
     },
     "execution_count": 14,
     "metadata": {},
     "output_type": "execute_result"
    }
   ],
   "source": [
    "1+2\n",
    "5-3"
   ]
  },
  {
   "cell_type": "markdown",
   "id": "c3f6fcc2",
   "metadata": {},
   "source": [
    "#### 4) 곱셈"
   ]
  },
  {
   "cell_type": "code",
   "execution_count": 15,
   "id": "e7168b03",
   "metadata": {},
   "outputs": [
    {
     "data": {
      "text/plain": [
       "15"
      ]
     },
     "execution_count": 15,
     "metadata": {},
     "output_type": "execute_result"
    }
   ],
   "source": [
    "5*3"
   ]
  },
  {
   "cell_type": "markdown",
   "id": "26cffda2",
   "metadata": {},
   "source": [
    "#### 5) 나눗셈"
   ]
  },
  {
   "cell_type": "code",
   "execution_count": 16,
   "id": "5a4df0d5",
   "metadata": {},
   "outputs": [
    {
     "data": {
      "text/plain": [
       "2.0"
      ]
     },
     "execution_count": 16,
     "metadata": {},
     "output_type": "execute_result"
    }
   ],
   "source": [
    "6/3"
   ]
  },
  {
   "cell_type": "markdown",
   "id": "da8d9ce9",
   "metadata": {},
   "source": [
    "#### 6) 거듭제곱"
   ]
  },
  {
   "cell_type": "code",
   "execution_count": 17,
   "id": "a1b6f317",
   "metadata": {},
   "outputs": [
    {
     "data": {
      "text/plain": [
       "25"
      ]
     },
     "execution_count": 17,
     "metadata": {},
     "output_type": "execute_result"
    }
   ],
   "source": [
    "5**2"
   ]
  },
  {
   "cell_type": "code",
   "execution_count": 18,
   "id": "f62fdb09",
   "metadata": {},
   "outputs": [
    {
     "data": {
      "text/plain": [
       "88817841970012523233890533447265625"
      ]
     },
     "execution_count": 18,
     "metadata": {},
     "output_type": "execute_result"
    }
   ],
   "source": [
    "5**50"
   ]
  },
  {
   "cell_type": "markdown",
   "id": "f2c22202",
   "metadata": {},
   "source": [
    "### (2)  //"
   ]
  },
  {
   "cell_type": "code",
   "execution_count": 19,
   "id": "4f24db94",
   "metadata": {},
   "outputs": [
    {
     "data": {
      "text/plain": [
       "3"
      ]
     },
     "execution_count": 19,
     "metadata": {},
     "output_type": "execute_result"
    }
   ],
   "source": [
    "7//2"
   ]
  },
  {
   "cell_type": "markdown",
   "id": "6cd6a783",
   "metadata": {},
   "source": [
    "### (3) %"
   ]
  },
  {
   "cell_type": "code",
   "execution_count": 20,
   "id": "d9ef53cb",
   "metadata": {},
   "outputs": [
    {
     "data": {
      "text/plain": [
       "1"
      ]
     },
     "execution_count": 20,
     "metadata": {},
     "output_type": "execute_result"
    }
   ],
   "source": [
    "7%2"
   ]
  },
  {
   "cell_type": "markdown",
   "id": "aa19dd83",
   "metadata": {},
   "source": [
    "### (4) 일반 수학의 연산 순서와 동일"
   ]
  },
  {
   "cell_type": "code",
   "execution_count": 21,
   "id": "115da4e5",
   "metadata": {},
   "outputs": [
    {
     "data": {
      "text/plain": [
       "8"
      ]
     },
     "execution_count": 21,
     "metadata": {},
     "output_type": "execute_result"
    }
   ],
   "source": [
    "2+3*2"
   ]
  },
  {
   "cell_type": "code",
   "execution_count": 22,
   "id": "1d8711fe",
   "metadata": {},
   "outputs": [
    {
     "data": {
      "text/plain": [
       "13.0"
      ]
     },
     "execution_count": 22,
     "metadata": {},
     "output_type": "execute_result"
    }
   ],
   "source": [
    "10+6/2"
   ]
  },
  {
   "cell_type": "markdown",
   "id": "21023940",
   "metadata": {},
   "source": [
    "### (5) 괄호 안을 먼저 계산"
   ]
  },
  {
   "cell_type": "code",
   "execution_count": 23,
   "id": "a0cf137b",
   "metadata": {},
   "outputs": [
    {
     "data": {
      "text/plain": [
       "2"
      ]
     },
     "execution_count": 23,
     "metadata": {},
     "output_type": "execute_result"
    }
   ],
   "source": [
    "10-(3*3-1)"
   ]
  },
  {
   "cell_type": "markdown",
   "id": "56aef91c",
   "metadata": {},
   "source": [
    "### (6) 부등식의 참과 거짓 계산(True, False)"
   ]
  },
  {
   "cell_type": "code",
   "execution_count": 24,
   "id": "a3e58f36",
   "metadata": {},
   "outputs": [
    {
     "data": {
      "text/plain": [
       "True"
      ]
     },
     "execution_count": 24,
     "metadata": {},
     "output_type": "execute_result"
    }
   ],
   "source": [
    "3 > 1"
   ]
  },
  {
   "cell_type": "code",
   "execution_count": 25,
   "id": "69a8accf",
   "metadata": {},
   "outputs": [
    {
     "data": {
      "text/plain": [
       "False"
      ]
     },
     "execution_count": 25,
     "metadata": {},
     "output_type": "execute_result"
    }
   ],
   "source": [
    "3 < 1"
   ]
  },
  {
   "cell_type": "markdown",
   "id": "5be93ea8",
   "metadata": {},
   "source": [
    "### (7) 등호기호(==)"
   ]
  },
  {
   "cell_type": "code",
   "execution_count": 26,
   "id": "8dbbdc6c",
   "metadata": {},
   "outputs": [
    {
     "data": {
      "text/plain": [
       "True"
      ]
     },
     "execution_count": 26,
     "metadata": {},
     "output_type": "execute_result"
    }
   ],
   "source": [
    "2 == 2"
   ]
  },
  {
   "cell_type": "markdown",
   "id": "a404b92a",
   "metadata": {},
   "source": [
    "### (8) 같지않다.(!=)"
   ]
  },
  {
   "cell_type": "code",
   "execution_count": 27,
   "id": "2d72aa2c",
   "metadata": {},
   "outputs": [
    {
     "data": {
      "text/plain": [
       "False"
      ]
     },
     "execution_count": 27,
     "metadata": {},
     "output_type": "execute_result"
    }
   ],
   "source": [
    "2 != 2 "
   ]
  },
  {
   "cell_type": "code",
   "execution_count": 28,
   "id": "d9a92be0",
   "metadata": {},
   "outputs": [
    {
     "data": {
      "text/plain": [
       "True"
      ]
     },
     "execution_count": 28,
     "metadata": {},
     "output_type": "execute_result"
    }
   ],
   "source": [
    "2 != 3 "
   ]
  },
  {
   "cell_type": "markdown",
   "id": "63c78a8d",
   "metadata": {},
   "source": [
    "### (9) (2는 3보다) 작거나 같다."
   ]
  },
  {
   "cell_type": "code",
   "execution_count": 29,
   "id": "fe1000fe",
   "metadata": {},
   "outputs": [
    {
     "data": {
      "text/plain": [
       "True"
      ]
     },
     "execution_count": 29,
     "metadata": {},
     "output_type": "execute_result"
    }
   ],
   "source": [
    "2 <= 3"
   ]
  },
  {
   "cell_type": "markdown",
   "id": "d4210d75",
   "metadata": {},
   "source": [
    "### (10) (2는 3보다) 크거나 같다."
   ]
  },
  {
   "cell_type": "code",
   "execution_count": 30,
   "id": "a355557f",
   "metadata": {},
   "outputs": [
    {
     "data": {
      "text/plain": [
       "False"
      ]
     },
     "execution_count": 30,
     "metadata": {},
     "output_type": "execute_result"
    }
   ],
   "source": [
    "2>=3"
   ]
  },
  {
   "cell_type": "markdown",
   "id": "bcf7a3fa",
   "metadata": {},
   "source": [
    "## 제 2절 변수 설정"
   ]
  },
  {
   "cell_type": "markdown",
   "id": "9bbaa5d3",
   "metadata": {},
   "source": [
    "### (1) 대소문자 구분"
   ]
  },
  {
   "cell_type": "code",
   "execution_count": 31,
   "id": "b2bda9b7",
   "metadata": {},
   "outputs": [
    {
     "data": {
      "text/plain": [
       "5"
      ]
     },
     "execution_count": 31,
     "metadata": {},
     "output_type": "execute_result"
    }
   ],
   "source": [
    "ABC=5\n",
    "ABC"
   ]
  },
  {
   "cell_type": "code",
   "execution_count": 32,
   "id": "df0c87b4",
   "metadata": {},
   "outputs": [
    {
     "ename": "NameError",
     "evalue": "name 'abc' is not defined",
     "output_type": "error",
     "traceback": [
      "\u001b[1;31m---------------------------------------------------------------------------\u001b[0m",
      "\u001b[1;31mNameError\u001b[0m                                 Traceback (most recent call last)",
      "Cell \u001b[1;32mIn [32], line 1\u001b[0m\n\u001b[1;32m----> 1\u001b[0m \u001b[43mabc\u001b[49m\n",
      "\u001b[1;31mNameError\u001b[0m: name 'abc' is not defined"
     ]
    }
   ],
   "source": [
    "abc"
   ]
  },
  {
   "cell_type": "markdown",
   "id": "d82ccf55",
   "metadata": {},
   "source": [
    "### (2) 여러개 변수를 한꺼번에 설정"
   ]
  },
  {
   "cell_type": "code",
   "execution_count": null,
   "id": "5d389403",
   "metadata": {},
   "outputs": [],
   "source": [
    "a,b,c=3,5,6"
   ]
  },
  {
   "cell_type": "code",
   "execution_count": 33,
   "id": "a601d350",
   "metadata": {},
   "outputs": [
    {
     "ename": "NameError",
     "evalue": "name 'a' is not defined",
     "output_type": "error",
     "traceback": [
      "\u001b[1;31m---------------------------------------------------------------------------\u001b[0m",
      "\u001b[1;31mNameError\u001b[0m                                 Traceback (most recent call last)",
      "Cell \u001b[1;32mIn [33], line 1\u001b[0m\n\u001b[1;32m----> 1\u001b[0m \u001b[43ma\u001b[49m\n",
      "\u001b[1;31mNameError\u001b[0m: name 'a' is not defined"
     ]
    }
   ],
   "source": [
    "a"
   ]
  },
  {
   "cell_type": "code",
   "execution_count": 34,
   "id": "27e085ba",
   "metadata": {},
   "outputs": [
    {
     "ename": "NameError",
     "evalue": "name 'b' is not defined",
     "output_type": "error",
     "traceback": [
      "\u001b[1;31m---------------------------------------------------------------------------\u001b[0m",
      "\u001b[1;31mNameError\u001b[0m                                 Traceback (most recent call last)",
      "Cell \u001b[1;32mIn [34], line 1\u001b[0m\n\u001b[1;32m----> 1\u001b[0m \u001b[43mb\u001b[49m\n",
      "\u001b[1;31mNameError\u001b[0m: name 'b' is not defined"
     ]
    }
   ],
   "source": [
    "b"
   ]
  },
  {
   "cell_type": "code",
   "execution_count": 35,
   "id": "4754c549",
   "metadata": {},
   "outputs": [
    {
     "ename": "NameError",
     "evalue": "name 'c' is not defined",
     "output_type": "error",
     "traceback": [
      "\u001b[1;31m---------------------------------------------------------------------------\u001b[0m",
      "\u001b[1;31mNameError\u001b[0m                                 Traceback (most recent call last)",
      "Cell \u001b[1;32mIn [35], line 1\u001b[0m\n\u001b[1;32m----> 1\u001b[0m \u001b[43mc\u001b[49m\n",
      "\u001b[1;31mNameError\u001b[0m: name 'c' is not defined"
     ]
    }
   ],
   "source": [
    "c"
   ]
  },
  {
   "cell_type": "code",
   "execution_count": 36,
   "id": "6f670915",
   "metadata": {},
   "outputs": [],
   "source": [
    "x=\"한국거래소\""
   ]
  },
  {
   "cell_type": "code",
   "execution_count": 37,
   "id": "0c1525ac",
   "metadata": {},
   "outputs": [
    {
     "data": {
      "text/plain": [
       "'한국거래소'"
      ]
     },
     "execution_count": 37,
     "metadata": {},
     "output_type": "execute_result"
    }
   ],
   "source": [
    "x"
   ]
  },
  {
   "cell_type": "markdown",
   "id": "b89b2ca0",
   "metadata": {},
   "source": [
    "### (3) 변수명이 중복되면 나중에 변수명으로 인식"
   ]
  },
  {
   "cell_type": "code",
   "execution_count": 38,
   "id": "5d8865f6",
   "metadata": {},
   "outputs": [
    {
     "data": {
      "text/plain": [
       "3"
      ]
     },
     "execution_count": 38,
     "metadata": {},
     "output_type": "execute_result"
    }
   ],
   "source": [
    "a=3\n",
    "a"
   ]
  },
  {
   "cell_type": "code",
   "execution_count": 39,
   "id": "ccd02897",
   "metadata": {},
   "outputs": [
    {
     "data": {
      "text/plain": [
       "10"
      ]
     },
     "execution_count": 39,
     "metadata": {},
     "output_type": "execute_result"
    }
   ],
   "source": [
    "a=10\n",
    "a"
   ]
  },
  {
   "cell_type": "markdown",
   "id": "d9c8357b",
   "metadata": {},
   "source": [
    "### (4) 변수명을 지정하여 사칙연산"
   ]
  },
  {
   "cell_type": "code",
   "execution_count": 40,
   "id": "ed03ae9f",
   "metadata": {},
   "outputs": [
    {
     "data": {
      "text/plain": [
       "10100"
      ]
     },
     "execution_count": 40,
     "metadata": {},
     "output_type": "execute_result"
    }
   ],
   "source": [
    "x = 10000\n",
    "y = 100\n",
    "x+y"
   ]
  },
  {
   "cell_type": "code",
   "execution_count": 41,
   "id": "c102dd97",
   "metadata": {},
   "outputs": [],
   "source": [
    "naver = 100"
   ]
  },
  {
   "cell_type": "code",
   "execution_count": 42,
   "id": "9acb78b8",
   "metadata": {},
   "outputs": [
    {
     "data": {
      "text/plain": [
       "1000"
      ]
     },
     "execution_count": 42,
     "metadata": {},
     "output_type": "execute_result"
    }
   ],
   "source": [
    "naver*10"
   ]
  },
  {
   "cell_type": "markdown",
   "id": "19512a57",
   "metadata": {},
   "source": [
    "### 3. print 하기"
   ]
  },
  {
   "cell_type": "code",
   "execution_count": 43,
   "id": "eeeeaa48",
   "metadata": {},
   "outputs": [
    {
     "name": "stdout",
     "output_type": "stream",
     "text": [
      "Hello Python!\n"
     ]
    }
   ],
   "source": [
    "print('Hello Python!')"
   ]
  },
  {
   "cell_type": "code",
   "execution_count": 44,
   "id": "055e54d1",
   "metadata": {},
   "outputs": [
    {
     "name": "stdout",
     "output_type": "stream",
     "text": [
      "한국'국립대학교'서울대학교\n"
     ]
    }
   ],
   "source": [
    "print(\"한국'국립대학교'서울대학교\")"
   ]
  },
  {
   "cell_type": "code",
   "execution_count": 45,
   "id": "e816a1f1",
   "metadata": {},
   "outputs": [
    {
     "name": "stdout",
     "output_type": "stream",
     "text": [
      "1\n"
     ]
    }
   ],
   "source": [
    "# 책 기준 72p IN 16 삭제 요청\n",
    "print(1)"
   ]
  },
  {
   "cell_type": "code",
   "execution_count": 46,
   "id": "cb5d9206",
   "metadata": {},
   "outputs": [
    {
     "name": "stdout",
     "output_type": "stream",
     "text": [
      "123\n"
     ]
    }
   ],
   "source": [
    "print(123)"
   ]
  },
  {
   "cell_type": "code",
   "execution_count": 47,
   "id": "accf2015",
   "metadata": {},
   "outputs": [
    {
     "name": "stdout",
     "output_type": "stream",
     "text": [
      "[1, 2, 3]\n"
     ]
    }
   ],
   "source": [
    "print([1, 2, 3])"
   ]
  },
  {
   "cell_type": "markdown",
   "id": "c61dfc6b",
   "metadata": {},
   "source": [
    "### 4. 키워드(Keyword, 예약어)"
   ]
  },
  {
   "cell_type": "code",
   "execution_count": 48,
   "id": "b926128a",
   "metadata": {},
   "outputs": [
    {
     "name": "stdout",
     "output_type": "stream",
     "text": [
      "['False', 'None', 'True', '__peg_parser__', 'and', 'as', 'assert', 'async', 'await', 'break', 'class', 'continue', 'def', 'del', 'elif', 'else', 'except', 'finally', 'for', 'from', 'global', 'if', 'import', 'in', 'is', 'lambda', 'nonlocal', 'not', 'or', 'pass', 'raise', 'return', 'try', 'while', 'with', 'yield']\n"
     ]
    }
   ],
   "source": [
    "import keyword\n",
    "print(keyword.kwlist)"
   ]
  },
  {
   "cell_type": "code",
   "execution_count": null,
   "id": "ae5dfee9",
   "metadata": {},
   "outputs": [],
   "source": []
  }
 ],
 "metadata": {
  "kernelspec": {
   "display_name": "Python 3 (ipykernel)",
   "language": "python",
   "name": "python3"
  },
  "language_info": {
   "codemirror_mode": {
    "name": "ipython",
    "version": 3
   },
   "file_extension": ".py",
   "mimetype": "text/x-python",
   "name": "python",
   "nbconvert_exporter": "python",
   "pygments_lexer": "ipython3",
   "version": "3.9.6"
  },
  "toc": {
   "base_numbering": 1,
   "nav_menu": {},
   "number_sections": true,
   "sideBar": true,
   "skip_h1_title": false,
   "title_cell": "Table of Contents",
   "title_sidebar": "Contents",
   "toc_cell": false,
   "toc_position": {},
   "toc_section_display": true,
   "toc_window_display": false
  }
 },
 "nbformat": 4,
 "nbformat_minor": 5
}
