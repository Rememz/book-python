{
 "cells": [
  {
   "cell_type": "markdown",
   "id": "54fa4471",
   "metadata": {},
   "source": [
    "# Chapter 5 판다스 입문"
   ]
  },
  {
   "cell_type": "markdown",
   "id": "6202efde",
   "metadata": {},
   "source": [
    "## 제 2절 Series와 DataFrame"
   ]
  },
  {
   "cell_type": "markdown",
   "id": "a5a49eff",
   "metadata": {},
   "source": [
    "## 1. Series "
   ]
  },
  {
   "cell_type": "markdown",
   "id": "402e3cfb",
   "metadata": {},
   "source": [
    "### (1) 시리즈 이해 "
   ]
  },
  {
   "cell_type": "markdown",
   "id": "b50972c9",
   "metadata": {},
   "source": [
    "### (2) 시리즈 생성하기 "
   ]
  },
  {
   "cell_type": "code",
   "execution_count": 24,
   "id": "9fb424a5",
   "metadata": {},
   "outputs": [],
   "source": [
    "import numpy as np\n",
    "import pandas as pd"
   ]
  },
  {
   "cell_type": "code",
   "execution_count": 25,
   "id": "a0f6e12e",
   "metadata": {},
   "outputs": [
    {
     "data": {
      "text/plain": [
       "삼성전자     55000\n",
       "하이닉스     80000\n",
       "카카오뱅크    20000\n",
       "dtype: int64"
      ]
     },
     "execution_count": 25,
     "metadata": {},
     "output_type": "execute_result"
    }
   ],
   "source": [
    "stock_list = pd.Series([55000, 80000, 20000],\n",
    "              index=[\"삼성전자\", \"하이닉스\", \"카카오뱅크\"])\n",
    "stock_list"
   ]
  },
  {
   "cell_type": "markdown",
   "id": "d8f6aefb",
   "metadata": {},
   "source": [
    "### (3) 시리즈 구성 확인하기 "
   ]
  },
  {
   "cell_type": "code",
   "execution_count": 26,
   "id": "df3d0e87",
   "metadata": {},
   "outputs": [
    {
     "name": "stdout",
     "output_type": "stream",
     "text": [
      "Index(['삼성전자', '하이닉스', '카카오뱅크'], dtype='object')\n"
     ]
    },
    {
     "data": {
      "text/plain": [
       "삼성전자     55000\n",
       "하이닉스     80000\n",
       "카카오뱅크    20000\n",
       "dtype: int64"
      ]
     },
     "execution_count": 26,
     "metadata": {},
     "output_type": "execute_result"
    }
   ],
   "source": [
    "print(stock_list.index)\n",
    "stock_list"
   ]
  },
  {
   "cell_type": "code",
   "execution_count": 27,
   "id": "5c98c749",
   "metadata": {},
   "outputs": [
    {
     "name": "stdout",
     "output_type": "stream",
     "text": [
      "[55000 80000 20000]\n"
     ]
    }
   ],
   "source": [
    "print(stock_list.values)"
   ]
  },
  {
   "cell_type": "markdown",
   "id": "0d32ca0e",
   "metadata": {},
   "source": [
    "### 4) 시리즈 이름 지정 "
   ]
  },
  {
   "cell_type": "code",
   "execution_count": 28,
   "id": "446b5780",
   "metadata": {},
   "outputs": [
    {
     "data": {
      "text/plain": [
       "기업명\n",
       "삼성전자     55000\n",
       "하이닉스     80000\n",
       "카카오뱅크    20000\n",
       "Name: 주가, dtype: int64"
      ]
     },
     "execution_count": 28,
     "metadata": {},
     "output_type": "execute_result"
    }
   ],
   "source": [
    "stock_list.index.name = \"기업명\"\n",
    "stock_list.name = '주가'\n",
    "stock_list"
   ]
  },
  {
   "cell_type": "markdown",
   "id": "846bfd20",
   "metadata": {},
   "source": [
    "### 5) Series를  DataFrame으로 변환 가능 "
   ]
  },
  {
   "cell_type": "code",
   "execution_count": 29,
   "id": "fce1322d",
   "metadata": {},
   "outputs": [
    {
     "data": {
      "text/html": [
       "<div>\n",
       "<style scoped>\n",
       "    .dataframe tbody tr th:only-of-type {\n",
       "        vertical-align: middle;\n",
       "    }\n",
       "\n",
       "    .dataframe tbody tr th {\n",
       "        vertical-align: top;\n",
       "    }\n",
       "\n",
       "    .dataframe thead th {\n",
       "        text-align: right;\n",
       "    }\n",
       "</style>\n",
       "<table border=\"1\" class=\"dataframe\">\n",
       "  <thead>\n",
       "    <tr style=\"text-align: right;\">\n",
       "      <th></th>\n",
       "      <th>주가</th>\n",
       "    </tr>\n",
       "    <tr>\n",
       "      <th>기업명</th>\n",
       "      <th></th>\n",
       "    </tr>\n",
       "  </thead>\n",
       "  <tbody>\n",
       "    <tr>\n",
       "      <th>삼성전자</th>\n",
       "      <td>55000</td>\n",
       "    </tr>\n",
       "    <tr>\n",
       "      <th>하이닉스</th>\n",
       "      <td>80000</td>\n",
       "    </tr>\n",
       "    <tr>\n",
       "      <th>카카오뱅크</th>\n",
       "      <td>20000</td>\n",
       "    </tr>\n",
       "  </tbody>\n",
       "</table>\n",
       "</div>"
      ],
      "text/plain": [
       "          주가\n",
       "기업명         \n",
       "삼성전자   55000\n",
       "하이닉스   80000\n",
       "카카오뱅크  20000"
      ]
     },
     "execution_count": 29,
     "metadata": {},
     "output_type": "execute_result"
    }
   ],
   "source": [
    "stock_list.to_frame()"
   ]
  },
  {
   "cell_type": "code",
   "execution_count": 30,
   "id": "8bc9acba",
   "metadata": {},
   "outputs": [
    {
     "data": {
      "text/html": [
       "<div>\n",
       "<style scoped>\n",
       "    .dataframe tbody tr th:only-of-type {\n",
       "        vertical-align: middle;\n",
       "    }\n",
       "\n",
       "    .dataframe tbody tr th {\n",
       "        vertical-align: top;\n",
       "    }\n",
       "\n",
       "    .dataframe thead th {\n",
       "        text-align: right;\n",
       "    }\n",
       "</style>\n",
       "<table border=\"1\" class=\"dataframe\">\n",
       "  <thead>\n",
       "    <tr style=\"text-align: right;\">\n",
       "      <th></th>\n",
       "      <th>주가</th>\n",
       "    </tr>\n",
       "    <tr>\n",
       "      <th>기업명</th>\n",
       "      <th></th>\n",
       "    </tr>\n",
       "  </thead>\n",
       "  <tbody>\n",
       "    <tr>\n",
       "      <th>삼성전자</th>\n",
       "      <td>55000</td>\n",
       "    </tr>\n",
       "    <tr>\n",
       "      <th>하이닉스</th>\n",
       "      <td>80000</td>\n",
       "    </tr>\n",
       "    <tr>\n",
       "      <th>카카오뱅크</th>\n",
       "      <td>20000</td>\n",
       "    </tr>\n",
       "  </tbody>\n",
       "</table>\n",
       "</div>"
      ],
      "text/plain": [
       "          주가\n",
       "기업명         \n",
       "삼성전자   55000\n",
       "하이닉스   80000\n",
       "카카오뱅크  20000"
      ]
     },
     "execution_count": 30,
     "metadata": {},
     "output_type": "execute_result"
    }
   ],
   "source": [
    "df = pd.DataFrame(stock_list)\n",
    "df"
   ]
  },
  {
   "cell_type": "code",
   "execution_count": 31,
   "id": "2ce3f973",
   "metadata": {},
   "outputs": [
    {
     "data": {
      "text/html": [
       "<div>\n",
       "<style scoped>\n",
       "    .dataframe tbody tr th:only-of-type {\n",
       "        vertical-align: middle;\n",
       "    }\n",
       "\n",
       "    .dataframe tbody tr th {\n",
       "        vertical-align: top;\n",
       "    }\n",
       "\n",
       "    .dataframe thead th {\n",
       "        text-align: right;\n",
       "    }\n",
       "</style>\n",
       "<table border=\"1\" class=\"dataframe\">\n",
       "  <thead>\n",
       "    <tr style=\"text-align: right;\">\n",
       "      <th>기업명</th>\n",
       "      <th>삼성전자</th>\n",
       "      <th>하이닉스</th>\n",
       "      <th>카카오뱅크</th>\n",
       "    </tr>\n",
       "  </thead>\n",
       "  <tbody>\n",
       "    <tr>\n",
       "      <th>주가</th>\n",
       "      <td>55000</td>\n",
       "      <td>80000</td>\n",
       "      <td>20000</td>\n",
       "    </tr>\n",
       "  </tbody>\n",
       "</table>\n",
       "</div>"
      ],
      "text/plain": [
       "기업명   삼성전자   하이닉스  카카오뱅크\n",
       "주가   55000  80000  20000"
      ]
     },
     "execution_count": 31,
     "metadata": {},
     "output_type": "execute_result"
    }
   ],
   "source": [
    "df = pd.DataFrame([stock_list])\n",
    "df"
   ]
  },
  {
   "cell_type": "markdown",
   "id": "6c756f04",
   "metadata": {},
   "source": [
    "### (6) [연습] 시리즈 만들기"
   ]
  },
  {
   "cell_type": "code",
   "execution_count": 32,
   "id": "2e10043b",
   "metadata": {},
   "outputs": [
    {
     "name": "stdout",
     "output_type": "stream",
     "text": [
      "apple     2500\n",
      "banana    3800\n",
      "peer      1200\n",
      "cherry    6000\n",
      "dtype: int64\n"
     ]
    }
   ],
   "source": [
    "from pandas import Series, DataFrame\n",
    "import pandas as pd\n",
    "fruit = Series([2500,3800,1200,6000],index=['apple','banana','peer','cherry'])\n",
    "print(fruit)"
   ]
  },
  {
   "cell_type": "code",
   "execution_count": 33,
   "id": "80d29d96",
   "metadata": {},
   "outputs": [
    {
     "name": "stdout",
     "output_type": "stream",
     "text": [
      "0    600\n",
      "1    590\n",
      "2    570\n",
      "3    550\n",
      "4    570\n",
      "dtype: int64\n"
     ]
    }
   ],
   "source": [
    "from pandas import Series, DataFrame\n",
    "abc = Series([600, 590, 570, 550, 570])\n",
    "print(abc)"
   ]
  },
  {
   "cell_type": "code",
   "execution_count": 34,
   "id": "fb22326a",
   "metadata": {},
   "outputs": [
    {
     "name": "stdout",
     "output_type": "stream",
     "text": [
      "590\n",
      "570\n"
     ]
    }
   ],
   "source": [
    "print(abc[1])\n",
    "print(abc[4])"
   ]
  },
  {
   "cell_type": "code",
   "execution_count": 35,
   "id": "cb7f6052",
   "metadata": {},
   "outputs": [
    {
     "name": "stdout",
     "output_type": "stream",
     "text": [
      "2023-05-19    600\n",
      "2023-05-18    590\n",
      "2023-05-17    570\n",
      "2023-05-16    550\n",
      "2023-05-15    570\n",
      "dtype: int64\n"
     ]
    }
   ],
   "source": [
    "abc1 = Series([600, 590, 570, 550, 570], index=['2023-05-19',\n",
    "                                                            '2023-05-18',\n",
    "                                                            '2023-05-17',\n",
    "                                                            '2023-05-16',\n",
    "                                                            '2023-05-15'])\n",
    "print(abc1)"
   ]
  },
  {
   "cell_type": "code",
   "execution_count": 36,
   "id": "f23d0db2",
   "metadata": {},
   "outputs": [
    {
     "name": "stdout",
     "output_type": "stream",
     "text": [
      "550\n"
     ]
    }
   ],
   "source": [
    "print(abc1['2023-05-16'])"
   ]
  },
  {
   "cell_type": "code",
   "execution_count": 37,
   "id": "b5cd151b",
   "metadata": {},
   "outputs": [
    {
     "name": "stdout",
     "output_type": "stream",
     "text": [
      "2023-05-19\n",
      "2023-05-18\n",
      "2023-05-17\n",
      "2023-05-16\n",
      "2023-05-15\n",
      "600\n",
      "590\n",
      "570\n",
      "550\n",
      "570\n"
     ]
    }
   ],
   "source": [
    "for date in abc1.index:\n",
    "    print(date)\n",
    "\n",
    "for ending_price in abc1.values:\n",
    "    print(ending_price)"
   ]
  },
  {
   "cell_type": "markdown",
   "id": "4c9eb05e",
   "metadata": {},
   "source": [
    "### (7) 시리즈의 기초 통계 메서드 사용하기 "
   ]
  },
  {
   "cell_type": "code",
   "execution_count": 38,
   "id": "c87aeb62",
   "metadata": {},
   "outputs": [
    {
     "name": "stdout",
     "output_type": "stream",
     "text": [
      "count        3.000000\n",
      "mean     51666.666667\n",
      "std      30138.568867\n",
      "min      20000.000000\n",
      "25%      37500.000000\n",
      "50%      55000.000000\n",
      "75%      67500.000000\n",
      "max      80000.000000\n",
      "Name: 주가, dtype: float64\n"
     ]
    }
   ],
   "source": [
    "print(stock_list.describe())"
   ]
  },
  {
   "cell_type": "code",
   "execution_count": 39,
   "id": "96aa0815",
   "metadata": {},
   "outputs": [
    {
     "name": "stdout",
     "output_type": "stream",
     "text": [
      "51666.666666666664\n"
     ]
    }
   ],
   "source": [
    "print(stock_list.mean())"
   ]
  },
  {
   "cell_type": "code",
   "execution_count": 40,
   "id": "db305e04",
   "metadata": {},
   "outputs": [
    {
     "name": "stdout",
     "output_type": "stream",
     "text": [
      "30138.56886670854\n"
     ]
    }
   ],
   "source": [
    "print(stock_list.std())"
   ]
  },
  {
   "cell_type": "code",
   "execution_count": 41,
   "id": "bfd14ad2",
   "metadata": {},
   "outputs": [
    {
     "name": "stdout",
     "output_type": "stream",
     "text": [
      "count      5.000000\n",
      "mean     576.000000\n",
      "std       19.493589\n",
      "min      550.000000\n",
      "25%      570.000000\n",
      "50%      570.000000\n",
      "75%      590.000000\n",
      "max      600.000000\n",
      "dtype: float64\n"
     ]
    }
   ],
   "source": [
    "print(abc.describe())"
   ]
  },
  {
   "cell_type": "code",
   "execution_count": null,
   "id": "bbf8316d",
   "metadata": {},
   "outputs": [],
   "source": []
  },
  {
   "cell_type": "markdown",
   "id": "8b6592b4",
   "metadata": {},
   "source": [
    "## 2. Pandas DataFrame"
   ]
  },
  {
   "cell_type": "markdown",
   "id": "43e80913",
   "metadata": {},
   "source": [
    "### (1) 데이터프레임 생성"
   ]
  },
  {
   "cell_type": "code",
   "execution_count": 42,
   "id": "d5943edc",
   "metadata": {},
   "outputs": [
    {
     "name": "stdout",
     "output_type": "stream",
     "text": [
      "   col0  col1  col2\n",
      "0     1    10   100\n",
      "1     2    20   200\n",
      "2     3    30   300\n",
      "3     4    40   400\n",
      "4     5    50   500\n"
     ]
    }
   ],
   "source": [
    "from pandas import Series, DataFrame\n",
    "\n",
    "raw_data = {'col0': [1, 2, 3, 4, 5],\n",
    "            'col1': [10, 20, 30, 40, 50],\n",
    "            'col2': [100, 200, 300, 400, 500]}\n",
    "\n",
    "data = DataFrame(raw_data)\n",
    "print(data)"
   ]
  },
  {
   "cell_type": "code",
   "execution_count": 43,
   "id": "b292b164",
   "metadata": {},
   "outputs": [
    {
     "name": "stdout",
     "output_type": "stream",
     "text": [
      "    open   high    low  close\n",
      "0  11650  12100  11600  11900\n",
      "1  11100  11800  11050  11600\n",
      "2  11200  11200  10900  11000\n",
      "3  11100  11100  10950  11100\n",
      "4  11000  11150  10900  11050\n"
     ]
    }
   ],
   "source": [
    "from pandas import Series, DataFrame\n",
    "\n",
    "abcd = {'open':  [11650, 11100, 11200, 11100, 11000],\n",
    "           'high':  [12100, 11800, 11200, 11100, 11150],\n",
    "           'low' :  [11600, 11050, 10900, 10950, 10900],\n",
    "           'close': [11900, 11600, 11000, 11100, 11050]}\n",
    "\n",
    "abcd_day = DataFrame(abcd)\n",
    "print(abcd_day)"
   ]
  },
  {
   "cell_type": "code",
   "execution_count": 44,
   "id": "ce5d6919",
   "metadata": {},
   "outputs": [
    {
     "data": {
      "text/plain": [
       "pandas.core.frame.DataFrame"
      ]
     },
     "execution_count": 44,
     "metadata": {},
     "output_type": "execute_result"
    }
   ],
   "source": [
    "type(abcd_day)"
   ]
  },
  {
   "cell_type": "code",
   "execution_count": 45,
   "id": "1cca6e0b",
   "metadata": {},
   "outputs": [
    {
     "name": "stdout",
     "output_type": "stream",
     "text": [
      "             open   high    low  close\n",
      "2023.02.29  11650  12100  11600  11900\n",
      "2023.02.26  11100  11800  11050  11600\n",
      "2023.02.25  11200  11200  10900  11000\n",
      "2023.02.24  11100  11100  10950  11100\n",
      "2023.02.23  11000  11150  10900  11050\n"
     ]
    }
   ],
   "source": [
    "# 책 기준 108page 코드 추가 print(abcd_day) \n",
    "date = ['2023.02.29', '2023.02.26', '2023.02.25', '2023.02.24', '2023.02.23']\n",
    "abcd_day = DataFrame(abcd, columns=['open', 'high', 'low', 'close'], index=date)\n",
    "print(abcd_day)"
   ]
  },
  {
   "cell_type": "markdown",
   "id": "9cc7e458",
   "metadata": {},
   "source": [
    "### (2) DataFrame 로우(인덱스) ,칼럼 선택"
   ]
  },
  {
   "cell_type": "code",
   "execution_count": 101,
   "id": "379a42e0",
   "metadata": {},
   "outputs": [
    {
     "name": "stdout",
     "output_type": "stream",
     "text": [
      "2023.02.29    11900\n",
      "2023.02.26    11600\n",
      "2023.02.25    11000\n",
      "2023.02.24    11100\n",
      "2023.02.23    11050\n",
      "Name: close, dtype: int64\n"
     ]
    }
   ],
   "source": [
    "close = abcd_day['close']\n",
    "print(close)"
   ]
  },
  {
   "cell_type": "code",
   "execution_count": 102,
   "id": "ee65cf12",
   "metadata": {},
   "outputs": [
    {
     "name": "stdout",
     "output_type": "stream",
     "text": [
      "open     11100\n",
      "high     11800\n",
      "low      11050\n",
      "close    11600\n",
      "Name: 2023.02.26, dtype: int64\n",
      "<class 'pandas.core.series.Series'>\n"
     ]
    }
   ],
   "source": [
    "day_date = abcd_day.loc['2023.02.26']\n",
    "print(day_date)\n",
    "print(type(day_date))"
   ]
  },
  {
   "cell_type": "code",
   "execution_count": 103,
   "id": "ccf5082e",
   "metadata": {},
   "outputs": [
    {
     "name": "stdout",
     "output_type": "stream",
     "text": [
      "Index(['open', 'high', 'low', 'close'], dtype='object')\n",
      "Index(['2023.02.29', '2023.02.26', '2023.02.25', '2023.02.24', '2023.02.23'], dtype='object')\n"
     ]
    }
   ],
   "source": [
    "print(abcd_day.columns)\n",
    "print(abcd_day.index)"
   ]
  },
  {
   "cell_type": "markdown",
   "id": "4d970679",
   "metadata": {},
   "source": [
    "## 3. 텍스트 파일 만들기 "
   ]
  },
  {
   "cell_type": "markdown",
   "id": "2b4732e0",
   "metadata": {},
   "source": [
    "### (1) %%writefile"
   ]
  },
  {
   "cell_type": "code",
   "execution_count": 104,
   "id": "751af0f7",
   "metadata": {},
   "outputs": [],
   "source": [
    "import pandas as pd"
   ]
  },
  {
   "cell_type": "code",
   "execution_count": 105,
   "id": "58b25934",
   "metadata": {},
   "outputs": [
    {
     "name": "stdout",
     "output_type": "stream",
     "text": [
      "Overwriting stock_list.csv\n"
     ]
    }
   ],
   "source": [
    "%%writefile stock_list.csv\n",
    "삼성, 현대차, 네이버\n",
    "1, 100, 200, 150\n",
    "2, 110, 210, 220\n",
    "3, 120, 220, 200"
   ]
  },
  {
   "cell_type": "markdown",
   "id": "a0f939e5",
   "metadata": {},
   "source": [
    "### (2) csv 파일 불러오기 "
   ]
  },
  {
   "cell_type": "code",
   "execution_count": 106,
   "id": "8f34cfc7",
   "metadata": {},
   "outputs": [
    {
     "data": {
      "text/html": [
       "<div>\n",
       "<style scoped>\n",
       "    .dataframe tbody tr th:only-of-type {\n",
       "        vertical-align: middle;\n",
       "    }\n",
       "\n",
       "    .dataframe tbody tr th {\n",
       "        vertical-align: top;\n",
       "    }\n",
       "\n",
       "    .dataframe thead th {\n",
       "        text-align: right;\n",
       "    }\n",
       "</style>\n",
       "<table border=\"1\" class=\"dataframe\">\n",
       "  <thead>\n",
       "    <tr style=\"text-align: right;\">\n",
       "      <th></th>\n",
       "      <th>삼성</th>\n",
       "      <th>현대차</th>\n",
       "      <th>네이버</th>\n",
       "    </tr>\n",
       "  </thead>\n",
       "  <tbody>\n",
       "    <tr>\n",
       "      <th>1</th>\n",
       "      <td>100</td>\n",
       "      <td>200</td>\n",
       "      <td>150</td>\n",
       "    </tr>\n",
       "    <tr>\n",
       "      <th>2</th>\n",
       "      <td>110</td>\n",
       "      <td>210</td>\n",
       "      <td>220</td>\n",
       "    </tr>\n",
       "    <tr>\n",
       "      <th>3</th>\n",
       "      <td>120</td>\n",
       "      <td>220</td>\n",
       "      <td>200</td>\n",
       "    </tr>\n",
       "  </tbody>\n",
       "</table>\n",
       "</div>"
      ],
      "text/plain": [
       "    삼성   현대차   네이버\n",
       "1  100   200   150\n",
       "2  110   210   220\n",
       "3  120   220   200"
      ]
     },
     "execution_count": 106,
     "metadata": {},
     "output_type": "execute_result"
    }
   ],
   "source": [
    "pd.read_csv('stock_list.csv')"
   ]
  },
  {
   "cell_type": "markdown",
   "id": "10589cb0",
   "metadata": {},
   "source": [
    "### (3) csv 파일을 df로 "
   ]
  },
  {
   "cell_type": "code",
   "execution_count": 107,
   "id": "28893ab4",
   "metadata": {},
   "outputs": [
    {
     "data": {
      "text/html": [
       "<div>\n",
       "<style scoped>\n",
       "    .dataframe tbody tr th:only-of-type {\n",
       "        vertical-align: middle;\n",
       "    }\n",
       "\n",
       "    .dataframe tbody tr th {\n",
       "        vertical-align: top;\n",
       "    }\n",
       "\n",
       "    .dataframe thead th {\n",
       "        text-align: right;\n",
       "    }\n",
       "</style>\n",
       "<table border=\"1\" class=\"dataframe\">\n",
       "  <thead>\n",
       "    <tr style=\"text-align: right;\">\n",
       "      <th></th>\n",
       "      <th>삼성</th>\n",
       "      <th>현대차</th>\n",
       "      <th>네이버</th>\n",
       "    </tr>\n",
       "  </thead>\n",
       "  <tbody>\n",
       "    <tr>\n",
       "      <th>1</th>\n",
       "      <td>100</td>\n",
       "      <td>200</td>\n",
       "      <td>150</td>\n",
       "    </tr>\n",
       "    <tr>\n",
       "      <th>2</th>\n",
       "      <td>110</td>\n",
       "      <td>210</td>\n",
       "      <td>220</td>\n",
       "    </tr>\n",
       "    <tr>\n",
       "      <th>3</th>\n",
       "      <td>120</td>\n",
       "      <td>220</td>\n",
       "      <td>200</td>\n",
       "    </tr>\n",
       "  </tbody>\n",
       "</table>\n",
       "</div>"
      ],
      "text/plain": [
       "    삼성   현대차   네이버\n",
       "1  100   200   150\n",
       "2  110   210   220\n",
       "3  120   220   200"
      ]
     },
     "execution_count": 107,
     "metadata": {},
     "output_type": "execute_result"
    }
   ],
   "source": [
    "df = pd.read_csv('stock_list.csv')\n",
    "df"
   ]
  },
  {
   "cell_type": "markdown",
   "id": "cb63f9cb",
   "metadata": {},
   "source": [
    "### (4) csv파일 저장하기 "
   ]
  },
  {
   "cell_type": "code",
   "execution_count": 53,
   "id": "c0ae03b2",
   "metadata": {},
   "outputs": [],
   "source": [
    "df.to_csv('stock_list')"
   ]
  },
  {
   "cell_type": "markdown",
   "id": "e4533771",
   "metadata": {},
   "source": [
    "### (5) 파일 불러오기"
   ]
  },
  {
   "cell_type": "code",
   "execution_count": 54,
   "id": "0740bc0d",
   "metadata": {},
   "outputs": [
    {
     "data": {
      "text/html": [
       "<div>\n",
       "<style scoped>\n",
       "    .dataframe tbody tr th:only-of-type {\n",
       "        vertical-align: middle;\n",
       "    }\n",
       "\n",
       "    .dataframe tbody tr th {\n",
       "        vertical-align: top;\n",
       "    }\n",
       "\n",
       "    .dataframe thead th {\n",
       "        text-align: right;\n",
       "    }\n",
       "</style>\n",
       "<table border=\"1\" class=\"dataframe\">\n",
       "  <thead>\n",
       "    <tr style=\"text-align: right;\">\n",
       "      <th></th>\n",
       "      <th>삼성</th>\n",
       "      <th>현대차</th>\n",
       "      <th>네이버</th>\n",
       "    </tr>\n",
       "  </thead>\n",
       "  <tbody>\n",
       "    <tr>\n",
       "      <th>1</th>\n",
       "      <td>100</td>\n",
       "      <td>200</td>\n",
       "      <td>150</td>\n",
       "    </tr>\n",
       "    <tr>\n",
       "      <th>2</th>\n",
       "      <td>110</td>\n",
       "      <td>210</td>\n",
       "      <td>220</td>\n",
       "    </tr>\n",
       "    <tr>\n",
       "      <th>3</th>\n",
       "      <td>120</td>\n",
       "      <td>220</td>\n",
       "      <td>200</td>\n",
       "    </tr>\n",
       "  </tbody>\n",
       "</table>\n",
       "</div>"
      ],
      "text/plain": [
       "    삼성   현대차   네이버\n",
       "1  100   200   150\n",
       "2  110   210   220\n",
       "3  120   220   200"
      ]
     },
     "execution_count": 54,
     "metadata": {},
     "output_type": "execute_result"
    }
   ],
   "source": [
    "df = pd.read_csv(\"./stock_list.csv\")\n",
    "df.head()"
   ]
  },
  {
   "cell_type": "markdown",
   "id": "75d1cf55",
   "metadata": {},
   "source": [
    "### (6) 웹 상의 CSV 파일 입력"
   ]
  },
  {
   "cell_type": "code",
   "execution_count": 108,
   "id": "b83997a3",
   "metadata": {},
   "outputs": [
    {
     "data": {
      "text/html": [
       "<div>\n",
       "<style scoped>\n",
       "    .dataframe tbody tr th:only-of-type {\n",
       "        vertical-align: middle;\n",
       "    }\n",
       "\n",
       "    .dataframe tbody tr th {\n",
       "        vertical-align: top;\n",
       "    }\n",
       "\n",
       "    .dataframe thead th {\n",
       "        text-align: right;\n",
       "    }\n",
       "</style>\n",
       "<table border=\"1\" class=\"dataframe\">\n",
       "  <thead>\n",
       "    <tr style=\"text-align: right;\">\n",
       "      <th></th>\n",
       "      <th>PassengerId</th>\n",
       "      <th>Survived</th>\n",
       "      <th>Pclass</th>\n",
       "      <th>Name</th>\n",
       "      <th>Sex</th>\n",
       "      <th>Age</th>\n",
       "      <th>SibSp</th>\n",
       "      <th>Parch</th>\n",
       "      <th>Ticket</th>\n",
       "      <th>Fare</th>\n",
       "      <th>Cabin</th>\n",
       "      <th>Embarked</th>\n",
       "    </tr>\n",
       "  </thead>\n",
       "  <tbody>\n",
       "    <tr>\n",
       "      <th>0</th>\n",
       "      <td>1</td>\n",
       "      <td>0</td>\n",
       "      <td>3</td>\n",
       "      <td>Braund, Mr. Owen Harris</td>\n",
       "      <td>male</td>\n",
       "      <td>22.0</td>\n",
       "      <td>1</td>\n",
       "      <td>0</td>\n",
       "      <td>A/5 21171</td>\n",
       "      <td>7.2500</td>\n",
       "      <td>NaN</td>\n",
       "      <td>S</td>\n",
       "    </tr>\n",
       "    <tr>\n",
       "      <th>1</th>\n",
       "      <td>2</td>\n",
       "      <td>1</td>\n",
       "      <td>1</td>\n",
       "      <td>Cumings, Mrs. John Bradley (Florence Briggs Th...</td>\n",
       "      <td>female</td>\n",
       "      <td>38.0</td>\n",
       "      <td>1</td>\n",
       "      <td>0</td>\n",
       "      <td>PC 17599</td>\n",
       "      <td>71.2833</td>\n",
       "      <td>C85</td>\n",
       "      <td>C</td>\n",
       "    </tr>\n",
       "    <tr>\n",
       "      <th>2</th>\n",
       "      <td>3</td>\n",
       "      <td>1</td>\n",
       "      <td>3</td>\n",
       "      <td>Heikkinen, Miss. Laina</td>\n",
       "      <td>female</td>\n",
       "      <td>26.0</td>\n",
       "      <td>0</td>\n",
       "      <td>0</td>\n",
       "      <td>STON/O2. 3101282</td>\n",
       "      <td>7.9250</td>\n",
       "      <td>NaN</td>\n",
       "      <td>S</td>\n",
       "    </tr>\n",
       "    <tr>\n",
       "      <th>3</th>\n",
       "      <td>4</td>\n",
       "      <td>1</td>\n",
       "      <td>1</td>\n",
       "      <td>Futrelle, Mrs. Jacques Heath (Lily May Peel)</td>\n",
       "      <td>female</td>\n",
       "      <td>35.0</td>\n",
       "      <td>1</td>\n",
       "      <td>0</td>\n",
       "      <td>113803</td>\n",
       "      <td>53.1000</td>\n",
       "      <td>C123</td>\n",
       "      <td>S</td>\n",
       "    </tr>\n",
       "    <tr>\n",
       "      <th>4</th>\n",
       "      <td>5</td>\n",
       "      <td>0</td>\n",
       "      <td>3</td>\n",
       "      <td>Allen, Mr. William Henry</td>\n",
       "      <td>male</td>\n",
       "      <td>35.0</td>\n",
       "      <td>0</td>\n",
       "      <td>0</td>\n",
       "      <td>373450</td>\n",
       "      <td>8.0500</td>\n",
       "      <td>NaN</td>\n",
       "      <td>S</td>\n",
       "    </tr>\n",
       "  </tbody>\n",
       "</table>\n",
       "</div>"
      ],
      "text/plain": [
       "   PassengerId  Survived  Pclass  \\\n",
       "0            1         0       3   \n",
       "1            2         1       1   \n",
       "2            3         1       3   \n",
       "3            4         1       1   \n",
       "4            5         0       3   \n",
       "\n",
       "                                                Name     Sex   Age  SibSp  \\\n",
       "0                            Braund, Mr. Owen Harris    male  22.0      1   \n",
       "1  Cumings, Mrs. John Bradley (Florence Briggs Th...  female  38.0      1   \n",
       "2                             Heikkinen, Miss. Laina  female  26.0      0   \n",
       "3       Futrelle, Mrs. Jacques Heath (Lily May Peel)  female  35.0      1   \n",
       "4                           Allen, Mr. William Henry    male  35.0      0   \n",
       "\n",
       "   Parch            Ticket     Fare Cabin Embarked  \n",
       "0      0         A/5 21171   7.2500   NaN        S  \n",
       "1      0          PC 17599  71.2833   C85        C  \n",
       "2      0  STON/O2. 3101282   7.9250   NaN        S  \n",
       "3      0            113803  53.1000  C123        S  \n",
       "4      0            373450   8.0500   NaN        S  "
      ]
     },
     "execution_count": 108,
     "metadata": {},
     "output_type": "execute_result"
    }
   ],
   "source": [
    "df = pd.read_csv(\"https://raw.githubusercontent.com/datascienceschool/docker_rpython/master/data/titanic.csv\")\n",
    "df.head()"
   ]
  },
  {
   "cell_type": "markdown",
   "id": "59b353d6",
   "metadata": {},
   "source": [
    "## 제3절 주식 데이터 받기 "
   ]
  },
  {
   "cell_type": "code",
   "execution_count": null,
   "id": "5c905d98",
   "metadata": {},
   "outputs": [],
   "source": []
  },
  {
   "cell_type": "markdown",
   "id": "f1a22894",
   "metadata": {},
   "source": [
    "## 1. FinanceDataReader을 이용한 분석\n",
    "#### https://pandas-datareader.readthedocs.io/en/latest/readers/index.html¶"
   ]
  },
  {
   "cell_type": "markdown",
   "id": "5a1ae24c",
   "metadata": {},
   "source": [
    "### (1) finance-datareader 설치"
   ]
  },
  {
   "cell_type": "code",
   "execution_count": 56,
   "id": "bc4c89ea",
   "metadata": {},
   "outputs": [
    {
     "name": "stdout",
     "output_type": "stream",
     "text": [
      "Requirement already satisfied: finance-datareader in c:\\users\\operator-70\\appdata\\local\\programs\\python\\python311\\lib\\site-packages (0.9.66)\n",
      "Requirement already satisfied: pandas>=0.19.2 in c:\\users\\operator-70\\appdata\\local\\programs\\python\\python311\\lib\\site-packages (from finance-datareader) (2.1.4)\n",
      "Requirement already satisfied: requests>=2.3.0 in c:\\users\\operator-70\\appdata\\local\\programs\\python\\python311\\lib\\site-packages (from finance-datareader) (2.31.0)\n",
      "Requirement already satisfied: requests-file in c:\\users\\operator-70\\appdata\\local\\programs\\python\\python311\\lib\\site-packages (from finance-datareader) (1.5.1)\n",
      "Requirement already satisfied: lxml in c:\\users\\operator-70\\appdata\\local\\programs\\python\\python311\\lib\\site-packages (from finance-datareader) (5.1.0)\n",
      "Requirement already satisfied: tqdm in c:\\users\\operator-70\\appdata\\local\\programs\\python\\python311\\lib\\site-packages (from finance-datareader) (4.66.1)\n",
      "Requirement already satisfied: numpy<2,>=1.23.2 in c:\\users\\operator-70\\appdata\\local\\programs\\python\\python311\\lib\\site-packages (from pandas>=0.19.2->finance-datareader) (1.26.3)\n",
      "Requirement already satisfied: python-dateutil>=2.8.2 in c:\\users\\operator-70\\appdata\\roaming\\python\\python311\\site-packages (from pandas>=0.19.2->finance-datareader) (2.8.2)\n",
      "Requirement already satisfied: pytz>=2020.1 in c:\\users\\operator-70\\appdata\\local\\programs\\python\\python311\\lib\\site-packages (from pandas>=0.19.2->finance-datareader) (2023.3.post1)\n",
      "Requirement already satisfied: tzdata>=2022.1 in c:\\users\\operator-70\\appdata\\local\\programs\\python\\python311\\lib\\site-packages (from pandas>=0.19.2->finance-datareader) (2023.4)\n",
      "Requirement already satisfied: charset-normalizer<4,>=2 in c:\\users\\operator-70\\appdata\\local\\programs\\python\\python311\\lib\\site-packages (from requests>=2.3.0->finance-datareader) (3.3.2)\n",
      "Requirement already satisfied: idna<4,>=2.5 in c:\\users\\operator-70\\appdata\\local\\programs\\python\\python311\\lib\\site-packages (from requests>=2.3.0->finance-datareader) (3.6)\n",
      "Requirement already satisfied: urllib3<3,>=1.21.1 in c:\\users\\operator-70\\appdata\\local\\programs\\python\\python311\\lib\\site-packages (from requests>=2.3.0->finance-datareader) (2.1.0)\n",
      "Requirement already satisfied: certifi>=2017.4.17 in c:\\users\\operator-70\\appdata\\local\\programs\\python\\python311\\lib\\site-packages (from requests>=2.3.0->finance-datareader) (2023.11.17)\n",
      "Requirement already satisfied: six in c:\\users\\operator-70\\appdata\\roaming\\python\\python311\\site-packages (from requests-file->finance-datareader) (1.16.0)\n",
      "Requirement already satisfied: colorama in c:\\users\\operator-70\\appdata\\roaming\\python\\python311\\site-packages (from tqdm->finance-datareader) (0.4.6)\n"
     ]
    },
    {
     "name": "stderr",
     "output_type": "stream",
     "text": [
      "\n",
      "[notice] A new release of pip is available: 23.1.2 -> 24.0\n",
      "[notice] To update, run: python.exe -m pip install --upgrade pip\n"
     ]
    }
   ],
   "source": [
    "!pip install finance-datareader"
   ]
  },
  {
   "cell_type": "code",
   "execution_count": 110,
   "id": "18bf8740",
   "metadata": {},
   "outputs": [],
   "source": [
    "import pandas as pd\n",
    "import numpy as np"
   ]
  },
  {
   "cell_type": "markdown",
   "id": "84b0338d",
   "metadata": {},
   "source": [
    "### (2) 한국거래소 상장종목 전체 가져오기"
   ]
  },
  {
   "cell_type": "code",
   "execution_count": 111,
   "id": "1943e414",
   "metadata": {},
   "outputs": [
    {
     "data": {
      "text/plain": [
       "'0.9.66'"
      ]
     },
     "execution_count": 111,
     "metadata": {},
     "output_type": "execute_result"
    }
   ],
   "source": [
    "import FinanceDataReader as fdr\n",
    "\n",
    "fdr.__version__"
   ]
  },
  {
   "cell_type": "code",
   "execution_count": 112,
   "id": "4f09d01b",
   "metadata": {},
   "outputs": [
    {
     "name": "stderr",
     "output_type": "stream",
     "text": [
      "100%|████████████████████████████████████████████████████████████████████████████| 3870/3870 [00:03<00:00, 1104.03it/s]\n"
     ]
    }
   ],
   "source": [
    "data_krx = fdr.StockListing('KRX')\n",
    "data_nasdaq = fdr.StockListing('NASDAQ')"
   ]
  },
  {
   "cell_type": "code",
   "execution_count": 113,
   "id": "92df00a8",
   "metadata": {},
   "outputs": [
    {
     "data": {
      "text/plain": [
       "(2792, 17)"
      ]
     },
     "execution_count": 113,
     "metadata": {},
     "output_type": "execute_result"
    }
   ],
   "source": [
    "data_krx.shape"
   ]
  },
  {
   "cell_type": "code",
   "execution_count": 114,
   "id": "7407f5ce",
   "metadata": {},
   "outputs": [
    {
     "name": "stdout",
     "output_type": "stream",
     "text": [
      "<class 'pandas.core.frame.DataFrame'>\n",
      "RangeIndex: 2792 entries, 0 to 2791\n",
      "Data columns (total 17 columns):\n",
      " #   Column       Non-Null Count  Dtype  \n",
      "---  ------       --------------  -----  \n",
      " 0   Code         2792 non-null   object \n",
      " 1   ISU_CD       2792 non-null   object \n",
      " 2   Name         2792 non-null   object \n",
      " 3   Market       2792 non-null   object \n",
      " 4   Dept         2792 non-null   object \n",
      " 5   Close        2792 non-null   object \n",
      " 6   ChangeCode   2792 non-null   object \n",
      " 7   Changes      2792 non-null   int64  \n",
      " 8   ChagesRatio  2792 non-null   float64\n",
      " 9   Open         2792 non-null   int64  \n",
      " 10  High         2792 non-null   int64  \n",
      " 11  Low          2792 non-null   int64  \n",
      " 12  Volume       2792 non-null   int64  \n",
      " 13  Amount       2792 non-null   int64  \n",
      " 14  Marcap       2792 non-null   int64  \n",
      " 15  Stocks       2792 non-null   int64  \n",
      " 16  MarketId     2792 non-null   object \n",
      "dtypes: float64(1), int64(8), object(8)\n",
      "memory usage: 370.9+ KB\n"
     ]
    }
   ],
   "source": [
    "data_krx.info()"
   ]
  },
  {
   "cell_type": "code",
   "execution_count": 119,
   "id": "a14a60ac",
   "metadata": {},
   "outputs": [
    {
     "data": {
      "text/html": [
       "<div>\n",
       "<style scoped>\n",
       "    .dataframe tbody tr th:only-of-type {\n",
       "        vertical-align: middle;\n",
       "    }\n",
       "\n",
       "    .dataframe tbody tr th {\n",
       "        vertical-align: top;\n",
       "    }\n",
       "\n",
       "    .dataframe thead th {\n",
       "        text-align: right;\n",
       "    }\n",
       "</style>\n",
       "<table border=\"1\" class=\"dataframe\">\n",
       "  <thead>\n",
       "    <tr style=\"text-align: right;\">\n",
       "      <th></th>\n",
       "      <th>Changes</th>\n",
       "      <th>ChagesRatio</th>\n",
       "      <th>Open</th>\n",
       "      <th>High</th>\n",
       "      <th>Low</th>\n",
       "      <th>Volume</th>\n",
       "      <th>Amount</th>\n",
       "      <th>Marcap</th>\n",
       "      <th>Stocks</th>\n",
       "    </tr>\n",
       "  </thead>\n",
       "  <tbody>\n",
       "    <tr>\n",
       "      <th>count</th>\n",
       "      <td>2792.000000</td>\n",
       "      <td>2792.000000</td>\n",
       "      <td>2792.000000</td>\n",
       "      <td>2792.000000</td>\n",
       "      <td>2792.000000</td>\n",
       "      <td>2.792000e+03</td>\n",
       "      <td>2.792000e+03</td>\n",
       "      <td>2.792000e+03</td>\n",
       "      <td>2.792000e+03</td>\n",
       "    </tr>\n",
       "    <tr>\n",
       "      <th>mean</th>\n",
       "      <td>-66.318410</td>\n",
       "      <td>-0.099359</td>\n",
       "      <td>20304.113539</td>\n",
       "      <td>20609.949140</td>\n",
       "      <td>19928.150072</td>\n",
       "      <td>4.718651e+05</td>\n",
       "      <td>4.854557e+09</td>\n",
       "      <td>9.193466e+11</td>\n",
       "      <td>4.163604e+07</td>\n",
       "    </tr>\n",
       "    <tr>\n",
       "      <th>std</th>\n",
       "      <td>1383.161957</td>\n",
       "      <td>2.943871</td>\n",
       "      <td>51549.737428</td>\n",
       "      <td>52159.880124</td>\n",
       "      <td>50416.802150</td>\n",
       "      <td>3.386498e+06</td>\n",
       "      <td>2.338803e+10</td>\n",
       "      <td>9.187198e+12</td>\n",
       "      <td>1.324641e+08</td>\n",
       "    </tr>\n",
       "    <tr>\n",
       "      <th>min</th>\n",
       "      <td>-22000.000000</td>\n",
       "      <td>-16.580000</td>\n",
       "      <td>0.000000</td>\n",
       "      <td>0.000000</td>\n",
       "      <td>0.000000</td>\n",
       "      <td>0.000000e+00</td>\n",
       "      <td>0.000000e+00</td>\n",
       "      <td>8.835945e+08</td>\n",
       "      <td>2.000000e+05</td>\n",
       "    </tr>\n",
       "    <tr>\n",
       "      <th>25%</th>\n",
       "      <td>-90.000000</td>\n",
       "      <td>-1.110000</td>\n",
       "      <td>2482.500000</td>\n",
       "      <td>2533.750000</td>\n",
       "      <td>2425.000000</td>\n",
       "      <td>1.024275e+04</td>\n",
       "      <td>5.328646e+07</td>\n",
       "      <td>5.719110e+10</td>\n",
       "      <td>1.019038e+07</td>\n",
       "    </tr>\n",
       "    <tr>\n",
       "      <th>50%</th>\n",
       "      <td>-10.000000</td>\n",
       "      <td>-0.290000</td>\n",
       "      <td>6320.000000</td>\n",
       "      <td>6435.000000</td>\n",
       "      <td>6220.000000</td>\n",
       "      <td>4.000550e+04</td>\n",
       "      <td>2.369516e+08</td>\n",
       "      <td>1.166172e+11</td>\n",
       "      <td>1.993337e+07</td>\n",
       "    </tr>\n",
       "    <tr>\n",
       "      <th>75%</th>\n",
       "      <td>10.000000</td>\n",
       "      <td>0.290000</td>\n",
       "      <td>16105.000000</td>\n",
       "      <td>16442.500000</td>\n",
       "      <td>15902.500000</td>\n",
       "      <td>1.540030e+05</td>\n",
       "      <td>1.506852e+09</td>\n",
       "      <td>2.951678e+11</td>\n",
       "      <td>4.165862e+07</td>\n",
       "    </tr>\n",
       "    <tr>\n",
       "      <th>max</th>\n",
       "      <td>30500.000000</td>\n",
       "      <td>29.970000</td>\n",
       "      <td>889000.000000</td>\n",
       "      <td>889000.000000</td>\n",
       "      <td>852000.000000</td>\n",
       "      <td>1.174063e+08</td>\n",
       "      <td>5.355266e+11</td>\n",
       "      <td>4.351971e+14</td>\n",
       "      <td>5.969783e+09</td>\n",
       "    </tr>\n",
       "  </tbody>\n",
       "</table>\n",
       "</div>"
      ],
      "text/plain": [
       "            Changes  ChagesRatio           Open           High            Low  \\\n",
       "count   2792.000000  2792.000000    2792.000000    2792.000000    2792.000000   \n",
       "mean     -66.318410    -0.099359   20304.113539   20609.949140   19928.150072   \n",
       "std     1383.161957     2.943871   51549.737428   52159.880124   50416.802150   \n",
       "min   -22000.000000   -16.580000       0.000000       0.000000       0.000000   \n",
       "25%      -90.000000    -1.110000    2482.500000    2533.750000    2425.000000   \n",
       "50%      -10.000000    -0.290000    6320.000000    6435.000000    6220.000000   \n",
       "75%       10.000000     0.290000   16105.000000   16442.500000   15902.500000   \n",
       "max    30500.000000    29.970000  889000.000000  889000.000000  852000.000000   \n",
       "\n",
       "             Volume        Amount        Marcap        Stocks  \n",
       "count  2.792000e+03  2.792000e+03  2.792000e+03  2.792000e+03  \n",
       "mean   4.718651e+05  4.854557e+09  9.193466e+11  4.163604e+07  \n",
       "std    3.386498e+06  2.338803e+10  9.187198e+12  1.324641e+08  \n",
       "min    0.000000e+00  0.000000e+00  8.835945e+08  2.000000e+05  \n",
       "25%    1.024275e+04  5.328646e+07  5.719110e+10  1.019038e+07  \n",
       "50%    4.000550e+04  2.369516e+08  1.166172e+11  1.993337e+07  \n",
       "75%    1.540030e+05  1.506852e+09  2.951678e+11  4.165862e+07  \n",
       "max    1.174063e+08  5.355266e+11  4.351971e+14  5.969783e+09  "
      ]
     },
     "execution_count": 119,
     "metadata": {},
     "output_type": "execute_result"
    }
   ],
   "source": [
    "data_krx.describe()"
   ]
  },
  {
   "cell_type": "code",
   "execution_count": 120,
   "id": "081fca27",
   "metadata": {},
   "outputs": [
    {
     "data": {
      "text/plain": [
       "Index(['Code', 'ISU_CD', 'Name', 'Market', 'Dept', 'Close', 'ChangeCode',\n",
       "       'Changes', 'ChagesRatio', 'Open', 'High', 'Low', 'Volume', 'Amount',\n",
       "       'Marcap', 'Stocks', 'MarketId'],\n",
       "      dtype='object')"
      ]
     },
     "execution_count": 120,
     "metadata": {},
     "output_type": "execute_result"
    }
   ],
   "source": [
    "data_krx.columns"
   ]
  },
  {
   "cell_type": "code",
   "execution_count": 121,
   "id": "9127d8cc",
   "metadata": {},
   "outputs": [
    {
     "data": {
      "text/html": [
       "<div>\n",
       "<style scoped>\n",
       "    .dataframe tbody tr th:only-of-type {\n",
       "        vertical-align: middle;\n",
       "    }\n",
       "\n",
       "    .dataframe tbody tr th {\n",
       "        vertical-align: top;\n",
       "    }\n",
       "\n",
       "    .dataframe thead th {\n",
       "        text-align: right;\n",
       "    }\n",
       "</style>\n",
       "<table border=\"1\" class=\"dataframe\">\n",
       "  <thead>\n",
       "    <tr style=\"text-align: right;\">\n",
       "      <th></th>\n",
       "      <th>Code</th>\n",
       "      <th>ISU_CD</th>\n",
       "      <th>Name</th>\n",
       "      <th>Market</th>\n",
       "      <th>Dept</th>\n",
       "      <th>Close</th>\n",
       "      <th>ChangeCode</th>\n",
       "      <th>Changes</th>\n",
       "      <th>ChagesRatio</th>\n",
       "      <th>Open</th>\n",
       "      <th>High</th>\n",
       "      <th>Low</th>\n",
       "      <th>Volume</th>\n",
       "      <th>Amount</th>\n",
       "      <th>Marcap</th>\n",
       "      <th>Stocks</th>\n",
       "      <th>MarketId</th>\n",
       "    </tr>\n",
       "  </thead>\n",
       "  <tbody>\n",
       "    <tr>\n",
       "      <th>0</th>\n",
       "      <td>005930</td>\n",
       "      <td>KR7005930003</td>\n",
       "      <td>삼성전자</td>\n",
       "      <td>KOSPI</td>\n",
       "      <td></td>\n",
       "      <td>72900</td>\n",
       "      <td>2</td>\n",
       "      <td>-900</td>\n",
       "      <td>-1.22</td>\n",
       "      <td>73700</td>\n",
       "      <td>73700</td>\n",
       "      <td>72800</td>\n",
       "      <td>7315335</td>\n",
       "      <td>535526578400</td>\n",
       "      <td>435197147895000</td>\n",
       "      <td>5969782550</td>\n",
       "      <td>STK</td>\n",
       "    </tr>\n",
       "    <tr>\n",
       "      <th>1</th>\n",
       "      <td>000660</td>\n",
       "      <td>KR7000660001</td>\n",
       "      <td>SK하이닉스</td>\n",
       "      <td>KOSPI</td>\n",
       "      <td></td>\n",
       "      <td>147600</td>\n",
       "      <td>2</td>\n",
       "      <td>-3700</td>\n",
       "      <td>-2.45</td>\n",
       "      <td>150300</td>\n",
       "      <td>151100</td>\n",
       "      <td>147500</td>\n",
       "      <td>1638257</td>\n",
       "      <td>244440332600</td>\n",
       "      <td>107453149074000</td>\n",
       "      <td>728002365</td>\n",
       "      <td>STK</td>\n",
       "    </tr>\n",
       "    <tr>\n",
       "      <th>2</th>\n",
       "      <td>373220</td>\n",
       "      <td>KR7373220003</td>\n",
       "      <td>LG에너지솔루션</td>\n",
       "      <td>KOSPI</td>\n",
       "      <td></td>\n",
       "      <td>400000</td>\n",
       "      <td>1</td>\n",
       "      <td>2500</td>\n",
       "      <td>0.63</td>\n",
       "      <td>397500</td>\n",
       "      <td>401000</td>\n",
       "      <td>392000</td>\n",
       "      <td>82164</td>\n",
       "      <td>32620301000</td>\n",
       "      <td>93600000000000</td>\n",
       "      <td>234000000</td>\n",
       "      <td>STK</td>\n",
       "    </tr>\n",
       "    <tr>\n",
       "      <th>3</th>\n",
       "      <td>207940</td>\n",
       "      <td>KR7207940008</td>\n",
       "      <td>삼성바이오로직스</td>\n",
       "      <td>KOSPI</td>\n",
       "      <td></td>\n",
       "      <td>816000</td>\n",
       "      <td>2</td>\n",
       "      <td>-5000</td>\n",
       "      <td>-0.61</td>\n",
       "      <td>819000</td>\n",
       "      <td>824000</td>\n",
       "      <td>815000</td>\n",
       "      <td>31592</td>\n",
       "      <td>25880499000</td>\n",
       "      <td>58077984000000</td>\n",
       "      <td>71174000</td>\n",
       "      <td>STK</td>\n",
       "    </tr>\n",
       "    <tr>\n",
       "      <th>4</th>\n",
       "      <td>005935</td>\n",
       "      <td>KR7005931001</td>\n",
       "      <td>삼성전자우</td>\n",
       "      <td>KOSPI</td>\n",
       "      <td></td>\n",
       "      <td>62300</td>\n",
       "      <td>2</td>\n",
       "      <td>-200</td>\n",
       "      <td>-0.32</td>\n",
       "      <td>62800</td>\n",
       "      <td>62800</td>\n",
       "      <td>62200</td>\n",
       "      <td>417486</td>\n",
       "      <td>26093188100</td>\n",
       "      <td>51265841410000</td>\n",
       "      <td>822886700</td>\n",
       "      <td>STK</td>\n",
       "    </tr>\n",
       "    <tr>\n",
       "      <th>...</th>\n",
       "      <td>...</td>\n",
       "      <td>...</td>\n",
       "      <td>...</td>\n",
       "      <td>...</td>\n",
       "      <td>...</td>\n",
       "      <td>...</td>\n",
       "      <td>...</td>\n",
       "      <td>...</td>\n",
       "      <td>...</td>\n",
       "      <td>...</td>\n",
       "      <td>...</td>\n",
       "      <td>...</td>\n",
       "      <td>...</td>\n",
       "      <td>...</td>\n",
       "      <td>...</td>\n",
       "      <td>...</td>\n",
       "      <td>...</td>\n",
       "    </tr>\n",
       "    <tr>\n",
       "      <th>2787</th>\n",
       "      <td>217320</td>\n",
       "      <td>KR7217320001</td>\n",
       "      <td>썬테크</td>\n",
       "      <td>KONEX</td>\n",
       "      <td>일반기업부</td>\n",
       "      <td>2990</td>\n",
       "      <td>0</td>\n",
       "      <td>0</td>\n",
       "      <td>0.00</td>\n",
       "      <td>0</td>\n",
       "      <td>0</td>\n",
       "      <td>0</td>\n",
       "      <td>0</td>\n",
       "      <td>0</td>\n",
       "      <td>3139500000</td>\n",
       "      <td>1050000</td>\n",
       "      <td>KNX</td>\n",
       "    </tr>\n",
       "    <tr>\n",
       "      <th>2788</th>\n",
       "      <td>288490</td>\n",
       "      <td>KR7288490006</td>\n",
       "      <td>나라소프트</td>\n",
       "      <td>KONEX</td>\n",
       "      <td>일반기업부</td>\n",
       "      <td>50</td>\n",
       "      <td>3</td>\n",
       "      <td>0</td>\n",
       "      <td>0.00</td>\n",
       "      <td>52</td>\n",
       "      <td>52</td>\n",
       "      <td>46</td>\n",
       "      <td>49785</td>\n",
       "      <td>2359871</td>\n",
       "      <td>2620736600</td>\n",
       "      <td>52414732</td>\n",
       "      <td>KNX</td>\n",
       "    </tr>\n",
       "    <tr>\n",
       "      <th>2789</th>\n",
       "      <td>245450</td>\n",
       "      <td>KR7245450002</td>\n",
       "      <td>씨앤에스링크</td>\n",
       "      <td>KONEX</td>\n",
       "      <td>일반기업부</td>\n",
       "      <td>1300</td>\n",
       "      <td>2</td>\n",
       "      <td>-100</td>\n",
       "      <td>-7.14</td>\n",
       "      <td>1190</td>\n",
       "      <td>1300</td>\n",
       "      <td>1190</td>\n",
       "      <td>551</td>\n",
       "      <td>655800</td>\n",
       "      <td>2053948000</td>\n",
       "      <td>1579960</td>\n",
       "      <td>KNX</td>\n",
       "    </tr>\n",
       "    <tr>\n",
       "      <th>2790</th>\n",
       "      <td>308700</td>\n",
       "      <td>KR7308700004</td>\n",
       "      <td>테크엔</td>\n",
       "      <td>KONEX</td>\n",
       "      <td>일반기업부</td>\n",
       "      <td>430</td>\n",
       "      <td>3</td>\n",
       "      <td>0</td>\n",
       "      <td>0.00</td>\n",
       "      <td>494</td>\n",
       "      <td>494</td>\n",
       "      <td>430</td>\n",
       "      <td>502</td>\n",
       "      <td>217524</td>\n",
       "      <td>1720000000</td>\n",
       "      <td>4000000</td>\n",
       "      <td>KNX</td>\n",
       "    </tr>\n",
       "    <tr>\n",
       "      <th>2791</th>\n",
       "      <td>322190</td>\n",
       "      <td>KR7322190000</td>\n",
       "      <td>베른</td>\n",
       "      <td>KONEX</td>\n",
       "      <td>일반기업부</td>\n",
       "      <td>99</td>\n",
       "      <td>5</td>\n",
       "      <td>-17</td>\n",
       "      <td>-14.66</td>\n",
       "      <td>116</td>\n",
       "      <td>116</td>\n",
       "      <td>99</td>\n",
       "      <td>1162</td>\n",
       "      <td>115055</td>\n",
       "      <td>883594503</td>\n",
       "      <td>8925197</td>\n",
       "      <td>KNX</td>\n",
       "    </tr>\n",
       "  </tbody>\n",
       "</table>\n",
       "<p>2792 rows × 17 columns</p>\n",
       "</div>"
      ],
      "text/plain": [
       "        Code        ISU_CD      Name Market   Dept   Close ChangeCode  \\\n",
       "0     005930  KR7005930003      삼성전자  KOSPI          72900          2   \n",
       "1     000660  KR7000660001    SK하이닉스  KOSPI         147600          2   \n",
       "2     373220  KR7373220003  LG에너지솔루션  KOSPI         400000          1   \n",
       "3     207940  KR7207940008  삼성바이오로직스  KOSPI         816000          2   \n",
       "4     005935  KR7005931001     삼성전자우  KOSPI          62300          2   \n",
       "...      ...           ...       ...    ...    ...     ...        ...   \n",
       "2787  217320  KR7217320001       썬테크  KONEX  일반기업부    2990          0   \n",
       "2788  288490  KR7288490006     나라소프트  KONEX  일반기업부      50          3   \n",
       "2789  245450  KR7245450002    씨앤에스링크  KONEX  일반기업부    1300          2   \n",
       "2790  308700  KR7308700004       테크엔  KONEX  일반기업부     430          3   \n",
       "2791  322190  KR7322190000        베른  KONEX  일반기업부      99          5   \n",
       "\n",
       "      Changes  ChagesRatio    Open    High     Low   Volume        Amount  \\\n",
       "0        -900        -1.22   73700   73700   72800  7315335  535526578400   \n",
       "1       -3700        -2.45  150300  151100  147500  1638257  244440332600   \n",
       "2        2500         0.63  397500  401000  392000    82164   32620301000   \n",
       "3       -5000        -0.61  819000  824000  815000    31592   25880499000   \n",
       "4        -200        -0.32   62800   62800   62200   417486   26093188100   \n",
       "...       ...          ...     ...     ...     ...      ...           ...   \n",
       "2787        0         0.00       0       0       0        0             0   \n",
       "2788        0         0.00      52      52      46    49785       2359871   \n",
       "2789     -100        -7.14    1190    1300    1190      551        655800   \n",
       "2790        0         0.00     494     494     430      502        217524   \n",
       "2791      -17       -14.66     116     116      99     1162        115055   \n",
       "\n",
       "               Marcap      Stocks MarketId  \n",
       "0     435197147895000  5969782550      STK  \n",
       "1     107453149074000   728002365      STK  \n",
       "2      93600000000000   234000000      STK  \n",
       "3      58077984000000    71174000      STK  \n",
       "4      51265841410000   822886700      STK  \n",
       "...               ...         ...      ...  \n",
       "2787       3139500000     1050000      KNX  \n",
       "2788       2620736600    52414732      KNX  \n",
       "2789       2053948000     1579960      KNX  \n",
       "2790       1720000000     4000000      KNX  \n",
       "2791        883594503     8925197      KNX  \n",
       "\n",
       "[2792 rows x 17 columns]"
      ]
     },
     "execution_count": 121,
     "metadata": {},
     "output_type": "execute_result"
    }
   ],
   "source": [
    "data_krx"
   ]
  },
  {
   "cell_type": "code",
   "execution_count": 123,
   "id": "462e4994",
   "metadata": {},
   "outputs": [
    {
     "data": {
      "text/html": [
       "<div>\n",
       "<style scoped>\n",
       "    .dataframe tbody tr th:only-of-type {\n",
       "        vertical-align: middle;\n",
       "    }\n",
       "\n",
       "    .dataframe tbody tr th {\n",
       "        vertical-align: top;\n",
       "    }\n",
       "\n",
       "    .dataframe thead th {\n",
       "        text-align: right;\n",
       "    }\n",
       "</style>\n",
       "<table border=\"1\" class=\"dataframe\">\n",
       "  <thead>\n",
       "    <tr style=\"text-align: right;\">\n",
       "      <th></th>\n",
       "      <th>Unnamed: 0</th>\n",
       "      <th>Code</th>\n",
       "      <th>ISU_CD</th>\n",
       "      <th>Name</th>\n",
       "      <th>Market</th>\n",
       "      <th>Dept</th>\n",
       "      <th>Close</th>\n",
       "      <th>ChangeCode</th>\n",
       "      <th>Changes</th>\n",
       "      <th>ChagesRatio</th>\n",
       "      <th>Open</th>\n",
       "      <th>High</th>\n",
       "      <th>Low</th>\n",
       "      <th>Volume</th>\n",
       "      <th>Amount</th>\n",
       "      <th>Marcap</th>\n",
       "      <th>Stocks</th>\n",
       "      <th>MarketId</th>\n",
       "    </tr>\n",
       "  </thead>\n",
       "  <tbody>\n",
       "    <tr>\n",
       "      <th>0</th>\n",
       "      <td>0</td>\n",
       "      <td>005930</td>\n",
       "      <td>KR7005930003</td>\n",
       "      <td>삼성전자</td>\n",
       "      <td>KOSPI</td>\n",
       "      <td>NaN</td>\n",
       "      <td>72900</td>\n",
       "      <td>2</td>\n",
       "      <td>-900</td>\n",
       "      <td>-1.22</td>\n",
       "      <td>73700</td>\n",
       "      <td>73700</td>\n",
       "      <td>72800</td>\n",
       "      <td>7315335</td>\n",
       "      <td>535526578400</td>\n",
       "      <td>435197147895000</td>\n",
       "      <td>5969782550</td>\n",
       "      <td>STK</td>\n",
       "    </tr>\n",
       "    <tr>\n",
       "      <th>1</th>\n",
       "      <td>1</td>\n",
       "      <td>000660</td>\n",
       "      <td>KR7000660001</td>\n",
       "      <td>SK하이닉스</td>\n",
       "      <td>KOSPI</td>\n",
       "      <td>NaN</td>\n",
       "      <td>147600</td>\n",
       "      <td>2</td>\n",
       "      <td>-3700</td>\n",
       "      <td>-2.45</td>\n",
       "      <td>150300</td>\n",
       "      <td>151100</td>\n",
       "      <td>147500</td>\n",
       "      <td>1638257</td>\n",
       "      <td>244440332600</td>\n",
       "      <td>107453149074000</td>\n",
       "      <td>728002365</td>\n",
       "      <td>STK</td>\n",
       "    </tr>\n",
       "    <tr>\n",
       "      <th>2</th>\n",
       "      <td>2</td>\n",
       "      <td>373220</td>\n",
       "      <td>KR7373220003</td>\n",
       "      <td>LG에너지솔루션</td>\n",
       "      <td>KOSPI</td>\n",
       "      <td>NaN</td>\n",
       "      <td>400000</td>\n",
       "      <td>1</td>\n",
       "      <td>2500</td>\n",
       "      <td>0.63</td>\n",
       "      <td>397500</td>\n",
       "      <td>401000</td>\n",
       "      <td>392000</td>\n",
       "      <td>82164</td>\n",
       "      <td>32620301000</td>\n",
       "      <td>93600000000000</td>\n",
       "      <td>234000000</td>\n",
       "      <td>STK</td>\n",
       "    </tr>\n",
       "    <tr>\n",
       "      <th>3</th>\n",
       "      <td>3</td>\n",
       "      <td>207940</td>\n",
       "      <td>KR7207940008</td>\n",
       "      <td>삼성바이오로직스</td>\n",
       "      <td>KOSPI</td>\n",
       "      <td>NaN</td>\n",
       "      <td>816000</td>\n",
       "      <td>2</td>\n",
       "      <td>-5000</td>\n",
       "      <td>-0.61</td>\n",
       "      <td>819000</td>\n",
       "      <td>824000</td>\n",
       "      <td>815000</td>\n",
       "      <td>31592</td>\n",
       "      <td>25880499000</td>\n",
       "      <td>58077984000000</td>\n",
       "      <td>71174000</td>\n",
       "      <td>STK</td>\n",
       "    </tr>\n",
       "    <tr>\n",
       "      <th>4</th>\n",
       "      <td>4</td>\n",
       "      <td>005935</td>\n",
       "      <td>KR7005931001</td>\n",
       "      <td>삼성전자우</td>\n",
       "      <td>KOSPI</td>\n",
       "      <td>NaN</td>\n",
       "      <td>62300</td>\n",
       "      <td>2</td>\n",
       "      <td>-200</td>\n",
       "      <td>-0.32</td>\n",
       "      <td>62800</td>\n",
       "      <td>62800</td>\n",
       "      <td>62200</td>\n",
       "      <td>417486</td>\n",
       "      <td>26093188100</td>\n",
       "      <td>51265841410000</td>\n",
       "      <td>822886700</td>\n",
       "      <td>STK</td>\n",
       "    </tr>\n",
       "    <tr>\n",
       "      <th>...</th>\n",
       "      <td>...</td>\n",
       "      <td>...</td>\n",
       "      <td>...</td>\n",
       "      <td>...</td>\n",
       "      <td>...</td>\n",
       "      <td>...</td>\n",
       "      <td>...</td>\n",
       "      <td>...</td>\n",
       "      <td>...</td>\n",
       "      <td>...</td>\n",
       "      <td>...</td>\n",
       "      <td>...</td>\n",
       "      <td>...</td>\n",
       "      <td>...</td>\n",
       "      <td>...</td>\n",
       "      <td>...</td>\n",
       "      <td>...</td>\n",
       "      <td>...</td>\n",
       "    </tr>\n",
       "    <tr>\n",
       "      <th>2787</th>\n",
       "      <td>2787</td>\n",
       "      <td>217320</td>\n",
       "      <td>KR7217320001</td>\n",
       "      <td>썬테크</td>\n",
       "      <td>KONEX</td>\n",
       "      <td>일반기업부</td>\n",
       "      <td>2990</td>\n",
       "      <td>0</td>\n",
       "      <td>0</td>\n",
       "      <td>0.00</td>\n",
       "      <td>0</td>\n",
       "      <td>0</td>\n",
       "      <td>0</td>\n",
       "      <td>0</td>\n",
       "      <td>0</td>\n",
       "      <td>3139500000</td>\n",
       "      <td>1050000</td>\n",
       "      <td>KNX</td>\n",
       "    </tr>\n",
       "    <tr>\n",
       "      <th>2788</th>\n",
       "      <td>2788</td>\n",
       "      <td>288490</td>\n",
       "      <td>KR7288490006</td>\n",
       "      <td>나라소프트</td>\n",
       "      <td>KONEX</td>\n",
       "      <td>일반기업부</td>\n",
       "      <td>50</td>\n",
       "      <td>3</td>\n",
       "      <td>0</td>\n",
       "      <td>0.00</td>\n",
       "      <td>52</td>\n",
       "      <td>52</td>\n",
       "      <td>46</td>\n",
       "      <td>49785</td>\n",
       "      <td>2359871</td>\n",
       "      <td>2620736600</td>\n",
       "      <td>52414732</td>\n",
       "      <td>KNX</td>\n",
       "    </tr>\n",
       "    <tr>\n",
       "      <th>2789</th>\n",
       "      <td>2789</td>\n",
       "      <td>245450</td>\n",
       "      <td>KR7245450002</td>\n",
       "      <td>씨앤에스링크</td>\n",
       "      <td>KONEX</td>\n",
       "      <td>일반기업부</td>\n",
       "      <td>1300</td>\n",
       "      <td>2</td>\n",
       "      <td>-100</td>\n",
       "      <td>-7.14</td>\n",
       "      <td>1190</td>\n",
       "      <td>1300</td>\n",
       "      <td>1190</td>\n",
       "      <td>551</td>\n",
       "      <td>655800</td>\n",
       "      <td>2053948000</td>\n",
       "      <td>1579960</td>\n",
       "      <td>KNX</td>\n",
       "    </tr>\n",
       "    <tr>\n",
       "      <th>2790</th>\n",
       "      <td>2790</td>\n",
       "      <td>308700</td>\n",
       "      <td>KR7308700004</td>\n",
       "      <td>테크엔</td>\n",
       "      <td>KONEX</td>\n",
       "      <td>일반기업부</td>\n",
       "      <td>430</td>\n",
       "      <td>3</td>\n",
       "      <td>0</td>\n",
       "      <td>0.00</td>\n",
       "      <td>494</td>\n",
       "      <td>494</td>\n",
       "      <td>430</td>\n",
       "      <td>502</td>\n",
       "      <td>217524</td>\n",
       "      <td>1720000000</td>\n",
       "      <td>4000000</td>\n",
       "      <td>KNX</td>\n",
       "    </tr>\n",
       "    <tr>\n",
       "      <th>2791</th>\n",
       "      <td>2791</td>\n",
       "      <td>322190</td>\n",
       "      <td>KR7322190000</td>\n",
       "      <td>베른</td>\n",
       "      <td>KONEX</td>\n",
       "      <td>일반기업부</td>\n",
       "      <td>99</td>\n",
       "      <td>5</td>\n",
       "      <td>-17</td>\n",
       "      <td>-14.66</td>\n",
       "      <td>116</td>\n",
       "      <td>116</td>\n",
       "      <td>99</td>\n",
       "      <td>1162</td>\n",
       "      <td>115055</td>\n",
       "      <td>883594503</td>\n",
       "      <td>8925197</td>\n",
       "      <td>KNX</td>\n",
       "    </tr>\n",
       "  </tbody>\n",
       "</table>\n",
       "<p>2792 rows × 18 columns</p>\n",
       "</div>"
      ],
      "text/plain": [
       "      Unnamed: 0    Code        ISU_CD      Name Market   Dept   Close  \\\n",
       "0              0  005930  KR7005930003      삼성전자  KOSPI    NaN   72900   \n",
       "1              1  000660  KR7000660001    SK하이닉스  KOSPI    NaN  147600   \n",
       "2              2  373220  KR7373220003  LG에너지솔루션  KOSPI    NaN  400000   \n",
       "3              3  207940  KR7207940008  삼성바이오로직스  KOSPI    NaN  816000   \n",
       "4              4  005935  KR7005931001     삼성전자우  KOSPI    NaN   62300   \n",
       "...          ...     ...           ...       ...    ...    ...     ...   \n",
       "2787        2787  217320  KR7217320001       썬테크  KONEX  일반기업부    2990   \n",
       "2788        2788  288490  KR7288490006     나라소프트  KONEX  일반기업부      50   \n",
       "2789        2789  245450  KR7245450002    씨앤에스링크  KONEX  일반기업부    1300   \n",
       "2790        2790  308700  KR7308700004       테크엔  KONEX  일반기업부     430   \n",
       "2791        2791  322190  KR7322190000        베른  KONEX  일반기업부      99   \n",
       "\n",
       "      ChangeCode  Changes  ChagesRatio    Open    High     Low   Volume  \\\n",
       "0              2     -900        -1.22   73700   73700   72800  7315335   \n",
       "1              2    -3700        -2.45  150300  151100  147500  1638257   \n",
       "2              1     2500         0.63  397500  401000  392000    82164   \n",
       "3              2    -5000        -0.61  819000  824000  815000    31592   \n",
       "4              2     -200        -0.32   62800   62800   62200   417486   \n",
       "...          ...      ...          ...     ...     ...     ...      ...   \n",
       "2787           0        0         0.00       0       0       0        0   \n",
       "2788           3        0         0.00      52      52      46    49785   \n",
       "2789           2     -100        -7.14    1190    1300    1190      551   \n",
       "2790           3        0         0.00     494     494     430      502   \n",
       "2791           5      -17       -14.66     116     116      99     1162   \n",
       "\n",
       "            Amount           Marcap      Stocks MarketId  \n",
       "0     535526578400  435197147895000  5969782550      STK  \n",
       "1     244440332600  107453149074000   728002365      STK  \n",
       "2      32620301000   93600000000000   234000000      STK  \n",
       "3      25880499000   58077984000000    71174000      STK  \n",
       "4      26093188100   51265841410000   822886700      STK  \n",
       "...            ...              ...         ...      ...  \n",
       "2787             0       3139500000     1050000      KNX  \n",
       "2788       2359871       2620736600    52414732      KNX  \n",
       "2789        655800       2053948000     1579960      KNX  \n",
       "2790        217524       1720000000     4000000      KNX  \n",
       "2791        115055        883594503     8925197      KNX  \n",
       "\n",
       "[2792 rows x 18 columns]"
      ]
     },
     "execution_count": 123,
     "metadata": {},
     "output_type": "execute_result"
    }
   ],
   "source": [
    "data_krx.to_csv('krx_data.csv')\n",
    "pd.read_csv('krx_data.csv')"
   ]
  },
  {
   "cell_type": "code",
   "execution_count": 124,
   "id": "70fb0f20",
   "metadata": {},
   "outputs": [
    {
     "data": {
      "text/html": [
       "<div>\n",
       "<style scoped>\n",
       "    .dataframe tbody tr th:only-of-type {\n",
       "        vertical-align: middle;\n",
       "    }\n",
       "\n",
       "    .dataframe tbody tr th {\n",
       "        vertical-align: top;\n",
       "    }\n",
       "\n",
       "    .dataframe thead th {\n",
       "        text-align: right;\n",
       "    }\n",
       "</style>\n",
       "<table border=\"1\" class=\"dataframe\">\n",
       "  <thead>\n",
       "    <tr style=\"text-align: right;\">\n",
       "      <th></th>\n",
       "      <th>Unnamed: 0</th>\n",
       "      <th>Code</th>\n",
       "      <th>ISU_CD</th>\n",
       "      <th>Name</th>\n",
       "      <th>Market</th>\n",
       "      <th>Dept</th>\n",
       "      <th>Close</th>\n",
       "      <th>ChangeCode</th>\n",
       "      <th>Changes</th>\n",
       "      <th>ChagesRatio</th>\n",
       "      <th>Open</th>\n",
       "      <th>High</th>\n",
       "      <th>Low</th>\n",
       "      <th>Volume</th>\n",
       "      <th>Amount</th>\n",
       "      <th>Marcap</th>\n",
       "      <th>Stocks</th>\n",
       "      <th>MarketId</th>\n",
       "    </tr>\n",
       "  </thead>\n",
       "  <tbody>\n",
       "    <tr>\n",
       "      <th>0</th>\n",
       "      <td>0</td>\n",
       "      <td>005930</td>\n",
       "      <td>KR7005930003</td>\n",
       "      <td>삼성전자</td>\n",
       "      <td>KOSPI</td>\n",
       "      <td>NaN</td>\n",
       "      <td>72900</td>\n",
       "      <td>2</td>\n",
       "      <td>-900</td>\n",
       "      <td>-1.22</td>\n",
       "      <td>73700</td>\n",
       "      <td>73700</td>\n",
       "      <td>72800</td>\n",
       "      <td>7315335</td>\n",
       "      <td>535526578400</td>\n",
       "      <td>435197147895000</td>\n",
       "      <td>5969782550</td>\n",
       "      <td>STK</td>\n",
       "    </tr>\n",
       "    <tr>\n",
       "      <th>1</th>\n",
       "      <td>1</td>\n",
       "      <td>000660</td>\n",
       "      <td>KR7000660001</td>\n",
       "      <td>SK하이닉스</td>\n",
       "      <td>KOSPI</td>\n",
       "      <td>NaN</td>\n",
       "      <td>147600</td>\n",
       "      <td>2</td>\n",
       "      <td>-3700</td>\n",
       "      <td>-2.45</td>\n",
       "      <td>150300</td>\n",
       "      <td>151100</td>\n",
       "      <td>147500</td>\n",
       "      <td>1638257</td>\n",
       "      <td>244440332600</td>\n",
       "      <td>107453149074000</td>\n",
       "      <td>728002365</td>\n",
       "      <td>STK</td>\n",
       "    </tr>\n",
       "    <tr>\n",
       "      <th>2</th>\n",
       "      <td>2</td>\n",
       "      <td>373220</td>\n",
       "      <td>KR7373220003</td>\n",
       "      <td>LG에너지솔루션</td>\n",
       "      <td>KOSPI</td>\n",
       "      <td>NaN</td>\n",
       "      <td>400000</td>\n",
       "      <td>1</td>\n",
       "      <td>2500</td>\n",
       "      <td>0.63</td>\n",
       "      <td>397500</td>\n",
       "      <td>401000</td>\n",
       "      <td>392000</td>\n",
       "      <td>82164</td>\n",
       "      <td>32620301000</td>\n",
       "      <td>93600000000000</td>\n",
       "      <td>234000000</td>\n",
       "      <td>STK</td>\n",
       "    </tr>\n",
       "    <tr>\n",
       "      <th>3</th>\n",
       "      <td>3</td>\n",
       "      <td>207940</td>\n",
       "      <td>KR7207940008</td>\n",
       "      <td>삼성바이오로직스</td>\n",
       "      <td>KOSPI</td>\n",
       "      <td>NaN</td>\n",
       "      <td>816000</td>\n",
       "      <td>2</td>\n",
       "      <td>-5000</td>\n",
       "      <td>-0.61</td>\n",
       "      <td>819000</td>\n",
       "      <td>824000</td>\n",
       "      <td>815000</td>\n",
       "      <td>31592</td>\n",
       "      <td>25880499000</td>\n",
       "      <td>58077984000000</td>\n",
       "      <td>71174000</td>\n",
       "      <td>STK</td>\n",
       "    </tr>\n",
       "    <tr>\n",
       "      <th>4</th>\n",
       "      <td>4</td>\n",
       "      <td>005935</td>\n",
       "      <td>KR7005931001</td>\n",
       "      <td>삼성전자우</td>\n",
       "      <td>KOSPI</td>\n",
       "      <td>NaN</td>\n",
       "      <td>62300</td>\n",
       "      <td>2</td>\n",
       "      <td>-200</td>\n",
       "      <td>-0.32</td>\n",
       "      <td>62800</td>\n",
       "      <td>62800</td>\n",
       "      <td>62200</td>\n",
       "      <td>417486</td>\n",
       "      <td>26093188100</td>\n",
       "      <td>51265841410000</td>\n",
       "      <td>822886700</td>\n",
       "      <td>STK</td>\n",
       "    </tr>\n",
       "    <tr>\n",
       "      <th>...</th>\n",
       "      <td>...</td>\n",
       "      <td>...</td>\n",
       "      <td>...</td>\n",
       "      <td>...</td>\n",
       "      <td>...</td>\n",
       "      <td>...</td>\n",
       "      <td>...</td>\n",
       "      <td>...</td>\n",
       "      <td>...</td>\n",
       "      <td>...</td>\n",
       "      <td>...</td>\n",
       "      <td>...</td>\n",
       "      <td>...</td>\n",
       "      <td>...</td>\n",
       "      <td>...</td>\n",
       "      <td>...</td>\n",
       "      <td>...</td>\n",
       "      <td>...</td>\n",
       "    </tr>\n",
       "    <tr>\n",
       "      <th>2787</th>\n",
       "      <td>2787</td>\n",
       "      <td>217320</td>\n",
       "      <td>KR7217320001</td>\n",
       "      <td>썬테크</td>\n",
       "      <td>KONEX</td>\n",
       "      <td>일반기업부</td>\n",
       "      <td>2990</td>\n",
       "      <td>0</td>\n",
       "      <td>0</td>\n",
       "      <td>0.00</td>\n",
       "      <td>0</td>\n",
       "      <td>0</td>\n",
       "      <td>0</td>\n",
       "      <td>0</td>\n",
       "      <td>0</td>\n",
       "      <td>3139500000</td>\n",
       "      <td>1050000</td>\n",
       "      <td>KNX</td>\n",
       "    </tr>\n",
       "    <tr>\n",
       "      <th>2788</th>\n",
       "      <td>2788</td>\n",
       "      <td>288490</td>\n",
       "      <td>KR7288490006</td>\n",
       "      <td>나라소프트</td>\n",
       "      <td>KONEX</td>\n",
       "      <td>일반기업부</td>\n",
       "      <td>50</td>\n",
       "      <td>3</td>\n",
       "      <td>0</td>\n",
       "      <td>0.00</td>\n",
       "      <td>52</td>\n",
       "      <td>52</td>\n",
       "      <td>46</td>\n",
       "      <td>49785</td>\n",
       "      <td>2359871</td>\n",
       "      <td>2620736600</td>\n",
       "      <td>52414732</td>\n",
       "      <td>KNX</td>\n",
       "    </tr>\n",
       "    <tr>\n",
       "      <th>2789</th>\n",
       "      <td>2789</td>\n",
       "      <td>245450</td>\n",
       "      <td>KR7245450002</td>\n",
       "      <td>씨앤에스링크</td>\n",
       "      <td>KONEX</td>\n",
       "      <td>일반기업부</td>\n",
       "      <td>1300</td>\n",
       "      <td>2</td>\n",
       "      <td>-100</td>\n",
       "      <td>-7.14</td>\n",
       "      <td>1190</td>\n",
       "      <td>1300</td>\n",
       "      <td>1190</td>\n",
       "      <td>551</td>\n",
       "      <td>655800</td>\n",
       "      <td>2053948000</td>\n",
       "      <td>1579960</td>\n",
       "      <td>KNX</td>\n",
       "    </tr>\n",
       "    <tr>\n",
       "      <th>2790</th>\n",
       "      <td>2790</td>\n",
       "      <td>308700</td>\n",
       "      <td>KR7308700004</td>\n",
       "      <td>테크엔</td>\n",
       "      <td>KONEX</td>\n",
       "      <td>일반기업부</td>\n",
       "      <td>430</td>\n",
       "      <td>3</td>\n",
       "      <td>0</td>\n",
       "      <td>0.00</td>\n",
       "      <td>494</td>\n",
       "      <td>494</td>\n",
       "      <td>430</td>\n",
       "      <td>502</td>\n",
       "      <td>217524</td>\n",
       "      <td>1720000000</td>\n",
       "      <td>4000000</td>\n",
       "      <td>KNX</td>\n",
       "    </tr>\n",
       "    <tr>\n",
       "      <th>2791</th>\n",
       "      <td>2791</td>\n",
       "      <td>322190</td>\n",
       "      <td>KR7322190000</td>\n",
       "      <td>베른</td>\n",
       "      <td>KONEX</td>\n",
       "      <td>일반기업부</td>\n",
       "      <td>99</td>\n",
       "      <td>5</td>\n",
       "      <td>-17</td>\n",
       "      <td>-14.66</td>\n",
       "      <td>116</td>\n",
       "      <td>116</td>\n",
       "      <td>99</td>\n",
       "      <td>1162</td>\n",
       "      <td>115055</td>\n",
       "      <td>883594503</td>\n",
       "      <td>8925197</td>\n",
       "      <td>KNX</td>\n",
       "    </tr>\n",
       "  </tbody>\n",
       "</table>\n",
       "<p>2792 rows × 18 columns</p>\n",
       "</div>"
      ],
      "text/plain": [
       "      Unnamed: 0    Code        ISU_CD      Name Market   Dept   Close  \\\n",
       "0              0  005930  KR7005930003      삼성전자  KOSPI    NaN   72900   \n",
       "1              1  000660  KR7000660001    SK하이닉스  KOSPI    NaN  147600   \n",
       "2              2  373220  KR7373220003  LG에너지솔루션  KOSPI    NaN  400000   \n",
       "3              3  207940  KR7207940008  삼성바이오로직스  KOSPI    NaN  816000   \n",
       "4              4  005935  KR7005931001     삼성전자우  KOSPI    NaN   62300   \n",
       "...          ...     ...           ...       ...    ...    ...     ...   \n",
       "2787        2787  217320  KR7217320001       썬테크  KONEX  일반기업부    2990   \n",
       "2788        2788  288490  KR7288490006     나라소프트  KONEX  일반기업부      50   \n",
       "2789        2789  245450  KR7245450002    씨앤에스링크  KONEX  일반기업부    1300   \n",
       "2790        2790  308700  KR7308700004       테크엔  KONEX  일반기업부     430   \n",
       "2791        2791  322190  KR7322190000        베른  KONEX  일반기업부      99   \n",
       "\n",
       "      ChangeCode  Changes  ChagesRatio    Open    High     Low   Volume  \\\n",
       "0              2     -900        -1.22   73700   73700   72800  7315335   \n",
       "1              2    -3700        -2.45  150300  151100  147500  1638257   \n",
       "2              1     2500         0.63  397500  401000  392000    82164   \n",
       "3              2    -5000        -0.61  819000  824000  815000    31592   \n",
       "4              2     -200        -0.32   62800   62800   62200   417486   \n",
       "...          ...      ...          ...     ...     ...     ...      ...   \n",
       "2787           0        0         0.00       0       0       0        0   \n",
       "2788           3        0         0.00      52      52      46    49785   \n",
       "2789           2     -100        -7.14    1190    1300    1190      551   \n",
       "2790           3        0         0.00     494     494     430      502   \n",
       "2791           5      -17       -14.66     116     116      99     1162   \n",
       "\n",
       "            Amount           Marcap      Stocks MarketId  \n",
       "0     535526578400  435197147895000  5969782550      STK  \n",
       "1     244440332600  107453149074000   728002365      STK  \n",
       "2      32620301000   93600000000000   234000000      STK  \n",
       "3      25880499000   58077984000000    71174000      STK  \n",
       "4      26093188100   51265841410000   822886700      STK  \n",
       "...            ...              ...         ...      ...  \n",
       "2787             0       3139500000     1050000      KNX  \n",
       "2788       2359871       2620736600    52414732      KNX  \n",
       "2789        655800       2053948000     1579960      KNX  \n",
       "2790        217524       1720000000     4000000      KNX  \n",
       "2791        115055        883594503     8925197      KNX  \n",
       "\n",
       "[2792 rows x 18 columns]"
      ]
     },
     "execution_count": 124,
     "metadata": {},
     "output_type": "execute_result"
    }
   ],
   "source": [
    "data_krx.to_csv('krx_data.csv', encoding=\"utf-8-sig\")\n",
    "pd.read_csv('krx_data.csv')"
   ]
  },
  {
   "cell_type": "code",
   "execution_count": 125,
   "id": "525438e4",
   "metadata": {},
   "outputs": [
    {
     "data": {
      "text/plain": [
       "0           삼성전자\n",
       "1         SK하이닉스\n",
       "2       LG에너지솔루션\n",
       "3       삼성바이오로직스\n",
       "4          삼성전자우\n",
       "          ...   \n",
       "2787         썬테크\n",
       "2788       나라소프트\n",
       "2789      씨앤에스링크\n",
       "2790         테크엔\n",
       "2791          베른\n",
       "Name: Name, Length: 2792, dtype: object"
      ]
     },
     "execution_count": 125,
     "metadata": {},
     "output_type": "execute_result"
    }
   ],
   "source": [
    "data_krx['Name']"
   ]
  },
  {
   "cell_type": "code",
   "execution_count": 126,
   "id": "e38c0f03",
   "metadata": {},
   "outputs": [
    {
     "data": {
      "text/plain": [
       "Code                    005930\n",
       "ISU_CD            KR7005930003\n",
       "Name                      삼성전자\n",
       "Market                   KOSPI\n",
       "Dept                          \n",
       "Close                    72900\n",
       "ChangeCode                   2\n",
       "Changes                   -900\n",
       "ChagesRatio              -1.22\n",
       "Open                     73700\n",
       "High                     73700\n",
       "Low                      72800\n",
       "Volume                 7315335\n",
       "Amount            535526578400\n",
       "Marcap         435197147895000\n",
       "Stocks              5969782550\n",
       "MarketId                   STK\n",
       "Name: 0, dtype: object"
      ]
     },
     "execution_count": 126,
     "metadata": {},
     "output_type": "execute_result"
    }
   ],
   "source": [
    "data_krx.loc[0]"
   ]
  },
  {
   "cell_type": "code",
   "execution_count": 127,
   "id": "05c88af7",
   "metadata": {},
   "outputs": [
    {
     "data": {
      "text/plain": [
       "pandas.core.series.Series"
      ]
     },
     "execution_count": 127,
     "metadata": {},
     "output_type": "execute_result"
    }
   ],
   "source": [
    "type(data_krx.loc[0])"
   ]
  },
  {
   "cell_type": "code",
   "execution_count": 128,
   "id": "5eb63a33",
   "metadata": {},
   "outputs": [
    {
     "data": {
      "text/html": [
       "<div>\n",
       "<style scoped>\n",
       "    .dataframe tbody tr th:only-of-type {\n",
       "        vertical-align: middle;\n",
       "    }\n",
       "\n",
       "    .dataframe tbody tr th {\n",
       "        vertical-align: top;\n",
       "    }\n",
       "\n",
       "    .dataframe thead th {\n",
       "        text-align: right;\n",
       "    }\n",
       "</style>\n",
       "<table border=\"1\" class=\"dataframe\">\n",
       "  <thead>\n",
       "    <tr style=\"text-align: right;\">\n",
       "      <th></th>\n",
       "      <th>Name</th>\n",
       "      <th>Market</th>\n",
       "    </tr>\n",
       "  </thead>\n",
       "  <tbody>\n",
       "    <tr>\n",
       "      <th>0</th>\n",
       "      <td>삼성전자</td>\n",
       "      <td>KOSPI</td>\n",
       "    </tr>\n",
       "    <tr>\n",
       "      <th>1</th>\n",
       "      <td>SK하이닉스</td>\n",
       "      <td>KOSPI</td>\n",
       "    </tr>\n",
       "    <tr>\n",
       "      <th>2</th>\n",
       "      <td>LG에너지솔루션</td>\n",
       "      <td>KOSPI</td>\n",
       "    </tr>\n",
       "    <tr>\n",
       "      <th>3</th>\n",
       "      <td>삼성바이오로직스</td>\n",
       "      <td>KOSPI</td>\n",
       "    </tr>\n",
       "    <tr>\n",
       "      <th>4</th>\n",
       "      <td>삼성전자우</td>\n",
       "      <td>KOSPI</td>\n",
       "    </tr>\n",
       "    <tr>\n",
       "      <th>...</th>\n",
       "      <td>...</td>\n",
       "      <td>...</td>\n",
       "    </tr>\n",
       "    <tr>\n",
       "      <th>2787</th>\n",
       "      <td>썬테크</td>\n",
       "      <td>KONEX</td>\n",
       "    </tr>\n",
       "    <tr>\n",
       "      <th>2788</th>\n",
       "      <td>나라소프트</td>\n",
       "      <td>KONEX</td>\n",
       "    </tr>\n",
       "    <tr>\n",
       "      <th>2789</th>\n",
       "      <td>씨앤에스링크</td>\n",
       "      <td>KONEX</td>\n",
       "    </tr>\n",
       "    <tr>\n",
       "      <th>2790</th>\n",
       "      <td>테크엔</td>\n",
       "      <td>KONEX</td>\n",
       "    </tr>\n",
       "    <tr>\n",
       "      <th>2791</th>\n",
       "      <td>베른</td>\n",
       "      <td>KONEX</td>\n",
       "    </tr>\n",
       "  </tbody>\n",
       "</table>\n",
       "<p>2792 rows × 2 columns</p>\n",
       "</div>"
      ],
      "text/plain": [
       "          Name Market\n",
       "0         삼성전자  KOSPI\n",
       "1       SK하이닉스  KOSPI\n",
       "2     LG에너지솔루션  KOSPI\n",
       "3     삼성바이오로직스  KOSPI\n",
       "4        삼성전자우  KOSPI\n",
       "...        ...    ...\n",
       "2787       썬테크  KONEX\n",
       "2788     나라소프트  KONEX\n",
       "2789    씨앤에스링크  KONEX\n",
       "2790       테크엔  KONEX\n",
       "2791        베른  KONEX\n",
       "\n",
       "[2792 rows x 2 columns]"
      ]
     },
     "execution_count": 128,
     "metadata": {},
     "output_type": "execute_result"
    }
   ],
   "source": [
    "data_krx[['Name','Market']]"
   ]
  },
  {
   "cell_type": "code",
   "execution_count": 129,
   "id": "792da0ce",
   "metadata": {},
   "outputs": [
    {
     "data": {
      "text/html": [
       "<div>\n",
       "<style scoped>\n",
       "    .dataframe tbody tr th:only-of-type {\n",
       "        vertical-align: middle;\n",
       "    }\n",
       "\n",
       "    .dataframe tbody tr th {\n",
       "        vertical-align: top;\n",
       "    }\n",
       "\n",
       "    .dataframe thead th {\n",
       "        text-align: right;\n",
       "    }\n",
       "</style>\n",
       "<table border=\"1\" class=\"dataframe\">\n",
       "  <thead>\n",
       "    <tr style=\"text-align: right;\">\n",
       "      <th></th>\n",
       "      <th>Code</th>\n",
       "      <th>ISU_CD</th>\n",
       "      <th>Name</th>\n",
       "      <th>Market</th>\n",
       "      <th>Dept</th>\n",
       "      <th>Close</th>\n",
       "      <th>ChangeCode</th>\n",
       "      <th>Changes</th>\n",
       "      <th>ChagesRatio</th>\n",
       "      <th>Open</th>\n",
       "      <th>High</th>\n",
       "      <th>Low</th>\n",
       "      <th>Volume</th>\n",
       "      <th>Amount</th>\n",
       "      <th>Marcap</th>\n",
       "      <th>Stocks</th>\n",
       "      <th>MarketId</th>\n",
       "    </tr>\n",
       "  </thead>\n",
       "  <tbody>\n",
       "    <tr>\n",
       "      <th>0</th>\n",
       "      <td>005930</td>\n",
       "      <td>KR7005930003</td>\n",
       "      <td>삼성전자</td>\n",
       "      <td>KOSPI</td>\n",
       "      <td></td>\n",
       "      <td>72900</td>\n",
       "      <td>2</td>\n",
       "      <td>-900</td>\n",
       "      <td>-1.22</td>\n",
       "      <td>73700</td>\n",
       "      <td>73700</td>\n",
       "      <td>72800</td>\n",
       "      <td>7315335</td>\n",
       "      <td>535526578400</td>\n",
       "      <td>435197147895000</td>\n",
       "      <td>5969782550</td>\n",
       "      <td>STK</td>\n",
       "    </tr>\n",
       "    <tr>\n",
       "      <th>3</th>\n",
       "      <td>207940</td>\n",
       "      <td>KR7207940008</td>\n",
       "      <td>삼성바이오로직스</td>\n",
       "      <td>KOSPI</td>\n",
       "      <td></td>\n",
       "      <td>816000</td>\n",
       "      <td>2</td>\n",
       "      <td>-5000</td>\n",
       "      <td>-0.61</td>\n",
       "      <td>819000</td>\n",
       "      <td>824000</td>\n",
       "      <td>815000</td>\n",
       "      <td>31592</td>\n",
       "      <td>25880499000</td>\n",
       "      <td>58077984000000</td>\n",
       "      <td>71174000</td>\n",
       "      <td>STK</td>\n",
       "    </tr>\n",
       "    <tr>\n",
       "      <th>5</th>\n",
       "      <td>005380</td>\n",
       "      <td>KR7005380001</td>\n",
       "      <td>현대차</td>\n",
       "      <td>KOSPI</td>\n",
       "      <td></td>\n",
       "      <td>241000</td>\n",
       "      <td>2</td>\n",
       "      <td>-11500</td>\n",
       "      <td>-4.55</td>\n",
       "      <td>250000</td>\n",
       "      <td>253000</td>\n",
       "      <td>241000</td>\n",
       "      <td>1114210</td>\n",
       "      <td>274081671000</td>\n",
       "      <td>50979092946000</td>\n",
       "      <td>211531506</td>\n",
       "      <td>STK</td>\n",
       "    </tr>\n",
       "    <tr>\n",
       "      <th>7</th>\n",
       "      <td>068270</td>\n",
       "      <td>KR7068270008</td>\n",
       "      <td>셀트리온</td>\n",
       "      <td>KOSPI</td>\n",
       "      <td></td>\n",
       "      <td>180300</td>\n",
       "      <td>2</td>\n",
       "      <td>-2100</td>\n",
       "      <td>-1.15</td>\n",
       "      <td>182500</td>\n",
       "      <td>183000</td>\n",
       "      <td>180200</td>\n",
       "      <td>220724</td>\n",
       "      <td>39980025900</td>\n",
       "      <td>39314372088600</td>\n",
       "      <td>218049762</td>\n",
       "      <td>STK</td>\n",
       "    </tr>\n",
       "  </tbody>\n",
       "</table>\n",
       "</div>"
      ],
      "text/plain": [
       "     Code        ISU_CD      Name Market Dept   Close ChangeCode  Changes  \\\n",
       "0  005930  KR7005930003      삼성전자  KOSPI        72900          2     -900   \n",
       "3  207940  KR7207940008  삼성바이오로직스  KOSPI       816000          2    -5000   \n",
       "5  005380  KR7005380001       현대차  KOSPI       241000          2   -11500   \n",
       "7  068270  KR7068270008      셀트리온  KOSPI       180300          2    -2100   \n",
       "\n",
       "   ChagesRatio    Open    High     Low   Volume        Amount  \\\n",
       "0        -1.22   73700   73700   72800  7315335  535526578400   \n",
       "3        -0.61  819000  824000  815000    31592   25880499000   \n",
       "5        -4.55  250000  253000  241000  1114210  274081671000   \n",
       "7        -1.15  182500  183000  180200   220724   39980025900   \n",
       "\n",
       "            Marcap      Stocks MarketId  \n",
       "0  435197147895000  5969782550      STK  \n",
       "3   58077984000000    71174000      STK  \n",
       "5   50979092946000   211531506      STK  \n",
       "7   39314372088600   218049762      STK  "
      ]
     },
     "execution_count": 129,
     "metadata": {},
     "output_type": "execute_result"
    }
   ],
   "source": [
    "data_krx.loc[[0,3,5,7]]"
   ]
  },
  {
   "cell_type": "code",
   "execution_count": null,
   "id": "0c13551f",
   "metadata": {},
   "outputs": [],
   "source": []
  },
  {
   "cell_type": "markdown",
   "id": "336d4fcc",
   "metadata": {},
   "source": [
    "### (3) 검색"
   ]
  },
  {
   "cell_type": "code",
   "execution_count": 130,
   "id": "ab866d35",
   "metadata": {},
   "outputs": [],
   "source": [
    "import FinanceDataReader as fdr\n",
    "import datetime\n",
    "start = datetime.datetime(2022, 1, 3)\n",
    "end = datetime.datetime(2022, 9, 1)\n"
   ]
  },
  {
   "cell_type": "code",
   "execution_count": 131,
   "id": "79e66354",
   "metadata": {},
   "outputs": [
    {
     "data": {
      "text/html": [
       "<div>\n",
       "<style scoped>\n",
       "    .dataframe tbody tr th:only-of-type {\n",
       "        vertical-align: middle;\n",
       "    }\n",
       "\n",
       "    .dataframe tbody tr th {\n",
       "        vertical-align: top;\n",
       "    }\n",
       "\n",
       "    .dataframe thead th {\n",
       "        text-align: right;\n",
       "    }\n",
       "</style>\n",
       "<table border=\"1\" class=\"dataframe\">\n",
       "  <thead>\n",
       "    <tr style=\"text-align: right;\">\n",
       "      <th></th>\n",
       "      <th>Open</th>\n",
       "      <th>High</th>\n",
       "      <th>Low</th>\n",
       "      <th>Close</th>\n",
       "      <th>Volume</th>\n",
       "      <th>Change</th>\n",
       "    </tr>\n",
       "    <tr>\n",
       "      <th>Date</th>\n",
       "      <th></th>\n",
       "      <th></th>\n",
       "      <th></th>\n",
       "      <th></th>\n",
       "      <th></th>\n",
       "      <th></th>\n",
       "    </tr>\n",
       "  </thead>\n",
       "  <tbody>\n",
       "    <tr>\n",
       "      <th>2022-01-03</th>\n",
       "      <td>79400</td>\n",
       "      <td>79800</td>\n",
       "      <td>78200</td>\n",
       "      <td>78600</td>\n",
       "      <td>13502112</td>\n",
       "      <td>0.003831</td>\n",
       "    </tr>\n",
       "    <tr>\n",
       "      <th>2022-01-04</th>\n",
       "      <td>78800</td>\n",
       "      <td>79200</td>\n",
       "      <td>78300</td>\n",
       "      <td>78700</td>\n",
       "      <td>12427416</td>\n",
       "      <td>0.001272</td>\n",
       "    </tr>\n",
       "    <tr>\n",
       "      <th>2022-01-05</th>\n",
       "      <td>78800</td>\n",
       "      <td>79000</td>\n",
       "      <td>76400</td>\n",
       "      <td>77400</td>\n",
       "      <td>25470640</td>\n",
       "      <td>-0.016518</td>\n",
       "    </tr>\n",
       "    <tr>\n",
       "      <th>2022-01-06</th>\n",
       "      <td>76700</td>\n",
       "      <td>77600</td>\n",
       "      <td>76600</td>\n",
       "      <td>76900</td>\n",
       "      <td>12931954</td>\n",
       "      <td>-0.006460</td>\n",
       "    </tr>\n",
       "    <tr>\n",
       "      <th>2022-01-07</th>\n",
       "      <td>78100</td>\n",
       "      <td>78400</td>\n",
       "      <td>77400</td>\n",
       "      <td>78300</td>\n",
       "      <td>15163757</td>\n",
       "      <td>0.018205</td>\n",
       "    </tr>\n",
       "    <tr>\n",
       "      <th>...</th>\n",
       "      <td>...</td>\n",
       "      <td>...</td>\n",
       "      <td>...</td>\n",
       "      <td>...</td>\n",
       "      <td>...</td>\n",
       "      <td>...</td>\n",
       "    </tr>\n",
       "    <tr>\n",
       "      <th>2022-08-26</th>\n",
       "      <td>60300</td>\n",
       "      <td>60900</td>\n",
       "      <td>59900</td>\n",
       "      <td>60000</td>\n",
       "      <td>9499995</td>\n",
       "      <td>0.005025</td>\n",
       "    </tr>\n",
       "    <tr>\n",
       "      <th>2022-08-29</th>\n",
       "      <td>58700</td>\n",
       "      <td>58900</td>\n",
       "      <td>58600</td>\n",
       "      <td>58600</td>\n",
       "      <td>9841329</td>\n",
       "      <td>-0.023333</td>\n",
       "    </tr>\n",
       "    <tr>\n",
       "      <th>2022-08-30</th>\n",
       "      <td>58700</td>\n",
       "      <td>59000</td>\n",
       "      <td>58300</td>\n",
       "      <td>58800</td>\n",
       "      <td>9690044</td>\n",
       "      <td>0.003413</td>\n",
       "    </tr>\n",
       "    <tr>\n",
       "      <th>2022-08-31</th>\n",
       "      <td>58200</td>\n",
       "      <td>59900</td>\n",
       "      <td>58200</td>\n",
       "      <td>59700</td>\n",
       "      <td>14203512</td>\n",
       "      <td>0.015306</td>\n",
       "    </tr>\n",
       "    <tr>\n",
       "      <th>2022-09-01</th>\n",
       "      <td>58700</td>\n",
       "      <td>58900</td>\n",
       "      <td>58300</td>\n",
       "      <td>58400</td>\n",
       "      <td>14905777</td>\n",
       "      <td>-0.021776</td>\n",
       "    </tr>\n",
       "  </tbody>\n",
       "</table>\n",
       "<p>165 rows × 6 columns</p>\n",
       "</div>"
      ],
      "text/plain": [
       "             Open   High    Low  Close    Volume    Change\n",
       "Date                                                      \n",
       "2022-01-03  79400  79800  78200  78600  13502112  0.003831\n",
       "2022-01-04  78800  79200  78300  78700  12427416  0.001272\n",
       "2022-01-05  78800  79000  76400  77400  25470640 -0.016518\n",
       "2022-01-06  76700  77600  76600  76900  12931954 -0.006460\n",
       "2022-01-07  78100  78400  77400  78300  15163757  0.018205\n",
       "...           ...    ...    ...    ...       ...       ...\n",
       "2022-08-26  60300  60900  59900  60000   9499995  0.005025\n",
       "2022-08-29  58700  58900  58600  58600   9841329 -0.023333\n",
       "2022-08-30  58700  59000  58300  58800   9690044  0.003413\n",
       "2022-08-31  58200  59900  58200  59700  14203512  0.015306\n",
       "2022-09-01  58700  58900  58300  58400  14905777 -0.021776\n",
       "\n",
       "[165 rows x 6 columns]"
      ]
     },
     "execution_count": 131,
     "metadata": {},
     "output_type": "execute_result"
    }
   ],
   "source": [
    "sm = fdr.DataReader(\"005930\", start, end)\n",
    "sm"
   ]
  },
  {
   "cell_type": "code",
   "execution_count": 134,
   "id": "c3b87391",
   "metadata": {},
   "outputs": [
    {
     "data": {
      "text/html": [
       "<div>\n",
       "<style scoped>\n",
       "    .dataframe tbody tr th:only-of-type {\n",
       "        vertical-align: middle;\n",
       "    }\n",
       "\n",
       "    .dataframe tbody tr th {\n",
       "        vertical-align: top;\n",
       "    }\n",
       "\n",
       "    .dataframe thead th {\n",
       "        text-align: right;\n",
       "    }\n",
       "</style>\n",
       "<table border=\"1\" class=\"dataframe\">\n",
       "  <thead>\n",
       "    <tr style=\"text-align: right;\">\n",
       "      <th></th>\n",
       "      <th>Open</th>\n",
       "      <th>High</th>\n",
       "      <th>Low</th>\n",
       "      <th>Close</th>\n",
       "      <th>Volume</th>\n",
       "      <th>Change</th>\n",
       "    </tr>\n",
       "    <tr>\n",
       "      <th>Date</th>\n",
       "      <th></th>\n",
       "      <th></th>\n",
       "      <th></th>\n",
       "      <th></th>\n",
       "      <th></th>\n",
       "      <th></th>\n",
       "    </tr>\n",
       "  </thead>\n",
       "  <tbody>\n",
       "    <tr>\n",
       "      <th>2022-01-03</th>\n",
       "      <td>79400</td>\n",
       "      <td>79800</td>\n",
       "      <td>78200</td>\n",
       "      <td>78600</td>\n",
       "      <td>13502112</td>\n",
       "      <td>0.003831</td>\n",
       "    </tr>\n",
       "    <tr>\n",
       "      <th>2022-01-04</th>\n",
       "      <td>78800</td>\n",
       "      <td>79200</td>\n",
       "      <td>78300</td>\n",
       "      <td>78700</td>\n",
       "      <td>12427416</td>\n",
       "      <td>0.001272</td>\n",
       "    </tr>\n",
       "    <tr>\n",
       "      <th>2022-01-05</th>\n",
       "      <td>78800</td>\n",
       "      <td>79000</td>\n",
       "      <td>76400</td>\n",
       "      <td>77400</td>\n",
       "      <td>25470640</td>\n",
       "      <td>-0.016518</td>\n",
       "    </tr>\n",
       "    <tr>\n",
       "      <th>2022-01-06</th>\n",
       "      <td>76700</td>\n",
       "      <td>77600</td>\n",
       "      <td>76600</td>\n",
       "      <td>76900</td>\n",
       "      <td>12931954</td>\n",
       "      <td>-0.006460</td>\n",
       "    </tr>\n",
       "    <tr>\n",
       "      <th>2022-01-07</th>\n",
       "      <td>78100</td>\n",
       "      <td>78400</td>\n",
       "      <td>77400</td>\n",
       "      <td>78300</td>\n",
       "      <td>15163757</td>\n",
       "      <td>0.018205</td>\n",
       "    </tr>\n",
       "    <tr>\n",
       "      <th>...</th>\n",
       "      <td>...</td>\n",
       "      <td>...</td>\n",
       "      <td>...</td>\n",
       "      <td>...</td>\n",
       "      <td>...</td>\n",
       "      <td>...</td>\n",
       "    </tr>\n",
       "    <tr>\n",
       "      <th>2022-08-26</th>\n",
       "      <td>60300</td>\n",
       "      <td>60900</td>\n",
       "      <td>59900</td>\n",
       "      <td>60000</td>\n",
       "      <td>9499995</td>\n",
       "      <td>0.005025</td>\n",
       "    </tr>\n",
       "    <tr>\n",
       "      <th>2022-08-29</th>\n",
       "      <td>58700</td>\n",
       "      <td>58900</td>\n",
       "      <td>58600</td>\n",
       "      <td>58600</td>\n",
       "      <td>9841329</td>\n",
       "      <td>-0.023333</td>\n",
       "    </tr>\n",
       "    <tr>\n",
       "      <th>2022-08-30</th>\n",
       "      <td>58700</td>\n",
       "      <td>59000</td>\n",
       "      <td>58300</td>\n",
       "      <td>58800</td>\n",
       "      <td>9690044</td>\n",
       "      <td>0.003413</td>\n",
       "    </tr>\n",
       "    <tr>\n",
       "      <th>2022-08-31</th>\n",
       "      <td>58200</td>\n",
       "      <td>59900</td>\n",
       "      <td>58200</td>\n",
       "      <td>59700</td>\n",
       "      <td>14203512</td>\n",
       "      <td>0.015306</td>\n",
       "    </tr>\n",
       "    <tr>\n",
       "      <th>2022-09-01</th>\n",
       "      <td>58700</td>\n",
       "      <td>58900</td>\n",
       "      <td>58300</td>\n",
       "      <td>58400</td>\n",
       "      <td>14905777</td>\n",
       "      <td>-0.021776</td>\n",
       "    </tr>\n",
       "  </tbody>\n",
       "</table>\n",
       "<p>165 rows × 6 columns</p>\n",
       "</div>"
      ],
      "text/plain": [
       "             Open   High    Low  Close    Volume    Change\n",
       "Date                                                      \n",
       "2022-01-03  79400  79800  78200  78600  13502112  0.003831\n",
       "2022-01-04  78800  79200  78300  78700  12427416  0.001272\n",
       "2022-01-05  78800  79000  76400  77400  25470640 -0.016518\n",
       "2022-01-06  76700  77600  76600  76900  12931954 -0.006460\n",
       "2022-01-07  78100  78400  77400  78300  15163757  0.018205\n",
       "...           ...    ...    ...    ...       ...       ...\n",
       "2022-08-26  60300  60900  59900  60000   9499995  0.005025\n",
       "2022-08-29  58700  58900  58600  58600   9841329 -0.023333\n",
       "2022-08-30  58700  59000  58300  58800   9690044  0.003413\n",
       "2022-08-31  58200  59900  58200  59700  14203512  0.015306\n",
       "2022-09-01  58700  58900  58300  58400  14905777 -0.021776\n",
       "\n",
       "[165 rows x 6 columns]"
      ]
     },
     "execution_count": 134,
     "metadata": {},
     "output_type": "execute_result"
    }
   ],
   "source": [
    "sm = fdr.DataReader(\"005930\", \"2022-01-03\", \"2022-09-01\")\n",
    "sm\n"
   ]
  },
  {
   "cell_type": "code",
   "execution_count": 135,
   "id": "3916eb45",
   "metadata": {},
   "outputs": [
    {
     "data": {
      "text/html": [
       "<div>\n",
       "<style scoped>\n",
       "    .dataframe tbody tr th:only-of-type {\n",
       "        vertical-align: middle;\n",
       "    }\n",
       "\n",
       "    .dataframe tbody tr th {\n",
       "        vertical-align: top;\n",
       "    }\n",
       "\n",
       "    .dataframe thead th {\n",
       "        text-align: right;\n",
       "    }\n",
       "</style>\n",
       "<table border=\"1\" class=\"dataframe\">\n",
       "  <thead>\n",
       "    <tr style=\"text-align: right;\">\n",
       "      <th></th>\n",
       "      <th>Open</th>\n",
       "      <th>High</th>\n",
       "      <th>Low</th>\n",
       "      <th>Close</th>\n",
       "      <th>Volume</th>\n",
       "      <th>Change</th>\n",
       "    </tr>\n",
       "    <tr>\n",
       "      <th>Date</th>\n",
       "      <th></th>\n",
       "      <th></th>\n",
       "      <th></th>\n",
       "      <th></th>\n",
       "      <th></th>\n",
       "      <th></th>\n",
       "    </tr>\n",
       "  </thead>\n",
       "  <tbody>\n",
       "    <tr>\n",
       "      <th>2022-01-03</th>\n",
       "      <td>79400</td>\n",
       "      <td>79800</td>\n",
       "      <td>78200</td>\n",
       "      <td>78600</td>\n",
       "      <td>13502112</td>\n",
       "      <td>0.003831</td>\n",
       "    </tr>\n",
       "    <tr>\n",
       "      <th>2022-01-04</th>\n",
       "      <td>78800</td>\n",
       "      <td>79200</td>\n",
       "      <td>78300</td>\n",
       "      <td>78700</td>\n",
       "      <td>12427416</td>\n",
       "      <td>0.001272</td>\n",
       "    </tr>\n",
       "    <tr>\n",
       "      <th>2022-01-05</th>\n",
       "      <td>78800</td>\n",
       "      <td>79000</td>\n",
       "      <td>76400</td>\n",
       "      <td>77400</td>\n",
       "      <td>25470640</td>\n",
       "      <td>-0.016518</td>\n",
       "    </tr>\n",
       "    <tr>\n",
       "      <th>2022-01-06</th>\n",
       "      <td>76700</td>\n",
       "      <td>77600</td>\n",
       "      <td>76600</td>\n",
       "      <td>76900</td>\n",
       "      <td>12931954</td>\n",
       "      <td>-0.006460</td>\n",
       "    </tr>\n",
       "    <tr>\n",
       "      <th>2022-01-07</th>\n",
       "      <td>78100</td>\n",
       "      <td>78400</td>\n",
       "      <td>77400</td>\n",
       "      <td>78300</td>\n",
       "      <td>15163757</td>\n",
       "      <td>0.018205</td>\n",
       "    </tr>\n",
       "    <tr>\n",
       "      <th>...</th>\n",
       "      <td>...</td>\n",
       "      <td>...</td>\n",
       "      <td>...</td>\n",
       "      <td>...</td>\n",
       "      <td>...</td>\n",
       "      <td>...</td>\n",
       "    </tr>\n",
       "    <tr>\n",
       "      <th>2023-08-28</th>\n",
       "      <td>66800</td>\n",
       "      <td>67000</td>\n",
       "      <td>66500</td>\n",
       "      <td>66800</td>\n",
       "      <td>5824628</td>\n",
       "      <td>-0.004471</td>\n",
       "    </tr>\n",
       "    <tr>\n",
       "      <th>2023-08-29</th>\n",
       "      <td>66900</td>\n",
       "      <td>67200</td>\n",
       "      <td>66600</td>\n",
       "      <td>66800</td>\n",
       "      <td>9114352</td>\n",
       "      <td>0.000000</td>\n",
       "    </tr>\n",
       "    <tr>\n",
       "      <th>2023-08-30</th>\n",
       "      <td>67300</td>\n",
       "      <td>67700</td>\n",
       "      <td>67100</td>\n",
       "      <td>67100</td>\n",
       "      <td>9181223</td>\n",
       "      <td>0.004491</td>\n",
       "    </tr>\n",
       "    <tr>\n",
       "      <th>2023-08-31</th>\n",
       "      <td>67100</td>\n",
       "      <td>67200</td>\n",
       "      <td>66400</td>\n",
       "      <td>66900</td>\n",
       "      <td>15964630</td>\n",
       "      <td>-0.002981</td>\n",
       "    </tr>\n",
       "    <tr>\n",
       "      <th>2023-09-01</th>\n",
       "      <td>66800</td>\n",
       "      <td>71000</td>\n",
       "      <td>66700</td>\n",
       "      <td>71000</td>\n",
       "      <td>29738235</td>\n",
       "      <td>0.061286</td>\n",
       "    </tr>\n",
       "  </tbody>\n",
       "</table>\n",
       "<p>413 rows × 6 columns</p>\n",
       "</div>"
      ],
      "text/plain": [
       "             Open   High    Low  Close    Volume    Change\n",
       "Date                                                      \n",
       "2022-01-03  79400  79800  78200  78600  13502112  0.003831\n",
       "2022-01-04  78800  79200  78300  78700  12427416  0.001272\n",
       "2022-01-05  78800  79000  76400  77400  25470640 -0.016518\n",
       "2022-01-06  76700  77600  76600  76900  12931954 -0.006460\n",
       "2022-01-07  78100  78400  77400  78300  15163757  0.018205\n",
       "...           ...    ...    ...    ...       ...       ...\n",
       "2023-08-28  66800  67000  66500  66800   5824628 -0.004471\n",
       "2023-08-29  66900  67200  66600  66800   9114352  0.000000\n",
       "2023-08-30  67300  67700  67100  67100   9181223  0.004491\n",
       "2023-08-31  67100  67200  66400  66900  15964630 -0.002981\n",
       "2023-09-01  66800  71000  66700  71000  29738235  0.061286\n",
       "\n",
       "[413 rows x 6 columns]"
      ]
     },
     "execution_count": 135,
     "metadata": {},
     "output_type": "execute_result"
    }
   ],
   "source": [
    "sm = fdr.DataReader(\"005930\", \"2022-1-3\", \"2023-9-1\")\n",
    "sm"
   ]
  },
  {
   "cell_type": "code",
   "execution_count": null,
   "id": "9f182a59",
   "metadata": {},
   "outputs": [],
   "source": []
  },
  {
   "cell_type": "markdown",
   "id": "96aab0d8",
   "metadata": {},
   "source": [
    "## 2. 데이터를 시각적으로 표현"
   ]
  },
  {
   "cell_type": "code",
   "execution_count": 76,
   "id": "4414b781",
   "metadata": {},
   "outputs": [],
   "source": [
    "import pandas_datareader.data as web\n",
    "import datetime\n",
    "start = datetime.datetime(2023, 1, 3)\n",
    "end = datetime.datetime(2023, 5, 1)\n",
    "sm = fdr.DataReader(\"005930\", start, end)"
   ]
  },
  {
   "cell_type": "code",
   "execution_count": 77,
   "id": "250a5662",
   "metadata": {},
   "outputs": [
    {
     "name": "stdout",
     "output_type": "stream",
     "text": [
      "<class 'pandas.core.frame.DataFrame'>\n",
      "DatetimeIndex: 81 entries, 2023-01-03 to 2023-04-28\n",
      "Data columns (total 6 columns):\n",
      " #   Column  Non-Null Count  Dtype  \n",
      "---  ------  --------------  -----  \n",
      " 0   Open    81 non-null     int64  \n",
      " 1   High    81 non-null     int64  \n",
      " 2   Low     81 non-null     int64  \n",
      " 3   Close   81 non-null     int64  \n",
      " 4   Volume  81 non-null     int64  \n",
      " 5   Change  81 non-null     float64\n",
      "dtypes: float64(1), int64(5)\n",
      "memory usage: 4.4 KB\n"
     ]
    }
   ],
   "source": [
    "sm.info()"
   ]
  },
  {
   "cell_type": "code",
   "execution_count": 78,
   "id": "49e849d9",
   "metadata": {},
   "outputs": [
    {
     "name": "stdout",
     "output_type": "stream",
     "text": [
      "Requirement already satisfied: matplotlib in c:\\users\\operator-70\\appdata\\local\\programs\\python\\python39\\lib\\site-packages (3.8.1)Note: you may need to restart the kernel to use updated packages.\n"
     ]
    },
    {
     "name": "stderr",
     "output_type": "stream",
     "text": [
      "WARNING: Ignoring invalid distribution -atplotlib (c:\\users\\operator-70\\appdata\\local\\programs\\python\\python39\\lib\\site-packages)\n",
      "WARNING: Ignoring invalid distribution -atplotlib (c:\\users\\operator-70\\appdata\\local\\programs\\python\\python39\\lib\\site-packages)\n",
      "\n",
      "[notice] A new release of pip is available: 23.3.2 -> 24.0\n",
      "[notice] To update, run: c:\\users\\operator-70\\appdata\\local\\programs\\python\\python39\\python.exe -m pip install --upgrade pip\n"
     ]
    },
    {
     "name": "stdout",
     "output_type": "stream",
     "text": [
      "\n",
      "Requirement already satisfied: contourpy>=1.0.1 in c:\\users\\operator-70\\appdata\\local\\programs\\python\\python39\\lib\\site-packages (from matplotlib) (1.1.0)\n",
      "Requirement already satisfied: cycler>=0.10 in c:\\users\\operator-70\\appdata\\local\\programs\\python\\python39\\lib\\site-packages (from matplotlib) (0.11.0)\n",
      "Requirement already satisfied: fonttools>=4.22.0 in c:\\users\\operator-70\\appdata\\local\\programs\\python\\python39\\lib\\site-packages (from matplotlib) (4.43.1)\n",
      "Requirement already satisfied: kiwisolver>=1.3.1 in c:\\users\\operator-70\\appdata\\local\\programs\\python\\python39\\lib\\site-packages (from matplotlib) (1.4.4)\n",
      "Requirement already satisfied: numpy<2,>=1.21 in c:\\users\\operator-70\\appdata\\local\\programs\\python\\python39\\lib\\site-packages (from matplotlib) (1.26.2)\n",
      "Requirement already satisfied: packaging>=20.0 in c:\\users\\operator-70\\appdata\\roaming\\python\\python39\\site-packages (from matplotlib) (21.3)\n",
      "Requirement already satisfied: pillow>=8 in c:\\users\\operator-70\\appdata\\local\\programs\\python\\python39\\lib\\site-packages (from matplotlib) (10.0.0)\n",
      "Requirement already satisfied: pyparsing>=2.3.1 in c:\\users\\operator-70\\appdata\\roaming\\python\\python39\\site-packages (from matplotlib) (3.0.9)\n",
      "Requirement already satisfied: python-dateutil>=2.7 in c:\\users\\operator-70\\appdata\\local\\programs\\python\\python39\\lib\\site-packages (from matplotlib) (2.8.2)\n",
      "Requirement already satisfied: importlib-resources>=3.2.0 in c:\\users\\operator-70\\appdata\\local\\programs\\python\\python39\\lib\\site-packages (from matplotlib) (6.1.0)\n",
      "Requirement already satisfied: zipp>=3.1.0 in c:\\users\\operator-70\\appdata\\local\\programs\\python\\python39\\lib\\site-packages (from importlib-resources>=3.2.0->matplotlib) (3.15.0)\n",
      "Requirement already satisfied: six>=1.5 in c:\\users\\operator-70\\appdata\\local\\programs\\python\\python39\\lib\\site-packages (from python-dateutil>=2.7->matplotlib) (1.16.0)\n"
     ]
    }
   ],
   "source": [
    "pip install matplotlib"
   ]
  },
  {
   "cell_type": "code",
   "execution_count": 79,
   "id": "0fbe4446",
   "metadata": {},
   "outputs": [],
   "source": [
    "import matplotlib.pyplot as plt"
   ]
  },
  {
   "cell_type": "code",
   "execution_count": 80,
   "id": "3d7736d5",
   "metadata": {},
   "outputs": [
    {
     "data": {
      "text/plain": [
       "[<matplotlib.lines.Line2D at 0x1f13d4c6430>]"
      ]
     },
     "execution_count": 80,
     "metadata": {},
     "output_type": "execute_result"
    },
    {
     "data": {
      "image/png": "[encoded data removed]",
      "text/plain": [
       "<Figure size 640x480 with 1 Axes>"
      ]
     },
     "metadata": {},
     "output_type": "display_data"
    }
   ],
   "source": [
    "plt.plot(sm['Close'])"
   ]
  },
  {
   "cell_type": "code",
   "execution_count": 81,
   "id": "0c2bf49f",
   "metadata": {},
   "outputs": [
    {
     "data": {
      "image/png": "[encoded data removed]",
      "text/plain": [
       "<Figure size 640x480 with 1 Axes>"
      ]
     },
     "metadata": {},
     "output_type": "display_data"
    }
   ],
   "source": [
    "plt.plot(sm['Close'])\n",
    "plt.show()"
   ]
  },
  {
   "cell_type": "markdown",
   "id": "19b9e686",
   "metadata": {},
   "source": [
    "## 3. 기술적 분석지표로 이동평균선"
   ]
  },
  {
   "cell_type": "code",
   "execution_count": 136,
   "id": "c84c6273",
   "metadata": {},
   "outputs": [
    {
     "data": {
      "text/html": [
       "<div>\n",
       "<style scoped>\n",
       "    .dataframe tbody tr th:only-of-type {\n",
       "        vertical-align: middle;\n",
       "    }\n",
       "\n",
       "    .dataframe tbody tr th {\n",
       "        vertical-align: top;\n",
       "    }\n",
       "\n",
       "    .dataframe thead th {\n",
       "        text-align: right;\n",
       "    }\n",
       "</style>\n",
       "<table border=\"1\" class=\"dataframe\">\n",
       "  <thead>\n",
       "    <tr style=\"text-align: right;\">\n",
       "      <th></th>\n",
       "      <th>Open</th>\n",
       "      <th>High</th>\n",
       "      <th>Low</th>\n",
       "      <th>Close</th>\n",
       "      <th>Volume</th>\n",
       "      <th>Change</th>\n",
       "    </tr>\n",
       "    <tr>\n",
       "      <th>Date</th>\n",
       "      <th></th>\n",
       "      <th></th>\n",
       "      <th></th>\n",
       "      <th></th>\n",
       "      <th></th>\n",
       "      <th></th>\n",
       "    </tr>\n",
       "  </thead>\n",
       "  <tbody>\n",
       "    <tr>\n",
       "      <th>2022-01-03</th>\n",
       "      <td>79400</td>\n",
       "      <td>79800</td>\n",
       "      <td>78200</td>\n",
       "      <td>78600</td>\n",
       "      <td>13502112</td>\n",
       "      <td>0.003831</td>\n",
       "    </tr>\n",
       "    <tr>\n",
       "      <th>2022-01-04</th>\n",
       "      <td>78800</td>\n",
       "      <td>79200</td>\n",
       "      <td>78300</td>\n",
       "      <td>78700</td>\n",
       "      <td>12427416</td>\n",
       "      <td>0.001272</td>\n",
       "    </tr>\n",
       "    <tr>\n",
       "      <th>2022-01-05</th>\n",
       "      <td>78800</td>\n",
       "      <td>79000</td>\n",
       "      <td>76400</td>\n",
       "      <td>77400</td>\n",
       "      <td>25470640</td>\n",
       "      <td>-0.016518</td>\n",
       "    </tr>\n",
       "    <tr>\n",
       "      <th>2022-01-06</th>\n",
       "      <td>76700</td>\n",
       "      <td>77600</td>\n",
       "      <td>76600</td>\n",
       "      <td>76900</td>\n",
       "      <td>12931954</td>\n",
       "      <td>-0.006460</td>\n",
       "    </tr>\n",
       "    <tr>\n",
       "      <th>2022-01-07</th>\n",
       "      <td>78100</td>\n",
       "      <td>78400</td>\n",
       "      <td>77400</td>\n",
       "      <td>78300</td>\n",
       "      <td>15163757</td>\n",
       "      <td>0.018205</td>\n",
       "    </tr>\n",
       "    <tr>\n",
       "      <th>...</th>\n",
       "      <td>...</td>\n",
       "      <td>...</td>\n",
       "      <td>...</td>\n",
       "      <td>...</td>\n",
       "      <td>...</td>\n",
       "      <td>...</td>\n",
       "    </tr>\n",
       "    <tr>\n",
       "      <th>2022-08-26</th>\n",
       "      <td>60300</td>\n",
       "      <td>60900</td>\n",
       "      <td>59900</td>\n",
       "      <td>60000</td>\n",
       "      <td>9499995</td>\n",
       "      <td>0.005025</td>\n",
       "    </tr>\n",
       "    <tr>\n",
       "      <th>2022-08-29</th>\n",
       "      <td>58700</td>\n",
       "      <td>58900</td>\n",
       "      <td>58600</td>\n",
       "      <td>58600</td>\n",
       "      <td>9841329</td>\n",
       "      <td>-0.023333</td>\n",
       "    </tr>\n",
       "    <tr>\n",
       "      <th>2022-08-30</th>\n",
       "      <td>58700</td>\n",
       "      <td>59000</td>\n",
       "      <td>58300</td>\n",
       "      <td>58800</td>\n",
       "      <td>9690044</td>\n",
       "      <td>0.003413</td>\n",
       "    </tr>\n",
       "    <tr>\n",
       "      <th>2022-08-31</th>\n",
       "      <td>58200</td>\n",
       "      <td>59900</td>\n",
       "      <td>58200</td>\n",
       "      <td>59700</td>\n",
       "      <td>14203512</td>\n",
       "      <td>0.015306</td>\n",
       "    </tr>\n",
       "    <tr>\n",
       "      <th>2022-09-01</th>\n",
       "      <td>58700</td>\n",
       "      <td>58900</td>\n",
       "      <td>58300</td>\n",
       "      <td>58400</td>\n",
       "      <td>14905777</td>\n",
       "      <td>-0.021776</td>\n",
       "    </tr>\n",
       "  </tbody>\n",
       "</table>\n",
       "<p>165 rows × 6 columns</p>\n",
       "</div>"
      ],
      "text/plain": [
       "             Open   High    Low  Close    Volume    Change\n",
       "Date                                                      \n",
       "2022-01-03  79400  79800  78200  78600  13502112  0.003831\n",
       "2022-01-04  78800  79200  78300  78700  12427416  0.001272\n",
       "2022-01-05  78800  79000  76400  77400  25470640 -0.016518\n",
       "2022-01-06  76700  77600  76600  76900  12931954 -0.006460\n",
       "2022-01-07  78100  78400  77400  78300  15163757  0.018205\n",
       "...           ...    ...    ...    ...       ...       ...\n",
       "2022-08-26  60300  60900  59900  60000   9499995  0.005025\n",
       "2022-08-29  58700  58900  58600  58600   9841329 -0.023333\n",
       "2022-08-30  58700  59000  58300  58800   9690044  0.003413\n",
       "2022-08-31  58200  59900  58200  59700  14203512  0.015306\n",
       "2022-09-01  58700  58900  58300  58400  14905777 -0.021776\n",
       "\n",
       "[165 rows x 6 columns]"
      ]
     },
     "execution_count": 136,
     "metadata": {},
     "output_type": "execute_result"
    }
   ],
   "source": [
    "import pandas as pd\n",
    "import FinanceDataReader as fdr\n",
    "sm = fdr.DataReader(\"005930\", \"2022-01-03\", \"2022-09-01\")\n",
    "sm"
   ]
  },
  {
   "cell_type": "code",
   "execution_count": 83,
   "id": "ad790d1a",
   "metadata": {},
   "outputs": [
    {
     "data": {
      "text/html": [
       "<div>\n",
       "<style scoped>\n",
       "    .dataframe tbody tr th:only-of-type {\n",
       "        vertical-align: middle;\n",
       "    }\n",
       "\n",
       "    .dataframe tbody tr th {\n",
       "        vertical-align: top;\n",
       "    }\n",
       "\n",
       "    .dataframe thead th {\n",
       "        text-align: right;\n",
       "    }\n",
       "</style>\n",
       "<table border=\"1\" class=\"dataframe\">\n",
       "  <thead>\n",
       "    <tr style=\"text-align: right;\">\n",
       "      <th></th>\n",
       "      <th>Open</th>\n",
       "      <th>High</th>\n",
       "      <th>Low</th>\n",
       "      <th>Close</th>\n",
       "      <th>Volume</th>\n",
       "      <th>Change</th>\n",
       "    </tr>\n",
       "    <tr>\n",
       "      <th>Date</th>\n",
       "      <th></th>\n",
       "      <th></th>\n",
       "      <th></th>\n",
       "      <th></th>\n",
       "      <th></th>\n",
       "      <th></th>\n",
       "    </tr>\n",
       "  </thead>\n",
       "  <tbody>\n",
       "    <tr>\n",
       "      <th>2023-04-24</th>\n",
       "      <td>65300</td>\n",
       "      <td>65700</td>\n",
       "      <td>64800</td>\n",
       "      <td>65200</td>\n",
       "      <td>12986581</td>\n",
       "      <td>-0.007610</td>\n",
       "    </tr>\n",
       "    <tr>\n",
       "      <th>2023-04-25</th>\n",
       "      <td>65300</td>\n",
       "      <td>65400</td>\n",
       "      <td>63400</td>\n",
       "      <td>63600</td>\n",
       "      <td>16193271</td>\n",
       "      <td>-0.024540</td>\n",
       "    </tr>\n",
       "    <tr>\n",
       "      <th>2023-04-26</th>\n",
       "      <td>63600</td>\n",
       "      <td>64300</td>\n",
       "      <td>63300</td>\n",
       "      <td>64100</td>\n",
       "      <td>12664541</td>\n",
       "      <td>0.007862</td>\n",
       "    </tr>\n",
       "    <tr>\n",
       "      <th>2023-04-27</th>\n",
       "      <td>64100</td>\n",
       "      <td>65000</td>\n",
       "      <td>63300</td>\n",
       "      <td>64600</td>\n",
       "      <td>14779601</td>\n",
       "      <td>0.007800</td>\n",
       "    </tr>\n",
       "    <tr>\n",
       "      <th>2023-04-28</th>\n",
       "      <td>65200</td>\n",
       "      <td>65900</td>\n",
       "      <td>65000</td>\n",
       "      <td>65500</td>\n",
       "      <td>19699481</td>\n",
       "      <td>0.013932</td>\n",
       "    </tr>\n",
       "  </tbody>\n",
       "</table>\n",
       "</div>"
      ],
      "text/plain": [
       "             Open   High    Low  Close    Volume    Change\n",
       "Date                                                      \n",
       "2023-04-24  65300  65700  64800  65200  12986581 -0.007610\n",
       "2023-04-25  65300  65400  63400  63600  16193271 -0.024540\n",
       "2023-04-26  63600  64300  63300  64100  12664541  0.007862\n",
       "2023-04-27  64100  65000  63300  64600  14779601  0.007800\n",
       "2023-04-28  65200  65900  65000  65500  19699481  0.013932"
      ]
     },
     "execution_count": 83,
     "metadata": {},
     "output_type": "execute_result"
    }
   ],
   "source": [
    "sm.tail()"
   ]
  },
  {
   "cell_type": "code",
   "execution_count": 84,
   "id": "8d602700",
   "metadata": {},
   "outputs": [
    {
     "data": {
      "text/html": [
       "<div>\n",
       "<style scoped>\n",
       "    .dataframe tbody tr th:only-of-type {\n",
       "        vertical-align: middle;\n",
       "    }\n",
       "\n",
       "    .dataframe tbody tr th {\n",
       "        vertical-align: top;\n",
       "    }\n",
       "\n",
       "    .dataframe thead th {\n",
       "        text-align: right;\n",
       "    }\n",
       "</style>\n",
       "<table border=\"1\" class=\"dataframe\">\n",
       "  <thead>\n",
       "    <tr style=\"text-align: right;\">\n",
       "      <th></th>\n",
       "      <th>Open</th>\n",
       "      <th>High</th>\n",
       "      <th>Low</th>\n",
       "      <th>Close</th>\n",
       "      <th>Volume</th>\n",
       "      <th>Change</th>\n",
       "    </tr>\n",
       "    <tr>\n",
       "      <th>Date</th>\n",
       "      <th></th>\n",
       "      <th></th>\n",
       "      <th></th>\n",
       "      <th></th>\n",
       "      <th></th>\n",
       "      <th></th>\n",
       "    </tr>\n",
       "  </thead>\n",
       "  <tbody>\n",
       "    <tr>\n",
       "      <th>2023-01-03</th>\n",
       "      <td>55400</td>\n",
       "      <td>56000</td>\n",
       "      <td>54500</td>\n",
       "      <td>55400</td>\n",
       "      <td>13547030</td>\n",
       "      <td>-0.001802</td>\n",
       "    </tr>\n",
       "    <tr>\n",
       "      <th>2023-01-04</th>\n",
       "      <td>55700</td>\n",
       "      <td>58000</td>\n",
       "      <td>55600</td>\n",
       "      <td>57800</td>\n",
       "      <td>20188071</td>\n",
       "      <td>0.043321</td>\n",
       "    </tr>\n",
       "    <tr>\n",
       "      <th>2023-01-05</th>\n",
       "      <td>58200</td>\n",
       "      <td>58800</td>\n",
       "      <td>57600</td>\n",
       "      <td>58200</td>\n",
       "      <td>15682826</td>\n",
       "      <td>0.006920</td>\n",
       "    </tr>\n",
       "    <tr>\n",
       "      <th>2023-01-06</th>\n",
       "      <td>58300</td>\n",
       "      <td>59400</td>\n",
       "      <td>57900</td>\n",
       "      <td>59000</td>\n",
       "      <td>17334989</td>\n",
       "      <td>0.013746</td>\n",
       "    </tr>\n",
       "    <tr>\n",
       "      <th>2023-01-09</th>\n",
       "      <td>59700</td>\n",
       "      <td>60700</td>\n",
       "      <td>59600</td>\n",
       "      <td>60700</td>\n",
       "      <td>18640107</td>\n",
       "      <td>0.028814</td>\n",
       "    </tr>\n",
       "  </tbody>\n",
       "</table>\n",
       "</div>"
      ],
      "text/plain": [
       "             Open   High    Low  Close    Volume    Change\n",
       "Date                                                      \n",
       "2023-01-03  55400  56000  54500  55400  13547030 -0.001802\n",
       "2023-01-04  55700  58000  55600  57800  20188071  0.043321\n",
       "2023-01-05  58200  58800  57600  58200  15682826  0.006920\n",
       "2023-01-06  58300  59400  57900  59000  17334989  0.013746\n",
       "2023-01-09  59700  60700  59600  60700  18640107  0.028814"
      ]
     },
     "execution_count": 84,
     "metadata": {},
     "output_type": "execute_result"
    }
   ],
   "source": [
    "sm.head()"
   ]
  },
  {
   "cell_type": "code",
   "execution_count": 85,
   "id": "ef0d3f36",
   "metadata": {},
   "outputs": [],
   "source": [
    "ma5 = sm['Close'].rolling(window=5).mean()"
   ]
  },
  {
   "cell_type": "code",
   "execution_count": 86,
   "id": "7f3b8693",
   "metadata": {},
   "outputs": [
    {
     "data": {
      "text/plain": [
       "pandas.core.series.Series"
      ]
     },
     "execution_count": 86,
     "metadata": {},
     "output_type": "execute_result"
    }
   ],
   "source": [
    "type(ma5)"
   ]
  },
  {
   "cell_type": "code",
   "execution_count": 87,
   "id": "7b3c8b44",
   "metadata": {},
   "outputs": [
    {
     "data": {
      "text/plain": [
       "Date\n",
       "2023-01-03        NaN\n",
       "2023-01-04        NaN\n",
       "2023-01-05        NaN\n",
       "2023-01-06        NaN\n",
       "2023-01-09    58220.0\n",
       "               ...   \n",
       "2023-04-24    65460.0\n",
       "2023-04-25    65060.0\n",
       "2023-04-26    64780.0\n",
       "2023-04-27    64640.0\n",
       "2023-04-28    64600.0\n",
       "Name: Close, Length: 81, dtype: float64"
      ]
     },
     "execution_count": 87,
     "metadata": {},
     "output_type": "execute_result"
    }
   ],
   "source": [
    "ma5"
   ]
  },
  {
   "cell_type": "code",
   "execution_count": 88,
   "id": "525dbc67",
   "metadata": {},
   "outputs": [
    {
     "data": {
      "text/plain": [
       "Date\n",
       "2023-04-17    65680.0\n",
       "2023-04-18    65620.0\n",
       "2023-04-19    65520.0\n",
       "2023-04-20    65360.0\n",
       "2023-04-21    65480.0\n",
       "2023-04-24    65460.0\n",
       "2023-04-25    65060.0\n",
       "2023-04-26    64780.0\n",
       "2023-04-27    64640.0\n",
       "2023-04-28    64600.0\n",
       "Name: Close, dtype: float64"
      ]
     },
     "execution_count": 88,
     "metadata": {},
     "output_type": "execute_result"
    }
   ],
   "source": [
    "ma5.tail(10)"
   ]
  },
  {
   "cell_type": "code",
   "execution_count": 89,
   "id": "3688a3dc",
   "metadata": {},
   "outputs": [
    {
     "data": {
      "text/plain": [
       "Date\n",
       "2023-01-03    True\n",
       "2023-01-04    True\n",
       "2023-01-05    True\n",
       "2023-01-06    True\n",
       "2023-01-09    True\n",
       "              ... \n",
       "2023-04-24    True\n",
       "2023-04-25    True\n",
       "2023-04-26    True\n",
       "2023-04-27    True\n",
       "2023-04-28    True\n",
       "Name: Volume, Length: 81, dtype: bool"
      ]
     },
     "execution_count": 89,
     "metadata": {},
     "output_type": "execute_result"
    }
   ],
   "source": [
    "sm['Volume'] != 0"
   ]
  },
  {
   "cell_type": "code",
   "execution_count": 90,
   "id": "70a16eea",
   "metadata": {},
   "outputs": [
    {
     "data": {
      "text/html": [
       "<div>\n",
       "<style scoped>\n",
       "    .dataframe tbody tr th:only-of-type {\n",
       "        vertical-align: middle;\n",
       "    }\n",
       "\n",
       "    .dataframe tbody tr th {\n",
       "        vertical-align: top;\n",
       "    }\n",
       "\n",
       "    .dataframe thead th {\n",
       "        text-align: right;\n",
       "    }\n",
       "</style>\n",
       "<table border=\"1\" class=\"dataframe\">\n",
       "  <thead>\n",
       "    <tr style=\"text-align: right;\">\n",
       "      <th></th>\n",
       "      <th>Open</th>\n",
       "      <th>High</th>\n",
       "      <th>Low</th>\n",
       "      <th>Close</th>\n",
       "      <th>Volume</th>\n",
       "      <th>Change</th>\n",
       "    </tr>\n",
       "    <tr>\n",
       "      <th>Date</th>\n",
       "      <th></th>\n",
       "      <th></th>\n",
       "      <th></th>\n",
       "      <th></th>\n",
       "      <th></th>\n",
       "      <th></th>\n",
       "    </tr>\n",
       "  </thead>\n",
       "  <tbody>\n",
       "    <tr>\n",
       "      <th>2023-04-24</th>\n",
       "      <td>65300</td>\n",
       "      <td>65700</td>\n",
       "      <td>64800</td>\n",
       "      <td>65200</td>\n",
       "      <td>12986581</td>\n",
       "      <td>-0.007610</td>\n",
       "    </tr>\n",
       "    <tr>\n",
       "      <th>2023-04-25</th>\n",
       "      <td>65300</td>\n",
       "      <td>65400</td>\n",
       "      <td>63400</td>\n",
       "      <td>63600</td>\n",
       "      <td>16193271</td>\n",
       "      <td>-0.024540</td>\n",
       "    </tr>\n",
       "    <tr>\n",
       "      <th>2023-04-26</th>\n",
       "      <td>63600</td>\n",
       "      <td>64300</td>\n",
       "      <td>63300</td>\n",
       "      <td>64100</td>\n",
       "      <td>12664541</td>\n",
       "      <td>0.007862</td>\n",
       "    </tr>\n",
       "    <tr>\n",
       "      <th>2023-04-27</th>\n",
       "      <td>64100</td>\n",
       "      <td>65000</td>\n",
       "      <td>63300</td>\n",
       "      <td>64600</td>\n",
       "      <td>14779601</td>\n",
       "      <td>0.007800</td>\n",
       "    </tr>\n",
       "    <tr>\n",
       "      <th>2023-04-28</th>\n",
       "      <td>65200</td>\n",
       "      <td>65900</td>\n",
       "      <td>65000</td>\n",
       "      <td>65500</td>\n",
       "      <td>19699481</td>\n",
       "      <td>0.013932</td>\n",
       "    </tr>\n",
       "  </tbody>\n",
       "</table>\n",
       "</div>"
      ],
      "text/plain": [
       "             Open   High    Low  Close    Volume    Change\n",
       "Date                                                      \n",
       "2023-04-24  65300  65700  64800  65200  12986581 -0.007610\n",
       "2023-04-25  65300  65400  63400  63600  16193271 -0.024540\n",
       "2023-04-26  63600  64300  63300  64100  12664541  0.007862\n",
       "2023-04-27  64100  65000  63300  64600  14779601  0.007800\n",
       "2023-04-28  65200  65900  65000  65500  19699481  0.013932"
      ]
     },
     "execution_count": 90,
     "metadata": {},
     "output_type": "execute_result"
    }
   ],
   "source": [
    "new_sm = sm[sm['Volume'] !=0]\n",
    "new_sm.tail(5)"
   ]
  },
  {
   "cell_type": "code",
   "execution_count": 91,
   "id": "5bcb26ff",
   "metadata": {},
   "outputs": [
    {
     "data": {
      "text/plain": [
       "Date\n",
       "2023-04-17    65680.0\n",
       "2023-04-18    65620.0\n",
       "2023-04-19    65520.0\n",
       "2023-04-20    65360.0\n",
       "2023-04-21    65480.0\n",
       "2023-04-24    65460.0\n",
       "2023-04-25    65060.0\n",
       "2023-04-26    64780.0\n",
       "2023-04-27    64640.0\n",
       "2023-04-28    64600.0\n",
       "Name: Close, dtype: float64"
      ]
     },
     "execution_count": 91,
     "metadata": {},
     "output_type": "execute_result"
    }
   ],
   "source": [
    "MA5 = new_sm['Close'].rolling(window=5).mean()\n",
    "MA5.tail(10)"
   ]
  },
  {
   "cell_type": "code",
   "execution_count": 92,
   "id": "19949d3c",
   "metadata": {},
   "outputs": [
    {
     "data": {
      "text/html": [
       "<div>\n",
       "<style scoped>\n",
       "    .dataframe tbody tr th:only-of-type {\n",
       "        vertical-align: middle;\n",
       "    }\n",
       "\n",
       "    .dataframe tbody tr th {\n",
       "        vertical-align: top;\n",
       "    }\n",
       "\n",
       "    .dataframe thead th {\n",
       "        text-align: right;\n",
       "    }\n",
       "</style>\n",
       "<table border=\"1\" class=\"dataframe\">\n",
       "  <thead>\n",
       "    <tr style=\"text-align: right;\">\n",
       "      <th></th>\n",
       "      <th>Open</th>\n",
       "      <th>High</th>\n",
       "      <th>Low</th>\n",
       "      <th>Close</th>\n",
       "      <th>Volume</th>\n",
       "      <th>Change</th>\n",
       "      <th>MA5</th>\n",
       "    </tr>\n",
       "    <tr>\n",
       "      <th>Date</th>\n",
       "      <th></th>\n",
       "      <th></th>\n",
       "      <th></th>\n",
       "      <th></th>\n",
       "      <th></th>\n",
       "      <th></th>\n",
       "      <th></th>\n",
       "    </tr>\n",
       "  </thead>\n",
       "  <tbody>\n",
       "    <tr>\n",
       "      <th>2023-04-24</th>\n",
       "      <td>65300</td>\n",
       "      <td>65700</td>\n",
       "      <td>64800</td>\n",
       "      <td>65200</td>\n",
       "      <td>12986581</td>\n",
       "      <td>-0.007610</td>\n",
       "      <td>65460.0</td>\n",
       "    </tr>\n",
       "    <tr>\n",
       "      <th>2023-04-25</th>\n",
       "      <td>65300</td>\n",
       "      <td>65400</td>\n",
       "      <td>63400</td>\n",
       "      <td>63600</td>\n",
       "      <td>16193271</td>\n",
       "      <td>-0.024540</td>\n",
       "      <td>65060.0</td>\n",
       "    </tr>\n",
       "    <tr>\n",
       "      <th>2023-04-26</th>\n",
       "      <td>63600</td>\n",
       "      <td>64300</td>\n",
       "      <td>63300</td>\n",
       "      <td>64100</td>\n",
       "      <td>12664541</td>\n",
       "      <td>0.007862</td>\n",
       "      <td>64780.0</td>\n",
       "    </tr>\n",
       "    <tr>\n",
       "      <th>2023-04-27</th>\n",
       "      <td>64100</td>\n",
       "      <td>65000</td>\n",
       "      <td>63300</td>\n",
       "      <td>64600</td>\n",
       "      <td>14779601</td>\n",
       "      <td>0.007800</td>\n",
       "      <td>64640.0</td>\n",
       "    </tr>\n",
       "    <tr>\n",
       "      <th>2023-04-28</th>\n",
       "      <td>65200</td>\n",
       "      <td>65900</td>\n",
       "      <td>65000</td>\n",
       "      <td>65500</td>\n",
       "      <td>19699481</td>\n",
       "      <td>0.013932</td>\n",
       "      <td>64600.0</td>\n",
       "    </tr>\n",
       "  </tbody>\n",
       "</table>\n",
       "</div>"
      ],
      "text/plain": [
       "             Open   High    Low  Close    Volume    Change      MA5\n",
       "Date                                                               \n",
       "2023-04-24  65300  65700  64800  65200  12986581 -0.007610  65460.0\n",
       "2023-04-25  65300  65400  63400  63600  16193271 -0.024540  65060.0\n",
       "2023-04-26  63600  64300  63300  64100  12664541  0.007862  64780.0\n",
       "2023-04-27  64100  65000  63300  64600  14779601  0.007800  64640.0\n",
       "2023-04-28  65200  65900  65000  65500  19699481  0.013932  64600.0"
      ]
     },
     "execution_count": 92,
     "metadata": {},
     "output_type": "execute_result"
    }
   ],
   "source": [
    "MA5 =  new_sm['Close'].rolling(window=5).mean()\n",
    "new_sm.insert(len(new_sm.columns), \"MA5\", ma5)\n",
    "new_sm.tail(5)"
   ]
  },
  {
   "cell_type": "code",
   "execution_count": 93,
   "id": "bdd50fb4",
   "metadata": {},
   "outputs": [],
   "source": [
    "ma20 = new_sm['Close'].rolling(window=20).mean()\n",
    "ma60 = new_sm['Close'].rolling(window=60).mean()\n",
    "ma120 = new_sm['Close'].rolling(window=120).mean()\n",
    "new_sm.insert(len(new_sm.columns), \"MA20\", ma20)\n",
    "new_sm.insert(len(new_sm.columns), \"MA60\", ma60)\n",
    "new_sm.insert(len(new_sm.columns), \"MA120\", ma120)"
   ]
  },
  {
   "cell_type": "code",
   "execution_count": 94,
   "id": "6381a6e0",
   "metadata": {},
   "outputs": [
    {
     "data": {
      "text/plain": [
       "Date\n",
       "2023-01-03        NaN\n",
       "2023-01-04        NaN\n",
       "2023-01-05        NaN\n",
       "2023-01-06        NaN\n",
       "2023-01-09        NaN\n",
       "               ...   \n",
       "2023-04-24    64605.0\n",
       "2023-04-25    64640.0\n",
       "2023-04-26    64710.0\n",
       "2023-04-27    64780.0\n",
       "2023-04-28    64855.0\n",
       "Name: Close, Length: 81, dtype: float64"
      ]
     },
     "execution_count": 94,
     "metadata": {},
     "output_type": "execute_result"
    }
   ],
   "source": [
    "ma20"
   ]
  },
  {
   "cell_type": "code",
   "execution_count": null,
   "id": "bab02824",
   "metadata": {},
   "outputs": [],
   "source": []
  },
  {
   "cell_type": "markdown",
   "id": "dea74d70",
   "metadata": {},
   "source": [
    "## 제 4절 그래프 그리기"
   ]
  },
  {
   "cell_type": "markdown",
   "id": "e041692f",
   "metadata": {},
   "source": [
    "## 1. 대표적인 그래프 종류\n",
    "#### https://en.wikipedia.org/wiki/Plot_(graphics)#Types%20of%20plots"
   ]
  },
  {
   "cell_type": "markdown",
   "id": "e8e38879",
   "metadata": {},
   "source": [
    "## 2. 주가이동평균선 그리기"
   ]
  },
  {
   "cell_type": "code",
   "execution_count": 95,
   "id": "90733666",
   "metadata": {},
   "outputs": [],
   "source": [
    "import matplotlib.pyplot as plt"
   ]
  },
  {
   "cell_type": "markdown",
   "id": "7580497b",
   "metadata": {},
   "source": [
    "### (1) plot 함수를 사용해 그래프그리기"
   ]
  },
  {
   "cell_type": "code",
   "execution_count": 96,
   "id": "37bd83aa",
   "metadata": {},
   "outputs": [
    {
     "data": {
      "text/plain": [
       "[<matplotlib.lines.Line2D at 0x1f13f6ea1c0>]"
      ]
     },
     "execution_count": 96,
     "metadata": {},
     "output_type": "execute_result"
    },
    {
     "data": {
      "image/png": "[encoded data removed]",
      "text/plain": [
       "<Figure size 640x480 with 1 Axes>"
      ]
     },
     "metadata": {},
     "output_type": "display_data"
    }
   ],
   "source": [
    "plt.plot(new_sm.index, new_sm['Close'], label=\"Close\")"
   ]
  },
  {
   "cell_type": "code",
   "execution_count": 97,
   "id": "5eb36381",
   "metadata": {},
   "outputs": [
    {
     "data": {
      "text/plain": [
       "[<matplotlib.lines.Line2D at 0x1f13d546f70>]"
      ]
     },
     "execution_count": 97,
     "metadata": {},
     "output_type": "execute_result"
    },
    {
     "data": {
      "image/png": "[encoded data removed]",
      "text/plain": [
       "<Figure size 640x480 with 1 Axes>"
      ]
     },
     "metadata": {},
     "output_type": "display_data"
    }
   ],
   "source": [
    "plt.plot(new_sm.index, new_sm['MA20'], label=\"MA20\")"
   ]
  },
  {
   "cell_type": "code",
   "execution_count": 98,
   "id": "593b5369",
   "metadata": {},
   "outputs": [
    {
     "data": {
      "image/png": "[encoded data removed]",
      "text/plain": [
       "<Figure size 640x480 with 1 Axes>"
      ]
     },
     "metadata": {},
     "output_type": "display_data"
    }
   ],
   "source": [
    "plt.plot(new_sm.index, new_sm['MA5'], label=\"MA5\")\n",
    "plt.plot(new_sm.index, new_sm['MA20'], label=\"MA20\")\n",
    "plt.plot(new_sm.index, new_sm['MA60'], label=\"MA60\")\n",
    "plt.plot(new_sm.index, new_sm['MA120'], label=\"MA120\")\n",
    "\n",
    "plt.legend(loc='best')\n",
    "plt.grid()\n",
    "plt.show()"
   ]
  },
  {
   "cell_type": "markdown",
   "id": "1170feaa",
   "metadata": {},
   "source": [
    "### (2) 범례설정"
   ]
  },
  {
   "cell_type": "code",
   "execution_count": 99,
   "id": "af61eadb",
   "metadata": {},
   "outputs": [
    {
     "data": {
      "image/png": "[encoded data removed]",
      "text/plain": [
       "<Figure size 1200x800 with 1 Axes>"
      ]
     },
     "metadata": {},
     "output_type": "display_data"
    }
   ],
   "source": [
    "import numpy as np\n",
    "import matplotlib.pyplot as plt\n",
    "\n",
    "np.random.seed(1)\n",
    "x = np.arange(100)\n",
    "y1 = np.random.normal(0, 1, 100)\n",
    "y2 = np.random.normal(0, 1, 100).cumsum()\n",
    "\n",
    "fig = plt.figure(figsize=(12, 8))\n",
    "ax = fig.add_subplot(1, 1, 1)\n",
    "\n",
    "ax.plot(x, y1, 'b-', label='Com 1')\n",
    "ax.plot(x, y2, 'r--', label='Com 2')\n",
    "ax.legend()\n",
    "plt.show()\n"
   ]
  },
  {
   "cell_type": "markdown",
   "id": "25d39172",
   "metadata": {},
   "source": [
    "### (3) 예제완성"
   ]
  },
  {
   "cell_type": "code",
   "execution_count": 100,
   "id": "69ad10e9",
   "metadata": {},
   "outputs": [
    {
     "data": {
      "image/png": "[encoded data removed]",
      "text/plain": [
       "<Figure size 640x480 with 1 Axes>"
      ]
     },
     "metadata": {},
     "output_type": "display_data"
    }
   ],
   "source": [
    "import pandas as pd\n",
    "import FinanceDataReader as fdr\n",
    "import matplotlib.pyplot as plt\n",
    "\n",
    "sm = fdr.DataReader(\"005930\", \"2022-01-01\", \"2022-09-01\")\n",
    "new_sm = sm[sm['Volume']!=0]\n",
    "\n",
    "ma5 = new_sm['Close'].rolling(window=5).mean()\n",
    "ma20 = new_sm['Close'].rolling(window=20).mean()\n",
    "ma60 = new_sm['Close'].rolling(window=60).mean()\n",
    "ma120 = new_sm['Close'].rolling(window=120).mean()\n",
    "\n",
    "new_sm.insert(len(new_sm.columns), \"MA5\", ma5)\n",
    "new_sm.insert(len(new_sm.columns), \"MA20\", ma20)\n",
    "new_sm.insert(len(new_sm.columns), \"MA60\", ma60)\n",
    "new_sm.insert(len(new_sm.columns), \"MA120\", ma120)\n",
    "\n",
    "plt.plot(new_sm.index, new_sm['Close'], label='Close')\n",
    "plt.plot(new_sm.index, new_sm['MA5'], label='MA5')\n",
    "plt.plot(new_sm.index, new_sm['MA20'], label='MA20')\n",
    "plt.plot(new_sm.index, new_sm['MA60'], label='MA60')\n",
    "plt.plot(new_sm.index, new_sm['MA120'], label='MA120')\n",
    "\n",
    "plt.legend(loc=\"best\")\n",
    "plt.grid()\n",
    "plt.show()"
   ]
  },
  {
   "cell_type": "code",
   "execution_count": null,
   "id": "3963f585",
   "metadata": {},
   "outputs": [],
   "source": []
  }
 ],
 "metadata": {
  "kernelspec": {
   "display_name": "Python 3 (ipykernel)",
   "language": "python",
   "name": "python3"
  },
  "language_info": {
   "codemirror_mode": {
    "name": "ipython",
    "version": 3
   },
   "file_extension": ".py",
   "mimetype": "text/x-python",
   "name": "python",
   "nbconvert_exporter": "python",
   "pygments_lexer": "ipython3",
   "version": "3.9.6"
  },
  "toc": {
   "base_numbering": 1,
   "nav_menu": {},
   "number_sections": true,
   "sideBar": true,
   "skip_h1_title": false,
   "title_cell": "Table of Contents",
   "title_sidebar": "Contents",
   "toc_cell": false,
   "toc_position": {},
   "toc_section_display": true,
   "toc_window_display": false
  }
 },
 "nbformat": 4,
 "nbformat_minor": 5
}
