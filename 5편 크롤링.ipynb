{
 "cells": [
  {
   "cell_type": "code",
   "execution_count": 89,
   "metadata": {},
   "outputs": [],
   "source": [
    "import pandas as pd\n",
    "import numpy as np\n",
    "import warnings\n",
    "warnings.filterwarnings(action='ignore') "
   ]
  },
  {
   "cell_type": "code",
   "execution_count": 90,
   "metadata": {},
   "outputs": [
    {
     "name": "stderr",
     "output_type": "stream",
     "text": [
      "100%|██████████████████████████████████████████████████████████████████████████████████| 10/10 [00:01<00:00,  9.26it/s]\n"
     ]
    }
   ],
   "source": [
    "import time\n",
    "from tqdm import tqdm\n",
    "\n",
    "for i in tqdm(range(10)):\n",
    "    time.sleep(0.1)\n"
   ]
  },
  {
   "cell_type": "markdown",
   "metadata": {},
   "source": [
    "## 3. 크롤링 이해하기"
   ]
  },
  {
   "cell_type": "markdown",
   "metadata": {},
   "source": [
    "### (2) 크롤링 예제"
   ]
  },
  {
   "cell_type": "code",
   "execution_count": 91,
   "metadata": {},
   "outputs": [],
   "source": [
    "import requests as rq\n",
    "from bs4 import BeautifulSoup\n",
    "import os\n",
    "\n",
    "url = 'https://finance.naver.com/news/news_list.naver?mode=LSS2D&section_id=101&section_id2=258'\n",
    "\n",
    "data = rq.get(url)"
   ]
  },
  {
   "cell_type": "code",
   "execution_count": 92,
   "metadata": {},
   "outputs": [
    {
     "data": {
      "text/plain": [
       "<a href=\"/news/news_read.naver?article_id=0004284825&amp;office_id=011&amp;mode=LSS2D&amp;type=0§ion_id=101§ion_id2=258§ion_id3=&amp;date=20240109&amp;page=1\" title=\"부동산 PF 위기에도…올 첫 증권채 수요예측 '완판' [시그널]\">부동산 PF 위기에도…올 첫 증권채 수요예측 '완판' [시그널]</a>"
      ]
     },
     "execution_count": 92,
     "metadata": {},
     "output_type": "execute_result"
    }
   ],
   "source": [
    "html = BeautifulSoup(data.content, 'html.parser')\n",
    "html_select = html.select('dl > dd.articleSubject>a')\n",
    "html_select[0]"
   ]
  },
  {
   "cell_type": "code",
   "execution_count": 93,
   "metadata": {},
   "outputs": [
    {
     "data": {
      "text/plain": [
       "\"부동산 PF 위기에도…올 첫 증권채 수요예측 '완판' [시그널]\""
      ]
     },
     "execution_count": 93,
     "metadata": {},
     "output_type": "execute_result"
    }
   ],
   "source": [
    "html_select[0].get('title')"
   ]
  },
  {
   "cell_type": "code",
   "execution_count": 94,
   "metadata": {},
   "outputs": [
    {
     "data": {
      "text/plain": [
       "[\"부동산 PF 위기에도…올 첫 증권채 수요예측 '완판' [시그널]\",\n",
       " '[투자의 창] 경기 연착륙·침체의 갈림길',\n",
       " '우진엔텍 새해 첫 상장…공모주 열풍 잇는다 [시그널]',\n",
       " '\\'韓기업 경영 연구\\'지원 사재 50억 출연…김창수 F&F 회장 \"세계적 싱크탱크 육성\"',\n",
       " '주담대 대환대출 첫날부터 쏠림현상…카카오뱅크 접수 중단',\n",
       " '결국 터졌다…홍콩 ELS 첫 손실률 48.6%',\n",
       " '[마켓인]“태영건설 워크아웃 키, 이곳이 쥐고 있다”…KKR로 쏠리는 눈',\n",
       " '조각투자 시장 열린다… 증권사들 플랫폼 구축·상품 발행 속도 [2024 K-엔진을 다시 켜라]',\n",
       " 'AI가 투자보고서부터 자산관리까지… 디지털 휴먼도 등장 [2024 K-엔진을 다시 켜라]',\n",
       " '삼성증권, 글로벌 핵심 반도체株 담은 펀드 판매',\n",
       " '경쟁 치열해지는 퇴직연금시장…신한자산운용 TDF 수익률 1등',\n",
       " '롯데쇼핑, 회사채 수요예측서 1.1조원 몰려',\n",
       " '중국 알리 대박에 웃는 한국 회사…주가 거침없는 질주',\n",
       " '\\'악재\\' 아니었어?…\"지금이 매수 적기\" 증권가 추천한 종목',\n",
       " '日증시, 33년 10개월만에 최고치 경신…올해 더 오를까',\n",
       " '10·26 이후 처음…외국인 \"안녕, 삼성전자\" [마켓플러스]',\n",
       " \"피노텍, '담보 대환대출 인프라'에 비대면 전자등기 플랫폼 공급\",\n",
       " '세방, \\'2024 중대재해 ZERO 선포식\\' 성료..\"안전 작업환경 조성\"']"
      ]
     },
     "execution_count": 94,
     "metadata": {},
     "output_type": "execute_result"
    }
   ],
   "source": [
    "html = BeautifulSoup(data.content, 'html.parser')\n",
    "html_select =  html.select('dl > dd.articleSubject > a')\n",
    "[i.get('title') for i in html_select]"
   ]
  },
  {
   "cell_type": "markdown",
   "metadata": {},
   "source": [
    "### 2) 기업공시채널에서 오늘의 공시 업체 크롤링"
   ]
  },
  {
   "cell_type": "code",
   "execution_count": 95,
   "metadata": {},
   "outputs": [
    {
     "data": {
      "text/html": [
       "<div>\n",
       "<style scoped>\n",
       "    .dataframe tbody tr th:only-of-type {\n",
       "        vertical-align: middle;\n",
       "    }\n",
       "\n",
       "    .dataframe tbody tr th {\n",
       "        vertical-align: top;\n",
       "    }\n",
       "\n",
       "    .dataframe thead th {\n",
       "        text-align: right;\n",
       "    }\n",
       "</style>\n",
       "<table border=\"1\" class=\"dataframe\">\n",
       "  <thead>\n",
       "    <tr style=\"text-align: right;\">\n",
       "      <th></th>\n",
       "      <th>0</th>\n",
       "      <th>1</th>\n",
       "    </tr>\n",
       "  </thead>\n",
       "  <tbody>\n",
       "    <tr>\n",
       "      <th>0</th>\n",
       "      <td>오늘  01.08 (월)  01.05 (금)  01.04 (목)  01.03 (수)</td>\n",
       "      <td>오늘  01.08 (월)  01.05 (금)  01.04 (목)  01.03 (수)</td>\n",
       "    </tr>\n",
       "    <tr>\n",
       "      <th>1</th>\n",
       "      <td>회사명</td>\n",
       "      <td>찾기</td>\n",
       "    </tr>\n",
       "  </tbody>\n",
       "</table>\n",
       "</div>"
      ],
      "text/plain": [
       "                                                0  \\\n",
       "0  오늘  01.08 (월)  01.05 (금)  01.04 (목)  01.03 (수)   \n",
       "1                                             회사명   \n",
       "\n",
       "                                                1  \n",
       "0  오늘  01.08 (월)  01.05 (금)  01.04 (목)  01.03 (수)  \n",
       "1                                              찾기  "
      ]
     },
     "execution_count": 95,
     "metadata": {},
     "output_type": "execute_result"
    }
   ],
   "source": [
    "import requests as rq\n",
    "from bs4 import BeautifulSoup\n",
    "import pandas as pd\n",
    "url = 'https://kind.krx.co.kr/disclosure/todaydisclosure.do?method=searchTodayDisclosureMain&marketType=0'\n",
    "query = {\n",
    " 'method': 'searchTodayDisclosureSub',\n",
    " 'currentPageSize': '15',\n",
    " 'pageIndex': '1',\n",
    " 'orderMode': '0',\n",
    " 'orderStat': 'D',\n",
    " 'forward': 'todaydisclosure_sub',\n",
    " 'chose': 'S',\n",
    " 'todayFlag': 'N',\n",
    " 'selDate': '2023-07-12'}\n",
    "data = rq.post(url, query)\n",
    "data_bs = BeautifulSoup(data.content, 'html.parser')\n",
    "pd.read_html(data_bs.prettify())[0].head()"
   ]
  },
  {
   "cell_type": "markdown",
   "metadata": {},
   "source": [
    "#### 3) 네이버 증권에서 주식 티커 크롤링"
   ]
  },
  {
   "cell_type": "code",
   "execution_count": 96,
   "metadata": {},
   "outputs": [],
   "source": [
    "import requests as rq\n",
    "from bs4 import BeautifulSoup\n",
    "i = 0\n",
    "ticker = {}\n",
    "url = 'https://finance.naver.com/sise/sise_market_sum.naver?sosok＝'+str(i)+'&page＝1'\n",
    "down_table = rq.get(url)"
   ]
  },
  {
   "cell_type": "code",
   "execution_count": 97,
   "metadata": {},
   "outputs": [
    {
     "name": "stdout",
     "output_type": "stream",
     "text": [
      "/sise/sise_market_sum.naver?sosok%EF%BC%9D0&page%EF%BC%9D1&page=43\n"
     ]
    }
   ],
   "source": [
    "down_html = BeautifulSoup(down_table.content, 'html.parser')\n",
    "navi_final = down_html.select_one('td.pgRR > a').get('href')\n",
    "print(navi_final)"
   ]
  },
  {
   "cell_type": "code",
   "execution_count": 98,
   "metadata": {},
   "outputs": [
    {
     "data": {
      "text/plain": [
       "43"
      ]
     },
     "execution_count": 98,
     "metadata": {},
     "output_type": "execute_result"
    }
   ],
   "source": [
    "navi_final_number = navi_final.split('=')[-1]\n",
    "navi_final_number = int(navi_final_number)\n",
    "navi_final_number"
   ]
  },
  {
   "cell_type": "code",
   "execution_count": 99,
   "metadata": {},
   "outputs": [],
   "source": [
    "import pandas as pd\n",
    "i = 0 \n",
    "j = 1 \n",
    "url = 'https://finance.naver.com/sise/sise_market_sum.naver?sosok='+str(i)+\"&page=\"+str(j)\n",
    "read_table = pd.read_html(url, encoding = \"EUC-KR\")\n",
    "table = read_table[1]"
   ]
  },
  {
   "cell_type": "code",
   "execution_count": 100,
   "metadata": {},
   "outputs": [
    {
     "data": {
      "text/html": [
       "<div>\n",
       "<style scoped>\n",
       "    .dataframe tbody tr th:only-of-type {\n",
       "        vertical-align: middle;\n",
       "    }\n",
       "\n",
       "    .dataframe tbody tr th {\n",
       "        vertical-align: top;\n",
       "    }\n",
       "\n",
       "    .dataframe thead th {\n",
       "        text-align: right;\n",
       "    }\n",
       "</style>\n",
       "<table border=\"1\" class=\"dataframe\">\n",
       "  <thead>\n",
       "    <tr style=\"text-align: right;\">\n",
       "      <th></th>\n",
       "      <th>N</th>\n",
       "      <th>종목명</th>\n",
       "      <th>현재가</th>\n",
       "      <th>전일비</th>\n",
       "      <th>등락률</th>\n",
       "      <th>액면가</th>\n",
       "      <th>시가총액</th>\n",
       "      <th>상장주식수</th>\n",
       "      <th>외국인비율</th>\n",
       "      <th>거래량</th>\n",
       "      <th>PER</th>\n",
       "      <th>ROE</th>\n",
       "      <th>토론실</th>\n",
       "    </tr>\n",
       "  </thead>\n",
       "  <tbody>\n",
       "    <tr>\n",
       "      <th>0</th>\n",
       "      <td>NaN</td>\n",
       "      <td>NaN</td>\n",
       "      <td>NaN</td>\n",
       "      <td>NaN</td>\n",
       "      <td>NaN</td>\n",
       "      <td>NaN</td>\n",
       "      <td>NaN</td>\n",
       "      <td>NaN</td>\n",
       "      <td>NaN</td>\n",
       "      <td>NaN</td>\n",
       "      <td>NaN</td>\n",
       "      <td>NaN</td>\n",
       "      <td>NaN</td>\n",
       "    </tr>\n",
       "    <tr>\n",
       "      <th>1</th>\n",
       "      <td>1.0</td>\n",
       "      <td>삼성전자</td>\n",
       "      <td>74700.0</td>\n",
       "      <td>1800.0</td>\n",
       "      <td>-2.35%</td>\n",
       "      <td>100.0</td>\n",
       "      <td>4459428.0</td>\n",
       "      <td>5969783.0</td>\n",
       "      <td>54.07</td>\n",
       "      <td>25827921.0</td>\n",
       "      <td>15.88</td>\n",
       "      <td>17.07</td>\n",
       "      <td>NaN</td>\n",
       "    </tr>\n",
       "    <tr>\n",
       "      <th>2</th>\n",
       "      <td>2.0</td>\n",
       "      <td>SK하이닉스</td>\n",
       "      <td>137400.0</td>\n",
       "      <td>1400.0</td>\n",
       "      <td>+1.03%</td>\n",
       "      <td>5000.0</td>\n",
       "      <td>1000275.0</td>\n",
       "      <td>728002.0</td>\n",
       "      <td>53.31</td>\n",
       "      <td>3425173.0</td>\n",
       "      <td>-8.71</td>\n",
       "      <td>3.56</td>\n",
       "      <td>NaN</td>\n",
       "    </tr>\n",
       "    <tr>\n",
       "      <th>3</th>\n",
       "      <td>3.0</td>\n",
       "      <td>LG에너지솔루션</td>\n",
       "      <td>417500.0</td>\n",
       "      <td>2500.0</td>\n",
       "      <td>+0.60%</td>\n",
       "      <td>500.0</td>\n",
       "      <td>976950.0</td>\n",
       "      <td>234000.0</td>\n",
       "      <td>4.77</td>\n",
       "      <td>139826.0</td>\n",
       "      <td>64.21</td>\n",
       "      <td>5.75</td>\n",
       "      <td>NaN</td>\n",
       "    </tr>\n",
       "    <tr>\n",
       "      <th>4</th>\n",
       "      <td>4.0</td>\n",
       "      <td>삼성바이오로직스</td>\n",
       "      <td>752000.0</td>\n",
       "      <td>3000.0</td>\n",
       "      <td>+0.40%</td>\n",
       "      <td>2500.0</td>\n",
       "      <td>535228.0</td>\n",
       "      <td>71174.0</td>\n",
       "      <td>10.68</td>\n",
       "      <td>32047.0</td>\n",
       "      <td>57.13</td>\n",
       "      <td>11.42</td>\n",
       "      <td>NaN</td>\n",
       "    </tr>\n",
       "  </tbody>\n",
       "</table>\n",
       "</div>"
      ],
      "text/plain": [
       "     N       종목명       현재가     전일비     등락률     액면가       시가총액      상장주식수  \\\n",
       "0  NaN       NaN       NaN     NaN     NaN     NaN        NaN        NaN   \n",
       "1  1.0      삼성전자   74700.0  1800.0  -2.35%   100.0  4459428.0  5969783.0   \n",
       "2  2.0    SK하이닉스  137400.0  1400.0  +1.03%  5000.0  1000275.0   728002.0   \n",
       "3  3.0  LG에너지솔루션  417500.0  2500.0  +0.60%   500.0   976950.0   234000.0   \n",
       "4  4.0  삼성바이오로직스  752000.0  3000.0  +0.40%  2500.0   535228.0    71174.0   \n",
       "\n",
       "   외국인비율         거래량    PER    ROE  토론실  \n",
       "0    NaN         NaN    NaN    NaN  NaN  \n",
       "1  54.07  25827921.0  15.88  17.07  NaN  \n",
       "2  53.31   3425173.0  -8.71   3.56  NaN  \n",
       "3   4.77    139826.0  64.21   5.75  NaN  \n",
       "4  10.68     32047.0  57.13  11.42  NaN  "
      ]
     },
     "execution_count": 100,
     "metadata": {},
     "output_type": "execute_result"
    }
   ],
   "source": [
    "table.head()"
   ]
  },
  {
   "cell_type": "code",
   "execution_count": 101,
   "metadata": {},
   "outputs": [
    {
     "data": {
      "text/html": [
       "<div>\n",
       "<style scoped>\n",
       "    .dataframe tbody tr th:only-of-type {\n",
       "        vertical-align: middle;\n",
       "    }\n",
       "\n",
       "    .dataframe tbody tr th {\n",
       "        vertical-align: top;\n",
       "    }\n",
       "\n",
       "    .dataframe thead th {\n",
       "        text-align: right;\n",
       "    }\n",
       "</style>\n",
       "<table border=\"1\" class=\"dataframe\">\n",
       "  <thead>\n",
       "    <tr style=\"text-align: right;\">\n",
       "      <th></th>\n",
       "      <th>N</th>\n",
       "      <th>종목명</th>\n",
       "      <th>현재가</th>\n",
       "      <th>전일비</th>\n",
       "      <th>등락률</th>\n",
       "      <th>액면가</th>\n",
       "      <th>시가총액</th>\n",
       "      <th>상장주식수</th>\n",
       "      <th>외국인비율</th>\n",
       "      <th>거래량</th>\n",
       "      <th>PER</th>\n",
       "      <th>ROE</th>\n",
       "    </tr>\n",
       "  </thead>\n",
       "  <tbody>\n",
       "    <tr>\n",
       "      <th>1</th>\n",
       "      <td>1.0</td>\n",
       "      <td>삼성전자</td>\n",
       "      <td>74700.0</td>\n",
       "      <td>1800.0</td>\n",
       "      <td>-2.35%</td>\n",
       "      <td>100.0</td>\n",
       "      <td>4459428.0</td>\n",
       "      <td>5969783.0</td>\n",
       "      <td>54.07</td>\n",
       "      <td>25827921.0</td>\n",
       "      <td>15.88</td>\n",
       "      <td>17.07</td>\n",
       "    </tr>\n",
       "    <tr>\n",
       "      <th>2</th>\n",
       "      <td>2.0</td>\n",
       "      <td>SK하이닉스</td>\n",
       "      <td>137400.0</td>\n",
       "      <td>1400.0</td>\n",
       "      <td>+1.03%</td>\n",
       "      <td>5000.0</td>\n",
       "      <td>1000275.0</td>\n",
       "      <td>728002.0</td>\n",
       "      <td>53.31</td>\n",
       "      <td>3425173.0</td>\n",
       "      <td>-8.71</td>\n",
       "      <td>3.56</td>\n",
       "    </tr>\n",
       "    <tr>\n",
       "      <th>3</th>\n",
       "      <td>3.0</td>\n",
       "      <td>LG에너지솔루션</td>\n",
       "      <td>417500.0</td>\n",
       "      <td>2500.0</td>\n",
       "      <td>+0.60%</td>\n",
       "      <td>500.0</td>\n",
       "      <td>976950.0</td>\n",
       "      <td>234000.0</td>\n",
       "      <td>4.77</td>\n",
       "      <td>139826.0</td>\n",
       "      <td>64.21</td>\n",
       "      <td>5.75</td>\n",
       "    </tr>\n",
       "    <tr>\n",
       "      <th>4</th>\n",
       "      <td>4.0</td>\n",
       "      <td>삼성바이오로직스</td>\n",
       "      <td>752000.0</td>\n",
       "      <td>3000.0</td>\n",
       "      <td>+0.40%</td>\n",
       "      <td>2500.0</td>\n",
       "      <td>535228.0</td>\n",
       "      <td>71174.0</td>\n",
       "      <td>10.68</td>\n",
       "      <td>32047.0</td>\n",
       "      <td>57.13</td>\n",
       "      <td>11.42</td>\n",
       "    </tr>\n",
       "    <tr>\n",
       "      <th>5</th>\n",
       "      <td>5.0</td>\n",
       "      <td>삼성전자우</td>\n",
       "      <td>61000.0</td>\n",
       "      <td>800.0</td>\n",
       "      <td>-1.29%</td>\n",
       "      <td>100.0</td>\n",
       "      <td>501961.0</td>\n",
       "      <td>822887.0</td>\n",
       "      <td>73.02</td>\n",
       "      <td>1602005.0</td>\n",
       "      <td>12.97</td>\n",
       "      <td>NaN</td>\n",
       "    </tr>\n",
       "  </tbody>\n",
       "</table>\n",
       "</div>"
      ],
      "text/plain": [
       "     N       종목명       현재가     전일비     등락률     액면가       시가총액      상장주식수  \\\n",
       "1  1.0      삼성전자   74700.0  1800.0  -2.35%   100.0  4459428.0  5969783.0   \n",
       "2  2.0    SK하이닉스  137400.0  1400.0  +1.03%  5000.0  1000275.0   728002.0   \n",
       "3  3.0  LG에너지솔루션  417500.0  2500.0  +0.60%   500.0   976950.0   234000.0   \n",
       "4  4.0  삼성바이오로직스  752000.0  3000.0  +0.40%  2500.0   535228.0    71174.0   \n",
       "5  5.0     삼성전자우   61000.0   800.0  -1.29%   100.0   501961.0   822887.0   \n",
       "\n",
       "   외국인비율         거래량    PER    ROE  \n",
       "1  54.07  25827921.0  15.88  17.07  \n",
       "2  53.31   3425173.0  -8.71   3.56  \n",
       "3   4.77    139826.0  64.21   5.75  \n",
       "4  10.68     32047.0  57.13  11.42  \n",
       "5  73.02   1602005.0  12.97    NaN  "
      ]
     },
     "execution_count": 101,
     "metadata": {},
     "output_type": "execute_result"
    }
   ],
   "source": [
    "table = table.drop(columns = '토론실')\n",
    "table = table.dropna(subset = ['종목명'])\n",
    "table.head()"
   ]
  },
  {
   "cell_type": "code",
   "execution_count": 102,
   "metadata": {},
   "outputs": [
    {
     "data": {
      "text/plain": [
       "['/item/main.naver?code=005930',\n",
       " '/item/board.naver?code=005930',\n",
       " '/item/main.naver?code=000660',\n",
       " '/item/board.naver?code=000660',\n",
       " '/item/main.naver?code=373220',\n",
       " '/item/board.naver?code=373220',\n",
       " '/item/main.naver?code=207940',\n",
       " '/item/board.naver?code=207940',\n",
       " '/item/main.naver?code=005935',\n",
       " '/item/board.naver?code=005935']"
      ]
     },
     "execution_count": 102,
     "metadata": {},
     "output_type": "execute_result"
    }
   ],
   "source": [
    "down_html = BeautifulSoup(down_table.content, 'html.parser')\n",
    "down_link = down_html.select('tbody > tr > td > a')\n",
    "symbol = [i.get('href') for i in down_link]\n",
    "symbol[:10]"
   ]
  },
  {
   "cell_type": "code",
   "execution_count": 103,
   "metadata": {},
   "outputs": [
    {
     "data": {
      "text/plain": [
       "['005930',\n",
       " '005930',\n",
       " '000660',\n",
       " '000660',\n",
       " '373220',\n",
       " '373220',\n",
       " '207940',\n",
       " '207940',\n",
       " '005935',\n",
       " '005935']"
      ]
     },
     "execution_count": 103,
     "metadata": {},
     "output_type": "execute_result"
    }
   ],
   "source": [
    "symbol_parse = [i.split('=')[-1] for i in symbol]\n",
    "symbol_parse[:10]"
   ]
  },
  {
   "cell_type": "code",
   "execution_count": 104,
   "metadata": {},
   "outputs": [
    {
     "data": {
      "text/plain": [
       "['005930',\n",
       " '000660',\n",
       " '373220',\n",
       " '207940',\n",
       " '005935',\n",
       " '005380',\n",
       " '005490',\n",
       " '035420',\n",
       " '000270',\n",
       " '051910']"
      ]
     },
     "execution_count": 104,
     "metadata": {},
     "output_type": "execute_result"
    }
   ],
   "source": [
    "symbol_parse = pd.unique(symbol_parse).tolist()\n",
    "symbol_parse[:10]"
   ]
  },
  {
   "cell_type": "code",
   "execution_count": 105,
   "metadata": {},
   "outputs": [],
   "source": [
    "table['N'] = symbol_parse\n",
    "table = table.rename(columns = {'N':'종목코드'})\n",
    "table = table.reset_index(drop = True)\n",
    "ticker[j] = table"
   ]
  },
  {
   "cell_type": "code",
   "execution_count": null,
   "metadata": {},
   "outputs": [],
   "source": []
  },
  {
   "cell_type": "code",
   "execution_count": 106,
   "metadata": {},
   "outputs": [
    {
     "name": "stderr",
     "output_type": "stream",
     "text": [
      "100%|██████████████████████████████████████████████████████████████████████████████████| 43/43 [00:46<00:00,  1.08s/it]\n",
      "100%|██████████████████████████████████████████████████████████████████████████████████| 43/43 [00:45<00:00,  1.05s/it]\n"
     ]
    }
   ],
   "source": [
    "# 실행 안 됨\n",
    "import requests as rq\n",
    "from bs4 import BeautifulSoup\n",
    "import pandas as pd\n",
    "from tqdm import tqdm\n",
    "import time\n",
    "\n",
    "data = {}\n",
    "mkt = [0,1]\n",
    "\n",
    "for i in mkt:\n",
    "\n",
    "    ticker = {}\n",
    "    url = 'https://finance.naver.com/sise/sise_market_sum.nhn?sosok＝'+str(i)+'&page＝1'\n",
    "    down_table = rq.get(url)\n",
    "\n",
    "    down_html = BeautifulSoup(down_table.content, 'html.parser')\n",
    "    navi_final = down_html.select_one('td.pgRR >a').get('href')\n",
    "\n",
    "    navi_final_number = navi_final.split('=')[-1]\n",
    "    navi_final_number = int(navi_final_number)\n",
    "\n",
    "    for j in tqdm(range(1, navi_final_number+1)):\n",
    "        url_page = 'https://finance.naver.com/sise/sise_market_sum.naver?sosok=' + str(i) + \"&page=\" + str(j)\n",
    "        read_table = pd.read_html(url_page, encoding= \"EUC-KR\")\n",
    "        table = read_table[1]\n",
    "\n",
    "        table = table.drop(columns = '토론실')\n",
    "        table = table.dropna(subset=[\"종목명\"])\n",
    "\n",
    "        down_page = rq.get(url_page)\n",
    "        down_html = BeautifulSoup(down_page.content, 'html.parser')\n",
    "        down_link = down_html.select('tbody > tr > td >a')\n",
    "        symbol = [s.get('href') for s in down_link]\n",
    "\n",
    "        symbol_parse = [p.split('=')[-1] for p in symbol]\n",
    "        symbol_parse = pd.unique(symbol_parse).tolist()\n",
    "\n",
    "        table['N'] = symbol_parse\n",
    "        tbale = table.rename(columns = {'N': '종목코드'})\n",
    "        table = table.reset_index(drop=True)\n",
    "        ticker[j] = table\n",
    "\n",
    "        time.sleep(0.5)\n",
    "\n",
    "    tickers = pd.concat(ticker.values())\n",
    "    data[i] = tickers\n",
    "\n",
    "data_final = pd.concat(data.values())\n",
    "data_final = data_final.reset_index(drop=True)"
   ]
  },
  {
   "cell_type": "markdown",
   "metadata": {},
   "source": []
  },
  {
   "cell_type": "markdown",
   "metadata": {},
   "source": [
    "## 4. 금융데이터 수집하기(심화)"
   ]
  },
  {
   "cell_type": "markdown",
   "metadata": {},
   "source": [
    "### (1) DataReader()함구를 이용해 네이버 수정주가 다운로드"
   ]
  },
  {
   "cell_type": "code",
   "execution_count": 147,
   "metadata": {},
   "outputs": [
    {
     "data": {
      "text/html": [
       "<div>\n",
       "<style scoped>\n",
       "    .dataframe tbody tr th:only-of-type {\n",
       "        vertical-align: middle;\n",
       "    }\n",
       "\n",
       "    .dataframe tbody tr th {\n",
       "        vertical-align: top;\n",
       "    }\n",
       "\n",
       "    .dataframe thead th {\n",
       "        text-align: right;\n",
       "    }\n",
       "</style>\n",
       "<table border=\"1\" class=\"dataframe\">\n",
       "  <thead>\n",
       "    <tr style=\"text-align: right;\">\n",
       "      <th></th>\n",
       "      <th>Open</th>\n",
       "      <th>High</th>\n",
       "      <th>Low</th>\n",
       "      <th>Close</th>\n",
       "      <th>Volume</th>\n",
       "    </tr>\n",
       "    <tr>\n",
       "      <th>Date</th>\n",
       "      <th></th>\n",
       "      <th></th>\n",
       "      <th></th>\n",
       "      <th></th>\n",
       "      <th></th>\n",
       "    </tr>\n",
       "  </thead>\n",
       "  <tbody>\n",
       "    <tr>\n",
       "      <th>2017-01-09</th>\n",
       "      <td>36600</td>\n",
       "      <td>37500</td>\n",
       "      <td>36560</td>\n",
       "      <td>37220</td>\n",
       "      <td>263898</td>\n",
       "    </tr>\n",
       "    <tr>\n",
       "      <th>2017-01-10</th>\n",
       "      <td>37280</td>\n",
       "      <td>37400</td>\n",
       "      <td>37080</td>\n",
       "      <td>37240</td>\n",
       "      <td>181996</td>\n",
       "    </tr>\n",
       "    <tr>\n",
       "      <th>2017-01-11</th>\n",
       "      <td>37520</td>\n",
       "      <td>38560</td>\n",
       "      <td>37420</td>\n",
       "      <td>38280</td>\n",
       "      <td>240363</td>\n",
       "    </tr>\n",
       "    <tr>\n",
       "      <th>2017-01-12</th>\n",
       "      <td>38000</td>\n",
       "      <td>38800</td>\n",
       "      <td>37980</td>\n",
       "      <td>38800</td>\n",
       "      <td>233383</td>\n",
       "    </tr>\n",
       "    <tr>\n",
       "      <th>2017-01-13</th>\n",
       "      <td>38100</td>\n",
       "      <td>38319</td>\n",
       "      <td>37460</td>\n",
       "      <td>37460</td>\n",
       "      <td>319089</td>\n",
       "    </tr>\n",
       "  </tbody>\n",
       "</table>\n",
       "</div>"
      ],
      "text/plain": [
       "             Open   High    Low  Close  Volume\n",
       "Date                                          \n",
       "2017-01-09  36600  37500  36560  37220  263898\n",
       "2017-01-10  37280  37400  37080  37240  181996\n",
       "2017-01-11  37520  38560  37420  38280  240363\n",
       "2017-01-12  38000  38800  37980  38800  233383\n",
       "2017-01-13  38100  38319  37460  37460  319089"
      ]
     },
     "execution_count": 147,
     "metadata": {},
     "output_type": "execute_result"
    }
   ],
   "source": [
    "import pandas_datareader.data as web\n",
    "from datetime import date\n",
    "from dateutil.relativedelta import relativedelta\n",
    "import re\n",
    "fr = (date.today() + relativedelta(years=-7)).strftime(\"%Y%m%d\")\n",
    "to = (date.today()).strftime(\"%Y%m%d\")\n",
    "df = web.DataReader('005930', 'naver', start = fr, end = to)\n",
    "df.head()"
   ]
  },
  {
   "cell_type": "markdown",
   "metadata": {},
   "source": [
    "### (2) 재무제표 및 가치지표 크롤링"
   ]
  },
  {
   "cell_type": "markdown",
   "metadata": {},
   "source": [
    "### (3) 재무제표 다운로드"
   ]
  },
  {
   "cell_type": "code",
   "execution_count": 148,
   "metadata": {},
   "outputs": [
    {
     "data": {
      "text/plain": [
       "[  IFRS(연결)    2020/12    2021/12    2022/12    2023/09       전년동기 전년동기(%)\n",
       " 0      매출액  2368070.0  2796048.0  3022314.0  1911556.0  2317668.0   -17.5\n",
       " 1     매출원가  1444883.0  1664113.0  1900418.0  1342730.0  1414140.0    -5.0\n",
       " 2    매출총이익   923187.0  1131935.0  1121896.0   568825.0   903527.0   -37.0,\n",
       "   IFRS(연결)   2022/12   2023/03   2023/06   2023/09      전년동기 전년동기(%)\n",
       " 0      매출액  704646.0  637454.0  600055.0  674047.0  767817.0   -12.2\n",
       " 1     매출원가  486277.0  460071.0  416472.0  466187.0  480722.0    -3.0\n",
       " 2    매출총이익  218368.0  177383.0  183583.0  207859.0  287094.0   -27.6,\n",
       "              IFRS(연결)    2020/12    2021/12    2022/12    2023/09\n",
       " 0                  자산  3782357.0  4266212.0  4484245.0  4544664.0\n",
       " 1  유동자산계산에 참여한 계정 펼치기  1982156.0  2181632.0  2184706.0  2064386.0\n",
       " 2                재고자산   320431.0   413844.0   521879.0   552560.0,\n",
       "              IFRS(연결)    2022/12    2023/03    2023/06    2023/09\n",
       " 0                  자산  4484245.0  4540918.0  4480006.0  4544664.0\n",
       " 1  유동자산계산에 참여한 계정 펼치기  2184706.0  2144421.0  2039754.0  2064386.0\n",
       " 2                재고자산   521879.0   544196.0   555048.0   552560.0,\n",
       "          IFRS(연결)   2020/12   2021/12   2022/12   2023/09\n",
       " 0    영업활동으로인한현금흐름  652870.0  651054.0  621813.0  241922.0\n",
       " 1           당기순손익  264078.0  399075.0  556541.0   91423.0\n",
       " 2  법인세비용차감전계속사업이익       NaN       NaN       NaN       NaN,\n",
       "          IFRS(연결)   2022/12  2023/03  2023/06  2023/09\n",
       " 0    영업활동으로인한현금흐름  186129.0  62918.0  81699.0  97305.0\n",
       " 1           당기순손익  238414.0  15746.0  17236.0  58442.0\n",
       " 2  법인세비용차감전계속사업이익       NaN      NaN      NaN      NaN]"
      ]
     },
     "execution_count": 148,
     "metadata": {},
     "output_type": "execute_result"
    }
   ],
   "source": [
    "import pandas as pd\n",
    "ticker = '005930'\n",
    "url = f'http://comp.fnguide.com/SVO2/ASP/SVD_Finance.asp?pGB=1&gicode=A{ticker}'\n",
    "data = pd.read_html(url, displayed_only=False)\n",
    "[item.head(3) for item in data]"
   ]
  },
  {
   "cell_type": "code",
   "execution_count": 149,
   "metadata": {},
   "outputs": [],
   "source": [
    "data_IS = data[0]\n",
    "data_BS = data[2]\n",
    "data_CF = data[4]"
   ]
  },
  {
   "cell_type": "code",
   "execution_count": 150,
   "metadata": {},
   "outputs": [
    {
     "name": "stdout",
     "output_type": "stream",
     "text": [
      "Index(['IFRS(연결)', '2020/12', '2021/12', '2022/12', '2023/09', '전년동기',\n",
      "       '전년동기(%)'],\n",
      "      dtype='object')\n"
     ]
    }
   ],
   "source": [
    "print(data_IS.columns)"
   ]
  },
  {
   "cell_type": "code",
   "execution_count": 151,
   "metadata": {},
   "outputs": [
    {
     "data": {
      "text/html": [
       "<div>\n",
       "<style scoped>\n",
       "    .dataframe tbody tr th:only-of-type {\n",
       "        vertical-align: middle;\n",
       "    }\n",
       "\n",
       "    .dataframe tbody tr th {\n",
       "        vertical-align: top;\n",
       "    }\n",
       "\n",
       "    .dataframe thead th {\n",
       "        text-align: right;\n",
       "    }\n",
       "</style>\n",
       "<table border=\"1\" class=\"dataframe\">\n",
       "  <thead>\n",
       "    <tr style=\"text-align: right;\">\n",
       "      <th></th>\n",
       "      <th>IFRS(연결)</th>\n",
       "      <th>2020/12</th>\n",
       "      <th>2021/12</th>\n",
       "      <th>2022/12</th>\n",
       "      <th>2023/09</th>\n",
       "    </tr>\n",
       "  </thead>\n",
       "  <tbody>\n",
       "    <tr>\n",
       "      <th>0</th>\n",
       "      <td>매출액</td>\n",
       "      <td>2368070.0</td>\n",
       "      <td>2796048.0</td>\n",
       "      <td>3022314.0</td>\n",
       "      <td>1911556.0</td>\n",
       "    </tr>\n",
       "    <tr>\n",
       "      <th>1</th>\n",
       "      <td>매출원가</td>\n",
       "      <td>1444883.0</td>\n",
       "      <td>1664113.0</td>\n",
       "      <td>1900418.0</td>\n",
       "      <td>1342730.0</td>\n",
       "    </tr>\n",
       "    <tr>\n",
       "      <th>2</th>\n",
       "      <td>매출총이익</td>\n",
       "      <td>923187.0</td>\n",
       "      <td>1131935.0</td>\n",
       "      <td>1121896.0</td>\n",
       "      <td>568825.0</td>\n",
       "    </tr>\n",
       "    <tr>\n",
       "      <th>3</th>\n",
       "      <td>판매비와관리비계산에 참여한 계정 펼치기</td>\n",
       "      <td>563248.0</td>\n",
       "      <td>615596.0</td>\n",
       "      <td>688130.0</td>\n",
       "      <td>531403.0</td>\n",
       "    </tr>\n",
       "    <tr>\n",
       "      <th>4</th>\n",
       "      <td>인건비</td>\n",
       "      <td>70429.0</td>\n",
       "      <td>75568.0</td>\n",
       "      <td>80937.0</td>\n",
       "      <td>64238.0</td>\n",
       "    </tr>\n",
       "  </tbody>\n",
       "</table>\n",
       "</div>"
      ],
      "text/plain": [
       "                IFRS(연결)    2020/12    2021/12    2022/12    2023/09\n",
       "0                    매출액  2368070.0  2796048.0  3022314.0  1911556.0\n",
       "1                   매출원가  1444883.0  1664113.0  1900418.0  1342730.0\n",
       "2                  매출총이익   923187.0  1131935.0  1121896.0   568825.0\n",
       "3  판매비와관리비계산에 참여한 계정 펼치기   563248.0   615596.0   688130.0   531403.0\n",
       "4                    인건비    70429.0    75568.0    80937.0    64238.0"
      ]
     },
     "execution_count": 151,
     "metadata": {},
     "output_type": "execute_result"
    }
   ],
   "source": [
    "data_IS = data_IS.iloc[:, 0:(len(data_IS.columns)-2)]\n",
    "data_fs = pd.concat([data_IS, data_BS, data_CF]).reset_index(drop=True)\n",
    "data_fs.head()"
   ]
  },
  {
   "cell_type": "code",
   "execution_count": 152,
   "metadata": {},
   "outputs": [
    {
     "data": {
      "text/html": [
       "<div>\n",
       "<style scoped>\n",
       "    .dataframe tbody tr th:only-of-type {\n",
       "        vertical-align: middle;\n",
       "    }\n",
       "\n",
       "    .dataframe tbody tr th {\n",
       "        vertical-align: top;\n",
       "    }\n",
       "\n",
       "    .dataframe thead th {\n",
       "        text-align: right;\n",
       "    }\n",
       "</style>\n",
       "<table border=\"1\" class=\"dataframe\">\n",
       "  <thead>\n",
       "    <tr style=\"text-align: right;\">\n",
       "      <th></th>\n",
       "      <th>2020/12</th>\n",
       "      <th>2021/12</th>\n",
       "      <th>2022/12</th>\n",
       "    </tr>\n",
       "    <tr>\n",
       "      <th>IFRS(연결)</th>\n",
       "      <th></th>\n",
       "      <th></th>\n",
       "      <th></th>\n",
       "    </tr>\n",
       "  </thead>\n",
       "  <tbody>\n",
       "    <tr>\n",
       "      <th>매출액</th>\n",
       "      <td>2368070.0</td>\n",
       "      <td>2796048.0</td>\n",
       "      <td>3022314.0</td>\n",
       "    </tr>\n",
       "    <tr>\n",
       "      <th>매출원가</th>\n",
       "      <td>1444883.0</td>\n",
       "      <td>1664113.0</td>\n",
       "      <td>1900418.0</td>\n",
       "    </tr>\n",
       "    <tr>\n",
       "      <th>매출총이익</th>\n",
       "      <td>923187.0</td>\n",
       "      <td>1131935.0</td>\n",
       "      <td>1121896.0</td>\n",
       "    </tr>\n",
       "    <tr>\n",
       "      <th>판매비와관리비</th>\n",
       "      <td>563248.0</td>\n",
       "      <td>615596.0</td>\n",
       "      <td>688130.0</td>\n",
       "    </tr>\n",
       "    <tr>\n",
       "      <th>인건비</th>\n",
       "      <td>70429.0</td>\n",
       "      <td>75568.0</td>\n",
       "      <td>80937.0</td>\n",
       "    </tr>\n",
       "  </tbody>\n",
       "</table>\n",
       "</div>"
      ],
      "text/plain": [
       "            2020/12    2021/12    2022/12\n",
       "IFRS(연결)                                 \n",
       "매출액       2368070.0  2796048.0  3022314.0\n",
       "매출원가      1444883.0  1664113.0  1900418.0\n",
       "매출총이익      923187.0  1131935.0  1121896.0\n",
       "판매비와관리비    563248.0   615596.0   688130.0\n",
       "인건비         70429.0    75568.0    80937.0"
      ]
     },
     "execution_count": 152,
     "metadata": {},
     "output_type": "execute_result"
    }
   ],
   "source": [
    "data_fs.iloc[:, 0] =  data_fs.iloc[:, 0].replace({'계산에 참여한 계정 펼치기':''}, regex = True)\n",
    "data_fs = data_fs.set_index(data_fs.columns[0])\n",
    "data_fs = data_fs[~data_fs.index.duplicated(keep='first')]\n",
    "data_fs = data_fs.filter(like = '12', axis = 1)\n",
    "data_fs.head()"
   ]
  },
  {
   "cell_type": "code",
   "execution_count": 153,
   "metadata": {},
   "outputs": [],
   "source": [
    "data_fs.to_csv('./005930_fs.csv')"
   ]
  },
  {
   "cell_type": "markdown",
   "metadata": {},
   "source": [
    "### (7) 가치지표 계산하기"
   ]
  },
  {
   "cell_type": "code",
   "execution_count": 154,
   "metadata": {},
   "outputs": [
    {
     "data": {
      "text/html": [
       "<div>\n",
       "<style scoped>\n",
       "    .dataframe tbody tr th:only-of-type {\n",
       "        vertical-align: middle;\n",
       "    }\n",
       "\n",
       "    .dataframe tbody tr th {\n",
       "        vertical-align: top;\n",
       "    }\n",
       "\n",
       "    .dataframe thead th {\n",
       "        text-align: right;\n",
       "    }\n",
       "</style>\n",
       "<table border=\"1\" class=\"dataframe\">\n",
       "  <thead>\n",
       "    <tr style=\"text-align: right;\">\n",
       "      <th></th>\n",
       "      <th>2022/12</th>\n",
       "    </tr>\n",
       "    <tr>\n",
       "      <th>IFRS(연결)</th>\n",
       "      <th></th>\n",
       "    </tr>\n",
       "  </thead>\n",
       "  <tbody>\n",
       "    <tr>\n",
       "      <th>지배주주순이익</th>\n",
       "      <td>547300.0</td>\n",
       "    </tr>\n",
       "    <tr>\n",
       "      <th>자본</th>\n",
       "      <td>3547496.0</td>\n",
       "    </tr>\n",
       "    <tr>\n",
       "      <th>영업활동으로인한현금흐름</th>\n",
       "      <td>621813.0</td>\n",
       "    </tr>\n",
       "    <tr>\n",
       "      <th>매출액</th>\n",
       "      <td>3022314.0</td>\n",
       "    </tr>\n",
       "  </tbody>\n",
       "</table>\n",
       "</div>"
      ],
      "text/plain": [
       "                2022/12\n",
       "IFRS(연결)               \n",
       "지배주주순이익        547300.0\n",
       "자본            3547496.0\n",
       "영업활동으로인한현금흐름   621813.0\n",
       "매출액           3022314.0"
      ]
     },
     "execution_count": 154,
     "metadata": {},
     "output_type": "execute_result"
    }
   ],
   "source": [
    "if not os.path.exists('data/KOR_value'):\n",
    "    os.makedirs('data/KOR_value')\n",
    "\n",
    "value_type = ['지배주주순이익', '자본', '영업활동으로인한현금흐름', '매출액']\n",
    "value_index = data_fs.loc[value_type].iloc[:, [-1]]\n",
    "value_index"
   ]
  },
  {
   "cell_type": "code",
   "execution_count": 155,
   "metadata": {},
   "outputs": [
    {
     "data": {
      "text/html": [
       "<div>\n",
       "<style scoped>\n",
       "    .dataframe tbody tr th:only-of-type {\n",
       "        vertical-align: middle;\n",
       "    }\n",
       "\n",
       "    .dataframe tbody tr th {\n",
       "        vertical-align: top;\n",
       "    }\n",
       "\n",
       "    .dataframe thead th {\n",
       "        text-align: right;\n",
       "    }\n",
       "</style>\n",
       "<table border=\"1\" class=\"dataframe\">\n",
       "  <thead>\n",
       "    <tr style=\"text-align: right;\">\n",
       "      <th></th>\n",
       "      <th>0</th>\n",
       "      <th>1</th>\n",
       "      <th>2</th>\n",
       "      <th>3</th>\n",
       "    </tr>\n",
       "  </thead>\n",
       "  <tbody>\n",
       "    <tr>\n",
       "      <th>0</th>\n",
       "      <td>종가/ 전일대비</td>\n",
       "      <td>76,500/ -100</td>\n",
       "      <td>거래량</td>\n",
       "      <td>11088724</td>\n",
       "    </tr>\n",
       "    <tr>\n",
       "      <th>1</th>\n",
       "      <td>52주.최고가/ 최저가</td>\n",
       "      <td>79,600/ 59,000</td>\n",
       "      <td>거래대금(억원)</td>\n",
       "      <td>8527</td>\n",
       "    </tr>\n",
       "    <tr>\n",
       "      <th>2</th>\n",
       "      <td>수익률(1M/ 3M/ 6M/ 1Y)</td>\n",
       "      <td>+5.37/ +15.91/ +9.44/ +29.66</td>\n",
       "      <td>외국인 보유비중</td>\n",
       "      <td>54.07</td>\n",
       "    </tr>\n",
       "    <tr>\n",
       "      <th>3</th>\n",
       "      <td>시가총액(상장예정포함,억원)</td>\n",
       "      <td>5075428</td>\n",
       "      <td>베타(1년)</td>\n",
       "      <td>0.91740</td>\n",
       "    </tr>\n",
       "    <tr>\n",
       "      <th>4</th>\n",
       "      <td>시가총액(보통주,억원)</td>\n",
       "      <td>4566884</td>\n",
       "      <td>액면가</td>\n",
       "      <td>100</td>\n",
       "    </tr>\n",
       "    <tr>\n",
       "      <th>5</th>\n",
       "      <td>NaN</td>\n",
       "      <td>NaN</td>\n",
       "      <td>NaN</td>\n",
       "      <td>NaN</td>\n",
       "    </tr>\n",
       "    <tr>\n",
       "      <th>6</th>\n",
       "      <td>발행주식수(보통주/ 우선주)</td>\n",
       "      <td>5,969,782,550/ 822,886,700</td>\n",
       "      <td>유동주식수/비율(보통주)</td>\n",
       "      <td>4,538,536,032 / 76.03</td>\n",
       "    </tr>\n",
       "  </tbody>\n",
       "</table>\n",
       "</div>"
      ],
      "text/plain": [
       "                     0                             1              2  \\\n",
       "0             종가/ 전일대비                  76,500/ -100            거래량   \n",
       "1         52주.최고가/ 최저가                79,600/ 59,000       거래대금(억원)   \n",
       "2  수익률(1M/ 3M/ 6M/ 1Y)  +5.37/ +15.91/ +9.44/ +29.66       외국인 보유비중   \n",
       "3      시가총액(상장예정포함,억원)                       5075428         베타(1년)   \n",
       "4         시가총액(보통주,억원)                       4566884            액면가   \n",
       "5                  NaN                           NaN            NaN   \n",
       "6      발행주식수(보통주/ 우선주)    5,969,782,550/ 822,886,700  유동주식수/비율(보통주)   \n",
       "\n",
       "                       3  \n",
       "0               11088724  \n",
       "1                   8527  \n",
       "2                  54.07  \n",
       "3                0.91740  \n",
       "4                    100  \n",
       "5                    NaN  \n",
       "6  4,538,536,032 / 76.03  "
      ]
     },
     "execution_count": 155,
     "metadata": {},
     "output_type": "execute_result"
    }
   ],
   "source": [
    "url = 'http://comp.fnguide.com/SVO2/ASP/SVD_Main.asp?pGB=1&gicode=A005930'\n",
    "data = pd.read_html(url)[0]\n",
    "data"
   ]
  },
  {
   "cell_type": "code",
   "execution_count": 156,
   "metadata": {},
   "outputs": [
    {
     "data": {
      "text/plain": [
       "76500"
      ]
     },
     "execution_count": 156,
     "metadata": {},
     "output_type": "execute_result"
    }
   ],
   "source": [
    "price = data.iloc[0, 1].split()[0]\n",
    "price = price.replace(\",\", \"\")\n",
    "price = int(re.findall(\"[0-9]+\", price)[0])\n",
    "price"
   ]
  },
  {
   "cell_type": "code",
   "execution_count": 157,
   "metadata": {},
   "outputs": [
    {
     "data": {
      "text/plain": [
       "5969782550"
      ]
     },
     "execution_count": 157,
     "metadata": {},
     "output_type": "execute_result"
    }
   ],
   "source": [
    "share = data.iloc[6, 1].split()[0]\n",
    "share = share.replace(\",\", \"\")\n",
    "share = int(re.findall(\"[0-9]+\", share)[0])\n",
    "share"
   ]
  },
  {
   "cell_type": "code",
   "execution_count": 159,
   "metadata": {},
   "outputs": [
    {
     "data": {
      "text/html": [
       "<div>\n",
       "<style scoped>\n",
       "    .dataframe tbody tr th:only-of-type {\n",
       "        vertical-align: middle;\n",
       "    }\n",
       "\n",
       "    .dataframe tbody tr th {\n",
       "        vertical-align: top;\n",
       "    }\n",
       "\n",
       "    .dataframe thead th {\n",
       "        text-align: right;\n",
       "    }\n",
       "</style>\n",
       "<table border=\"1\" class=\"dataframe\">\n",
       "  <thead>\n",
       "    <tr style=\"text-align: right;\">\n",
       "      <th></th>\n",
       "      <th>2022/12</th>\n",
       "    </tr>\n",
       "  </thead>\n",
       "  <tbody>\n",
       "    <tr>\n",
       "      <th>PER</th>\n",
       "      <td>8.344388</td>\n",
       "    </tr>\n",
       "    <tr>\n",
       "      <th>PBR</th>\n",
       "      <td>1.287354</td>\n",
       "    </tr>\n",
       "    <tr>\n",
       "      <th>PCR</th>\n",
       "      <td>7.344465</td>\n",
       "    </tr>\n",
       "    <tr>\n",
       "      <th>PSR</th>\n",
       "      <td>1.511055</td>\n",
       "    </tr>\n",
       "  </tbody>\n",
       "</table>\n",
       "</div>"
      ],
      "text/plain": [
       "      2022/12\n",
       "PER  8.344388\n",
       "PBR  1.287354\n",
       "PCR  7.344465\n",
       "PSR  1.511055"
      ]
     },
     "execution_count": 159,
     "metadata": {},
     "output_type": "execute_result"
    }
   ],
   "source": [
    "import numpy as np\n",
    "data_value = price / (value_index.iloc[:, [0]] * 100000000 / share)\n",
    "data_value.index = ['PER', 'PBR', 'PCR', 'PSR']\n",
    "data_value[data_value.iloc[:, 0] < 0] = np.nan\n",
    "data_value = data_value.replace(np.inf, np.nan)\n",
    "data_value"
   ]
  },
  {
   "cell_type": "code",
   "execution_count": 182,
   "metadata": {},
   "outputs": [
    {
     "ename": "FileNotFoundError",
     "evalue": "[Errno 2] No such file or directory: 'data/data_final.csv'",
     "output_type": "error",
     "traceback": [
      "\u001b[1;31m---------------------------------------------------------------------------\u001b[0m",
      "\u001b[1;31mFileNotFoundError\u001b[0m                         Traceback (most recent call last)",
      "Cell \u001b[1;32mIn [182], line 13\u001b[0m\n\u001b[0;32m     10\u001b[0m \u001b[38;5;28;01mif\u001b[39;00m \u001b[38;5;129;01mnot\u001b[39;00m os\u001b[38;5;241m.\u001b[39mpath\u001b[38;5;241m.\u001b[39mexists(\u001b[38;5;124m'\u001b[39m\u001b[38;5;124mdata/KOR_value\u001b[39m\u001b[38;5;124m'\u001b[39m):\n\u001b[0;32m     11\u001b[0m      os\u001b[38;5;241m.\u001b[39mmakedirs(\u001b[38;5;124m'\u001b[39m\u001b[38;5;124mdata/KOR_value\u001b[39m\u001b[38;5;124m'\u001b[39m)\n\u001b[1;32m---> 13\u001b[0m KOR_ticker \u001b[38;5;241m=\u001b[39m \u001b[43mpd\u001b[49m\u001b[38;5;241;43m.\u001b[39;49m\u001b[43mread_csv\u001b[49m\u001b[43m(\u001b[49m\u001b[38;5;124;43m'\u001b[39;49m\u001b[38;5;124;43mdata/data_final.csv\u001b[39;49m\u001b[38;5;124;43m'\u001b[39;49m\u001b[43m,\u001b[49m\u001b[43m \u001b[49m\u001b[43mindex_col\u001b[49m\u001b[38;5;241;43m=\u001b[39;49m\u001b[38;5;241;43m0\u001b[39;49m\u001b[43m)\u001b[49m\n\u001b[0;32m     14\u001b[0m error_list \u001b[38;5;241m=\u001b[39m []\n\u001b[0;32m     16\u001b[0m \u001b[38;5;28;01mfor\u001b[39;00m i \u001b[38;5;129;01min\u001b[39;00m tqdm(\u001b[38;5;28mrange\u001b[39m(\u001b[38;5;241m0\u001b[39m, \u001b[38;5;28mlen\u001b[39m(KOR_ticker))):\n",
      "File \u001b[1;32mc:\\users\\operator-70\\appdata\\local\\programs\\python\\python39\\lib\\site-packages\\pandas\\io\\parsers\\readers.py:948\u001b[0m, in \u001b[0;36mread_csv\u001b[1;34m(filepath_or_buffer, sep, delimiter, header, names, index_col, usecols, dtype, engine, converters, true_values, false_values, skipinitialspace, skiprows, skipfooter, nrows, na_values, keep_default_na, na_filter, verbose, skip_blank_lines, parse_dates, infer_datetime_format, keep_date_col, date_parser, date_format, dayfirst, cache_dates, iterator, chunksize, compression, thousands, decimal, lineterminator, quotechar, quoting, doublequote, escapechar, comment, encoding, encoding_errors, dialect, on_bad_lines, delim_whitespace, low_memory, memory_map, float_precision, storage_options, dtype_backend)\u001b[0m\n\u001b[0;32m    935\u001b[0m kwds_defaults \u001b[38;5;241m=\u001b[39m _refine_defaults_read(\n\u001b[0;32m    936\u001b[0m     dialect,\n\u001b[0;32m    937\u001b[0m     delimiter,\n\u001b[1;32m   (...)\u001b[0m\n\u001b[0;32m    944\u001b[0m     dtype_backend\u001b[38;5;241m=\u001b[39mdtype_backend,\n\u001b[0;32m    945\u001b[0m )\n\u001b[0;32m    946\u001b[0m kwds\u001b[38;5;241m.\u001b[39mupdate(kwds_defaults)\n\u001b[1;32m--> 948\u001b[0m \u001b[38;5;28;01mreturn\u001b[39;00m \u001b[43m_read\u001b[49m\u001b[43m(\u001b[49m\u001b[43mfilepath_or_buffer\u001b[49m\u001b[43m,\u001b[49m\u001b[43m \u001b[49m\u001b[43mkwds\u001b[49m\u001b[43m)\u001b[49m\n",
      "File \u001b[1;32mc:\\users\\operator-70\\appdata\\local\\programs\\python\\python39\\lib\\site-packages\\pandas\\io\\parsers\\readers.py:611\u001b[0m, in \u001b[0;36m_read\u001b[1;34m(filepath_or_buffer, kwds)\u001b[0m\n\u001b[0;32m    608\u001b[0m _validate_names(kwds\u001b[38;5;241m.\u001b[39mget(\u001b[38;5;124m\"\u001b[39m\u001b[38;5;124mnames\u001b[39m\u001b[38;5;124m\"\u001b[39m, \u001b[38;5;28;01mNone\u001b[39;00m))\n\u001b[0;32m    610\u001b[0m \u001b[38;5;66;03m# Create the parser.\u001b[39;00m\n\u001b[1;32m--> 611\u001b[0m parser \u001b[38;5;241m=\u001b[39m TextFileReader(filepath_or_buffer, \u001b[38;5;241m*\u001b[39m\u001b[38;5;241m*\u001b[39mkwds)\n\u001b[0;32m    613\u001b[0m \u001b[38;5;28;01mif\u001b[39;00m chunksize \u001b[38;5;129;01mor\u001b[39;00m iterator:\n\u001b[0;32m    614\u001b[0m     \u001b[38;5;28;01mreturn\u001b[39;00m parser\n",
      "File \u001b[1;32mc:\\users\\operator-70\\appdata\\local\\programs\\python\\python39\\lib\\site-packages\\pandas\\io\\parsers\\readers.py:1448\u001b[0m, in \u001b[0;36mTextFileReader.__init__\u001b[1;34m(self, f, engine, **kwds)\u001b[0m\n\u001b[0;32m   1445\u001b[0m     \u001b[38;5;28mself\u001b[39m\u001b[38;5;241m.\u001b[39moptions[\u001b[38;5;124m\"\u001b[39m\u001b[38;5;124mhas_index_names\u001b[39m\u001b[38;5;124m\"\u001b[39m] \u001b[38;5;241m=\u001b[39m kwds[\u001b[38;5;124m\"\u001b[39m\u001b[38;5;124mhas_index_names\u001b[39m\u001b[38;5;124m\"\u001b[39m]\n\u001b[0;32m   1447\u001b[0m \u001b[38;5;28mself\u001b[39m\u001b[38;5;241m.\u001b[39mhandles: IOHandles \u001b[38;5;241m|\u001b[39m \u001b[38;5;28;01mNone\u001b[39;00m \u001b[38;5;241m=\u001b[39m \u001b[38;5;28;01mNone\u001b[39;00m\n\u001b[1;32m-> 1448\u001b[0m \u001b[38;5;28mself\u001b[39m\u001b[38;5;241m.\u001b[39m_engine \u001b[38;5;241m=\u001b[39m \u001b[38;5;28;43mself\u001b[39;49m\u001b[38;5;241;43m.\u001b[39;49m\u001b[43m_make_engine\u001b[49m\u001b[43m(\u001b[49m\u001b[43mf\u001b[49m\u001b[43m,\u001b[49m\u001b[43m \u001b[49m\u001b[38;5;28;43mself\u001b[39;49m\u001b[38;5;241;43m.\u001b[39;49m\u001b[43mengine\u001b[49m\u001b[43m)\u001b[49m\n",
      "File \u001b[1;32mc:\\users\\operator-70\\appdata\\local\\programs\\python\\python39\\lib\\site-packages\\pandas\\io\\parsers\\readers.py:1705\u001b[0m, in \u001b[0;36mTextFileReader._make_engine\u001b[1;34m(self, f, engine)\u001b[0m\n\u001b[0;32m   1703\u001b[0m     \u001b[38;5;28;01mif\u001b[39;00m \u001b[38;5;124m\"\u001b[39m\u001b[38;5;124mb\u001b[39m\u001b[38;5;124m\"\u001b[39m \u001b[38;5;129;01mnot\u001b[39;00m \u001b[38;5;129;01min\u001b[39;00m mode:\n\u001b[0;32m   1704\u001b[0m         mode \u001b[38;5;241m+\u001b[39m\u001b[38;5;241m=\u001b[39m \u001b[38;5;124m\"\u001b[39m\u001b[38;5;124mb\u001b[39m\u001b[38;5;124m\"\u001b[39m\n\u001b[1;32m-> 1705\u001b[0m \u001b[38;5;28mself\u001b[39m\u001b[38;5;241m.\u001b[39mhandles \u001b[38;5;241m=\u001b[39m \u001b[43mget_handle\u001b[49m\u001b[43m(\u001b[49m\n\u001b[0;32m   1706\u001b[0m \u001b[43m    \u001b[49m\u001b[43mf\u001b[49m\u001b[43m,\u001b[49m\n\u001b[0;32m   1707\u001b[0m \u001b[43m    \u001b[49m\u001b[43mmode\u001b[49m\u001b[43m,\u001b[49m\n\u001b[0;32m   1708\u001b[0m \u001b[43m    \u001b[49m\u001b[43mencoding\u001b[49m\u001b[38;5;241;43m=\u001b[39;49m\u001b[38;5;28;43mself\u001b[39;49m\u001b[38;5;241;43m.\u001b[39;49m\u001b[43moptions\u001b[49m\u001b[38;5;241;43m.\u001b[39;49m\u001b[43mget\u001b[49m\u001b[43m(\u001b[49m\u001b[38;5;124;43m\"\u001b[39;49m\u001b[38;5;124;43mencoding\u001b[39;49m\u001b[38;5;124;43m\"\u001b[39;49m\u001b[43m,\u001b[49m\u001b[43m \u001b[49m\u001b[38;5;28;43;01mNone\u001b[39;49;00m\u001b[43m)\u001b[49m\u001b[43m,\u001b[49m\n\u001b[0;32m   1709\u001b[0m \u001b[43m    \u001b[49m\u001b[43mcompression\u001b[49m\u001b[38;5;241;43m=\u001b[39;49m\u001b[38;5;28;43mself\u001b[39;49m\u001b[38;5;241;43m.\u001b[39;49m\u001b[43moptions\u001b[49m\u001b[38;5;241;43m.\u001b[39;49m\u001b[43mget\u001b[49m\u001b[43m(\u001b[49m\u001b[38;5;124;43m\"\u001b[39;49m\u001b[38;5;124;43mcompression\u001b[39;49m\u001b[38;5;124;43m\"\u001b[39;49m\u001b[43m,\u001b[49m\u001b[43m \u001b[49m\u001b[38;5;28;43;01mNone\u001b[39;49;00m\u001b[43m)\u001b[49m\u001b[43m,\u001b[49m\n\u001b[0;32m   1710\u001b[0m \u001b[43m    \u001b[49m\u001b[43mmemory_map\u001b[49m\u001b[38;5;241;43m=\u001b[39;49m\u001b[38;5;28;43mself\u001b[39;49m\u001b[38;5;241;43m.\u001b[39;49m\u001b[43moptions\u001b[49m\u001b[38;5;241;43m.\u001b[39;49m\u001b[43mget\u001b[49m\u001b[43m(\u001b[49m\u001b[38;5;124;43m\"\u001b[39;49m\u001b[38;5;124;43mmemory_map\u001b[39;49m\u001b[38;5;124;43m\"\u001b[39;49m\u001b[43m,\u001b[49m\u001b[43m \u001b[49m\u001b[38;5;28;43;01mFalse\u001b[39;49;00m\u001b[43m)\u001b[49m\u001b[43m,\u001b[49m\n\u001b[0;32m   1711\u001b[0m \u001b[43m    \u001b[49m\u001b[43mis_text\u001b[49m\u001b[38;5;241;43m=\u001b[39;49m\u001b[43mis_text\u001b[49m\u001b[43m,\u001b[49m\n\u001b[0;32m   1712\u001b[0m \u001b[43m    \u001b[49m\u001b[43merrors\u001b[49m\u001b[38;5;241;43m=\u001b[39;49m\u001b[38;5;28;43mself\u001b[39;49m\u001b[38;5;241;43m.\u001b[39;49m\u001b[43moptions\u001b[49m\u001b[38;5;241;43m.\u001b[39;49m\u001b[43mget\u001b[49m\u001b[43m(\u001b[49m\u001b[38;5;124;43m\"\u001b[39;49m\u001b[38;5;124;43mencoding_errors\u001b[39;49m\u001b[38;5;124;43m\"\u001b[39;49m\u001b[43m,\u001b[49m\u001b[43m \u001b[49m\u001b[38;5;124;43m\"\u001b[39;49m\u001b[38;5;124;43mstrict\u001b[39;49m\u001b[38;5;124;43m\"\u001b[39;49m\u001b[43m)\u001b[49m\u001b[43m,\u001b[49m\n\u001b[0;32m   1713\u001b[0m \u001b[43m    \u001b[49m\u001b[43mstorage_options\u001b[49m\u001b[38;5;241;43m=\u001b[39;49m\u001b[38;5;28;43mself\u001b[39;49m\u001b[38;5;241;43m.\u001b[39;49m\u001b[43moptions\u001b[49m\u001b[38;5;241;43m.\u001b[39;49m\u001b[43mget\u001b[49m\u001b[43m(\u001b[49m\u001b[38;5;124;43m\"\u001b[39;49m\u001b[38;5;124;43mstorage_options\u001b[39;49m\u001b[38;5;124;43m\"\u001b[39;49m\u001b[43m,\u001b[49m\u001b[43m \u001b[49m\u001b[38;5;28;43;01mNone\u001b[39;49;00m\u001b[43m)\u001b[49m\u001b[43m,\u001b[49m\n\u001b[0;32m   1714\u001b[0m \u001b[43m\u001b[49m\u001b[43m)\u001b[49m\n\u001b[0;32m   1715\u001b[0m \u001b[38;5;28;01massert\u001b[39;00m \u001b[38;5;28mself\u001b[39m\u001b[38;5;241m.\u001b[39mhandles \u001b[38;5;129;01mis\u001b[39;00m \u001b[38;5;129;01mnot\u001b[39;00m \u001b[38;5;28;01mNone\u001b[39;00m\n\u001b[0;32m   1716\u001b[0m f \u001b[38;5;241m=\u001b[39m \u001b[38;5;28mself\u001b[39m\u001b[38;5;241m.\u001b[39mhandles\u001b[38;5;241m.\u001b[39mhandle\n",
      "File \u001b[1;32mc:\\users\\operator-70\\appdata\\local\\programs\\python\\python39\\lib\\site-packages\\pandas\\io\\common.py:863\u001b[0m, in \u001b[0;36mget_handle\u001b[1;34m(path_or_buf, mode, encoding, compression, memory_map, is_text, errors, storage_options)\u001b[0m\n\u001b[0;32m    858\u001b[0m \u001b[38;5;28;01melif\u001b[39;00m \u001b[38;5;28misinstance\u001b[39m(handle, \u001b[38;5;28mstr\u001b[39m):\n\u001b[0;32m    859\u001b[0m     \u001b[38;5;66;03m# Check whether the filename is to be opened in binary mode.\u001b[39;00m\n\u001b[0;32m    860\u001b[0m     \u001b[38;5;66;03m# Binary mode does not support 'encoding' and 'newline'.\u001b[39;00m\n\u001b[0;32m    861\u001b[0m     \u001b[38;5;28;01mif\u001b[39;00m ioargs\u001b[38;5;241m.\u001b[39mencoding \u001b[38;5;129;01mand\u001b[39;00m \u001b[38;5;124m\"\u001b[39m\u001b[38;5;124mb\u001b[39m\u001b[38;5;124m\"\u001b[39m \u001b[38;5;129;01mnot\u001b[39;00m \u001b[38;5;129;01min\u001b[39;00m ioargs\u001b[38;5;241m.\u001b[39mmode:\n\u001b[0;32m    862\u001b[0m         \u001b[38;5;66;03m# Encoding\u001b[39;00m\n\u001b[1;32m--> 863\u001b[0m         handle \u001b[38;5;241m=\u001b[39m \u001b[38;5;28;43mopen\u001b[39;49m\u001b[43m(\u001b[49m\n\u001b[0;32m    864\u001b[0m \u001b[43m            \u001b[49m\u001b[43mhandle\u001b[49m\u001b[43m,\u001b[49m\n\u001b[0;32m    865\u001b[0m \u001b[43m            \u001b[49m\u001b[43mioargs\u001b[49m\u001b[38;5;241;43m.\u001b[39;49m\u001b[43mmode\u001b[49m\u001b[43m,\u001b[49m\n\u001b[0;32m    866\u001b[0m \u001b[43m            \u001b[49m\u001b[43mencoding\u001b[49m\u001b[38;5;241;43m=\u001b[39;49m\u001b[43mioargs\u001b[49m\u001b[38;5;241;43m.\u001b[39;49m\u001b[43mencoding\u001b[49m\u001b[43m,\u001b[49m\n\u001b[0;32m    867\u001b[0m \u001b[43m            \u001b[49m\u001b[43merrors\u001b[49m\u001b[38;5;241;43m=\u001b[39;49m\u001b[43merrors\u001b[49m\u001b[43m,\u001b[49m\n\u001b[0;32m    868\u001b[0m \u001b[43m            \u001b[49m\u001b[43mnewline\u001b[49m\u001b[38;5;241;43m=\u001b[39;49m\u001b[38;5;124;43m\"\u001b[39;49m\u001b[38;5;124;43m\"\u001b[39;49m\u001b[43m,\u001b[49m\n\u001b[0;32m    869\u001b[0m \u001b[43m        \u001b[49m\u001b[43m)\u001b[49m\n\u001b[0;32m    870\u001b[0m     \u001b[38;5;28;01melse\u001b[39;00m:\n\u001b[0;32m    871\u001b[0m         \u001b[38;5;66;03m# Binary mode\u001b[39;00m\n\u001b[0;32m    872\u001b[0m         handle \u001b[38;5;241m=\u001b[39m \u001b[38;5;28mopen\u001b[39m(handle, ioargs\u001b[38;5;241m.\u001b[39mmode)\n",
      "\u001b[1;31mFileNotFoundError\u001b[0m: [Errno 2] No such file or directory: 'data/data_final.csv'"
     ]
    }
   ],
   "source": [
    "import pandas as pd\n",
    "import numpy as np\n",
    "import os\n",
    "import time\n",
    "import re\n",
    "from tqdm import tqdm\n",
    "if not os.path.exists('data/KOR_fs'):\n",
    "     os.makedirs('data/KOR_fs')\n",
    "\n",
    "if not os.path.exists('data/KOR_value'):\n",
    "     os.makedirs('data/KOR_value')\n",
    "        \n",
    "KOR_ticker = pd.read_csv('data/data_final.csv', index_col=0)\n",
    "error_list = []\n",
    "\n",
    "for i in tqdm(range(0, len(KOR_ticker))):\n",
    "\n",
    "    data_fs = pd.DataFrame({'':[np.nan]})\n",
    "    data_value = pd.DataFrame({'':[np.nan]})\n",
    "\n",
    " \n",
    "    name = KOR_ticker.index[i]\n",
    "\n",
    " # 오류 발생 시 이를 무시하고 다음 루프로 진행\n",
    "    try:\n",
    "     # url 생성\n",
    "        url = 'https://comp.fnguide.com/SVO2/ASP/SVD_Finance.asp?pGB=1&gicode=A'+name\n",
    "\n",
    "         # 데이터 다운로드 후 테이블 추출\n",
    "        data = pd.read_html(url, displayed_only = False)\n",
    "\n",
    "        data_IS = data[0]\n",
    "        data_BS = data[2]\n",
    "        data_CF = data[4]\n",
    "        data_IS = data_IS.iloc[:, 0:(len(data_IS.columns)-2)]\n",
    "\n",
    "         # 클렌징\n",
    "        data_fs = pd.concat([data_IS, data_BS, data_CF]).reset_index(drop=True)\n",
    "        data_fs.iloc[:, 0] = data_fs.iloc[:, 0].replace({'계산에 참여한 계정 펼치기':''}, regex = True)\n",
    "        data_fs = data_fs.set_index(data_fs.columns[0])\n",
    "        data_fs = data_fs[~data_fs.index.duplicated(keep='first')]\n",
    "        data_fs = data_fs.filter(like = '12', axis = 1)\n",
    "\n",
    "         # 가치 지표 선택\n",
    "        value_type = ['지배주주순이익', '자본', '영업활동으로인한현금흐름', '매출액']\n",
    "        value_index = data_fs.loc[value_type].iloc[:, [-1]]\n",
    "\n",
    "         # 현재 주가\n",
    "        url_snap = 'https://comp.fnguide.com/SVO2/ASP/SVD_Main.asp?pGB=1&gicode=A'+name\n",
    "        data_snap = pd.read_html(url_snap)[0]\n",
    "\n",
    "        price = data_snap.iloc[0, 1].split()[0]\n",
    "        price = price.replace(\",\", \"\")\n",
    "        price = int(re.findall(\"[0-9]+\", price)[0])\n",
    "\n",
    "\n",
    "        share = data_snap.iloc[6, 1].split()[0]\n",
    "        share = share.replace(\",\", \"\")\n",
    "        share = int(re.findall(\"[0-9]+\", share)[0])\n",
    "        if price !=0. and share !=0:\n",
    "            data_value = price / (value_index.iloc[:, [0]] * 100000000 / share)\n",
    "            data_value.index = ['PER', 'PBR', 'PCR', 'PSR']\n",
    "            data_value[data_value.iloc[:, 0] < 0] = np.nan\n",
    "            data_value = data_value.replace(np.inf, np.nan)\n",
    "\n",
    "    except:\n",
    "         error_list.append(name)\n",
    "\n",
    "data_fs.to_csv('data/KOR_fs/'+name+'_fs.csv')\n",
    "data_value.to_csv('data/KOR_value/'+name+'_value.csv')"
   ]
  },
  {
   "cell_type": "code",
   "execution_count": null,
   "metadata": {},
   "outputs": [],
   "source": []
  }
 ],
 "metadata": {
  "kernelspec": {
   "display_name": "Python 3 (ipykernel)",
   "language": "python",
   "name": "python3"
  },
  "language_info": {
   "codemirror_mode": {
    "name": "ipython",
    "version": 3
   },
   "file_extension": ".py",
   "mimetype": "text/x-python",
   "name": "python",
   "nbconvert_exporter": "python",
   "pygments_lexer": "ipython3",
   "version": "3.9.6"
  }
 },
 "nbformat": 4,
 "nbformat_minor": 2
}
