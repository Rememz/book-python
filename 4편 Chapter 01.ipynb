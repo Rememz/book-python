{
 "cells": [
  {
   "cell_type": "code",
   "execution_count": 107,
   "id": "2d6202a1",
   "metadata": {},
   "outputs": [],
   "source": [
    "import pandas as pd\n",
    "import numpy as np\n",
    "import os\n",
    "\n",
    "plt.rcParams['font.family'] = 'Malgun Gothic'\n",
    "plt.rcParams['axes.unicode_minus'] = False\n",
    "\n",
    "import warnings\n",
    "warnings.filterwarnings(action='ignore') \n"
   ]
  },
  {
   "cell_type": "markdown",
   "id": "2cb545d9",
   "metadata": {},
   "source": [
    "### 시리즈 생성"
   ]
  },
  {
   "cell_type": "code",
   "execution_count": 108,
   "id": "e56ea9ba",
   "metadata": {},
   "outputs": [
    {
     "data": {
      "text/plain": [
       "서울    9904312\n",
       "부산    3448737\n",
       "인천     289045\n",
       "대구    2466052\n",
       "dtype: int64"
      ]
     },
     "execution_count": 108,
     "metadata": {},
     "output_type": "execute_result"
    }
   ],
   "source": [
    "s = pd.Series([9904312, 3448737, 289045, 2466052], index = [\"서울\", \"부산\", \"인천\", \"대구\"])\n",
    "s\n"
   ]
  },
  {
   "cell_type": "code",
   "execution_count": 109,
   "id": "4ba47d6b",
   "metadata": {},
   "outputs": [
    {
     "data": {
      "text/plain": [
       "0    10\n",
       "1    11\n",
       "2    12\n",
       "3    13\n",
       "dtype: int64"
      ]
     },
     "execution_count": 109,
     "metadata": {},
     "output_type": "execute_result"
    }
   ],
   "source": [
    "pd.Series(range(10, 14))"
   ]
  },
  {
   "cell_type": "markdown",
   "id": "a6fe6351",
   "metadata": {},
   "source": [
    "### 데이터프레임 생성"
   ]
  },
  {
   "cell_type": "code",
   "execution_count": 110,
   "id": "feb15aa4",
   "metadata": {},
   "outputs": [
    {
     "data": {
      "text/html": [
       "<div>\n",
       "<style scoped>\n",
       "    .dataframe tbody tr th:only-of-type {\n",
       "        vertical-align: middle;\n",
       "    }\n",
       "\n",
       "    .dataframe tbody tr th {\n",
       "        vertical-align: top;\n",
       "    }\n",
       "\n",
       "    .dataframe thead th {\n",
       "        text-align: right;\n",
       "    }\n",
       "</style>\n",
       "<table border=\"1\" class=\"dataframe\">\n",
       "  <thead>\n",
       "    <tr style=\"text-align: right;\">\n",
       "      <th></th>\n",
       "      <th>지역</th>\n",
       "      <th>2015</th>\n",
       "      <th>2010</th>\n",
       "      <th>2005</th>\n",
       "      <th>2000</th>\n",
       "      <th>2010-2015 증가율</th>\n",
       "    </tr>\n",
       "  </thead>\n",
       "  <tbody>\n",
       "    <tr>\n",
       "      <th>서울</th>\n",
       "      <td>수도권</td>\n",
       "      <td>9904312</td>\n",
       "      <td>9631482</td>\n",
       "      <td>9762546</td>\n",
       "      <td>9853972</td>\n",
       "      <td>0.0283</td>\n",
       "    </tr>\n",
       "    <tr>\n",
       "      <th>부산</th>\n",
       "      <td>경상권</td>\n",
       "      <td>3448737</td>\n",
       "      <td>3393191</td>\n",
       "      <td>3512547</td>\n",
       "      <td>3655437</td>\n",
       "      <td>0.0163</td>\n",
       "    </tr>\n",
       "    <tr>\n",
       "      <th>인천</th>\n",
       "      <td>수도권</td>\n",
       "      <td>2890451</td>\n",
       "      <td>2632035</td>\n",
       "      <td>2517680</td>\n",
       "      <td>2466338</td>\n",
       "      <td>0.0982</td>\n",
       "    </tr>\n",
       "    <tr>\n",
       "      <th>대구</th>\n",
       "      <td>경상</td>\n",
       "      <td>2466052</td>\n",
       "      <td>2431774</td>\n",
       "      <td>2456016</td>\n",
       "      <td>2473990</td>\n",
       "      <td>0.0141</td>\n",
       "    </tr>\n",
       "  </tbody>\n",
       "</table>\n",
       "</div>"
      ],
      "text/plain": [
       "     지역     2015     2010     2005     2000  2010-2015 증가율\n",
       "서울  수도권  9904312  9631482  9762546  9853972         0.0283\n",
       "부산  경상권  3448737  3393191  3512547  3655437         0.0163\n",
       "인천  수도권  2890451  2632035  2517680  2466338         0.0982\n",
       "대구   경상  2466052  2431774  2456016  2473990         0.0141"
      ]
     },
     "execution_count": 110,
     "metadata": {},
     "output_type": "execute_result"
    }
   ],
   "source": [
    "data = {\n",
    "    \"2015\": [9904312, 3448737, 2890451, 2466052],\n",
    "    \"2010\": [9631482, 3393191, 2632035, 2431774],\n",
    "    \"2005\": [9762546, 3512547, 2517680, 2456016],\n",
    "    \"2000\": [9853972, 3655437, 2466338, 2473990],\n",
    "    \"지역\": [\"수도권\", \"경상권\", \"수도권\", \"경상\"],\n",
    "    \"2010-2015 증가율\": [0.0283, 0.0163, 0.0982, 0.0141]\n",
    "}\n",
    "columns = [\"지역\", \"2015\", \"2010\", \"2005\", \"2000\", \"2010-2015 증가율\"]\n",
    "index = [\"서울\", \"부산\", \"인천\", \"대구\"]\n",
    "df = pd.DataFrame(data, index= index, columns = columns)\n",
    "df"
   ]
  },
  {
   "cell_type": "code",
   "execution_count": null,
   "id": "e85a0354",
   "metadata": {},
   "outputs": [],
   "source": []
  },
  {
   "cell_type": "markdown",
   "id": "0704a2b1",
   "metadata": {},
   "source": [
    "### 2. ndrray"
   ]
  },
  {
   "cell_type": "code",
   "execution_count": 111,
   "id": "19142851",
   "metadata": {},
   "outputs": [
    {
     "data": {
      "text/plain": [
       "6"
      ]
     },
     "execution_count": 111,
     "metadata": {},
     "output_type": "execute_result"
    }
   ],
   "source": [
    "import numpy as np\n",
    "x = np.array([[1,2,3], [3,4,6]])\n",
    "np.size(x)"
   ]
  },
  {
   "cell_type": "code",
   "execution_count": 112,
   "id": "4ca81c0b",
   "metadata": {},
   "outputs": [
    {
     "data": {
      "text/plain": [
       "3"
      ]
     },
     "execution_count": 112,
     "metadata": {},
     "output_type": "execute_result"
    }
   ],
   "source": [
    "np.size(x,1)"
   ]
  },
  {
   "cell_type": "code",
   "execution_count": 113,
   "id": "022a5111",
   "metadata": {},
   "outputs": [
    {
     "data": {
      "text/plain": [
       "1.5723301886761005"
      ]
     },
     "execution_count": 113,
     "metadata": {},
     "output_type": "execute_result"
    }
   ],
   "source": [
    "np.std(x)"
   ]
  },
  {
   "cell_type": "code",
   "execution_count": 114,
   "id": "d217ecfa",
   "metadata": {},
   "outputs": [
    {
     "data": {
      "text/plain": [
       "array([1., 2., 3., 4.])"
      ]
     },
     "execution_count": 114,
     "metadata": {},
     "output_type": "execute_result"
    }
   ],
   "source": [
    "x= [1,2,3,4]\n",
    "y = np.array(x, dtype = float)\n",
    "y"
   ]
  },
  {
   "cell_type": "code",
   "execution_count": 115,
   "id": "0f4f6b2e",
   "metadata": {},
   "outputs": [],
   "source": [
    "#pip install numpy_financial"
   ]
  },
  {
   "cell_type": "code",
   "execution_count": 116,
   "id": "3ffe9552",
   "metadata": {},
   "outputs": [
    {
     "name": "stdout",
     "output_type": "stream",
     "text": [
      "14.71\n"
     ]
    }
   ],
   "source": [
    "import numpy_financial as npf\n",
    "# 현금흐름 데이터\n",
    "cashflows = [-100, 50, 40, 30, 20]\n",
    "\n",
    "x = npf.npv(0.1, cashflows)\n",
    "print(round(x,2))"
   ]
  },
  {
   "cell_type": "code",
   "execution_count": 117,
   "id": "c054cca0",
   "metadata": {},
   "outputs": [
    {
     "name": "stdout",
     "output_type": "stream",
     "text": [
      "-1266.71\n"
     ]
    }
   ],
   "source": [
    "payment = npf.pmt(0.045/12, 30*12, 250000)\n",
    "\n",
    "a= round(payment,2)\n",
    "print(a)"
   ]
  },
  {
   "cell_type": "markdown",
   "id": "fa601f9a",
   "metadata": {},
   "source": [
    "#### npf.pv\n",
    "\n",
    " - pv 함수는 현재가치(Present Value, PV)를 계산하는 데 사용되며 이 함수는 특정 이자율에 따라 미래 현금흐름을 현재 가치로 할인하며 엑셀에서의 PV와 비슷한 역할을 함\n",
    "\n",
    "- 사용 방식은 npf.pv(rate, nper, pmt, fv = 0.0, when = 'end')이며 각 옵션은\n",
    "- rate: 이자율\n",
    "- nper: 총 기간(년)\n",
    "- pmt: 각 기간에 지불되는 현금 흐름\n",
    "- fv : 미래 가치(Future Value). 기본값은 0입니다.\n",
    "- when (선택 사항): 지불이 발생하는 기간의 시작 또는 끝을 나타내는 플래그. 0이면 기간의 끝에 지불이 발생하고, 1이면 기간의 시작에 지불이 발생 기본값은 0"
   ]
  },
  {
   "cell_type": "code",
   "execution_count": 118,
   "id": "98e18224",
   "metadata": {},
   "outputs": [
    {
     "name": "stdout",
     "output_type": "stream",
     "text": [
      "-62.09\n"
     ]
    }
   ],
   "source": [
    "import numpy_financial as npf\n",
    "\n",
    "pv1 = npf.pv(0.1, 5, 0, 100)\n",
    "print(round(pv1,2))"
   ]
  },
  {
   "cell_type": "markdown",
   "id": "fa1b34d5",
   "metadata": {},
   "source": [
    "### Scipy"
   ]
  },
  {
   "cell_type": "code",
   "execution_count": 119,
   "id": "ca6d3508",
   "metadata": {},
   "outputs": [
    {
     "name": "stdout",
     "output_type": "stream",
     "text": [
      "0.04333333333333334\n",
      "0.04216388706767926\n"
     ]
    }
   ],
   "source": [
    "import scipy as sp\n",
    "\n",
    "ret = sp.array([0.1, 0.05, -0.02])\n",
    "print(sp.mean(ret))\n",
    "print(pow(sp.prod(ret+1), 1./len(ret))-1)"
   ]
  },
  {
   "cell_type": "code",
   "execution_count": 120,
   "id": "40a6e74a",
   "metadata": {},
   "outputs": [
    {
     "data": {
      "text/plain": [
       "array([ 0.1 ,  0.05, -0.02])"
      ]
     },
     "execution_count": 120,
     "metadata": {},
     "output_type": "execute_result"
    }
   ],
   "source": [
    "ret"
   ]
  },
  {
   "cell_type": "code",
   "execution_count": 121,
   "id": "61cb776a",
   "metadata": {},
   "outputs": [
    {
     "name": "stdout",
     "output_type": "stream",
     "text": [
      "0.04216388706767926\n"
     ]
    }
   ],
   "source": [
    "def geomeanreturn(ret):\n",
    "    \n",
    "    return pow(sp.prod(ret+1), 1./len(ret))-1\n",
    "\n",
    "print(geomeanreturn(ret))"
   ]
  },
  {
   "cell_type": "code",
   "execution_count": 122,
   "id": "b1b543ca",
   "metadata": {},
   "outputs": [
    {
     "name": "stdout",
     "output_type": "stream",
     "text": [
      "[2 3 4 6]\n",
      "3.0\n"
     ]
    }
   ],
   "source": [
    "import scipy as sp\n",
    "\n",
    "print(sp.unique([2,3,4,6,6,4,4]))\n",
    "print(sp.median([1,2,3,4,5]))"
   ]
  },
  {
   "cell_type": "markdown",
   "id": "bf803356",
   "metadata": {},
   "source": [
    "####  (4) Matplotlib"
   ]
  },
  {
   "cell_type": "code",
   "execution_count": 123,
   "id": "a1581342",
   "metadata": {},
   "outputs": [
    {
     "data": {
      "image/png": "[encoded data removed]",
      "text/plain": [
       "<Figure size 640x480 with 1 Axes>"
      ]
     },
     "metadata": {},
     "output_type": "display_data"
    }
   ],
   "source": [
    "import matplotlib.pyplot as plt\n",
    "\n",
    "x = [1,2,3]\n",
    "\n",
    "y =[6,4,8]\n",
    "\n",
    "plt.plot(x,y)\n",
    "plt.xlabel('numbers')\n",
    "plt.ylabel('counting')\n",
    "plt.title('practice plot')\n",
    "plt.show()"
   ]
  },
  {
   "cell_type": "code",
   "execution_count": 124,
   "id": "c059682f",
   "metadata": {},
   "outputs": [
    {
     "data": {
      "image/png": "[encoded data removed]",
      "text/plain": [
       "<Figure size 640x480 with 1 Axes>"
      ]
     },
     "metadata": {},
     "output_type": "display_data"
    }
   ],
   "source": [
    "from matplotlib.pyplot import *\n",
    "\n",
    "x = np.linspace(-np.pi, np.pi, 256, endpoint= True)\n",
    "\n",
    "c, s = np.cos(x), np.sin(x)\n",
    "\n",
    "plot(x,c), plot(x,s)\n",
    "show()"
   ]
  },
  {
   "cell_type": "code",
   "execution_count": 125,
   "id": "a0123e24",
   "metadata": {},
   "outputs": [],
   "source": [
    "# pip install statsmodels"
   ]
  },
  {
   "cell_type": "code",
   "execution_count": 126,
   "id": "f585a125",
   "metadata": {},
   "outputs": [],
   "source": [
    "import statsmodels.api as sm"
   ]
  },
  {
   "cell_type": "code",
   "execution_count": 127,
   "id": "17df464b",
   "metadata": {},
   "outputs": [
    {
     "name": "stdout",
     "output_type": "stream",
     "text": [
      "0    1.0\n",
      "1    4.0\n",
      "2   -3.0\n",
      "3    NaN\n",
      "4    5.0\n",
      "dtype: float64\n"
     ]
    }
   ],
   "source": [
    "import numpy as np\n",
    "import pandas as pd\n",
    "\n",
    "x = pd.Series([1,4,-3,np.nan,5])\n",
    "print(x)"
   ]
  },
  {
   "cell_type": "code",
   "execution_count": 128,
   "id": "94962fc3",
   "metadata": {},
   "outputs": [
    {
     "name": "stdout",
     "output_type": "stream",
     "text": [
      "1.75\n",
      "0    1.00\n",
      "1    4.00\n",
      "2   -3.00\n",
      "3    1.75\n",
      "4    5.00\n",
      "dtype: float64\n"
     ]
    }
   ],
   "source": [
    "m = np.mean(x)\n",
    "print(m)\n",
    "print(x.fillna(m))"
   ]
  },
  {
   "cell_type": "code",
   "execution_count": 129,
   "id": "223daeab",
   "metadata": {},
   "outputs": [
    {
     "name": "stdout",
     "output_type": "stream",
     "text": [
      "원시 데이터셋\n",
      "    stock A   stock B\n",
      "0  0.972842  0.277234\n",
      "1  0.997334  0.053537\n",
      "2  0.152902  0.676041\n",
      "3  0.789125  0.149379\n"
     ]
    }
   ],
   "source": [
    "import pandas as pd\n",
    "import numpy as np\n",
    "\n",
    "np.random.seed(1256)\n",
    "\n",
    "df = pd.DataFrame(np.random.rand(4, 2), columns = ['stock A', 'stock B'])\n",
    "df2 = df.stack()\n",
    "\n",
    "print('원시 데이터셋')\n",
    "print(df)"
   ]
  },
  {
   "cell_type": "code",
   "execution_count": 130,
   "id": "ac5b3a5e",
   "metadata": {},
   "outputs": [
    {
     "name": "stdout",
     "output_type": "stream",
     "text": [
      "스택된 데이터셋\n",
      "0  stock A    0.972842\n",
      "   stock B    0.277234\n",
      "1  stock A    0.997334\n",
      "   stock B    0.053537\n",
      "2  stock A    0.152902\n",
      "   stock B    0.676041\n",
      "3  stock A    0.789125\n",
      "   stock B    0.149379\n",
      "dtype: float64\n"
     ]
    }
   ],
   "source": [
    "df2 = df.stack()\n",
    "print(\"스택된 데이터셋\")\n",
    "print(df2)"
   ]
  },
  {
   "cell_type": "code",
   "execution_count": 131,
   "id": "48a60d2f",
   "metadata": {},
   "outputs": [
    {
     "name": "stdout",
     "output_type": "stream",
     "text": [
      "복귀\n",
      "    stock A   stock B\n",
      "0  0.972842  0.277234\n",
      "1  0.997334  0.053537\n",
      "2  0.152902  0.676041\n",
      "3  0.789125  0.149379\n"
     ]
    }
   ],
   "source": [
    "k = df2.unstack()\n",
    "print(\"복귀\")\n",
    "print(k)"
   ]
  },
  {
   "cell_type": "code",
   "execution_count": 132,
   "id": "1817701e",
   "metadata": {},
   "outputs": [],
   "source": [
    "import pandas as pd\n",
    "import numpy as np\n",
    "import FinanceDataReader as fdr\n",
    "import matplotlib.pyplot as plt"
   ]
  },
  {
   "cell_type": "code",
   "execution_count": 133,
   "id": "c90d3004",
   "metadata": {},
   "outputs": [
    {
     "data": {
      "text/html": [
       "<div>\n",
       "<style scoped>\n",
       "    .dataframe tbody tr th:only-of-type {\n",
       "        vertical-align: middle;\n",
       "    }\n",
       "\n",
       "    .dataframe tbody tr th {\n",
       "        vertical-align: top;\n",
       "    }\n",
       "\n",
       "    .dataframe thead th {\n",
       "        text-align: right;\n",
       "    }\n",
       "</style>\n",
       "<table border=\"1\" class=\"dataframe\">\n",
       "  <thead>\n",
       "    <tr style=\"text-align: right;\">\n",
       "      <th></th>\n",
       "      <th>Open</th>\n",
       "      <th>High</th>\n",
       "      <th>Low</th>\n",
       "      <th>Close</th>\n",
       "      <th>Volume</th>\n",
       "      <th>Change</th>\n",
       "    </tr>\n",
       "    <tr>\n",
       "      <th>Date</th>\n",
       "      <th></th>\n",
       "      <th></th>\n",
       "      <th></th>\n",
       "      <th></th>\n",
       "      <th></th>\n",
       "      <th></th>\n",
       "    </tr>\n",
       "  </thead>\n",
       "  <tbody>\n",
       "    <tr>\n",
       "      <th>2013-01-02</th>\n",
       "      <td>30660</td>\n",
       "      <td>31519</td>\n",
       "      <td>30540</td>\n",
       "      <td>31520</td>\n",
       "      <td>229274</td>\n",
       "      <td>0.035480</td>\n",
       "    </tr>\n",
       "    <tr>\n",
       "      <th>2013-01-03</th>\n",
       "      <td>31640</td>\n",
       "      <td>31680</td>\n",
       "      <td>30860</td>\n",
       "      <td>30860</td>\n",
       "      <td>284927</td>\n",
       "      <td>-0.020939</td>\n",
       "    </tr>\n",
       "    <tr>\n",
       "      <th>2013-01-04</th>\n",
       "      <td>30800</td>\n",
       "      <td>30840</td>\n",
       "      <td>30199</td>\n",
       "      <td>30500</td>\n",
       "      <td>260120</td>\n",
       "      <td>-0.011666</td>\n",
       "    </tr>\n",
       "    <tr>\n",
       "      <th>2013-01-07</th>\n",
       "      <td>30300</td>\n",
       "      <td>30560</td>\n",
       "      <td>29999</td>\n",
       "      <td>30400</td>\n",
       "      <td>252436</td>\n",
       "      <td>-0.003279</td>\n",
       "    </tr>\n",
       "    <tr>\n",
       "      <th>2013-01-08</th>\n",
       "      <td>30260</td>\n",
       "      <td>30340</td>\n",
       "      <td>29960</td>\n",
       "      <td>30000</td>\n",
       "      <td>276757</td>\n",
       "      <td>-0.013158</td>\n",
       "    </tr>\n",
       "    <tr>\n",
       "      <th>...</th>\n",
       "      <td>...</td>\n",
       "      <td>...</td>\n",
       "      <td>...</td>\n",
       "      <td>...</td>\n",
       "      <td>...</td>\n",
       "      <td>...</td>\n",
       "    </tr>\n",
       "    <tr>\n",
       "      <th>2022-12-23</th>\n",
       "      <td>58200</td>\n",
       "      <td>58400</td>\n",
       "      <td>57700</td>\n",
       "      <td>58100</td>\n",
       "      <td>9829407</td>\n",
       "      <td>-0.016920</td>\n",
       "    </tr>\n",
       "    <tr>\n",
       "      <th>2022-12-26</th>\n",
       "      <td>58000</td>\n",
       "      <td>58100</td>\n",
       "      <td>57700</td>\n",
       "      <td>57900</td>\n",
       "      <td>6756411</td>\n",
       "      <td>-0.003442</td>\n",
       "    </tr>\n",
       "    <tr>\n",
       "      <th>2022-12-27</th>\n",
       "      <td>58000</td>\n",
       "      <td>58400</td>\n",
       "      <td>57900</td>\n",
       "      <td>58100</td>\n",
       "      <td>10667027</td>\n",
       "      <td>0.003454</td>\n",
       "    </tr>\n",
       "    <tr>\n",
       "      <th>2022-12-28</th>\n",
       "      <td>57600</td>\n",
       "      <td>57600</td>\n",
       "      <td>56400</td>\n",
       "      <td>56600</td>\n",
       "      <td>14665410</td>\n",
       "      <td>-0.025818</td>\n",
       "    </tr>\n",
       "    <tr>\n",
       "      <th>2022-12-29</th>\n",
       "      <td>56000</td>\n",
       "      <td>56200</td>\n",
       "      <td>55300</td>\n",
       "      <td>55300</td>\n",
       "      <td>11295935</td>\n",
       "      <td>-0.022968</td>\n",
       "    </tr>\n",
       "  </tbody>\n",
       "</table>\n",
       "<p>2461 rows × 6 columns</p>\n",
       "</div>"
      ],
      "text/plain": [
       "             Open   High    Low  Close    Volume    Change\n",
       "Date                                                      \n",
       "2013-01-02  30660  31519  30540  31520    229274  0.035480\n",
       "2013-01-03  31640  31680  30860  30860    284927 -0.020939\n",
       "2013-01-04  30800  30840  30199  30500    260120 -0.011666\n",
       "2013-01-07  30300  30560  29999  30400    252436 -0.003279\n",
       "2013-01-08  30260  30340  29960  30000    276757 -0.013158\n",
       "...           ...    ...    ...    ...       ...       ...\n",
       "2022-12-23  58200  58400  57700  58100   9829407 -0.016920\n",
       "2022-12-26  58000  58100  57700  57900   6756411 -0.003442\n",
       "2022-12-27  58000  58400  57900  58100  10667027  0.003454\n",
       "2022-12-28  57600  57600  56400  56600  14665410 -0.025818\n",
       "2022-12-29  56000  56200  55300  55300  11295935 -0.022968\n",
       "\n",
       "[2461 rows x 6 columns]"
      ]
     },
     "execution_count": 133,
     "metadata": {},
     "output_type": "execute_result"
    }
   ],
   "source": [
    "sm_10 = fdr.DataReader(\"005930\",\"2013-01-01\",\"2022-12-31\")\n",
    "sm_10"
   ]
  },
  {
   "cell_type": "code",
   "execution_count": 134,
   "id": "57d7890e",
   "metadata": {},
   "outputs": [
    {
     "data": {
      "text/plain": [
       "<Axes: xlabel='Date'>"
      ]
     },
     "execution_count": 134,
     "metadata": {},
     "output_type": "execute_result"
    },
    {
     "data": {
      "image/png": "[encoded data removed]",
      "text/plain": [
       "<Figure size 640x480 with 1 Axes>"
      ]
     },
     "metadata": {},
     "output_type": "display_data"
    }
   ],
   "source": [
    "sm_10[\"Close\"].plot()"
   ]
  },
  {
   "cell_type": "code",
   "execution_count": 135,
   "id": "527a76a0",
   "metadata": {},
   "outputs": [
    {
     "data": {
      "text/html": [
       "<div>\n",
       "<style scoped>\n",
       "    .dataframe tbody tr th:only-of-type {\n",
       "        vertical-align: middle;\n",
       "    }\n",
       "\n",
       "    .dataframe tbody tr th {\n",
       "        vertical-align: top;\n",
       "    }\n",
       "\n",
       "    .dataframe thead th {\n",
       "        text-align: right;\n",
       "    }\n",
       "</style>\n",
       "<table border=\"1\" class=\"dataframe\">\n",
       "  <thead>\n",
       "    <tr style=\"text-align: right;\">\n",
       "      <th></th>\n",
       "      <th>Open</th>\n",
       "      <th>High</th>\n",
       "      <th>Low</th>\n",
       "      <th>Close</th>\n",
       "      <th>Volume</th>\n",
       "      <th>Change</th>\n",
       "    </tr>\n",
       "    <tr>\n",
       "      <th>Date</th>\n",
       "      <th></th>\n",
       "      <th></th>\n",
       "      <th></th>\n",
       "      <th></th>\n",
       "      <th></th>\n",
       "      <th></th>\n",
       "    </tr>\n",
       "  </thead>\n",
       "  <tbody>\n",
       "    <tr>\n",
       "      <th>2013-01-02</th>\n",
       "      <td>72354</td>\n",
       "      <td>72982</td>\n",
       "      <td>71256</td>\n",
       "      <td>71413</td>\n",
       "      <td>154535</td>\n",
       "      <td>0.002203</td>\n",
       "    </tr>\n",
       "    <tr>\n",
       "      <th>2013-01-03</th>\n",
       "      <td>71881</td>\n",
       "      <td>72823</td>\n",
       "      <td>68743</td>\n",
       "      <td>69372</td>\n",
       "      <td>356250</td>\n",
       "      <td>-0.028580</td>\n",
       "    </tr>\n",
       "    <tr>\n",
       "      <th>2013-01-04</th>\n",
       "      <td>69529</td>\n",
       "      <td>71099</td>\n",
       "      <td>69215</td>\n",
       "      <td>71099</td>\n",
       "      <td>234701</td>\n",
       "      <td>0.024895</td>\n",
       "    </tr>\n",
       "    <tr>\n",
       "      <th>2013-01-07</th>\n",
       "      <td>72039</td>\n",
       "      <td>75492</td>\n",
       "      <td>71882</td>\n",
       "      <td>75336</td>\n",
       "      <td>404906</td>\n",
       "      <td>0.059593</td>\n",
       "    </tr>\n",
       "    <tr>\n",
       "      <th>2013-01-08</th>\n",
       "      <td>75336</td>\n",
       "      <td>75807</td>\n",
       "      <td>74081</td>\n",
       "      <td>74395</td>\n",
       "      <td>198565</td>\n",
       "      <td>-0.012491</td>\n",
       "    </tr>\n",
       "    <tr>\n",
       "      <th>...</th>\n",
       "      <td>...</td>\n",
       "      <td>...</td>\n",
       "      <td>...</td>\n",
       "      <td>...</td>\n",
       "      <td>...</td>\n",
       "      <td>...</td>\n",
       "    </tr>\n",
       "    <tr>\n",
       "      <th>2022-12-23</th>\n",
       "      <td>180500</td>\n",
       "      <td>182000</td>\n",
       "      <td>178000</td>\n",
       "      <td>178000</td>\n",
       "      <td>613209</td>\n",
       "      <td>-0.035230</td>\n",
       "    </tr>\n",
       "    <tr>\n",
       "      <th>2022-12-26</th>\n",
       "      <td>178500</td>\n",
       "      <td>180500</td>\n",
       "      <td>177000</td>\n",
       "      <td>178500</td>\n",
       "      <td>350843</td>\n",
       "      <td>0.002809</td>\n",
       "    </tr>\n",
       "    <tr>\n",
       "      <th>2022-12-27</th>\n",
       "      <td>179500</td>\n",
       "      <td>182500</td>\n",
       "      <td>179000</td>\n",
       "      <td>181000</td>\n",
       "      <td>492232</td>\n",
       "      <td>0.014006</td>\n",
       "    </tr>\n",
       "    <tr>\n",
       "      <th>2022-12-28</th>\n",
       "      <td>179000</td>\n",
       "      <td>183500</td>\n",
       "      <td>178000</td>\n",
       "      <td>180000</td>\n",
       "      <td>580495</td>\n",
       "      <td>-0.005525</td>\n",
       "    </tr>\n",
       "    <tr>\n",
       "      <th>2022-12-29</th>\n",
       "      <td>180000</td>\n",
       "      <td>185000</td>\n",
       "      <td>177500</td>\n",
       "      <td>177500</td>\n",
       "      <td>656658</td>\n",
       "      <td>-0.013889</td>\n",
       "    </tr>\n",
       "  </tbody>\n",
       "</table>\n",
       "<p>2461 rows × 6 columns</p>\n",
       "</div>"
      ],
      "text/plain": [
       "              Open    High     Low   Close  Volume    Change\n",
       "Date                                                        \n",
       "2013-01-02   72354   72982   71256   71413  154535  0.002203\n",
       "2013-01-03   71881   72823   68743   69372  356250 -0.028580\n",
       "2013-01-04   69529   71099   69215   71099  234701  0.024895\n",
       "2013-01-07   72039   75492   71882   75336  404906  0.059593\n",
       "2013-01-08   75336   75807   74081   74395  198565 -0.012491\n",
       "...            ...     ...     ...     ...     ...       ...\n",
       "2022-12-23  180500  182000  178000  178000  613209 -0.035230\n",
       "2022-12-26  178500  180500  177000  178500  350843  0.002809\n",
       "2022-12-27  179500  182500  179000  181000  492232  0.014006\n",
       "2022-12-28  179000  183500  178000  180000  580495 -0.005525\n",
       "2022-12-29  180000  185000  177500  177500  656658 -0.013889\n",
       "\n",
       "[2461 rows x 6 columns]"
      ]
     },
     "execution_count": 135,
     "metadata": {},
     "output_type": "execute_result"
    }
   ],
   "source": [
    "naver_10 = fdr.DataReader(\"035420\",\"2013-01-01\",\"2022-12-31\")\n",
    "naver_10"
   ]
  },
  {
   "cell_type": "code",
   "execution_count": 136,
   "id": "59028296",
   "metadata": {},
   "outputs": [
    {
     "data": {
      "text/plain": [
       "<Axes: xlabel='Date'>"
      ]
     },
     "execution_count": 136,
     "metadata": {},
     "output_type": "execute_result"
    },
    {
     "data": {
      "image/png": "[encoded data removed]",
      "text/plain": [
       "<Figure size 640x480 with 1 Axes>"
      ]
     },
     "metadata": {},
     "output_type": "display_data"
    }
   ],
   "source": [
    "naver_10[\"Close\"].plot()"
   ]
  },
  {
   "cell_type": "code",
   "execution_count": 137,
   "id": "a8a429d5",
   "metadata": {},
   "outputs": [],
   "source": [
    "sm = fdr.DataReader(\"005930\")\n",
    "lg = fdr.DataReader(\"066570\")"
   ]
  },
  {
   "cell_type": "code",
   "execution_count": 138,
   "id": "241dfba1",
   "metadata": {},
   "outputs": [
    {
     "name": "stdout",
     "output_type": "stream",
     "text": [
      "Date\n",
      "2024-01-12    73100\n",
      "2024-01-15    73900\n",
      "2024-01-16    72600\n",
      "2024-01-17    71000\n",
      "2024-01-18    71700\n",
      "Name: Close, dtype: int64\n",
      "Date\n",
      "2024-01-12    94700\n",
      "2024-01-15    95100\n",
      "2024-01-16    94600\n",
      "2024-01-17    91300\n",
      "2024-01-18    91200\n",
      "Name: Close, dtype: int64\n"
     ]
    }
   ],
   "source": [
    "print(sm[\"Close\"][-5:])\n",
    "print(lg[\"Close\"][-5:])"
   ]
  },
  {
   "cell_type": "code",
   "execution_count": 139,
   "id": "eb22d1c6",
   "metadata": {},
   "outputs": [
    {
     "name": "stdout",
     "output_type": "stream",
     "text": [
      "Date\n",
      "2024-01-12         NaN\n",
      "2024-01-15    0.010944\n",
      "2024-01-16   -0.017591\n",
      "2024-01-17   -0.022039\n",
      "2024-01-18    0.009859\n",
      "Name: Close, dtype: float64\n",
      "Date\n",
      "2024-01-12         NaN\n",
      "2024-01-15    0.004224\n",
      "2024-01-16   -0.005258\n",
      "2024-01-17   -0.034884\n",
      "2024-01-18   -0.001095\n",
      "Name: Close, dtype: float64\n"
     ]
    }
   ],
   "source": [
    "print(sm[\"Close\"][-5:].pct_change())\n",
    "print(lg[\"Close\"][-5:].pct_change())"
   ]
  },
  {
   "cell_type": "code",
   "execution_count": 140,
   "id": "ef4125e8",
   "metadata": {},
   "outputs": [],
   "source": [
    "sk = fdr.DataReader(\"006660\",\"2022-01-01\",\"2022-12-31\")\n",
    "sm = fdr.DataReader(\"005930\",\"2022-01-01\",\"2022-12-31\")"
   ]
  },
  {
   "cell_type": "code",
   "execution_count": 141,
   "id": "7d2cea97",
   "metadata": {},
   "outputs": [
    {
     "data": {
      "text/html": [
       "<div>\n",
       "<style scoped>\n",
       "    .dataframe tbody tr th:only-of-type {\n",
       "        vertical-align: middle;\n",
       "    }\n",
       "\n",
       "    .dataframe tbody tr th {\n",
       "        vertical-align: top;\n",
       "    }\n",
       "\n",
       "    .dataframe thead th {\n",
       "        text-align: right;\n",
       "    }\n",
       "</style>\n",
       "<table border=\"1\" class=\"dataframe\">\n",
       "  <thead>\n",
       "    <tr style=\"text-align: right;\">\n",
       "      <th></th>\n",
       "      <th>Open</th>\n",
       "      <th>High</th>\n",
       "      <th>Low</th>\n",
       "      <th>Close</th>\n",
       "      <th>Volume</th>\n",
       "      <th>Change</th>\n",
       "    </tr>\n",
       "    <tr>\n",
       "      <th>Date</th>\n",
       "      <th></th>\n",
       "      <th></th>\n",
       "      <th></th>\n",
       "      <th></th>\n",
       "      <th></th>\n",
       "      <th></th>\n",
       "    </tr>\n",
       "  </thead>\n",
       "  <tbody>\n",
       "    <tr>\n",
       "      <th>2022-01-03</th>\n",
       "      <td>79400</td>\n",
       "      <td>79800</td>\n",
       "      <td>78200</td>\n",
       "      <td>78600</td>\n",
       "      <td>13502112</td>\n",
       "      <td>0.003831</td>\n",
       "    </tr>\n",
       "    <tr>\n",
       "      <th>2022-01-04</th>\n",
       "      <td>78800</td>\n",
       "      <td>79200</td>\n",
       "      <td>78300</td>\n",
       "      <td>78700</td>\n",
       "      <td>12427416</td>\n",
       "      <td>0.001272</td>\n",
       "    </tr>\n",
       "    <tr>\n",
       "      <th>2022-01-05</th>\n",
       "      <td>78800</td>\n",
       "      <td>79000</td>\n",
       "      <td>76400</td>\n",
       "      <td>77400</td>\n",
       "      <td>25470640</td>\n",
       "      <td>-0.016518</td>\n",
       "    </tr>\n",
       "    <tr>\n",
       "      <th>2022-01-06</th>\n",
       "      <td>76700</td>\n",
       "      <td>77600</td>\n",
       "      <td>76600</td>\n",
       "      <td>76900</td>\n",
       "      <td>12931954</td>\n",
       "      <td>-0.006460</td>\n",
       "    </tr>\n",
       "    <tr>\n",
       "      <th>2022-01-07</th>\n",
       "      <td>78100</td>\n",
       "      <td>78400</td>\n",
       "      <td>77400</td>\n",
       "      <td>78300</td>\n",
       "      <td>15163757</td>\n",
       "      <td>0.018205</td>\n",
       "    </tr>\n",
       "    <tr>\n",
       "      <th>...</th>\n",
       "      <td>...</td>\n",
       "      <td>...</td>\n",
       "      <td>...</td>\n",
       "      <td>...</td>\n",
       "      <td>...</td>\n",
       "      <td>...</td>\n",
       "    </tr>\n",
       "    <tr>\n",
       "      <th>2022-12-23</th>\n",
       "      <td>58200</td>\n",
       "      <td>58400</td>\n",
       "      <td>57700</td>\n",
       "      <td>58100</td>\n",
       "      <td>9829407</td>\n",
       "      <td>-0.016920</td>\n",
       "    </tr>\n",
       "    <tr>\n",
       "      <th>2022-12-26</th>\n",
       "      <td>58000</td>\n",
       "      <td>58100</td>\n",
       "      <td>57700</td>\n",
       "      <td>57900</td>\n",
       "      <td>6756411</td>\n",
       "      <td>-0.003442</td>\n",
       "    </tr>\n",
       "    <tr>\n",
       "      <th>2022-12-27</th>\n",
       "      <td>58000</td>\n",
       "      <td>58400</td>\n",
       "      <td>57900</td>\n",
       "      <td>58100</td>\n",
       "      <td>10667027</td>\n",
       "      <td>0.003454</td>\n",
       "    </tr>\n",
       "    <tr>\n",
       "      <th>2022-12-28</th>\n",
       "      <td>57600</td>\n",
       "      <td>57600</td>\n",
       "      <td>56400</td>\n",
       "      <td>56600</td>\n",
       "      <td>14665410</td>\n",
       "      <td>-0.025818</td>\n",
       "    </tr>\n",
       "    <tr>\n",
       "      <th>2022-12-29</th>\n",
       "      <td>56000</td>\n",
       "      <td>56200</td>\n",
       "      <td>55300</td>\n",
       "      <td>55300</td>\n",
       "      <td>11295935</td>\n",
       "      <td>-0.022968</td>\n",
       "    </tr>\n",
       "  </tbody>\n",
       "</table>\n",
       "<p>246 rows × 6 columns</p>\n",
       "</div>"
      ],
      "text/plain": [
       "             Open   High    Low  Close    Volume    Change\n",
       "Date                                                      \n",
       "2022-01-03  79400  79800  78200  78600  13502112  0.003831\n",
       "2022-01-04  78800  79200  78300  78700  12427416  0.001272\n",
       "2022-01-05  78800  79000  76400  77400  25470640 -0.016518\n",
       "2022-01-06  76700  77600  76600  76900  12931954 -0.006460\n",
       "2022-01-07  78100  78400  77400  78300  15163757  0.018205\n",
       "...           ...    ...    ...    ...       ...       ...\n",
       "2022-12-23  58200  58400  57700  58100   9829407 -0.016920\n",
       "2022-12-26  58000  58100  57700  57900   6756411 -0.003442\n",
       "2022-12-27  58000  58400  57900  58100  10667027  0.003454\n",
       "2022-12-28  57600  57600  56400  56600  14665410 -0.025818\n",
       "2022-12-29  56000  56200  55300  55300  11295935 -0.022968\n",
       "\n",
       "[246 rows x 6 columns]"
      ]
     },
     "execution_count": 141,
     "metadata": {},
     "output_type": "execute_result"
    }
   ],
   "source": [
    "sm"
   ]
  },
  {
   "cell_type": "code",
   "execution_count": 142,
   "id": "a7a0f552",
   "metadata": {},
   "outputs": [
    {
     "data": {
      "text/html": [
       "<div>\n",
       "<style scoped>\n",
       "    .dataframe tbody tr th:only-of-type {\n",
       "        vertical-align: middle;\n",
       "    }\n",
       "\n",
       "    .dataframe tbody tr th {\n",
       "        vertical-align: top;\n",
       "    }\n",
       "\n",
       "    .dataframe thead th {\n",
       "        text-align: right;\n",
       "    }\n",
       "</style>\n",
       "<table border=\"1\" class=\"dataframe\">\n",
       "  <thead>\n",
       "    <tr style=\"text-align: right;\">\n",
       "      <th></th>\n",
       "      <th>Open</th>\n",
       "      <th>High</th>\n",
       "      <th>Low</th>\n",
       "      <th>Close</th>\n",
       "      <th>Volume</th>\n",
       "      <th>Change</th>\n",
       "    </tr>\n",
       "    <tr>\n",
       "      <th>Date</th>\n",
       "      <th></th>\n",
       "      <th></th>\n",
       "      <th></th>\n",
       "      <th></th>\n",
       "      <th></th>\n",
       "      <th></th>\n",
       "    </tr>\n",
       "  </thead>\n",
       "  <tbody>\n",
       "    <tr>\n",
       "      <th>2022-01-03</th>\n",
       "      <td>16350</td>\n",
       "      <td>16450</td>\n",
       "      <td>15700</td>\n",
       "      <td>16300</td>\n",
       "      <td>52420</td>\n",
       "      <td>-0.029762</td>\n",
       "    </tr>\n",
       "    <tr>\n",
       "      <th>2022-01-04</th>\n",
       "      <td>16300</td>\n",
       "      <td>16500</td>\n",
       "      <td>15950</td>\n",
       "      <td>16150</td>\n",
       "      <td>84033</td>\n",
       "      <td>-0.009202</td>\n",
       "    </tr>\n",
       "    <tr>\n",
       "      <th>2022-01-05</th>\n",
       "      <td>16100</td>\n",
       "      <td>16250</td>\n",
       "      <td>15750</td>\n",
       "      <td>16100</td>\n",
       "      <td>38978</td>\n",
       "      <td>-0.003096</td>\n",
       "    </tr>\n",
       "    <tr>\n",
       "      <th>2022-01-06</th>\n",
       "      <td>15750</td>\n",
       "      <td>16000</td>\n",
       "      <td>15550</td>\n",
       "      <td>15550</td>\n",
       "      <td>53804</td>\n",
       "      <td>-0.034161</td>\n",
       "    </tr>\n",
       "    <tr>\n",
       "      <th>2022-01-07</th>\n",
       "      <td>15500</td>\n",
       "      <td>15800</td>\n",
       "      <td>15150</td>\n",
       "      <td>15600</td>\n",
       "      <td>28708</td>\n",
       "      <td>0.003215</td>\n",
       "    </tr>\n",
       "    <tr>\n",
       "      <th>...</th>\n",
       "      <td>...</td>\n",
       "      <td>...</td>\n",
       "      <td>...</td>\n",
       "      <td>...</td>\n",
       "      <td>...</td>\n",
       "      <td>...</td>\n",
       "    </tr>\n",
       "    <tr>\n",
       "      <th>2022-12-23</th>\n",
       "      <td>9820</td>\n",
       "      <td>9930</td>\n",
       "      <td>9820</td>\n",
       "      <td>9880</td>\n",
       "      <td>10209</td>\n",
       "      <td>-0.012000</td>\n",
       "    </tr>\n",
       "    <tr>\n",
       "      <th>2022-12-26</th>\n",
       "      <td>9930</td>\n",
       "      <td>9930</td>\n",
       "      <td>9610</td>\n",
       "      <td>9630</td>\n",
       "      <td>11255</td>\n",
       "      <td>-0.025304</td>\n",
       "    </tr>\n",
       "    <tr>\n",
       "      <th>2022-12-27</th>\n",
       "      <td>9700</td>\n",
       "      <td>9780</td>\n",
       "      <td>9600</td>\n",
       "      <td>9650</td>\n",
       "      <td>4372</td>\n",
       "      <td>0.002077</td>\n",
       "    </tr>\n",
       "    <tr>\n",
       "      <th>2022-12-28</th>\n",
       "      <td>9650</td>\n",
       "      <td>9930</td>\n",
       "      <td>9630</td>\n",
       "      <td>9750</td>\n",
       "      <td>4861</td>\n",
       "      <td>0.010363</td>\n",
       "    </tr>\n",
       "    <tr>\n",
       "      <th>2022-12-29</th>\n",
       "      <td>9700</td>\n",
       "      <td>9750</td>\n",
       "      <td>9380</td>\n",
       "      <td>9750</td>\n",
       "      <td>8164</td>\n",
       "      <td>0.000000</td>\n",
       "    </tr>\n",
       "  </tbody>\n",
       "</table>\n",
       "<p>246 rows × 6 columns</p>\n",
       "</div>"
      ],
      "text/plain": [
       "             Open   High    Low  Close  Volume    Change\n",
       "Date                                                    \n",
       "2022-01-03  16350  16450  15700  16300   52420 -0.029762\n",
       "2022-01-04  16300  16500  15950  16150   84033 -0.009202\n",
       "2022-01-05  16100  16250  15750  16100   38978 -0.003096\n",
       "2022-01-06  15750  16000  15550  15550   53804 -0.034161\n",
       "2022-01-07  15500  15800  15150  15600   28708  0.003215\n",
       "...           ...    ...    ...    ...     ...       ...\n",
       "2022-12-23   9820   9930   9820   9880   10209 -0.012000\n",
       "2022-12-26   9930   9930   9610   9630   11255 -0.025304\n",
       "2022-12-27   9700   9780   9600   9650    4372  0.002077\n",
       "2022-12-28   9650   9930   9630   9750    4861  0.010363\n",
       "2022-12-29   9700   9750   9380   9750    8164  0.000000\n",
       "\n",
       "[246 rows x 6 columns]"
      ]
     },
     "execution_count": 142,
     "metadata": {},
     "output_type": "execute_result"
    }
   ],
   "source": [
    "sk"
   ]
  },
  {
   "cell_type": "code",
   "execution_count": 143,
   "id": "6bc9c384",
   "metadata": {},
   "outputs": [
    {
     "data": {
      "image/png": "[encoded data removed]",
      "text/plain": [
       "<Figure size 1400x500 with 2 Axes>"
      ]
     },
     "metadata": {},
     "output_type": "display_data"
    }
   ],
   "source": [
    "fig = plt.figure(figsize = (14, 5))\n",
    "ax1 = fig.add_subplot(1,2,1)\n",
    "ax2 = fig.add_subplot(1, 2, 2)\n",
    "\n",
    "ax1.plot(sm[\"Close\"], color='b', label='삼성전자')\n",
    "ax2.plot(sk[\"Close\"],color = 'r', label='SK 하이닉스')\n",
    "\n",
    "ax1.legend(loc = 'best')\n",
    "ax2.legend(loc = 'best')\n",
    "\n",
    "ax1.grid(True)\n",
    "ax2.grid(True)\n",
    "\n",
    "ax1.set_xlabel('Data')\n",
    "ax2.set_xlabel('Data')\n",
    "\n",
    "ax1.set_ylabel('Clsoe')\n",
    "ax2.set_ylabel('Clsoe')\n",
    "\n",
    "plt.show()"
   ]
  },
  {
   "cell_type": "code",
   "execution_count": 144,
   "id": "af65c71f",
   "metadata": {},
   "outputs": [
    {
     "data": {
      "text/html": [
       "<div>\n",
       "<style scoped>\n",
       "    .dataframe tbody tr th:only-of-type {\n",
       "        vertical-align: middle;\n",
       "    }\n",
       "\n",
       "    .dataframe tbody tr th {\n",
       "        vertical-align: top;\n",
       "    }\n",
       "\n",
       "    .dataframe thead th {\n",
       "        text-align: right;\n",
       "    }\n",
       "</style>\n",
       "<table border=\"1\" class=\"dataframe\">\n",
       "  <thead>\n",
       "    <tr style=\"text-align: right;\">\n",
       "      <th></th>\n",
       "      <th>Open</th>\n",
       "      <th>High</th>\n",
       "      <th>Low</th>\n",
       "      <th>Close</th>\n",
       "      <th>Volume</th>\n",
       "      <th>Change</th>\n",
       "    </tr>\n",
       "  </thead>\n",
       "  <tbody>\n",
       "    <tr>\n",
       "      <th>count</th>\n",
       "      <td>246.000000</td>\n",
       "      <td>246.000000</td>\n",
       "      <td>246.000000</td>\n",
       "      <td>246.000000</td>\n",
       "      <td>2.460000e+02</td>\n",
       "      <td>246.000000</td>\n",
       "    </tr>\n",
       "    <tr>\n",
       "      <th>mean</th>\n",
       "      <td>63996.341463</td>\n",
       "      <td>64493.495935</td>\n",
       "      <td>63458.943089</td>\n",
       "      <td>63935.365854</td>\n",
       "      <td>1.448451e+07</td>\n",
       "      <td>-0.001311</td>\n",
       "    </tr>\n",
       "    <tr>\n",
       "      <th>std</th>\n",
       "      <td>6709.763434</td>\n",
       "      <td>6618.912172</td>\n",
       "      <td>6623.950152</td>\n",
       "      <td>6625.615818</td>\n",
       "      <td>4.890389e+06</td>\n",
       "      <td>0.014336</td>\n",
       "    </tr>\n",
       "    <tr>\n",
       "      <th>min</th>\n",
       "      <td>52300.000000</td>\n",
       "      <td>53600.000000</td>\n",
       "      <td>51800.000000</td>\n",
       "      <td>52600.000000</td>\n",
       "      <td>5.767902e+06</td>\n",
       "      <td>-0.036975</td>\n",
       "    </tr>\n",
       "    <tr>\n",
       "      <th>25%</th>\n",
       "      <td>58700.000000</td>\n",
       "      <td>59225.000000</td>\n",
       "      <td>58200.000000</td>\n",
       "      <td>58800.000000</td>\n",
       "      <td>1.103933e+07</td>\n",
       "      <td>-0.010952</td>\n",
       "    </tr>\n",
       "    <tr>\n",
       "      <th>50%</th>\n",
       "      <td>61650.000000</td>\n",
       "      <td>62000.000000</td>\n",
       "      <td>61050.000000</td>\n",
       "      <td>61700.000000</td>\n",
       "      <td>1.362839e+07</td>\n",
       "      <td>-0.001744</td>\n",
       "    </tr>\n",
       "    <tr>\n",
       "      <th>75%</th>\n",
       "      <td>68800.000000</td>\n",
       "      <td>69225.000000</td>\n",
       "      <td>68575.000000</td>\n",
       "      <td>69000.000000</td>\n",
       "      <td>1.693226e+07</td>\n",
       "      <td>0.006305</td>\n",
       "    </tr>\n",
       "    <tr>\n",
       "      <th>max</th>\n",
       "      <td>79500.000000</td>\n",
       "      <td>79800.000000</td>\n",
       "      <td>78600.000000</td>\n",
       "      <td>78900.000000</td>\n",
       "      <td>3.794336e+07</td>\n",
       "      <td>0.044964</td>\n",
       "    </tr>\n",
       "  </tbody>\n",
       "</table>\n",
       "</div>"
      ],
      "text/plain": [
       "               Open          High           Low         Close        Volume  \\\n",
       "count    246.000000    246.000000    246.000000    246.000000  2.460000e+02   \n",
       "mean   63996.341463  64493.495935  63458.943089  63935.365854  1.448451e+07   \n",
       "std     6709.763434   6618.912172   6623.950152   6625.615818  4.890389e+06   \n",
       "min    52300.000000  53600.000000  51800.000000  52600.000000  5.767902e+06   \n",
       "25%    58700.000000  59225.000000  58200.000000  58800.000000  1.103933e+07   \n",
       "50%    61650.000000  62000.000000  61050.000000  61700.000000  1.362839e+07   \n",
       "75%    68800.000000  69225.000000  68575.000000  69000.000000  1.693226e+07   \n",
       "max    79500.000000  79800.000000  78600.000000  78900.000000  3.794336e+07   \n",
       "\n",
       "           Change  \n",
       "count  246.000000  \n",
       "mean    -0.001311  \n",
       "std      0.014336  \n",
       "min     -0.036975  \n",
       "25%     -0.010952  \n",
       "50%     -0.001744  \n",
       "75%      0.006305  \n",
       "max      0.044964  "
      ]
     },
     "execution_count": 144,
     "metadata": {},
     "output_type": "execute_result"
    }
   ],
   "source": [
    "sm.describe()"
   ]
  },
  {
   "cell_type": "code",
   "execution_count": 145,
   "id": "7fd3bea6",
   "metadata": {},
   "outputs": [
    {
     "data": {
      "text/html": [
       "<div>\n",
       "<style scoped>\n",
       "    .dataframe tbody tr th:only-of-type {\n",
       "        vertical-align: middle;\n",
       "    }\n",
       "\n",
       "    .dataframe tbody tr th {\n",
       "        vertical-align: top;\n",
       "    }\n",
       "\n",
       "    .dataframe thead th {\n",
       "        text-align: right;\n",
       "    }\n",
       "</style>\n",
       "<table border=\"1\" class=\"dataframe\">\n",
       "  <thead>\n",
       "    <tr style=\"text-align: right;\">\n",
       "      <th></th>\n",
       "      <th>Open</th>\n",
       "      <th>High</th>\n",
       "      <th>Low</th>\n",
       "      <th>Close</th>\n",
       "      <th>Volume</th>\n",
       "      <th>Change</th>\n",
       "    </tr>\n",
       "  </thead>\n",
       "  <tbody>\n",
       "    <tr>\n",
       "      <th>count</th>\n",
       "      <td>246.000000</td>\n",
       "      <td>246.000000</td>\n",
       "      <td>246.000000</td>\n",
       "      <td>246.000000</td>\n",
       "      <td>2.460000e+02</td>\n",
       "      <td>246.000000</td>\n",
       "    </tr>\n",
       "    <tr>\n",
       "      <th>mean</th>\n",
       "      <td>12475.487805</td>\n",
       "      <td>12770.813008</td>\n",
       "      <td>12224.024390</td>\n",
       "      <td>12461.097561</td>\n",
       "      <td>4.598424e+04</td>\n",
       "      <td>-0.001780</td>\n",
       "    </tr>\n",
       "    <tr>\n",
       "      <th>std</th>\n",
       "      <td>2086.688316</td>\n",
       "      <td>2168.394720</td>\n",
       "      <td>2028.053773</td>\n",
       "      <td>2092.822724</td>\n",
       "      <td>1.374757e+05</td>\n",
       "      <td>0.029642</td>\n",
       "    </tr>\n",
       "    <tr>\n",
       "      <th>min</th>\n",
       "      <td>9430.000000</td>\n",
       "      <td>9670.000000</td>\n",
       "      <td>9380.000000</td>\n",
       "      <td>9470.000000</td>\n",
       "      <td>1.888000e+03</td>\n",
       "      <td>-0.121586</td>\n",
       "    </tr>\n",
       "    <tr>\n",
       "      <th>25%</th>\n",
       "      <td>10550.000000</td>\n",
       "      <td>10800.000000</td>\n",
       "      <td>10350.000000</td>\n",
       "      <td>10512.500000</td>\n",
       "      <td>8.053500e+03</td>\n",
       "      <td>-0.014423</td>\n",
       "    </tr>\n",
       "    <tr>\n",
       "      <th>50%</th>\n",
       "      <td>12550.000000</td>\n",
       "      <td>13000.000000</td>\n",
       "      <td>12150.000000</td>\n",
       "      <td>12600.000000</td>\n",
       "      <td>1.338750e+04</td>\n",
       "      <td>0.000000</td>\n",
       "    </tr>\n",
       "    <tr>\n",
       "      <th>75%</th>\n",
       "      <td>14087.500000</td>\n",
       "      <td>14250.000000</td>\n",
       "      <td>13900.000000</td>\n",
       "      <td>14100.000000</td>\n",
       "      <td>2.687275e+04</td>\n",
       "      <td>0.009615</td>\n",
       "    </tr>\n",
       "    <tr>\n",
       "      <th>max</th>\n",
       "      <td>18250.000000</td>\n",
       "      <td>18600.000000</td>\n",
       "      <td>17400.000000</td>\n",
       "      <td>17950.000000</td>\n",
       "      <td>1.502097e+06</td>\n",
       "      <td>0.166667</td>\n",
       "    </tr>\n",
       "  </tbody>\n",
       "</table>\n",
       "</div>"
      ],
      "text/plain": [
       "               Open          High           Low         Close        Volume  \\\n",
       "count    246.000000    246.000000    246.000000    246.000000  2.460000e+02   \n",
       "mean   12475.487805  12770.813008  12224.024390  12461.097561  4.598424e+04   \n",
       "std     2086.688316   2168.394720   2028.053773   2092.822724  1.374757e+05   \n",
       "min     9430.000000   9670.000000   9380.000000   9470.000000  1.888000e+03   \n",
       "25%    10550.000000  10800.000000  10350.000000  10512.500000  8.053500e+03   \n",
       "50%    12550.000000  13000.000000  12150.000000  12600.000000  1.338750e+04   \n",
       "75%    14087.500000  14250.000000  13900.000000  14100.000000  2.687275e+04   \n",
       "max    18250.000000  18600.000000  17400.000000  17950.000000  1.502097e+06   \n",
       "\n",
       "           Change  \n",
       "count  246.000000  \n",
       "mean    -0.001780  \n",
       "std      0.029642  \n",
       "min     -0.121586  \n",
       "25%     -0.014423  \n",
       "50%      0.000000  \n",
       "75%      0.009615  \n",
       "max      0.166667  "
      ]
     },
     "execution_count": 145,
     "metadata": {},
     "output_type": "execute_result"
    }
   ],
   "source": [
    "sk.describe()"
   ]
  },
  {
   "cell_type": "code",
   "execution_count": 146,
   "id": "35b993bd",
   "metadata": {},
   "outputs": [],
   "source": [
    "# 1. 수익률 구하기와 nan값 처리\n",
    "sm[\"Change\"] = sm[\"Close\"].pct_change()\n",
    "sk[\"Change\"] = sm[\"Close\"].pct_change()\n",
    "sm.dropna(inplace=True)\n",
    "sk.dropna(inplace=True)"
   ]
  },
  {
   "cell_type": "code",
   "execution_count": 147,
   "id": "8bd5d142",
   "metadata": {},
   "outputs": [
    {
     "data": {
      "text/html": [
       "<div>\n",
       "<style scoped>\n",
       "    .dataframe tbody tr th:only-of-type {\n",
       "        vertical-align: middle;\n",
       "    }\n",
       "\n",
       "    .dataframe tbody tr th {\n",
       "        vertical-align: top;\n",
       "    }\n",
       "\n",
       "    .dataframe thead th {\n",
       "        text-align: right;\n",
       "    }\n",
       "</style>\n",
       "<table border=\"1\" class=\"dataframe\">\n",
       "  <thead>\n",
       "    <tr style=\"text-align: right;\">\n",
       "      <th></th>\n",
       "      <th>Open</th>\n",
       "      <th>High</th>\n",
       "      <th>Low</th>\n",
       "      <th>Close</th>\n",
       "      <th>Volume</th>\n",
       "      <th>Change</th>\n",
       "    </tr>\n",
       "    <tr>\n",
       "      <th>Date</th>\n",
       "      <th></th>\n",
       "      <th></th>\n",
       "      <th></th>\n",
       "      <th></th>\n",
       "      <th></th>\n",
       "      <th></th>\n",
       "    </tr>\n",
       "  </thead>\n",
       "  <tbody>\n",
       "    <tr>\n",
       "      <th>2022-01-04</th>\n",
       "      <td>78800</td>\n",
       "      <td>79200</td>\n",
       "      <td>78300</td>\n",
       "      <td>78700</td>\n",
       "      <td>12427416</td>\n",
       "      <td>0.001272</td>\n",
       "    </tr>\n",
       "    <tr>\n",
       "      <th>2022-01-05</th>\n",
       "      <td>78800</td>\n",
       "      <td>79000</td>\n",
       "      <td>76400</td>\n",
       "      <td>77400</td>\n",
       "      <td>25470640</td>\n",
       "      <td>-0.016518</td>\n",
       "    </tr>\n",
       "    <tr>\n",
       "      <th>2022-01-06</th>\n",
       "      <td>76700</td>\n",
       "      <td>77600</td>\n",
       "      <td>76600</td>\n",
       "      <td>76900</td>\n",
       "      <td>12931954</td>\n",
       "      <td>-0.006460</td>\n",
       "    </tr>\n",
       "    <tr>\n",
       "      <th>2022-01-07</th>\n",
       "      <td>78100</td>\n",
       "      <td>78400</td>\n",
       "      <td>77400</td>\n",
       "      <td>78300</td>\n",
       "      <td>15163757</td>\n",
       "      <td>0.018205</td>\n",
       "    </tr>\n",
       "    <tr>\n",
       "      <th>2022-01-10</th>\n",
       "      <td>78100</td>\n",
       "      <td>78100</td>\n",
       "      <td>77100</td>\n",
       "      <td>78000</td>\n",
       "      <td>9947422</td>\n",
       "      <td>-0.003831</td>\n",
       "    </tr>\n",
       "    <tr>\n",
       "      <th>...</th>\n",
       "      <td>...</td>\n",
       "      <td>...</td>\n",
       "      <td>...</td>\n",
       "      <td>...</td>\n",
       "      <td>...</td>\n",
       "      <td>...</td>\n",
       "    </tr>\n",
       "    <tr>\n",
       "      <th>2022-12-23</th>\n",
       "      <td>58200</td>\n",
       "      <td>58400</td>\n",
       "      <td>57700</td>\n",
       "      <td>58100</td>\n",
       "      <td>9829407</td>\n",
       "      <td>-0.016920</td>\n",
       "    </tr>\n",
       "    <tr>\n",
       "      <th>2022-12-26</th>\n",
       "      <td>58000</td>\n",
       "      <td>58100</td>\n",
       "      <td>57700</td>\n",
       "      <td>57900</td>\n",
       "      <td>6756411</td>\n",
       "      <td>-0.003442</td>\n",
       "    </tr>\n",
       "    <tr>\n",
       "      <th>2022-12-27</th>\n",
       "      <td>58000</td>\n",
       "      <td>58400</td>\n",
       "      <td>57900</td>\n",
       "      <td>58100</td>\n",
       "      <td>10667027</td>\n",
       "      <td>0.003454</td>\n",
       "    </tr>\n",
       "    <tr>\n",
       "      <th>2022-12-28</th>\n",
       "      <td>57600</td>\n",
       "      <td>57600</td>\n",
       "      <td>56400</td>\n",
       "      <td>56600</td>\n",
       "      <td>14665410</td>\n",
       "      <td>-0.025818</td>\n",
       "    </tr>\n",
       "    <tr>\n",
       "      <th>2022-12-29</th>\n",
       "      <td>56000</td>\n",
       "      <td>56200</td>\n",
       "      <td>55300</td>\n",
       "      <td>55300</td>\n",
       "      <td>11295935</td>\n",
       "      <td>-0.022968</td>\n",
       "    </tr>\n",
       "  </tbody>\n",
       "</table>\n",
       "<p>245 rows × 6 columns</p>\n",
       "</div>"
      ],
      "text/plain": [
       "             Open   High    Low  Close    Volume    Change\n",
       "Date                                                      \n",
       "2022-01-04  78800  79200  78300  78700  12427416  0.001272\n",
       "2022-01-05  78800  79000  76400  77400  25470640 -0.016518\n",
       "2022-01-06  76700  77600  76600  76900  12931954 -0.006460\n",
       "2022-01-07  78100  78400  77400  78300  15163757  0.018205\n",
       "2022-01-10  78100  78100  77100  78000   9947422 -0.003831\n",
       "...           ...    ...    ...    ...       ...       ...\n",
       "2022-12-23  58200  58400  57700  58100   9829407 -0.016920\n",
       "2022-12-26  58000  58100  57700  57900   6756411 -0.003442\n",
       "2022-12-27  58000  58400  57900  58100  10667027  0.003454\n",
       "2022-12-28  57600  57600  56400  56600  14665410 -0.025818\n",
       "2022-12-29  56000  56200  55300  55300  11295935 -0.022968\n",
       "\n",
       "[245 rows x 6 columns]"
      ]
     },
     "execution_count": 147,
     "metadata": {},
     "output_type": "execute_result"
    }
   ],
   "source": [
    "sm"
   ]
  },
  {
   "cell_type": "code",
   "execution_count": 151,
   "id": "4111deee",
   "metadata": {},
   "outputs": [
    {
     "data": {
      "text/plain": [
       "(-10.0, 10.0)"
      ]
     },
     "execution_count": 151,
     "metadata": {},
     "output_type": "execute_result"
    },
    {
     "data": {
      "image/png": "[encoded data removed]",
      "text/plain": [
       "<Figure size 1400x500 with 2 Axes>"
      ]
     },
     "metadata": {},
     "output_type": "display_data"
    }
   ],
   "source": [
    "import seaborn as sns\n",
    "\n",
    "# 1. 수익률 구하기와 nan값 처리\n",
    "sm[\"Change\"] = sm[\"Close\"].pct_change()*100\n",
    "sk[\"Change\"] = sk[\"Close\"].pct_change()*100\n",
    "sm.dropna(inplace=True)\n",
    "sk.dropna(inplace=True)\n",
    "\n",
    "fig = plt.figure(figsize = (14,5))\n",
    "ax1 = fig.add_subplot(1,2,1)\n",
    "ax2 = fig.add_subplot(1,2,2)\n",
    "\n",
    "# 첫 번째 서브플롯에 displot 그리기\n",
    "sns.distplot(sm[\"Change\"], kde=True, color='blue', ax=ax1, label='삼성전자')\n",
    "\n",
    "\n",
    "# 두 번째 서브플롯에 displot 그리기\n",
    "sns.distplot(sk[\"Change\"], kde=True, color='orange', ax=ax2,label='SK하이닉스')\n",
    "\n",
    "ax1.legend()\n",
    "ax2.legend()\n",
    "\n",
    "ax1.set_ylim(0, 0.5)\n",
    "ax2.set_ylim(0, 0.5)\n",
    "\n",
    "ax1.set_xlim(-10, 10)\n",
    "ax2.set_xlim(-10, 10)\n",
    "\n"
   ]
  },
  {
   "cell_type": "code",
   "execution_count": 152,
   "id": "498796e9",
   "metadata": {},
   "outputs": [],
   "source": [
    "from scipy.stats import norm\n",
    "from scipy import stats\n",
    "from statsmodels.formula.api import ols\n",
    "from scipy.stats import kstest"
   ]
  },
  {
   "cell_type": "code",
   "execution_count": 153,
   "id": "fb28f5ae",
   "metadata": {},
   "outputs": [
    {
     "name": "stdout",
     "output_type": "stream",
     "text": [
      "ShapiroResult(statistic=0.9720407128334045, pvalue=0.00010202786506852135)\n",
      "ShapiroResult(statistic=0.8753189444541931, pvalue=3.302335618501906e-13)\n"
     ]
    }
   ],
   "source": [
    "print(stats.shapiro(sm[\"Change\"]))\n",
    "print(stats.shapiro(sk[\"Change\"]))"
   ]
  },
  {
   "cell_type": "code",
   "execution_count": 154,
   "id": "03f76d73",
   "metadata": {},
   "outputs": [
    {
     "name": "stdout",
     "output_type": "stream",
     "text": [
      "KstestResult(statistic=0.1479960730723126, pvalue=4.134741753809063e-05, statistic_location=-0.6451612903225823, statistic_sign=1)\n",
      "KstestResult(statistic=0.2002411909541869, pvalue=5.130287134433638e-09, statistic_location=-1.3289036544850474, statistic_sign=1)\n"
     ]
    }
   ],
   "source": [
    "print(kstest(sm[\"Change\"],'norm'))\n",
    "print(kstest(sk[\"Change\"],'norm'))"
   ]
  },
  {
   "cell_type": "code",
   "execution_count": null,
   "id": "674d0109",
   "metadata": {},
   "outputs": [],
   "source": []
  }
 ],
 "metadata": {
  "kernelspec": {
   "display_name": "Python 3 (ipykernel)",
   "language": "python",
   "name": "python3"
  },
  "language_info": {
   "codemirror_mode": {
    "name": "ipython",
    "version": 3
   },
   "file_extension": ".py",
   "mimetype": "text/x-python",
   "name": "python",
   "nbconvert_exporter": "python",
   "pygments_lexer": "ipython3",
   "version": "3.9.6"
  }
 },
 "nbformat": 4,
 "nbformat_minor": 5
}
