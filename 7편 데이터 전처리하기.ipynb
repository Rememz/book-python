{
 "cells": [
  {
   "cell_type": "markdown",
   "id": "6116a95f",
   "metadata": {},
   "source": [
    "## 1. Data processing : 데이터 전처리"
   ]
  },
  {
   "cell_type": "markdown",
   "id": "d0863cdc",
   "metadata": {},
   "source": [
    "## 2. 결측치"
   ]
  },
  {
   "cell_type": "markdown",
   "id": "ff143405",
   "metadata": {},
   "source": [
    "### (1) 코드 예시"
   ]
  },
  {
   "cell_type": "code",
   "execution_count": 36,
   "id": "091964a9",
   "metadata": {},
   "outputs": [],
   "source": [
    "import FinanceDataReader as fdr\n",
    "import pandas as pd\n",
    "import numpy as np"
   ]
  },
  {
   "cell_type": "code",
   "execution_count": 37,
   "id": "76ee6f28",
   "metadata": {},
   "outputs": [],
   "source": [
    "sm_df = fdr.DataReader('005930', '2022', '2023')\n",
    "sm_df = sm_df[\"Close\"]"
   ]
  },
  {
   "cell_type": "code",
   "execution_count": 38,
   "id": "4060d425",
   "metadata": {},
   "outputs": [],
   "source": [
    "ex_df = fdr.DataReader('USD/KRW', '2022', '2023')\n",
    "ex_df = ex_df[\"Close\"]"
   ]
  },
  {
   "cell_type": "code",
   "execution_count": 39,
   "id": "02dafa92",
   "metadata": {},
   "outputs": [
    {
     "data": {
      "text/html": [
       "<div>\n",
       "<style scoped>\n",
       "    .dataframe tbody tr th:only-of-type {\n",
       "        vertical-align: middle;\n",
       "    }\n",
       "\n",
       "    .dataframe tbody tr th {\n",
       "        vertical-align: top;\n",
       "    }\n",
       "\n",
       "    .dataframe thead th {\n",
       "        text-align: right;\n",
       "    }\n",
       "</style>\n",
       "<table border=\"1\" class=\"dataframe\">\n",
       "  <thead>\n",
       "    <tr style=\"text-align: right;\">\n",
       "      <th></th>\n",
       "      <th>sm_Close</th>\n",
       "      <th>ex_Close</th>\n",
       "    </tr>\n",
       "    <tr>\n",
       "      <th>Date</th>\n",
       "      <th></th>\n",
       "      <th></th>\n",
       "    </tr>\n",
       "  </thead>\n",
       "  <tbody>\n",
       "    <tr>\n",
       "      <th>2022-01-03</th>\n",
       "      <td>78600.0</td>\n",
       "      <td>1187.780029</td>\n",
       "    </tr>\n",
       "    <tr>\n",
       "      <th>2022-01-04</th>\n",
       "      <td>78700.0</td>\n",
       "      <td>1194.680054</td>\n",
       "    </tr>\n",
       "    <tr>\n",
       "      <th>2022-01-05</th>\n",
       "      <td>77400.0</td>\n",
       "      <td>1196.500000</td>\n",
       "    </tr>\n",
       "    <tr>\n",
       "      <th>2022-01-06</th>\n",
       "      <td>76900.0</td>\n",
       "      <td>1199.250000</td>\n",
       "    </tr>\n",
       "    <tr>\n",
       "      <th>2022-01-07</th>\n",
       "      <td>78300.0</td>\n",
       "      <td>1205.780029</td>\n",
       "    </tr>\n",
       "    <tr>\n",
       "      <th>...</th>\n",
       "      <td>...</td>\n",
       "      <td>...</td>\n",
       "    </tr>\n",
       "    <tr>\n",
       "      <th>2022-12-26</th>\n",
       "      <td>57900.0</td>\n",
       "      <td>1279.239990</td>\n",
       "    </tr>\n",
       "    <tr>\n",
       "      <th>2022-12-27</th>\n",
       "      <td>58100.0</td>\n",
       "      <td>1275.130005</td>\n",
       "    </tr>\n",
       "    <tr>\n",
       "      <th>2022-12-28</th>\n",
       "      <td>56600.0</td>\n",
       "      <td>1272.280029</td>\n",
       "    </tr>\n",
       "    <tr>\n",
       "      <th>2022-12-29</th>\n",
       "      <td>55300.0</td>\n",
       "      <td>1274.319946</td>\n",
       "    </tr>\n",
       "    <tr>\n",
       "      <th>2022-12-30</th>\n",
       "      <td>NaN</td>\n",
       "      <td>1260.260010</td>\n",
       "    </tr>\n",
       "  </tbody>\n",
       "</table>\n",
       "<p>260 rows × 2 columns</p>\n",
       "</div>"
      ],
      "text/plain": [
       "            sm_Close     ex_Close\n",
       "Date                             \n",
       "2022-01-03   78600.0  1187.780029\n",
       "2022-01-04   78700.0  1194.680054\n",
       "2022-01-05   77400.0  1196.500000\n",
       "2022-01-06   76900.0  1199.250000\n",
       "2022-01-07   78300.0  1205.780029\n",
       "...              ...          ...\n",
       "2022-12-26   57900.0  1279.239990\n",
       "2022-12-27   58100.0  1275.130005\n",
       "2022-12-28   56600.0  1272.280029\n",
       "2022-12-29   55300.0  1274.319946\n",
       "2022-12-30       NaN  1260.260010\n",
       "\n",
       "[260 rows x 2 columns]"
      ]
     },
     "execution_count": 39,
     "metadata": {},
     "output_type": "execute_result"
    }
   ],
   "source": [
    "all_df = pd.concat([sm_df,ex_df], axis=1)\n",
    "all_df.columns = [\"sm_Close\", \"ex_Close\"]\n",
    "all_df"
   ]
  },
  {
   "cell_type": "code",
   "execution_count": 40,
   "id": "5cc8e448",
   "metadata": {},
   "outputs": [
    {
     "name": "stdout",
     "output_type": "stream",
     "text": [
      "sm_Close    14\n",
      "ex_Close     0\n",
      "dtype: int64\n"
     ]
    },
    {
     "data": {
      "text/html": [
       "<div>\n",
       "<style scoped>\n",
       "    .dataframe tbody tr th:only-of-type {\n",
       "        vertical-align: middle;\n",
       "    }\n",
       "\n",
       "    .dataframe tbody tr th {\n",
       "        vertical-align: top;\n",
       "    }\n",
       "\n",
       "    .dataframe thead th {\n",
       "        text-align: right;\n",
       "    }\n",
       "</style>\n",
       "<table border=\"1\" class=\"dataframe\">\n",
       "  <thead>\n",
       "    <tr style=\"text-align: right;\">\n",
       "      <th></th>\n",
       "      <th>sm_Close</th>\n",
       "      <th>ex_Close</th>\n",
       "    </tr>\n",
       "    <tr>\n",
       "      <th>Date</th>\n",
       "      <th></th>\n",
       "      <th></th>\n",
       "    </tr>\n",
       "  </thead>\n",
       "  <tbody>\n",
       "    <tr>\n",
       "      <th>2022-01-31</th>\n",
       "      <td>NaN</td>\n",
       "      <td>1207.709961</td>\n",
       "    </tr>\n",
       "    <tr>\n",
       "      <th>2022-02-01</th>\n",
       "      <td>NaN</td>\n",
       "      <td>1205.119995</td>\n",
       "    </tr>\n",
       "    <tr>\n",
       "      <th>2022-02-02</th>\n",
       "      <td>NaN</td>\n",
       "      <td>1202.500000</td>\n",
       "    </tr>\n",
       "    <tr>\n",
       "      <th>2022-03-01</th>\n",
       "      <td>NaN</td>\n",
       "      <td>1200.930054</td>\n",
       "    </tr>\n",
       "    <tr>\n",
       "      <th>2022-03-09</th>\n",
       "      <td>NaN</td>\n",
       "      <td>1233.109985</td>\n",
       "    </tr>\n",
       "    <tr>\n",
       "      <th>2022-05-05</th>\n",
       "      <td>NaN</td>\n",
       "      <td>1251.500000</td>\n",
       "    </tr>\n",
       "    <tr>\n",
       "      <th>2022-06-01</th>\n",
       "      <td>NaN</td>\n",
       "      <td>1241.739990</td>\n",
       "    </tr>\n",
       "    <tr>\n",
       "      <th>2022-06-06</th>\n",
       "      <td>NaN</td>\n",
       "      <td>1250.530029</td>\n",
       "    </tr>\n",
       "    <tr>\n",
       "      <th>2022-08-15</th>\n",
       "      <td>NaN</td>\n",
       "      <td>1301.380005</td>\n",
       "    </tr>\n",
       "    <tr>\n",
       "      <th>2022-09-09</th>\n",
       "      <td>NaN</td>\n",
       "      <td>1383.000000</td>\n",
       "    </tr>\n",
       "    <tr>\n",
       "      <th>2022-09-12</th>\n",
       "      <td>NaN</td>\n",
       "      <td>1379.060059</td>\n",
       "    </tr>\n",
       "    <tr>\n",
       "      <th>2022-10-03</th>\n",
       "      <td>NaN</td>\n",
       "      <td>1439.229980</td>\n",
       "    </tr>\n",
       "    <tr>\n",
       "      <th>2022-10-10</th>\n",
       "      <td>NaN</td>\n",
       "      <td>1415.979980</td>\n",
       "    </tr>\n",
       "    <tr>\n",
       "      <th>2022-12-30</th>\n",
       "      <td>NaN</td>\n",
       "      <td>1260.260010</td>\n",
       "    </tr>\n",
       "  </tbody>\n",
       "</table>\n",
       "</div>"
      ],
      "text/plain": [
       "            sm_Close     ex_Close\n",
       "Date                             \n",
       "2022-01-31       NaN  1207.709961\n",
       "2022-02-01       NaN  1205.119995\n",
       "2022-02-02       NaN  1202.500000\n",
       "2022-03-01       NaN  1200.930054\n",
       "2022-03-09       NaN  1233.109985\n",
       "2022-05-05       NaN  1251.500000\n",
       "2022-06-01       NaN  1241.739990\n",
       "2022-06-06       NaN  1250.530029\n",
       "2022-08-15       NaN  1301.380005\n",
       "2022-09-09       NaN  1383.000000\n",
       "2022-09-12       NaN  1379.060059\n",
       "2022-10-03       NaN  1439.229980\n",
       "2022-10-10       NaN  1415.979980\n",
       "2022-12-30       NaN  1260.260010"
      ]
     },
     "execution_count": 40,
     "metadata": {},
     "output_type": "execute_result"
    }
   ],
   "source": [
    "print(all_df.isnull().sum())\n",
    "all_df[all_df[\"sm_Close\"].isnull()]"
   ]
  },
  {
   "cell_type": "code",
   "execution_count": 41,
   "id": "8aad155e",
   "metadata": {},
   "outputs": [
    {
     "name": "stdout",
     "output_type": "stream",
     "text": [
      "sm_Close    0\n",
      "ex_Close    0\n",
      "dtype: int64\n"
     ]
    },
    {
     "data": {
      "text/html": [
       "<div>\n",
       "<style scoped>\n",
       "    .dataframe tbody tr th:only-of-type {\n",
       "        vertical-align: middle;\n",
       "    }\n",
       "\n",
       "    .dataframe tbody tr th {\n",
       "        vertical-align: top;\n",
       "    }\n",
       "\n",
       "    .dataframe thead th {\n",
       "        text-align: right;\n",
       "    }\n",
       "</style>\n",
       "<table border=\"1\" class=\"dataframe\">\n",
       "  <thead>\n",
       "    <tr style=\"text-align: right;\">\n",
       "      <th></th>\n",
       "      <th>sm_Close</th>\n",
       "      <th>ex_Close</th>\n",
       "    </tr>\n",
       "    <tr>\n",
       "      <th>Date</th>\n",
       "      <th></th>\n",
       "      <th></th>\n",
       "    </tr>\n",
       "  </thead>\n",
       "  <tbody>\n",
       "    <tr>\n",
       "      <th>2022-01-03</th>\n",
       "      <td>78600.0</td>\n",
       "      <td>1187.780029</td>\n",
       "    </tr>\n",
       "    <tr>\n",
       "      <th>2022-01-04</th>\n",
       "      <td>78700.0</td>\n",
       "      <td>1194.680054</td>\n",
       "    </tr>\n",
       "    <tr>\n",
       "      <th>2022-01-05</th>\n",
       "      <td>77400.0</td>\n",
       "      <td>1196.500000</td>\n",
       "    </tr>\n",
       "    <tr>\n",
       "      <th>2022-01-06</th>\n",
       "      <td>76900.0</td>\n",
       "      <td>1199.250000</td>\n",
       "    </tr>\n",
       "    <tr>\n",
       "      <th>2022-01-07</th>\n",
       "      <td>78300.0</td>\n",
       "      <td>1205.780029</td>\n",
       "    </tr>\n",
       "    <tr>\n",
       "      <th>...</th>\n",
       "      <td>...</td>\n",
       "      <td>...</td>\n",
       "    </tr>\n",
       "    <tr>\n",
       "      <th>2022-12-23</th>\n",
       "      <td>58100.0</td>\n",
       "      <td>1290.199951</td>\n",
       "    </tr>\n",
       "    <tr>\n",
       "      <th>2022-12-26</th>\n",
       "      <td>57900.0</td>\n",
       "      <td>1279.239990</td>\n",
       "    </tr>\n",
       "    <tr>\n",
       "      <th>2022-12-27</th>\n",
       "      <td>58100.0</td>\n",
       "      <td>1275.130005</td>\n",
       "    </tr>\n",
       "    <tr>\n",
       "      <th>2022-12-28</th>\n",
       "      <td>56600.0</td>\n",
       "      <td>1272.280029</td>\n",
       "    </tr>\n",
       "    <tr>\n",
       "      <th>2022-12-29</th>\n",
       "      <td>55300.0</td>\n",
       "      <td>1274.319946</td>\n",
       "    </tr>\n",
       "  </tbody>\n",
       "</table>\n",
       "<p>246 rows × 2 columns</p>\n",
       "</div>"
      ],
      "text/plain": [
       "            sm_Close     ex_Close\n",
       "Date                             \n",
       "2022-01-03   78600.0  1187.780029\n",
       "2022-01-04   78700.0  1194.680054\n",
       "2022-01-05   77400.0  1196.500000\n",
       "2022-01-06   76900.0  1199.250000\n",
       "2022-01-07   78300.0  1205.780029\n",
       "...              ...          ...\n",
       "2022-12-23   58100.0  1290.199951\n",
       "2022-12-26   57900.0  1279.239990\n",
       "2022-12-27   58100.0  1275.130005\n",
       "2022-12-28   56600.0  1272.280029\n",
       "2022-12-29   55300.0  1274.319946\n",
       "\n",
       "[246 rows x 2 columns]"
      ]
     },
     "execution_count": 41,
     "metadata": {},
     "output_type": "execute_result"
    }
   ],
   "source": [
    "all_df_drop = all_df.dropna()\n",
    "print(all_df_drop.isnull().sum())\n",
    "all_df_drop"
   ]
  },
  {
   "cell_type": "code",
   "execution_count": 42,
   "id": "05cd2e28",
   "metadata": {},
   "outputs": [
    {
     "name": "stdout",
     "output_type": "stream",
     "text": [
      "sm_Close    63935.365854\n",
      "ex_Close     1291.037695\n",
      "dtype: float64\n"
     ]
    }
   ],
   "source": [
    "print(all_df.mean())\n",
    "all_df_fill = all_df.fillna(round(all_df.mean()))"
   ]
  },
  {
   "cell_type": "code",
   "execution_count": 43,
   "id": "3700ac03",
   "metadata": {},
   "outputs": [
    {
     "data": {
      "text/html": [
       "<div>\n",
       "<style scoped>\n",
       "    .dataframe tbody tr th:only-of-type {\n",
       "        vertical-align: middle;\n",
       "    }\n",
       "\n",
       "    .dataframe tbody tr th {\n",
       "        vertical-align: top;\n",
       "    }\n",
       "\n",
       "    .dataframe thead th {\n",
       "        text-align: right;\n",
       "    }\n",
       "</style>\n",
       "<table border=\"1\" class=\"dataframe\">\n",
       "  <thead>\n",
       "    <tr style=\"text-align: right;\">\n",
       "      <th></th>\n",
       "      <th>sm_Close</th>\n",
       "      <th>ex_Close</th>\n",
       "    </tr>\n",
       "    <tr>\n",
       "      <th>Date</th>\n",
       "      <th></th>\n",
       "      <th></th>\n",
       "    </tr>\n",
       "  </thead>\n",
       "  <tbody>\n",
       "    <tr>\n",
       "      <th>2022-01-31</th>\n",
       "      <td>63935.0</td>\n",
       "      <td>1207.709961</td>\n",
       "    </tr>\n",
       "    <tr>\n",
       "      <th>2022-02-01</th>\n",
       "      <td>63935.0</td>\n",
       "      <td>1205.119995</td>\n",
       "    </tr>\n",
       "    <tr>\n",
       "      <th>2022-02-02</th>\n",
       "      <td>63935.0</td>\n",
       "      <td>1202.500000</td>\n",
       "    </tr>\n",
       "    <tr>\n",
       "      <th>2022-03-01</th>\n",
       "      <td>63935.0</td>\n",
       "      <td>1200.930054</td>\n",
       "    </tr>\n",
       "    <tr>\n",
       "      <th>2022-03-09</th>\n",
       "      <td>63935.0</td>\n",
       "      <td>1233.109985</td>\n",
       "    </tr>\n",
       "    <tr>\n",
       "      <th>2022-05-05</th>\n",
       "      <td>63935.0</td>\n",
       "      <td>1251.500000</td>\n",
       "    </tr>\n",
       "    <tr>\n",
       "      <th>2022-06-01</th>\n",
       "      <td>63935.0</td>\n",
       "      <td>1241.739990</td>\n",
       "    </tr>\n",
       "    <tr>\n",
       "      <th>2022-06-06</th>\n",
       "      <td>63935.0</td>\n",
       "      <td>1250.530029</td>\n",
       "    </tr>\n",
       "    <tr>\n",
       "      <th>2022-08-15</th>\n",
       "      <td>63935.0</td>\n",
       "      <td>1301.380005</td>\n",
       "    </tr>\n",
       "    <tr>\n",
       "      <th>2022-09-09</th>\n",
       "      <td>63935.0</td>\n",
       "      <td>1383.000000</td>\n",
       "    </tr>\n",
       "    <tr>\n",
       "      <th>2022-09-12</th>\n",
       "      <td>63935.0</td>\n",
       "      <td>1379.060059</td>\n",
       "    </tr>\n",
       "    <tr>\n",
       "      <th>2022-10-03</th>\n",
       "      <td>63935.0</td>\n",
       "      <td>1439.229980</td>\n",
       "    </tr>\n",
       "    <tr>\n",
       "      <th>2022-10-10</th>\n",
       "      <td>63935.0</td>\n",
       "      <td>1415.979980</td>\n",
       "    </tr>\n",
       "    <tr>\n",
       "      <th>2022-12-30</th>\n",
       "      <td>63935.0</td>\n",
       "      <td>1260.260010</td>\n",
       "    </tr>\n",
       "  </tbody>\n",
       "</table>\n",
       "</div>"
      ],
      "text/plain": [
       "            sm_Close     ex_Close\n",
       "Date                             \n",
       "2022-01-31   63935.0  1207.709961\n",
       "2022-02-01   63935.0  1205.119995\n",
       "2022-02-02   63935.0  1202.500000\n",
       "2022-03-01   63935.0  1200.930054\n",
       "2022-03-09   63935.0  1233.109985\n",
       "2022-05-05   63935.0  1251.500000\n",
       "2022-06-01   63935.0  1241.739990\n",
       "2022-06-06   63935.0  1250.530029\n",
       "2022-08-15   63935.0  1301.380005\n",
       "2022-09-09   63935.0  1383.000000\n",
       "2022-09-12   63935.0  1379.060059\n",
       "2022-10-03   63935.0  1439.229980\n",
       "2022-10-10   63935.0  1415.979980\n",
       "2022-12-30   63935.0  1260.260010"
      ]
     },
     "execution_count": 43,
     "metadata": {},
     "output_type": "execute_result"
    }
   ],
   "source": [
    "index = all_df[all_df[\"sm_Close\"].isnull()].index\n",
    "all_df_fill.loc[index]"
   ]
  },
  {
   "cell_type": "code",
   "execution_count": null,
   "id": "70a206a1",
   "metadata": {},
   "outputs": [],
   "source": []
  },
  {
   "cell_type": "markdown",
   "id": "5e8f5205",
   "metadata": {},
   "source": [
    "## 3 이상치"
   ]
  },
  {
   "cell_type": "markdown",
   "id": "00f87510",
   "metadata": {},
   "source": [
    "### (1) 이상치로 판단하는 방법"
   ]
  },
  {
   "cell_type": "markdown",
   "id": "a3c2e1a2",
   "metadata": {},
   "source": [
    "### (2) 처리방법"
   ]
  },
  {
   "cell_type": "markdown",
   "id": "035a3b96",
   "metadata": {},
   "source": [
    "### (3) 이상치 처리하기"
   ]
  },
  {
   "cell_type": "code",
   "execution_count": 46,
   "id": "93d7b5ba",
   "metadata": {},
   "outputs": [],
   "source": [
    "import matplotlib.pyplot as plt\n",
    "kakao = fdr.DataReader(\"035720\", \"20220101\", \"20221231\")\n",
    "kakao[\"Change\"] = kakao[\"Change\"]*100"
   ]
  },
  {
   "cell_type": "code",
   "execution_count": 49,
   "id": "22355c83",
   "metadata": {},
   "outputs": [
    {
     "data": {
      "text/plain": [
       "Text(0, 0.5, 'Change')"
      ]
     },
     "execution_count": 49,
     "metadata": {},
     "output_type": "execute_result"
    },
    {
     "data": {
      "image/png": "[encoded data removed]",
      "text/plain": [
       "<Figure size 400x300 with 1 Axes>"
      ]
     },
     "metadata": {},
     "output_type": "display_data"
    }
   ],
   "source": [
    "plt.style.use(\"default\")\n",
    "plt.rcParams[\"figure.figsize\"] = (4, 3)\n",
    "plt.rcParams[\"font.size\"] = 12\n",
    "fig, ax = plt.subplots()\n",
    "ax.boxplot(kakao[\"Change\"])\n",
    "ax.set_xlabel(\"KaKao\")\n",
    "ax.set_ylabel(\"Change\")"
   ]
  },
  {
   "cell_type": "code",
   "execution_count": 53,
   "id": "b86f3b7d",
   "metadata": {},
   "outputs": [],
   "source": [
    "def get_outlier(df, column, weight=1.5):\n",
    "\n",
    "    quantile_25 = np.percentile(df[column].values, 25)\n",
    "    quantile_75 = np.percentile(df[column].values, 75)\n",
    "\n",
    "    iqr = quantitle_75 - quantitle_25\n",
    "    iqr_weight = iqr*weight\n",
    "\n",
    "    highest = quantitle_75 + iqr_wegith\n",
    "\n",
    "    outlier_inx = df[column][ (df[column] < lowest) | (df[column] > lowest) ].index\n",
    "    return outlier_idx\n",
    " \n",
    "    outlier_idx = get_outlier(kakao, \"Change\", weight=1.5)\n",
    "    kakao.drop(outlier_idx, axis=0, inplace=True)"
   ]
  },
  {
   "cell_type": "code",
   "execution_count": 54,
   "id": "80ffcb77",
   "metadata": {},
   "outputs": [
    {
     "data": {
      "text/plain": [
       "Text(0, 0.5, 'Change')"
      ]
     },
     "execution_count": 54,
     "metadata": {},
     "output_type": "execute_result"
    },
    {
     "data": {
      "image/png": "[encoded data removed]",
      "text/plain": [
       "<Figure size 400x300 with 1 Axes>"
      ]
     },
     "metadata": {},
     "output_type": "display_data"
    }
   ],
   "source": [
    "plt.style.use(\"default\")\n",
    "plt.rcParams[\"figure.figsize\"] = (4, 3)\n",
    "plt.rcParams[\"font.size\"] = 12\n",
    "fig, ax = plt.subplots()\n",
    "ax.boxplot(kakao[\"Change\"])\n",
    "ax.set_xlabel(\"KaKao\")\n",
    "ax.set_ylabel(\"Change\")"
   ]
  },
  {
   "cell_type": "code",
   "execution_count": 55,
   "id": "69620a66",
   "metadata": {},
   "outputs": [],
   "source": [
    "kakao = fdr.DataReader(\"035720\", \"20220101\", \"20221231\")\n",
    "kakao[\"Change\"] = kakao[\"Change\"]*100\n",
    "kakao.reset_index(inplace=True)"
   ]
  },
  {
   "cell_type": "code",
   "execution_count": 56,
   "id": "4f268524",
   "metadata": {},
   "outputs": [
    {
     "data": {
      "text/plain": [
       "<Axes: xlabel='Date', ylabel='Change'>"
      ]
     },
     "execution_count": 56,
     "metadata": {},
     "output_type": "execute_result"
    },
    {
     "data": {
      "image/png": "[encoded data removed]",
      "text/plain": [
       "<Figure size 800x400 with 1 Axes>"
      ]
     },
     "metadata": {},
     "output_type": "display_data"
    }
   ],
   "source": [
    "plt.style.use('default')\n",
    "plt.rcParams['figure.figsize'] = (8, 4)\n",
    "plt.rcParams['font.size'] = 12\n",
    "kakao.plot(kind='scatter', x='Date', y='Change', ylim=(-10, 10))"
   ]
  },
  {
   "cell_type": "code",
   "execution_count": 58,
   "id": "b61b317c",
   "metadata": {},
   "outputs": [
    {
     "data": {
      "text/plain": [
       "<Axes: xlabel='Date', ylabel='Change'>"
      ]
     },
     "execution_count": 58,
     "metadata": {},
     "output_type": "execute_result"
    },
    {
     "data": {
      "image/png": "[encoded data removed]",
      "text/plain": [
       "<Figure size 800x400 with 1 Axes>"
      ]
     },
     "metadata": {},
     "output_type": "display_data"
    }
   ],
   "source": [
    "from scipy.stats.mstats import winsorize\n",
    "kakao[\"Change\"] = winsorize(kakao[\"Change\"], limits = (0.025, 0.025))\n",
    "kakao.plot(kind=\"scatter\", x=\"Date\", y=\"Change\", ylim=(-10, 10))"
   ]
  },
  {
   "cell_type": "code",
   "execution_count": null,
   "id": "e252c5c1",
   "metadata": {},
   "outputs": [],
   "source": []
  },
  {
   "cell_type": "markdown",
   "id": "c89cf3b7",
   "metadata": {},
   "source": [
    "## 4. 스케일링"
   ]
  },
  {
   "cell_type": "markdown",
   "id": "281eb52f",
   "metadata": {},
   "source": [
    "### (1) 정규화(Normalization)：min-max normalization"
   ]
  },
  {
   "cell_type": "code",
   "execution_count": 59,
   "id": "d90c3f7a",
   "metadata": {},
   "outputs": [],
   "source": [
    "sm = fdr.DataReader(\"005930\", \"20220101\", \"20221231\")\n",
    "lgc = fdr.DataReader(\"051910\", \"20220101\", \"20221231\")"
   ]
  },
  {
   "cell_type": "code",
   "execution_count": 64,
   "id": "d558f479",
   "metadata": {},
   "outputs": [
    {
     "data": {
      "text/html": [
       "<div>\n",
       "<style scoped>\n",
       "    .dataframe tbody tr th:only-of-type {\n",
       "        vertical-align: middle;\n",
       "    }\n",
       "\n",
       "    .dataframe tbody tr th {\n",
       "        vertical-align: top;\n",
       "    }\n",
       "\n",
       "    .dataframe thead th {\n",
       "        text-align: right;\n",
       "    }\n",
       "</style>\n",
       "<table border=\"1\" class=\"dataframe\">\n",
       "  <thead>\n",
       "    <tr style=\"text-align: right;\">\n",
       "      <th></th>\n",
       "      <th>sm_close</th>\n",
       "      <th>lgc_close</th>\n",
       "    </tr>\n",
       "    <tr>\n",
       "      <th>Date</th>\n",
       "      <th></th>\n",
       "      <th></th>\n",
       "    </tr>\n",
       "  </thead>\n",
       "  <tbody>\n",
       "    <tr>\n",
       "      <th>2022-01-03</th>\n",
       "      <td>78600</td>\n",
       "      <td>618000</td>\n",
       "    </tr>\n",
       "    <tr>\n",
       "      <th>2022-01-04</th>\n",
       "      <td>78700</td>\n",
       "      <td>644000</td>\n",
       "    </tr>\n",
       "    <tr>\n",
       "      <th>2022-01-05</th>\n",
       "      <td>77400</td>\n",
       "      <td>664000</td>\n",
       "    </tr>\n",
       "    <tr>\n",
       "      <th>2022-01-06</th>\n",
       "      <td>76900</td>\n",
       "      <td>690000</td>\n",
       "    </tr>\n",
       "    <tr>\n",
       "      <th>2022-01-07</th>\n",
       "      <td>78300</td>\n",
       "      <td>719000</td>\n",
       "    </tr>\n",
       "    <tr>\n",
       "      <th>...</th>\n",
       "      <td>...</td>\n",
       "      <td>...</td>\n",
       "    </tr>\n",
       "    <tr>\n",
       "      <th>2022-12-23</th>\n",
       "      <td>58100</td>\n",
       "      <td>610000</td>\n",
       "    </tr>\n",
       "    <tr>\n",
       "      <th>2022-12-26</th>\n",
       "      <td>57900</td>\n",
       "      <td>618000</td>\n",
       "    </tr>\n",
       "    <tr>\n",
       "      <th>2022-12-27</th>\n",
       "      <td>58100</td>\n",
       "      <td>628000</td>\n",
       "    </tr>\n",
       "    <tr>\n",
       "      <th>2022-12-28</th>\n",
       "      <td>56600</td>\n",
       "      <td>602000</td>\n",
       "    </tr>\n",
       "    <tr>\n",
       "      <th>2022-12-29</th>\n",
       "      <td>55300</td>\n",
       "      <td>600000</td>\n",
       "    </tr>\n",
       "  </tbody>\n",
       "</table>\n",
       "<p>246 rows × 2 columns</p>\n",
       "</div>"
      ],
      "text/plain": [
       "            sm_close  lgc_close\n",
       "Date                           \n",
       "2022-01-03     78600     618000\n",
       "2022-01-04     78700     644000\n",
       "2022-01-05     77400     664000\n",
       "2022-01-06     76900     690000\n",
       "2022-01-07     78300     719000\n",
       "...              ...        ...\n",
       "2022-12-23     58100     610000\n",
       "2022-12-26     57900     618000\n",
       "2022-12-27     58100     628000\n",
       "2022-12-28     56600     602000\n",
       "2022-12-29     55300     600000\n",
       "\n",
       "[246 rows x 2 columns]"
      ]
     },
     "execution_count": 64,
     "metadata": {},
     "output_type": "execute_result"
    }
   ],
   "source": [
    "all = pd.DataFrame()\n",
    "all[\"sm_close\"] = sm[\"Close\"]\n",
    "all[\"lgc_close\"] = lgc[\"Close\"]\n",
    "all"
   ]
  },
  {
   "cell_type": "markdown",
   "id": "2a60c6c9",
   "metadata": {},
   "source": [
    "### (2) 표준화 스케일링 적용해보기"
   ]
  },
  {
   "cell_type": "code",
   "execution_count": 65,
   "id": "be8ae11a",
   "metadata": {},
   "outputs": [],
   "source": [
    "from sklearn.preprocessing import StandardScaler, MinMaxScaler\n",
    "std = StandardScaler()\n",
    "std.fit(all)\n",
    "data = std.transform(all)"
   ]
  },
  {
   "cell_type": "code",
   "execution_count": 67,
   "id": "e6aabfce",
   "metadata": {},
   "outputs": [
    {
     "data": {
      "text/html": [
       "<div>\n",
       "<style scoped>\n",
       "    .dataframe tbody tr th:only-of-type {\n",
       "        vertical-align: middle;\n",
       "    }\n",
       "\n",
       "    .dataframe tbody tr th {\n",
       "        vertical-align: top;\n",
       "    }\n",
       "\n",
       "    .dataframe thead th {\n",
       "        text-align: right;\n",
       "    }\n",
       "</style>\n",
       "<table border=\"1\" class=\"dataframe\">\n",
       "  <thead>\n",
       "    <tr style=\"text-align: right;\">\n",
       "      <th></th>\n",
       "      <th>sm_close</th>\n",
       "      <th>lgc_close</th>\n",
       "    </tr>\n",
       "    <tr>\n",
       "      <th>Date</th>\n",
       "      <th></th>\n",
       "      <th></th>\n",
       "    </tr>\n",
       "  </thead>\n",
       "  <tbody>\n",
       "    <tr>\n",
       "      <th>2022-01-03</th>\n",
       "      <td>2.217836</td>\n",
       "      <td>0.343837</td>\n",
       "    </tr>\n",
       "    <tr>\n",
       "      <th>2022-01-04</th>\n",
       "      <td>2.232960</td>\n",
       "      <td>0.705754</td>\n",
       "    </tr>\n",
       "    <tr>\n",
       "      <th>2022-01-05</th>\n",
       "      <td>2.036352</td>\n",
       "      <td>0.984151</td>\n",
       "    </tr>\n",
       "    <tr>\n",
       "      <th>2022-01-06</th>\n",
       "      <td>1.960733</td>\n",
       "      <td>1.346067</td>\n",
       "    </tr>\n",
       "    <tr>\n",
       "      <th>2022-01-07</th>\n",
       "      <td>2.172465</td>\n",
       "      <td>1.749742</td>\n",
       "    </tr>\n",
       "    <tr>\n",
       "      <th>...</th>\n",
       "      <td>...</td>\n",
       "      <td>...</td>\n",
       "    </tr>\n",
       "    <tr>\n",
       "      <th>2022-12-23</th>\n",
       "      <td>-0.882524</td>\n",
       "      <td>0.232479</td>\n",
       "    </tr>\n",
       "    <tr>\n",
       "      <th>2022-12-26</th>\n",
       "      <td>-0.912771</td>\n",
       "      <td>0.343837</td>\n",
       "    </tr>\n",
       "    <tr>\n",
       "      <th>2022-12-27</th>\n",
       "      <td>-0.882524</td>\n",
       "      <td>0.483036</td>\n",
       "    </tr>\n",
       "    <tr>\n",
       "      <th>2022-12-28</th>\n",
       "      <td>-1.109379</td>\n",
       "      <td>0.121120</td>\n",
       "    </tr>\n",
       "    <tr>\n",
       "      <th>2022-12-29</th>\n",
       "      <td>-1.305987</td>\n",
       "      <td>0.093280</td>\n",
       "    </tr>\n",
       "  </tbody>\n",
       "</table>\n",
       "<p>246 rows × 2 columns</p>\n",
       "</div>"
      ],
      "text/plain": [
       "            sm_close  lgc_close\n",
       "Date                           \n",
       "2022-01-03  2.217836   0.343837\n",
       "2022-01-04  2.232960   0.705754\n",
       "2022-01-05  2.036352   0.984151\n",
       "2022-01-06  1.960733   1.346067\n",
       "2022-01-07  2.172465   1.749742\n",
       "...              ...        ...\n",
       "2022-12-23 -0.882524   0.232479\n",
       "2022-12-26 -0.912771   0.343837\n",
       "2022-12-27 -0.882524   0.483036\n",
       "2022-12-28 -1.109379   0.121120\n",
       "2022-12-29 -1.305987   0.093280\n",
       "\n",
       "[246 rows x 2 columns]"
      ]
     },
     "execution_count": 67,
     "metadata": {},
     "output_type": "execute_result"
    }
   ],
   "source": [
    "all[[\"sm_close\", \"lgc_close\"]] = data\n",
    "all"
   ]
  },
  {
   "cell_type": "code",
   "execution_count": 68,
   "id": "a6756ccb",
   "metadata": {},
   "outputs": [
    {
     "data": {
      "text/plain": [
       "(sm_close     1.733031e-16\n",
       " lgc_close   -4.043739e-16\n",
       " dtype: float64,\n",
       " sm_close     1.004082\n",
       " lgc_close    1.004082\n",
       " dtype: float64)"
      ]
     },
     "execution_count": 68,
     "metadata": {},
     "output_type": "execute_result"
    }
   ],
   "source": [
    "all.mean(),all.var()"
   ]
  },
  {
   "cell_type": "markdown",
   "id": "c67ca028",
   "metadata": {},
   "source": [
    "### (3) 데이터 정규화하기"
   ]
  },
  {
   "cell_type": "code",
   "execution_count": 69,
   "id": "b5517b8c",
   "metadata": {},
   "outputs": [],
   "source": [
    "mms = MinMaxScaler()\n",
    "mms.fit(all)\n",
    "data = mms.transform(all)"
   ]
  },
  {
   "cell_type": "code",
   "execution_count": 70,
   "id": "8b96eeef",
   "metadata": {},
   "outputs": [
    {
     "data": {
      "text/html": [
       "<div>\n",
       "<style scoped>\n",
       "    .dataframe tbody tr th:only-of-type {\n",
       "        vertical-align: middle;\n",
       "    }\n",
       "\n",
       "    .dataframe tbody tr th {\n",
       "        vertical-align: top;\n",
       "    }\n",
       "\n",
       "    .dataframe thead th {\n",
       "        text-align: right;\n",
       "    }\n",
       "</style>\n",
       "<table border=\"1\" class=\"dataframe\">\n",
       "  <thead>\n",
       "    <tr style=\"text-align: right;\">\n",
       "      <th></th>\n",
       "      <th>sm_close</th>\n",
       "      <th>lgc_close</th>\n",
       "    </tr>\n",
       "    <tr>\n",
       "      <th>Date</th>\n",
       "      <th></th>\n",
       "      <th></th>\n",
       "    </tr>\n",
       "  </thead>\n",
       "  <tbody>\n",
       "    <tr>\n",
       "      <th>2022-01-03</th>\n",
       "      <td>0.988593</td>\n",
       "      <td>0.535928</td>\n",
       "    </tr>\n",
       "    <tr>\n",
       "      <th>2022-01-04</th>\n",
       "      <td>0.992395</td>\n",
       "      <td>0.613772</td>\n",
       "    </tr>\n",
       "    <tr>\n",
       "      <th>2022-01-05</th>\n",
       "      <td>0.942966</td>\n",
       "      <td>0.673653</td>\n",
       "    </tr>\n",
       "    <tr>\n",
       "      <th>2022-01-06</th>\n",
       "      <td>0.923954</td>\n",
       "      <td>0.751497</td>\n",
       "    </tr>\n",
       "    <tr>\n",
       "      <th>2022-01-07</th>\n",
       "      <td>0.977186</td>\n",
       "      <td>0.838323</td>\n",
       "    </tr>\n",
       "    <tr>\n",
       "      <th>...</th>\n",
       "      <td>...</td>\n",
       "      <td>...</td>\n",
       "    </tr>\n",
       "    <tr>\n",
       "      <th>2022-12-23</th>\n",
       "      <td>0.209125</td>\n",
       "      <td>0.511976</td>\n",
       "    </tr>\n",
       "    <tr>\n",
       "      <th>2022-12-26</th>\n",
       "      <td>0.201521</td>\n",
       "      <td>0.535928</td>\n",
       "    </tr>\n",
       "    <tr>\n",
       "      <th>2022-12-27</th>\n",
       "      <td>0.209125</td>\n",
       "      <td>0.565868</td>\n",
       "    </tr>\n",
       "    <tr>\n",
       "      <th>2022-12-28</th>\n",
       "      <td>0.152091</td>\n",
       "      <td>0.488024</td>\n",
       "    </tr>\n",
       "    <tr>\n",
       "      <th>2022-12-29</th>\n",
       "      <td>0.102662</td>\n",
       "      <td>0.482036</td>\n",
       "    </tr>\n",
       "  </tbody>\n",
       "</table>\n",
       "<p>246 rows × 2 columns</p>\n",
       "</div>"
      ],
      "text/plain": [
       "            sm_close  lgc_close\n",
       "Date                           \n",
       "2022-01-03  0.988593   0.535928\n",
       "2022-01-04  0.992395   0.613772\n",
       "2022-01-05  0.942966   0.673653\n",
       "2022-01-06  0.923954   0.751497\n",
       "2022-01-07  0.977186   0.838323\n",
       "...              ...        ...\n",
       "2022-12-23  0.209125   0.511976\n",
       "2022-12-26  0.201521   0.535928\n",
       "2022-12-27  0.209125   0.565868\n",
       "2022-12-28  0.152091   0.488024\n",
       "2022-12-29  0.102662   0.482036\n",
       "\n",
       "[246 rows x 2 columns]"
      ]
     },
     "execution_count": 70,
     "metadata": {},
     "output_type": "execute_result"
    }
   ],
   "source": [
    "all[[\"sm_close\", \"lgc_close\"]] = data\n",
    "all"
   ]
  },
  {
   "cell_type": "code",
   "execution_count": 71,
   "id": "cf7fc84c",
   "metadata": {},
   "outputs": [
    {
     "data": {
      "text/plain": [
       "(sm_close     0.0\n",
       " lgc_close    0.0\n",
       " dtype: float64,\n",
       " sm_close     1.0\n",
       " lgc_close    1.0\n",
       " dtype: float64)"
      ]
     },
     "execution_count": 71,
     "metadata": {},
     "output_type": "execute_result"
    }
   ],
   "source": [
    "all.min(),all.max()"
   ]
  },
  {
   "cell_type": "markdown",
   "id": "9cc25ff0",
   "metadata": {},
   "source": [
    "## 5.로그"
   ]
  },
  {
   "cell_type": "markdown",
   "id": "0e71f7da",
   "metadata": {},
   "source": [
    "### (1) 코드예시"
   ]
  },
  {
   "cell_type": "code",
   "execution_count": 72,
   "id": "99ea2ccc",
   "metadata": {},
   "outputs": [
    {
     "data": {
      "text/html": [
       "<div>\n",
       "<style scoped>\n",
       "    .dataframe tbody tr th:only-of-type {\n",
       "        vertical-align: middle;\n",
       "    }\n",
       "\n",
       "    .dataframe tbody tr th {\n",
       "        vertical-align: top;\n",
       "    }\n",
       "\n",
       "    .dataframe thead th {\n",
       "        text-align: right;\n",
       "    }\n",
       "</style>\n",
       "<table border=\"1\" class=\"dataframe\">\n",
       "  <thead>\n",
       "    <tr style=\"text-align: right;\">\n",
       "      <th></th>\n",
       "      <th>종가</th>\n",
       "      <th>시가총액</th>\n",
       "      <th>거래량</th>\n",
       "      <th>거래대금</th>\n",
       "      <th>상장주식수</th>\n",
       "    </tr>\n",
       "    <tr>\n",
       "      <th>티커</th>\n",
       "      <th></th>\n",
       "      <th></th>\n",
       "      <th></th>\n",
       "      <th></th>\n",
       "      <th></th>\n",
       "    </tr>\n",
       "  </thead>\n",
       "  <tbody>\n",
       "    <tr>\n",
       "      <th>005930</th>\n",
       "      <td>61000</td>\n",
       "      <td>364156735550000</td>\n",
       "      <td>29746731</td>\n",
       "      <td>1835768640685</td>\n",
       "      <td>5969782550</td>\n",
       "    </tr>\n",
       "    <tr>\n",
       "      <th>373220</th>\n",
       "      <td>521000</td>\n",
       "      <td>121914000000000</td>\n",
       "      <td>722845</td>\n",
       "      <td>374919075000</td>\n",
       "      <td>234000000</td>\n",
       "    </tr>\n",
       "    <tr>\n",
       "      <th>000660</th>\n",
       "      <td>88500</td>\n",
       "      <td>64428209302500</td>\n",
       "      <td>5185088</td>\n",
       "      <td>458628061505</td>\n",
       "      <td>728002365</td>\n",
       "    </tr>\n",
       "    <tr>\n",
       "      <th>207940</th>\n",
       "      <td>793000</td>\n",
       "      <td>56440982000000</td>\n",
       "      <td>94622</td>\n",
       "      <td>75346194000</td>\n",
       "      <td>71174000</td>\n",
       "    </tr>\n",
       "    <tr>\n",
       "      <th>051910</th>\n",
       "      <td>690000</td>\n",
       "      <td>48708716670000</td>\n",
       "      <td>310432</td>\n",
       "      <td>213998455000</td>\n",
       "      <td>70592343</td>\n",
       "    </tr>\n",
       "    <tr>\n",
       "      <th>...</th>\n",
       "      <td>...</td>\n",
       "      <td>...</td>\n",
       "      <td>...</td>\n",
       "      <td>...</td>\n",
       "      <td>...</td>\n",
       "    </tr>\n",
       "    <tr>\n",
       "      <th>308700</th>\n",
       "      <td>560</td>\n",
       "      <td>2240000000</td>\n",
       "      <td>4</td>\n",
       "      <td>2240</td>\n",
       "      <td>4000000</td>\n",
       "    </tr>\n",
       "    <tr>\n",
       "      <th>215050</th>\n",
       "      <td>912</td>\n",
       "      <td>1934959392</td>\n",
       "      <td>0</td>\n",
       "      <td>0</td>\n",
       "      <td>2121666</td>\n",
       "    </tr>\n",
       "    <tr>\n",
       "      <th>267810</th>\n",
       "      <td>1041</td>\n",
       "      <td>1860267000</td>\n",
       "      <td>10</td>\n",
       "      <td>13623</td>\n",
       "      <td>1787000</td>\n",
       "    </tr>\n",
       "    <tr>\n",
       "      <th>267060</th>\n",
       "      <td>181</td>\n",
       "      <td>1654666524</td>\n",
       "      <td>0</td>\n",
       "      <td>0</td>\n",
       "      <td>9141804</td>\n",
       "    </tr>\n",
       "    <tr>\n",
       "      <th>322190</th>\n",
       "      <td>106</td>\n",
       "      <td>946070882</td>\n",
       "      <td>212</td>\n",
       "      <td>21783</td>\n",
       "      <td>8925197</td>\n",
       "    </tr>\n",
       "  </tbody>\n",
       "</table>\n",
       "<p>2697 rows × 5 columns</p>\n",
       "</div>"
      ],
      "text/plain": [
       "            종가             시가총액       거래량           거래대금       상장주식수\n",
       "티커                                                                  \n",
       "005930   61000  364156735550000  29746731  1835768640685  5969782550\n",
       "373220  521000  121914000000000    722845   374919075000   234000000\n",
       "000660   88500   64428209302500   5185088   458628061505   728002365\n",
       "207940  793000   56440982000000     94622    75346194000    71174000\n",
       "051910  690000   48708716670000    310432   213998455000    70592343\n",
       "...        ...              ...       ...            ...         ...\n",
       "308700     560       2240000000         4           2240     4000000\n",
       "215050     912       1934959392         0              0     2121666\n",
       "267810    1041       1860267000        10          13623     1787000\n",
       "267060     181       1654666524         0              0     9141804\n",
       "322190     106        946070882       212          21783     8925197\n",
       "\n",
       "[2697 rows x 5 columns]"
      ]
     },
     "execution_count": 72,
     "metadata": {},
     "output_type": "execute_result"
    }
   ],
   "source": [
    "from pykrx import stock\n",
    "df = stock.get_market_cap(\"20230131\")\n",
    "df"
   ]
  },
  {
   "cell_type": "markdown",
   "id": "eb0e83aa",
   "metadata": {},
   "source": [
    "### (2) 로그화"
   ]
  },
  {
   "cell_type": "code",
   "execution_count": 75,
   "id": "d56efde3",
   "metadata": {},
   "outputs": [
    {
     "data": {
      "text/html": [
       "<div>\n",
       "<style scoped>\n",
       "    .dataframe tbody tr th:only-of-type {\n",
       "        vertical-align: middle;\n",
       "    }\n",
       "\n",
       "    .dataframe tbody tr th {\n",
       "        vertical-align: top;\n",
       "    }\n",
       "\n",
       "    .dataframe thead th {\n",
       "        text-align: right;\n",
       "    }\n",
       "</style>\n",
       "<table border=\"1\" class=\"dataframe\">\n",
       "  <thead>\n",
       "    <tr style=\"text-align: right;\">\n",
       "      <th></th>\n",
       "      <th>로그시가총액</th>\n",
       "      <th>시가총액</th>\n",
       "    </tr>\n",
       "    <tr>\n",
       "      <th>티커</th>\n",
       "      <th></th>\n",
       "      <th></th>\n",
       "    </tr>\n",
       "  </thead>\n",
       "  <tbody>\n",
       "    <tr>\n",
       "      <th>005930</th>\n",
       "      <td>33.528605</td>\n",
       "      <td>364156735550000</td>\n",
       "    </tr>\n",
       "    <tr>\n",
       "      <th>373220</th>\n",
       "      <td>32.434337</td>\n",
       "      <td>121914000000000</td>\n",
       "    </tr>\n",
       "    <tr>\n",
       "      <th>000660</th>\n",
       "      <td>31.796573</td>\n",
       "      <td>64428209302500</td>\n",
       "    </tr>\n",
       "    <tr>\n",
       "      <th>207940</th>\n",
       "      <td>31.664217</td>\n",
       "      <td>56440982000000</td>\n",
       "    </tr>\n",
       "    <tr>\n",
       "      <th>051910</th>\n",
       "      <td>31.516879</td>\n",
       "      <td>48708716670000</td>\n",
       "    </tr>\n",
       "    <tr>\n",
       "      <th>...</th>\n",
       "      <td>...</td>\n",
       "      <td>...</td>\n",
       "    </tr>\n",
       "    <tr>\n",
       "      <th>308700</th>\n",
       "      <td>21.529742</td>\n",
       "      <td>2240000000</td>\n",
       "    </tr>\n",
       "    <tr>\n",
       "      <th>215050</th>\n",
       "      <td>21.383352</td>\n",
       "      <td>1934959392</td>\n",
       "    </tr>\n",
       "    <tr>\n",
       "      <th>267810</th>\n",
       "      <td>21.343986</td>\n",
       "      <td>1860267000</td>\n",
       "    </tr>\n",
       "    <tr>\n",
       "      <th>267060</th>\n",
       "      <td>21.226865</td>\n",
       "      <td>1654666524</td>\n",
       "    </tr>\n",
       "    <tr>\n",
       "      <th>322190</th>\n",
       "      <td>20.667828</td>\n",
       "      <td>946070882</td>\n",
       "    </tr>\n",
       "  </tbody>\n",
       "</table>\n",
       "<p>2697 rows × 2 columns</p>\n",
       "</div>"
      ],
      "text/plain": [
       "           로그시가총액             시가총액\n",
       "티커                                \n",
       "005930  33.528605  364156735550000\n",
       "373220  32.434337  121914000000000\n",
       "000660  31.796573   64428209302500\n",
       "207940  31.664217   56440982000000\n",
       "051910  31.516879   48708716670000\n",
       "...           ...              ...\n",
       "308700  21.529742       2240000000\n",
       "215050  21.383352       1934959392\n",
       "267810  21.343986       1860267000\n",
       "267060  21.226865       1654666524\n",
       "322190  20.667828        946070882\n",
       "\n",
       "[2697 rows x 2 columns]"
      ]
     },
     "execution_count": 75,
     "metadata": {},
     "output_type": "execute_result"
    }
   ],
   "source": [
    "df[\"로그시가총액\"] = np.log(df[\"시가총액\"])\n",
    "df[[\"로그시가총액\", \"시가총액\"]]"
   ]
  },
  {
   "cell_type": "code",
   "execution_count": null,
   "id": "8b820df0",
   "metadata": {},
   "outputs": [],
   "source": []
  }
 ],
 "metadata": {
  "kernelspec": {
   "display_name": "Python 3 (ipykernel)",
   "language": "python",
   "name": "python3"
  },
  "language_info": {
   "codemirror_mode": {
    "name": "ipython",
    "version": 3
   },
   "file_extension": ".py",
   "mimetype": "text/x-python",
   "name": "python",
   "nbconvert_exporter": "python",
   "pygments_lexer": "ipython3",
   "version": "3.9.6"
  }
 },
 "nbformat": 4,
 "nbformat_minor": 5
}
