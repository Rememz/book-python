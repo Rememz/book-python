{
 "cells": [
  {
   "cell_type": "markdown",
   "id": "991a27f9",
   "metadata": {},
   "source": [
    "# Chapter 4 제어문(조건문, 반복문)"
   ]
  },
  {
   "cell_type": "markdown",
   "id": "b911b625",
   "metadata": {},
   "source": [
    "## 제 1절 조건문"
   ]
  },
  {
   "cell_type": "markdown",
   "id": "5f46ae88",
   "metadata": {},
   "source": [
    "### 1. if 조건문"
   ]
  },
  {
   "cell_type": "markdown",
   "id": "ab5eb289",
   "metadata": {},
   "source": [
    "#### (1) if 조건문  이해 "
   ]
  },
  {
   "cell_type": "code",
   "execution_count": 5,
   "id": "751fa87b",
   "metadata": {},
   "outputs": [
    {
     "name": "stdout",
     "output_type": "stream",
     "text": [
      "Buy\n"
     ]
    }
   ],
   "source": [
    "삼성전자_sec_price = 50000\n",
    "if 삼성전자_sec_price <= 55000:\n",
    "    print(\"Buy\")"
   ]
  },
  {
   "cell_type": "code",
   "execution_count": 6,
   "id": "5f2eca07",
   "metadata": {},
   "outputs": [],
   "source": [
    "삼성전자_sec_price = 70000\n",
    "if 삼성전자_sec_price <= 55000:\n",
    "    print(\"Buy\")"
   ]
  },
  {
   "cell_type": "code",
   "execution_count": null,
   "id": "273d4d78",
   "metadata": {},
   "outputs": [],
   "source": []
  },
  {
   "cell_type": "markdown",
   "id": "63aa7b83",
   "metadata": {},
   "source": [
    "#### (2) if ~ else 문"
   ]
  },
  {
   "cell_type": "code",
   "execution_count": 7,
   "id": "3ac6cec3",
   "metadata": {},
   "outputs": [
    {
     "name": "stdout",
     "output_type": "stream",
     "text": [
      "Buy\n"
     ]
    }
   ],
   "source": [
    "삼성전자_sec_price = 50000\n",
    "if 삼성전자_sec_price <= 55000:\n",
    "        print(\"Buy\")\n",
    "else:\n",
    "        print(\"Sell\")"
   ]
  },
  {
   "cell_type": "code",
   "execution_count": 8,
   "id": "e8e0d4ea",
   "metadata": {},
   "outputs": [
    {
     "name": "stdout",
     "output_type": "stream",
     "text": [
      "Sell\n"
     ]
    }
   ],
   "source": [
    "삼성전자_sec_price = 70000\n",
    "if 삼성전자_sec_price <= 55000:\n",
    "        print(\"Buy\")\n",
    "else:\n",
    "        print(\"Sell\")"
   ]
  },
  {
   "cell_type": "markdown",
   "id": "0b7ff0d9",
   "metadata": {},
   "source": [
    "#### (3) elif "
   ]
  },
  {
   "cell_type": "code",
   "execution_count": 9,
   "id": "4fbfc392",
   "metadata": {},
   "outputs": [
    {
     "name": "stdout",
     "output_type": "stream",
     "text": [
      "Buy 10\n"
     ]
    }
   ],
   "source": [
    "삼성전자_sec_price = 45000\n",
    "if 삼성전자_sec_price <= 55000:\n",
    "        print(\"Buy 10\")\n",
    "elif 삼성전자_sec_price >= 65000:\n",
    "        print(\"Sell\")\n",
    "else: \n",
    "        print(\"관망\")"
   ]
  },
  {
   "cell_type": "code",
   "execution_count": 10,
   "id": "e4987538",
   "metadata": {},
   "outputs": [
    {
     "name": "stdout",
     "output_type": "stream",
     "text": [
      "관망\n"
     ]
    }
   ],
   "source": [
    "삼성전자_sec_price = 60000\n",
    "if 삼성전자_sec_price <= 55000:\n",
    "        print(\"Buy\")\n",
    "elif 삼성전자_sec_price >= 65000: \n",
    "        print(\"Sell\")\n",
    "else: \n",
    "        print(\"관망\")"
   ]
  },
  {
   "cell_type": "code",
   "execution_count": 11,
   "id": "a4ad8092",
   "metadata": {},
   "outputs": [
    {
     "name": "stdout",
     "output_type": "stream",
     "text": [
      "Sell\n"
     ]
    }
   ],
   "source": [
    "삼성전자_sec_price = 80000\n",
    "if 삼성전자_sec_price <= 55000:\n",
    "        print(\"Buy\")\n",
    "elif 삼성전자_sec_price >= 65000:\n",
    "        print(\"Sell\")        \n",
    "else: \n",
    "        print(\"관망\")"
   ]
  },
  {
   "cell_type": "markdown",
   "id": "bb07f003",
   "metadata": {},
   "source": [
    "#### (4) 이중 if : kospi 조건을 제약"
   ]
  },
  {
   "cell_type": "code",
   "execution_count": 12,
   "id": "fd484dc6",
   "metadata": {},
   "outputs": [
    {
     "name": "stdout",
     "output_type": "stream",
     "text": [
      "비중확대\n"
     ]
    }
   ],
   "source": [
    "kospi = 2150\n",
    "삼성전자_sec_price = 50000\n",
    "if 삼성전자_sec_price <= 50000 and kospi<=2200:\n",
    "        print(\"비중확대\")\n",
    "elif 삼성전자_sec_price >=65000 and  삼성전자_sec_price >= 2400:\n",
    "        print(\"비중 축소\")        \n",
    "else: \n",
    "        print(\"비중 유지\")"
   ]
  },
  {
   "cell_type": "code",
   "execution_count": 13,
   "id": "7a0e0588",
   "metadata": {},
   "outputs": [
    {
     "name": "stdout",
     "output_type": "stream",
     "text": [
      "비중 축소\n"
     ]
    }
   ],
   "source": [
    "kospi = 2500\n",
    "삼성전자_sec_price = 80000\n",
    "if 삼성전자_sec_price <= 50000 and kospi<=2200:\n",
    "        print(\"비중확대\")\n",
    "elif 삼성전자_sec_price >=65000 and  삼성전자_sec_price >= 2400:\n",
    "        print(\"비중 축소\")        \n",
    "else: \n",
    "        print(\"비중 유지\")"
   ]
  },
  {
   "cell_type": "code",
   "execution_count": 14,
   "id": "9f0c9f3a",
   "metadata": {},
   "outputs": [
    {
     "name": "stdout",
     "output_type": "stream",
     "text": [
      "비중 유지\n"
     ]
    }
   ],
   "source": [
    "kospi = 2300\n",
    "삼성전자_sec_price = 58000\n",
    "if 삼성전자_sec_price <= 50000 and kospi<=2200:\n",
    "        print(\"비중확대\")\n",
    "elif 삼성전자_sec_price >=65000 and  삼성전자_sec_price >= 2400:\n",
    "        print(\"비중 축소\")        \n",
    "else: \n",
    "        print(\"비중 유지\")"
   ]
  },
  {
   "cell_type": "code",
   "execution_count": null,
   "id": "9fdc05f7",
   "metadata": {},
   "outputs": [],
   "source": []
  },
  {
   "cell_type": "markdown",
   "id": "7a5687a1",
   "metadata": {},
   "source": [
    "## 제2절 반복문"
   ]
  },
  {
   "cell_type": "markdown",
   "id": "05ab2b1a",
   "metadata": {},
   "source": [
    "### 1. for 문"
   ]
  },
  {
   "cell_type": "markdown",
   "id": "e5073059",
   "metadata": {},
   "source": [
    "#### (1) 기본 이해 "
   ]
  },
  {
   "cell_type": "code",
   "execution_count": 15,
   "id": "8269cdff",
   "metadata": {},
   "outputs": [
    {
     "name": "stdout",
     "output_type": "stream",
     "text": [
      "1\n"
     ]
    }
   ],
   "source": [
    "print(1)"
   ]
  },
  {
   "cell_type": "code",
   "execution_count": 16,
   "id": "21232494",
   "metadata": {},
   "outputs": [
    {
     "name": "stdout",
     "output_type": "stream",
     "text": [
      "2\n"
     ]
    }
   ],
   "source": [
    "print(2)"
   ]
  },
  {
   "cell_type": "code",
   "execution_count": 17,
   "id": "991a08c9",
   "metadata": {},
   "outputs": [
    {
     "name": "stdout",
     "output_type": "stream",
     "text": [
      "3\n"
     ]
    }
   ],
   "source": [
    "print(3)"
   ]
  },
  {
   "cell_type": "code",
   "execution_count": 18,
   "id": "af4e57cb",
   "metadata": {},
   "outputs": [
    {
     "name": "stdout",
     "output_type": "stream",
     "text": [
      "0\n",
      "1\n",
      "2\n",
      "3\n",
      "4\n",
      "5\n"
     ]
    }
   ],
   "source": [
    "for sample in [0, 1, 2, 3, 4, 5]:\n",
    "    print(sample)"
   ]
  },
  {
   "cell_type": "code",
   "execution_count": 19,
   "id": "f5089309",
   "metadata": {},
   "outputs": [
    {
     "name": "stdout",
     "output_type": "stream",
     "text": [
      "10\n",
      "11\n",
      "12\n",
      "13\n",
      "14\n",
      "15\n"
     ]
    }
   ],
   "source": [
    "for sample in [0, 1, 2, 3, 4, 5]:\n",
    "        new_sample = sample+10\n",
    "        print(new_sample)        "
   ]
  },
  {
   "cell_type": "markdown",
   "id": "981f2d7f",
   "metadata": {},
   "source": [
    "#### (2) range 함수와 함께 사용하는 for 문"
   ]
  },
  {
   "cell_type": "code",
   "execution_count": 20,
   "id": "18d31dd5",
   "metadata": {},
   "outputs": [
    {
     "data": {
      "text/plain": [
       "range(1, 5)"
      ]
     },
     "execution_count": 20,
     "metadata": {},
     "output_type": "execute_result"
    }
   ],
   "source": [
    "range(1, 5)"
   ]
  },
  {
   "cell_type": "code",
   "execution_count": 21,
   "id": "14b6cd90",
   "metadata": {},
   "outputs": [
    {
     "data": {
      "text/plain": [
       "[1, 2, 3, 4]"
      ]
     },
     "execution_count": 21,
     "metadata": {},
     "output_type": "execute_result"
    }
   ],
   "source": [
    "list(range(1,5))"
   ]
  },
  {
   "cell_type": "code",
   "execution_count": 22,
   "id": "8b47df24",
   "metadata": {},
   "outputs": [
    {
     "data": {
      "text/plain": [
       "range(1, 11)"
      ]
     },
     "execution_count": 22,
     "metadata": {},
     "output_type": "execute_result"
    }
   ],
   "source": [
    "range(1, 11)"
   ]
  },
  {
   "cell_type": "code",
   "execution_count": 23,
   "id": "c661acc8",
   "metadata": {},
   "outputs": [
    {
     "data": {
      "text/plain": [
       "[1, 2, 3, 4, 5, 6, 7, 8, 9, 10]"
      ]
     },
     "execution_count": 23,
     "metadata": {},
     "output_type": "execute_result"
    }
   ],
   "source": [
    "list(range(1,11))"
   ]
  },
  {
   "cell_type": "code",
   "execution_count": 24,
   "id": "0dec96fc",
   "metadata": {},
   "outputs": [
    {
     "name": "stdout",
     "output_type": "stream",
     "text": [
      "1\n",
      "2\n",
      "3\n",
      "4\n",
      "5\n",
      "6\n",
      "7\n",
      "8\n",
      "9\n",
      "10\n"
     ]
    }
   ],
   "source": [
    "for num in range(1,11) : \n",
    "    print(num)"
   ]
  },
  {
   "cell_type": "code",
   "execution_count": 25,
   "id": "dfcbc405",
   "metadata": {},
   "outputs": [
    {
     "name": "stdout",
     "output_type": "stream",
     "text": [
      "0\n",
      "1\n",
      "2\n"
     ]
    }
   ],
   "source": [
    "for num in range(3) :   \n",
    "    print(num)"
   ]
  },
  {
   "cell_type": "code",
   "execution_count": 26,
   "id": "31867ebd",
   "metadata": {},
   "outputs": [
    {
     "name": "stdout",
     "output_type": "stream",
     "text": [
      "1\n",
      "4\n",
      "7\n",
      "10\n",
      "13\n",
      "16\n",
      "19\n",
      "22\n",
      "25\n",
      "28\n"
     ]
    }
   ],
   "source": [
    "for num in range(1,30,3) :   \n",
    "    print(num)"
   ]
  },
  {
   "cell_type": "code",
   "execution_count": null,
   "id": "5b9584dc",
   "metadata": {},
   "outputs": [],
   "source": []
  },
  {
   "cell_type": "markdown",
   "id": "18f4ed45",
   "metadata": {},
   "source": [
    "### 2. 반복문(while 문)"
   ]
  },
  {
   "cell_type": "code",
   "execution_count": 27,
   "id": "431f4635",
   "metadata": {},
   "outputs": [
    {
     "name": "stdout",
     "output_type": "stream",
     "text": [
      "1\n",
      "3\n",
      "5\n",
      "7\n",
      "9\n"
     ]
    }
   ],
   "source": [
    "num = 0\n",
    "while num <= 10:\n",
    "        if num % 2 == 1:\n",
    "                print(num)\n",
    "        num += 1"
   ]
  },
  {
   "cell_type": "code",
   "execution_count": null,
   "id": "e3525104",
   "metadata": {},
   "outputs": [],
   "source": []
  },
  {
   "cell_type": "markdown",
   "id": "385cb49e",
   "metadata": {},
   "source": [
    "## 제3절 파이썬 함수(function)"
   ]
  },
  {
   "cell_type": "markdown",
   "id": "e5175b3e",
   "metadata": {},
   "source": [
    "### 1. 함수란? "
   ]
  },
  {
   "cell_type": "markdown",
   "id": "26e01afd",
   "metadata": {},
   "source": [
    "#### (1) 함수 만들기 "
   ]
  },
  {
   "cell_type": "code",
   "execution_count": 42,
   "id": "d03eb7b8",
   "metadata": {},
   "outputs": [],
   "source": [
    "def print_school():\n",
    "        print(\"한국대학교\")"
   ]
  },
  {
   "cell_type": "code",
   "execution_count": 43,
   "id": "df3f17ee",
   "metadata": {},
   "outputs": [],
   "source": [
    "def print_school(n):\n",
    "    for i in range(n):\n",
    "        print(\"한국대학교\")"
   ]
  },
  {
   "cell_type": "code",
   "execution_count": 44,
   "id": "0b8d90a3",
   "metadata": {},
   "outputs": [
    {
     "name": "stdout",
     "output_type": "stream",
     "text": [
      "한국대학교\n"
     ]
    }
   ],
   "source": [
    "print_school(1)"
   ]
  },
  {
   "cell_type": "code",
   "execution_count": 45,
   "id": "1012b117",
   "metadata": {},
   "outputs": [
    {
     "name": "stdout",
     "output_type": "stream",
     "text": [
      "한국대학교\n",
      "한국대학교\n",
      "한국대학교\n",
      "한국대학교\n",
      "한국대학교\n"
     ]
    }
   ],
   "source": [
    "print_school(5)"
   ]
  },
  {
   "cell_type": "code",
   "execution_count": null,
   "id": "88e67ade",
   "metadata": {},
   "outputs": [],
   "source": []
  },
  {
   "cell_type": "markdown",
   "id": "17d896a1",
   "metadata": {},
   "source": [
    "### 2. 파이썬 내장 함수"
   ]
  },
  {
   "cell_type": "code",
   "execution_count": 34,
   "id": "3aeb2758",
   "metadata": {},
   "outputs": [
    {
     "data": {
      "text/plain": [
       "10"
      ]
     },
     "execution_count": 34,
     "metadata": {},
     "output_type": "execute_result"
    }
   ],
   "source": [
    "abs(-10)"
   ]
  },
  {
   "cell_type": "code",
   "execution_count": 35,
   "id": "81b6e92f",
   "metadata": {},
   "outputs": [
    {
     "data": {
      "text/plain": [
       "5"
      ]
     },
     "execution_count": 35,
     "metadata": {},
     "output_type": "execute_result"
    }
   ],
   "source": [
    "len('한국대학교')"
   ]
  },
  {
   "cell_type": "code",
   "execution_count": 36,
   "id": "8867b535",
   "metadata": {},
   "outputs": [
    {
     "data": {
      "text/plain": [
       "['한', '국', '대', '학', '교']"
      ]
     },
     "execution_count": 36,
     "metadata": {},
     "output_type": "execute_result"
    }
   ],
   "source": [
    "list('한국대학교')"
   ]
  },
  {
   "cell_type": "code",
   "execution_count": 37,
   "id": "de243646",
   "metadata": {},
   "outputs": [
    {
     "data": {
      "text/plain": [
       "5"
      ]
     },
     "execution_count": 37,
     "metadata": {},
     "output_type": "execute_result"
    }
   ],
   "source": [
    "max(1,2,3,4,5)"
   ]
  },
  {
   "cell_type": "code",
   "execution_count": 38,
   "id": "65fed322",
   "metadata": {},
   "outputs": [
    {
     "data": {
      "text/plain": [
       "1"
      ]
     },
     "execution_count": 38,
     "metadata": {},
     "output_type": "execute_result"
    }
   ],
   "source": [
    "min(1,2,3,4,5)"
   ]
  },
  {
   "cell_type": "code",
   "execution_count": 39,
   "id": "f6d154d7",
   "metadata": {},
   "outputs": [
    {
     "data": {
      "text/plain": [
       "[0, 1, 3, 4, 5]"
      ]
     },
     "execution_count": 39,
     "metadata": {},
     "output_type": "execute_result"
    }
   ],
   "source": [
    "sorted((4,3,1,5,0))"
   ]
  },
  {
   "cell_type": "code",
   "execution_count": 40,
   "id": "753b01bb",
   "metadata": {},
   "outputs": [
    {
     "data": {
      "text/plain": [
       "['a', 'b', 'c', 'd']"
      ]
     },
     "execution_count": 40,
     "metadata": {},
     "output_type": "execute_result"
    }
   ],
   "source": [
    "sorted(['c', 'b', \"d\",'a'])"
   ]
  },
  {
   "cell_type": "code",
   "execution_count": 41,
   "id": "09c2bc2c",
   "metadata": {},
   "outputs": [
    {
     "data": {
      "text/plain": [
       "['대학교', '컴공과', '한국']"
      ]
     },
     "execution_count": 41,
     "metadata": {},
     "output_type": "execute_result"
    }
   ],
   "source": [
    "sorted(['한국', '대학교', \"컴공과\"])"
   ]
  },
  {
   "cell_type": "code",
   "execution_count": null,
   "id": "a94e04f7",
   "metadata": {},
   "outputs": [],
   "source": []
  }
 ],
 "metadata": {
  "kernelspec": {
   "display_name": "Python 3 (ipykernel)",
   "language": "python",
   "name": "python3"
  },
  "language_info": {
   "codemirror_mode": {
    "name": "ipython",
    "version": 3
   },
   "file_extension": ".py",
   "mimetype": "text/x-python",
   "name": "python",
   "nbconvert_exporter": "python",
   "pygments_lexer": "ipython3",
   "version": "3.9.6"
  },
  "toc": {
   "base_numbering": 1,
   "nav_menu": {},
   "number_sections": true,
   "sideBar": true,
   "skip_h1_title": false,
   "title_cell": "Table of Contents",
   "title_sidebar": "Contents",
   "toc_cell": false,
   "toc_position": {},
   "toc_section_display": true,
   "toc_window_display": false
  }
 },
 "nbformat": 4,
 "nbformat_minor": 5
}
