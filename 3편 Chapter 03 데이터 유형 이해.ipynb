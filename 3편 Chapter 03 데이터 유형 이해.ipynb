{
 "cells": [
  {
   "cell_type": "markdown",
   "id": "dc09a87a",
   "metadata": {},
   "source": [
    "# Chapter 3 데이터 유형 이해"
   ]
  },
  {
   "cell_type": "markdown",
   "id": "5d66ce57",
   "metadata": {},
   "source": [
    "## 제1절 데이터 타입"
   ]
  },
  {
   "cell_type": "markdown",
   "id": "8ad9b262",
   "metadata": {},
   "source": [
    "### 1. 기본 자료형 \n",
    "#### :  통상적으로 정수(int), 실수(float), 문자열(str) , boolean\n",
    "#### int  : integer의 약자로서 정수\n",
    "#### float : 부동 소수점(실수) 의미\n",
    "#### str : string 약자로 문자열, 문자열은 따옴표 사용\n",
    "#### bool : boolean  식에 대하여 참과 거짓을 판단"
   ]
  },
  {
   "cell_type": "markdown",
   "id": "9308f14d",
   "metadata": {},
   "source": [
    "#### 1)"
   ]
  },
  {
   "cell_type": "code",
   "execution_count": 374,
   "id": "244584d0",
   "metadata": {},
   "outputs": [
    {
     "data": {
      "text/plain": [
       "int"
      ]
     },
     "execution_count": 374,
     "metadata": {},
     "output_type": "execute_result"
    }
   ],
   "source": [
    "type(100)"
   ]
  },
  {
   "cell_type": "code",
   "execution_count": 375,
   "id": "dd00abb3",
   "metadata": {},
   "outputs": [
    {
     "data": {
      "text/plain": [
       "float"
      ]
     },
     "execution_count": 375,
     "metadata": {},
     "output_type": "execute_result"
    }
   ],
   "source": [
    "type(100.5)"
   ]
  },
  {
   "cell_type": "code",
   "execution_count": 376,
   "id": "96e54968",
   "metadata": {},
   "outputs": [
    {
     "data": {
      "text/plain": [
       "str"
      ]
     },
     "execution_count": 376,
     "metadata": {},
     "output_type": "execute_result"
    }
   ],
   "source": [
    "type(\"한국대학교\")"
   ]
  },
  {
   "cell_type": "code",
   "execution_count": 377,
   "id": "5ab62444",
   "metadata": {},
   "outputs": [
    {
     "data": {
      "text/plain": [
       "str"
      ]
     },
     "execution_count": 377,
     "metadata": {},
     "output_type": "execute_result"
    }
   ],
   "source": [
    "a = \"한국대학교 컴퓨터공학과\"\n",
    "type(a)"
   ]
  },
  {
   "cell_type": "code",
   "execution_count": 378,
   "id": "936dd76b",
   "metadata": {},
   "outputs": [
    {
     "data": {
      "text/plain": [
       "bool"
      ]
     },
     "execution_count": 378,
     "metadata": {},
     "output_type": "execute_result"
    }
   ],
   "source": [
    "x=5>2\n",
    "type(x)"
   ]
  },
  {
   "cell_type": "code",
   "execution_count": 379,
   "id": "fe720247",
   "metadata": {},
   "outputs": [
    {
     "data": {
      "text/plain": [
       "True"
      ]
     },
     "execution_count": 379,
     "metadata": {},
     "output_type": "execute_result"
    }
   ],
   "source": [
    "x"
   ]
  },
  {
   "cell_type": "code",
   "execution_count": 380,
   "id": "1ae8258a",
   "metadata": {},
   "outputs": [
    {
     "data": {
      "text/plain": [
       "bool"
      ]
     },
     "execution_count": 380,
     "metadata": {},
     "output_type": "execute_result"
    }
   ],
   "source": [
    "y=5<2\n",
    "type(y)"
   ]
  },
  {
   "cell_type": "code",
   "execution_count": 381,
   "id": "d91b53dd",
   "metadata": {},
   "outputs": [
    {
     "data": {
      "text/plain": [
       "False"
      ]
     },
     "execution_count": 381,
     "metadata": {},
     "output_type": "execute_result"
    }
   ],
   "source": [
    "y"
   ]
  },
  {
   "cell_type": "markdown",
   "id": "444ea475",
   "metadata": {},
   "source": [
    "#### 2)문자열 따옴표를 출력하기"
   ]
  },
  {
   "cell_type": "code",
   "execution_count": 382,
   "id": "d1c29cff",
   "metadata": {},
   "outputs": [
    {
     "name": "stdout",
     "output_type": "stream",
     "text": [
      "학교앞에서 누군가가  \"금융정보과 학생여러분! 화이팅하세요\" 라고 외치고 있었다\n"
     ]
    }
   ],
   "source": [
    "print('학교앞에서 누군가가  \"금융정보과 학생여러분! 화이팅하세요\" 라고 외치고 있었다')"
   ]
  },
  {
   "cell_type": "markdown",
   "id": "74debf24",
   "metadata": {},
   "source": [
    "#### (2) 문자열 치환"
   ]
  },
  {
   "cell_type": "code",
   "execution_count": 383,
   "id": "8a745747",
   "metadata": {},
   "outputs": [
    {
     "data": {
      "text/plain": [
       "'2023-5-15'"
      ]
     },
     "execution_count": 383,
     "metadata": {},
     "output_type": "execute_result"
    }
   ],
   "source": [
    "\"2023.5.15\".replace(\".\", \"-\")"
   ]
  },
  {
   "cell_type": "markdown",
   "id": "e49587ba",
   "metadata": {},
   "source": [
    "#### (3) 문자열의 길이 확인"
   ]
  },
  {
   "cell_type": "code",
   "execution_count": 384,
   "id": "523e8bf2",
   "metadata": {},
   "outputs": [
    {
     "data": {
      "text/plain": [
       "5"
      ]
     },
     "execution_count": 384,
     "metadata": {},
     "output_type": "execute_result"
    }
   ],
   "source": [
    "loc=\"seoul\"\n",
    "len(loc)"
   ]
  },
  {
   "cell_type": "markdown",
   "id": "6895d97d",
   "metadata": {},
   "source": [
    "#### (4) 문자 중 인덱스 찾기"
   ]
  },
  {
   "cell_type": "code",
   "execution_count": 385,
   "id": "85e6047a",
   "metadata": {},
   "outputs": [
    {
     "data": {
      "text/plain": [
       "'s'"
      ]
     },
     "execution_count": 385,
     "metadata": {},
     "output_type": "execute_result"
    }
   ],
   "source": [
    "loc=\"seoul\" \n",
    "loc[0]"
   ]
  },
  {
   "cell_type": "markdown",
   "id": "55972d91",
   "metadata": {},
   "source": [
    "#### (5) 문자 중 일부 잘라내기(slice)"
   ]
  },
  {
   "cell_type": "code",
   "execution_count": 386,
   "id": "2b79a1b9",
   "metadata": {},
   "outputs": [
    {
     "data": {
      "text/plain": [
       "'seou'"
      ]
     },
     "execution_count": 386,
     "metadata": {},
     "output_type": "execute_result"
    }
   ],
   "source": [
    "loc=\"seoul\" \n",
    "loc[0:4]"
   ]
  },
  {
   "cell_type": "code",
   "execution_count": 387,
   "id": "e4a3033f",
   "metadata": {},
   "outputs": [
    {
     "data": {
      "text/plain": [
       "'eou'"
      ]
     },
     "execution_count": 387,
     "metadata": {},
     "output_type": "execute_result"
    }
   ],
   "source": [
    "loc=\"seoul\" \n",
    "loc[1:4]"
   ]
  },
  {
   "cell_type": "code",
   "execution_count": 388,
   "id": "17775f18",
   "metadata": {},
   "outputs": [
    {
     "data": {
      "text/plain": [
       "'ul'"
      ]
     },
     "execution_count": 388,
     "metadata": {},
     "output_type": "execute_result"
    }
   ],
   "source": [
    "loc=\"seoul\"\n",
    "loc[3:]"
   ]
  },
  {
   "cell_type": "markdown",
   "id": "0072ae9b",
   "metadata": {},
   "source": [
    "## 제2절  파이썬 연속 데이터 구조"
   ]
  },
  {
   "cell_type": "markdown",
   "id": "19b08565",
   "metadata": {},
   "source": [
    "### 1. 리스트(List)"
   ]
  },
  {
   "cell_type": "markdown",
   "id": "846bb21c",
   "metadata": {},
   "source": [
    "#### (1) 기본 구조"
   ]
  },
  {
   "cell_type": "code",
   "execution_count": 389,
   "id": "9772d595",
   "metadata": {},
   "outputs": [
    {
     "data": {
      "text/plain": [
       "'삼성전자'"
      ]
     },
     "execution_count": 389,
     "metadata": {},
     "output_type": "execute_result"
    }
   ],
   "source": [
    "a= \"삼성전자\"\n",
    "a"
   ]
  },
  {
   "cell_type": "code",
   "execution_count": 390,
   "id": "90314ec0",
   "metadata": {},
   "outputs": [
    {
     "data": {
      "text/plain": [
       "'LG엔솔'"
      ]
     },
     "execution_count": 390,
     "metadata": {},
     "output_type": "execute_result"
    }
   ],
   "source": [
    "b= \"LG엔솔\"\n",
    "b"
   ]
  },
  {
   "cell_type": "code",
   "execution_count": 391,
   "id": "1071e894",
   "metadata": {},
   "outputs": [
    {
     "data": {
      "text/plain": [
       "'sk하이닉스'"
      ]
     },
     "execution_count": 391,
     "metadata": {},
     "output_type": "execute_result"
    }
   ],
   "source": [
    "c= \"sk하이닉스\"\n",
    "c"
   ]
  },
  {
   "cell_type": "code",
   "execution_count": 392,
   "id": "5a341f6e",
   "metadata": {},
   "outputs": [
    {
     "data": {
      "text/plain": [
       "['삼성전자', 'LG엔솔', 'sk하이닉스']"
      ]
     },
     "execution_count": 392,
     "metadata": {},
     "output_type": "execute_result"
    }
   ],
   "source": [
    "mystock = [\"삼성전자\", \"LG엔솔\", \"sk하이닉스\"]\n",
    "mystock"
   ]
  },
  {
   "cell_type": "code",
   "execution_count": 393,
   "id": "9c0bb66b",
   "metadata": {},
   "outputs": [
    {
     "data": {
      "text/plain": [
       "'삼성전자'"
      ]
     },
     "execution_count": 393,
     "metadata": {},
     "output_type": "execute_result"
    }
   ],
   "source": [
    "mystock[0]"
   ]
  },
  {
   "cell_type": "code",
   "execution_count": 394,
   "id": "0a870b50",
   "metadata": {},
   "outputs": [
    {
     "data": {
      "text/plain": [
       "'sk하이닉스'"
      ]
     },
     "execution_count": 394,
     "metadata": {},
     "output_type": "execute_result"
    }
   ],
   "source": [
    "mystock[2]"
   ]
  },
  {
   "cell_type": "code",
   "execution_count": 395,
   "id": "5193817f",
   "metadata": {},
   "outputs": [
    {
     "data": {
      "text/plain": [
       "['삼성전자', 'LG엔솔', 'sk하이닉스', '카카오']"
      ]
     },
     "execution_count": 395,
     "metadata": {},
     "output_type": "execute_result"
    }
   ],
   "source": [
    "mystock = ['삼성전자', 'LG엔솔', 'sk하이닉스']\n",
    "mystock.append('카카오')\n",
    "mystock\n"
   ]
  },
  {
   "cell_type": "code",
   "execution_count": 396,
   "id": "b278f85f",
   "metadata": {},
   "outputs": [
    {
     "data": {
      "text/plain": [
       "['삼성전자', 'LG엔솔']"
      ]
     },
     "execution_count": 396,
     "metadata": {},
     "output_type": "execute_result"
    }
   ],
   "source": [
    "mystock = ['삼성전자', 'LG엔솔', 'sk하이닉스']\n",
    "del mystock[2]\n",
    "mystock"
   ]
  },
  {
   "cell_type": "code",
   "execution_count": 397,
   "id": "20b3bb76",
   "metadata": {},
   "outputs": [
    {
     "name": "stdout",
     "output_type": "stream",
     "text": [
      "['삼성전자', 'LG엔솔', 'sk하이닉스', '카카오', 'NAVER']\n"
     ]
    }
   ],
   "source": [
    "mystock1 = ['삼성전자', 'LG엔솔', 'sk하이닉스']\n",
    "mystock2 = ['카카오', 'NAVER']\n",
    "mystock1.extend(mystock2)\n",
    "print(mystock1)"
   ]
  },
  {
   "cell_type": "code",
   "execution_count": 398,
   "id": "d9c7472d",
   "metadata": {},
   "outputs": [
    {
     "name": "stdout",
     "output_type": "stream",
     "text": [
      "['카카오', 'NAVER', '삼성전자', 'LG엔솔', 'sk하이닉스']\n"
     ]
    }
   ],
   "source": [
    "mystock1 = ['삼성전자', 'LG엔솔', 'sk하이닉스']\n",
    "mystock2 = ['카카오', 'NAVER']\n",
    "mystock2.extend(mystock1)\n",
    "print(mystock2)"
   ]
  },
  {
   "cell_type": "code",
   "execution_count": 399,
   "id": "f3ce96ab",
   "metadata": {},
   "outputs": [
    {
     "name": "stdout",
     "output_type": "stream",
     "text": [
      "['삼성전자', 'LG엔솔', 'sk하이닉스', '카카오', 'NAVER', '삼성전자', 'LG엔솔', 'sk하이닉스']\n"
     ]
    }
   ],
   "source": [
    "mystock1.extend(mystock2)\n",
    "print(mystock1)"
   ]
  },
  {
   "cell_type": "code",
   "execution_count": 400,
   "id": "620cfc61",
   "metadata": {},
   "outputs": [
    {
     "name": "stdout",
     "output_type": "stream",
     "text": [
      "['LG엔솔', 'sk하이닉스', '삼성전자']\n"
     ]
    }
   ],
   "source": [
    "mystock = ['삼성전자', 'LG엔솔', 'sk하이닉스']\n",
    "mystock.sort()\n",
    "print(mystock)"
   ]
  },
  {
   "cell_type": "code",
   "execution_count": 401,
   "id": "5efe1b61",
   "metadata": {},
   "outputs": [
    {
     "name": "stdout",
     "output_type": "stream",
     "text": [
      "['four', 'one', 'three', 'two']\n"
     ]
    }
   ],
   "source": [
    "number=['one','two','three','four']\n",
    "number.sort()\n",
    "print(number)"
   ]
  },
  {
   "cell_type": "code",
   "execution_count": 402,
   "id": "8599401c",
   "metadata": {},
   "outputs": [
    {
     "name": "stdout",
     "output_type": "stream",
     "text": [
      "['four', 'one', 'three', 'two']\n"
     ]
    }
   ],
   "source": [
    "number=['one','two','three','four'] \n",
    "number.sort() \n",
    "print(number)"
   ]
  },
  {
   "cell_type": "code",
   "execution_count": 403,
   "id": "fe309a56",
   "metadata": {},
   "outputs": [
    {
     "name": "stdout",
     "output_type": "stream",
     "text": [
      "['LG엔솔', 'sk하이닉스', '삼성전자']\n"
     ]
    }
   ],
   "source": [
    "mystock = ['삼성전자', 'LG엔솔', 'sk하이닉스']\n",
    "mystock=sorted(mystock)\n",
    "print(mystock)"
   ]
  },
  {
   "cell_type": "code",
   "execution_count": 404,
   "id": "e80893e5",
   "metadata": {},
   "outputs": [
    {
     "name": "stdout",
     "output_type": "stream",
     "text": [
      "['four', 'one', 'three', 'two']\n"
     ]
    }
   ],
   "source": [
    "number=['one','two','three','four'] \n",
    "newnumber=sorted(number) \n",
    "print(newnumber)"
   ]
  },
  {
   "cell_type": "code",
   "execution_count": 405,
   "id": "c092970c",
   "metadata": {},
   "outputs": [
    {
     "name": "stdout",
     "output_type": "stream",
     "text": [
      "['four', 'one', 'three', 'two']\n",
      "['one', 'two', 'three', 'four']\n"
     ]
    }
   ],
   "source": [
    "number=['one','two','three','four'] \n",
    "newnumber=sorted(number) \n",
    "print(newnumber) \n",
    "print(number)"
   ]
  },
  {
   "cell_type": "code",
   "execution_count": 406,
   "id": "d73a4af6",
   "metadata": {},
   "outputs": [
    {
     "name": "stdout",
     "output_type": "stream",
     "text": [
      "['삼성전자', 'sk하이닉스', 'LG엔솔']\n"
     ]
    }
   ],
   "source": [
    "mystock = ['삼성전자', 'LG엔솔', 'sk하이닉스']\n",
    "mystock.sort(reverse=True) \n",
    "print(mystock)\n"
   ]
  },
  {
   "cell_type": "code",
   "execution_count": 407,
   "id": "0405335c",
   "metadata": {},
   "outputs": [
    {
     "name": "stdout",
     "output_type": "stream",
     "text": [
      "['two', 'three', 'one', 'four']\n"
     ]
    }
   ],
   "source": [
    "number=['one','two','three','four'] \n",
    "number.sort(reverse=True) \n",
    "print(number)"
   ]
  },
  {
   "cell_type": "code",
   "execution_count": 408,
   "id": "1f818a2c",
   "metadata": {},
   "outputs": [
    {
     "data": {
      "text/plain": [
       "3"
      ]
     },
     "execution_count": 408,
     "metadata": {},
     "output_type": "execute_result"
    }
   ],
   "source": [
    "mystock = ['삼성전자', 'LG엔솔', 'sk하이닉스']\n",
    "len(mystock)\n"
   ]
  },
  {
   "cell_type": "code",
   "execution_count": 409,
   "id": "0c1050b1",
   "metadata": {},
   "outputs": [
    {
     "data": {
      "text/plain": [
       "4"
      ]
     },
     "execution_count": 409,
     "metadata": {},
     "output_type": "execute_result"
    }
   ],
   "source": [
    "number=['one','two','three','four'] \n",
    "len(number)"
   ]
  },
  {
   "cell_type": "code",
   "execution_count": null,
   "id": "c8400b12",
   "metadata": {},
   "outputs": [],
   "source": []
  },
  {
   "cell_type": "markdown",
   "id": "050e4e42",
   "metadata": {},
   "source": [
    "#### (2) list 데이터 구조 활용"
   ]
  },
  {
   "cell_type": "code",
   "execution_count": 410,
   "id": "29312777",
   "metadata": {},
   "outputs": [
    {
     "name": "stdout",
     "output_type": "stream",
     "text": [
      "279700\n"
     ]
    }
   ],
   "source": [
    "sec = [55300, 55800, 56400, 56200, 56000]\n",
    "result = sum(sec)\n",
    "print(result)"
   ]
  },
  {
   "cell_type": "markdown",
   "id": "e1d61a5f",
   "metadata": {},
   "source": [
    "#### #3)  리스트 인덱싱"
   ]
  },
  {
   "cell_type": "code",
   "execution_count": 411,
   "id": "d02ce370",
   "metadata": {},
   "outputs": [
    {
     "data": {
      "text/plain": [
       "55300"
      ]
     },
     "execution_count": 411,
     "metadata": {},
     "output_type": "execute_result"
    }
   ],
   "source": [
    "sec = [55300, 55800, 56400, 56200, 56000]\n",
    "sec[0]"
   ]
  },
  {
   "cell_type": "code",
   "execution_count": 412,
   "id": "d9750469",
   "metadata": {},
   "outputs": [
    {
     "data": {
      "text/plain": [
       "56000"
      ]
     },
     "execution_count": 412,
     "metadata": {},
     "output_type": "execute_result"
    }
   ],
   "source": [
    "sec[4]"
   ]
  },
  {
   "cell_type": "code",
   "execution_count": 413,
   "id": "21d51037",
   "metadata": {},
   "outputs": [
    {
     "data": {
      "text/plain": [
       "56000"
      ]
     },
     "execution_count": 413,
     "metadata": {},
     "output_type": "execute_result"
    }
   ],
   "source": [
    "sec[-1]"
   ]
  },
  {
   "cell_type": "code",
   "execution_count": 414,
   "id": "86cf7a88",
   "metadata": {},
   "outputs": [
    {
     "data": {
      "text/plain": [
       "56200"
      ]
     },
     "execution_count": 414,
     "metadata": {},
     "output_type": "execute_result"
    }
   ],
   "source": [
    "sec[-2]"
   ]
  },
  {
   "cell_type": "markdown",
   "id": "d3d1d77e",
   "metadata": {},
   "source": [
    "#### 4) 리스트 슬라이싱"
   ]
  },
  {
   "cell_type": "code",
   "execution_count": 415,
   "id": "4f81d9bb",
   "metadata": {},
   "outputs": [],
   "source": [
    "kospi_top7 =['삼성전자','LG엔솔','SK하이닉스','삼바', 'LG화학','현대차','NAVER']"
   ]
  },
  {
   "cell_type": "code",
   "execution_count": 416,
   "id": "1ce474fb",
   "metadata": {},
   "outputs": [
    {
     "name": "stdout",
     "output_type": "stream",
     "text": [
      "['삼성전자', 'LG엔솔', 'SK하이닉스', '삼바', 'LG화학', '현대차', 'NAVER']\n"
     ]
    }
   ],
   "source": [
    "print(kospi_top7)"
   ]
  },
  {
   "cell_type": "code",
   "execution_count": 417,
   "id": "99289e08",
   "metadata": {},
   "outputs": [
    {
     "name": "stdout",
     "output_type": "stream",
     "text": [
      "LG화학\n"
     ]
    }
   ],
   "source": [
    "print( kospi_top7[4])"
   ]
  },
  {
   "cell_type": "code",
   "execution_count": 418,
   "id": "c047bce4",
   "metadata": {},
   "outputs": [],
   "source": [
    "kospi_top3 = kospi_top7[0:3]"
   ]
  },
  {
   "cell_type": "code",
   "execution_count": 419,
   "id": "d03297d2",
   "metadata": {},
   "outputs": [
    {
     "name": "stdout",
     "output_type": "stream",
     "text": [
      "['삼성전자', 'LG엔솔', 'SK하이닉스']\n"
     ]
    }
   ],
   "source": [
    "print(kospi_top3)"
   ]
  },
  {
   "cell_type": "code",
   "execution_count": 420,
   "id": "b8deddc0",
   "metadata": {},
   "outputs": [
    {
     "name": "stdout",
     "output_type": "stream",
     "text": [
      "['삼성전자', 'LG엔솔', 'SK하이닉스', '삼바', 'LG화학']\n"
     ]
    }
   ],
   "source": [
    "kospi_top3 = kospi_top7[0:5]\n",
    "print(kospi_top3)"
   ]
  },
  {
   "cell_type": "code",
   "execution_count": 421,
   "id": "151a5c66",
   "metadata": {},
   "outputs": [
    {
     "data": {
      "text/plain": [
       "['삼바', 'LG화학', '현대차', 'NAVER']"
      ]
     },
     "execution_count": 421,
     "metadata": {},
     "output_type": "execute_result"
    }
   ],
   "source": [
    "kospi_top7[3:]"
   ]
  },
  {
   "cell_type": "code",
   "execution_count": 422,
   "id": "a8bc1527",
   "metadata": {},
   "outputs": [
    {
     "data": {
      "text/plain": [
       "['삼바', 'LG화학']"
      ]
     },
     "execution_count": 422,
     "metadata": {},
     "output_type": "execute_result"
    }
   ],
   "source": [
    "kospi_top7[3:5]"
   ]
  },
  {
   "cell_type": "markdown",
   "id": "da3ce93f",
   "metadata": {},
   "source": [
    "#### (5) 리스트에 데이터 추가"
   ]
  },
  {
   "cell_type": "code",
   "execution_count": 423,
   "id": "98219759",
   "metadata": {},
   "outputs": [
    {
     "data": {
      "text/plain": [
       "['삼성전자', 'LG엔솔', 'SK하이닉스', '삼바', 'LG화학', '현대차', 'NAVER', 'SK텔레콤']"
      ]
     },
     "execution_count": 423,
     "metadata": {},
     "output_type": "execute_result"
    }
   ],
   "source": [
    "kospi_top7 =['삼성전자','LG엔솔','SK하이닉스','삼바', 'LG화학','현대차','NAVER']\n",
    "kospi_top7.append('SK텔레콤') \n",
    "kospi_top7"
   ]
  },
  {
   "cell_type": "code",
   "execution_count": 424,
   "id": "e201a2d6",
   "metadata": {},
   "outputs": [
    {
     "data": {
      "text/plain": [
       "['삼성전자', 'LG엔솔', 'SK하이닉스', '삼바', 'LG화학', '현대차', 'NAVER', 'SK텔레콤']"
      ]
     },
     "execution_count": 424,
     "metadata": {},
     "output_type": "execute_result"
    }
   ],
   "source": [
    "kospi_top8 = kospi_top7\n",
    "kospi_top8    "
   ]
  },
  {
   "cell_type": "code",
   "execution_count": 425,
   "id": "a54174d6",
   "metadata": {},
   "outputs": [
    {
     "data": {
      "text/plain": [
       "['삼성전자', 'LG엔솔', '카카오', 'SK하이닉스', '삼바', 'LG화학', '현대차', 'NAVER', 'SK텔레콤']"
      ]
     },
     "execution_count": 425,
     "metadata": {},
     "output_type": "execute_result"
    }
   ],
   "source": [
    "kospi_top8.insert(2, '카카오')\n",
    "kospi_top9=kospi_top8\n",
    "kospi_top9"
   ]
  },
  {
   "cell_type": "markdown",
   "id": "40614a10",
   "metadata": {},
   "source": [
    "#### (6) 리스트에 데이터 삭제"
   ]
  },
  {
   "cell_type": "code",
   "execution_count": 426,
   "id": "62ff2f10",
   "metadata": {},
   "outputs": [
    {
     "data": {
      "text/plain": [
       "9"
      ]
     },
     "execution_count": 426,
     "metadata": {},
     "output_type": "execute_result"
    }
   ],
   "source": [
    "len(kospi_top9)"
   ]
  },
  {
   "cell_type": "code",
   "execution_count": 427,
   "id": "4ac8d8f4",
   "metadata": {},
   "outputs": [
    {
     "data": {
      "text/plain": [
       "'SK텔레콤'"
      ]
     },
     "execution_count": 427,
     "metadata": {},
     "output_type": "execute_result"
    }
   ],
   "source": [
    "kospi_top9[-1]"
   ]
  },
  {
   "cell_type": "code",
   "execution_count": 428,
   "id": "2459f5f7",
   "metadata": {},
   "outputs": [],
   "source": [
    "del kospi_top9[-1]"
   ]
  },
  {
   "cell_type": "code",
   "execution_count": 429,
   "id": "5bac0256",
   "metadata": {},
   "outputs": [
    {
     "data": {
      "text/plain": [
       "['삼성전자', 'LG엔솔', '카카오', 'SK하이닉스', '삼바', 'LG화학', '현대차', 'NAVER']"
      ]
     },
     "execution_count": 429,
     "metadata": {},
     "output_type": "execute_result"
    }
   ],
   "source": [
    "kospi_top9"
   ]
  },
  {
   "cell_type": "code",
   "execution_count": 430,
   "id": "550ede57",
   "metadata": {},
   "outputs": [
    {
     "data": {
      "text/plain": [
       "8"
      ]
     },
     "execution_count": 430,
     "metadata": {},
     "output_type": "execute_result"
    }
   ],
   "source": [
    "len(kospi_top9)"
   ]
  },
  {
   "cell_type": "markdown",
   "id": "91a0271e",
   "metadata": {},
   "source": [
    "##### 주의사항"
   ]
  },
  {
   "cell_type": "code",
   "execution_count": 431,
   "id": "fe95a0ed",
   "metadata": {},
   "outputs": [
    {
     "data": {
      "text/plain": [
       "[1, 2, 3, 5, 6, 7]"
      ]
     },
     "execution_count": 431,
     "metadata": {},
     "output_type": "execute_result"
    }
   ],
   "source": [
    "[1,2,3]+[5,6,7]"
   ]
  },
  {
   "cell_type": "code",
   "execution_count": 432,
   "id": "915d75f3",
   "metadata": {},
   "outputs": [
    {
     "data": {
      "text/plain": [
       "[1, 5, 3]"
      ]
     },
     "execution_count": 432,
     "metadata": {},
     "output_type": "execute_result"
    }
   ],
   "source": [
    "abc=[1,2,3]\n",
    "abc[1]=5\n",
    "abc"
   ]
  },
  {
   "cell_type": "markdown",
   "id": "5c22a46a",
   "metadata": {},
   "source": [
    "### 2. 튜플(tuple)"
   ]
  },
  {
   "cell_type": "markdown",
   "id": "e327173e",
   "metadata": {},
   "source": [
    "#### (1) 튜플 데이터 생성 "
   ]
  },
  {
   "cell_type": "code",
   "execution_count": 433,
   "id": "2a1c966d",
   "metadata": {},
   "outputs": [
    {
     "data": {
      "text/plain": [
       "('삼성전자', 'LG엔솔', 'SK하이닉스', '삼바', 'LG화학', '현대차', 'NAVER')"
      ]
     },
     "execution_count": 433,
     "metadata": {},
     "output_type": "execute_result"
    }
   ],
   "source": [
    "kospi_top =('삼성전자','LG엔솔','SK하이닉스','삼바', 'LG화학','현대차','NAVER')\n",
    "kospi_top"
   ]
  },
  {
   "cell_type": "markdown",
   "id": "94d08372",
   "metadata": {},
   "source": [
    "#### (2) 튜플 데이터 확인 "
   ]
  },
  {
   "cell_type": "code",
   "execution_count": 434,
   "id": "5c96abeb",
   "metadata": {},
   "outputs": [
    {
     "data": {
      "text/plain": [
       "7"
      ]
     },
     "execution_count": 434,
     "metadata": {},
     "output_type": "execute_result"
    }
   ],
   "source": [
    "len(kospi_top)"
   ]
  },
  {
   "cell_type": "code",
   "execution_count": 435,
   "id": "bcdc0ed4",
   "metadata": {},
   "outputs": [
    {
     "data": {
      "text/plain": [
       "'삼성전자'"
      ]
     },
     "execution_count": 435,
     "metadata": {},
     "output_type": "execute_result"
    }
   ],
   "source": [
    "kospi_top[0]"
   ]
  },
  {
   "cell_type": "code",
   "execution_count": 436,
   "id": "1a34c853",
   "metadata": {},
   "outputs": [
    {
     "data": {
      "text/plain": [
       "'NAVER'"
      ]
     },
     "execution_count": 436,
     "metadata": {},
     "output_type": "execute_result"
    }
   ],
   "source": [
    "kospi_top[-1]"
   ]
  },
  {
   "cell_type": "code",
   "execution_count": 437,
   "id": "3a3a0ebe",
   "metadata": {},
   "outputs": [
    {
     "data": {
      "text/plain": [
       "'현대차'"
      ]
     },
     "execution_count": 437,
     "metadata": {},
     "output_type": "execute_result"
    }
   ],
   "source": [
    "kospi_top[-2]"
   ]
  },
  {
   "cell_type": "markdown",
   "id": "bbfa5f50",
   "metadata": {},
   "source": [
    "#### 93) 튜플 슬라이싱"
   ]
  },
  {
   "cell_type": "code",
   "execution_count": 438,
   "id": "0e1bd050",
   "metadata": {},
   "outputs": [
    {
     "data": {
      "text/plain": [
       "('삼성전자', 'LG엔솔')"
      ]
     },
     "execution_count": 438,
     "metadata": {},
     "output_type": "execute_result"
    }
   ],
   "source": [
    "kospi_top[0:2]"
   ]
  },
  {
   "cell_type": "markdown",
   "id": "823af6e9",
   "metadata": {},
   "source": [
    "### 3. 딕셔너리(dictionary)"
   ]
  },
  {
   "cell_type": "markdown",
   "id": "c2fccdcb",
   "metadata": {},
   "source": [
    "#### (1) 딕셔너리(dictionary) 데이터 생성"
   ]
  },
  {
   "cell_type": "code",
   "execution_count": 439,
   "id": "fbc1c433",
   "metadata": {},
   "outputs": [
    {
     "data": {
      "text/plain": [
       "{'삼성전자': 58000}"
      ]
     },
     "execution_count": 439,
     "metadata": {},
     "output_type": "execute_result"
    }
   ],
   "source": [
    "sec_price = {}\n",
    "sec_price['삼성전자'] = 58000\n",
    "sec_price"
   ]
  },
  {
   "cell_type": "code",
   "execution_count": 440,
   "id": "73d7aeaa",
   "metadata": {},
   "outputs": [
    {
     "data": {
      "text/plain": [
       "{'삼성전자': 58000, 'sk하이닉스': 80000}"
      ]
     },
     "execution_count": 440,
     "metadata": {},
     "output_type": "execute_result"
    }
   ],
   "source": [
    "sec_price['sk하이닉스'] = 80000\n",
    "sec_price"
   ]
  },
  {
   "cell_type": "markdown",
   "id": "7cf6e74b",
   "metadata": {},
   "source": [
    "#### (2) 딕셔너리(dictionary) 확인 "
   ]
  },
  {
   "cell_type": "code",
   "execution_count": 441,
   "id": "dfb73587",
   "metadata": {},
   "outputs": [
    {
     "data": {
      "text/plain": [
       "dict"
      ]
     },
     "execution_count": 441,
     "metadata": {},
     "output_type": "execute_result"
    }
   ],
   "source": [
    "type(sec_price)"
   ]
  },
  {
   "cell_type": "code",
   "execution_count": 442,
   "id": "42353ad7",
   "metadata": {},
   "outputs": [
    {
     "data": {
      "text/plain": [
       "dict"
      ]
     },
     "execution_count": 442,
     "metadata": {},
     "output_type": "execute_result"
    }
   ],
   "source": [
    "score = {}\n",
    "type(score)"
   ]
  },
  {
   "cell_type": "code",
   "execution_count": 443,
   "id": "83d03a4c",
   "metadata": {},
   "outputs": [
    {
     "data": {
      "text/plain": [
       "100"
      ]
     },
     "execution_count": 443,
     "metadata": {},
     "output_type": "execute_result"
    }
   ],
   "source": [
    "score[\"김철호\"]=100\n",
    "score[\"김철호\"]"
   ]
  },
  {
   "cell_type": "code",
   "execution_count": 444,
   "id": "a811cf49",
   "metadata": {},
   "outputs": [
    {
     "data": {
      "text/plain": [
       "{'김철호': 100}"
      ]
     },
     "execution_count": 444,
     "metadata": {},
     "output_type": "execute_result"
    }
   ],
   "source": [
    "score"
   ]
  },
  {
   "cell_type": "code",
   "execution_count": 445,
   "id": "65946ad3",
   "metadata": {},
   "outputs": [
    {
     "data": {
      "text/plain": [
       "1"
      ]
     },
     "execution_count": 445,
     "metadata": {},
     "output_type": "execute_result"
    }
   ],
   "source": [
    "len(score)"
   ]
  },
  {
   "cell_type": "code",
   "execution_count": 446,
   "id": "a0dee7db",
   "metadata": {},
   "outputs": [
    {
     "data": {
      "text/plain": [
       "100"
      ]
     },
     "execution_count": 446,
     "metadata": {},
     "output_type": "execute_result"
    }
   ],
   "source": [
    "score[\"김철호\"]"
   ]
  },
  {
   "cell_type": "code",
   "execution_count": 447,
   "id": "621616a6",
   "metadata": {},
   "outputs": [
    {
     "data": {
      "text/plain": [
       "2"
      ]
     },
     "execution_count": 447,
     "metadata": {},
     "output_type": "execute_result"
    }
   ],
   "source": [
    "len(sec_price)"
   ]
  },
  {
   "cell_type": "code",
   "execution_count": 448,
   "id": "03ce6a7e",
   "metadata": {},
   "outputs": [
    {
     "data": {
      "text/plain": [
       "58000"
      ]
     },
     "execution_count": 448,
     "metadata": {},
     "output_type": "execute_result"
    }
   ],
   "source": [
    "sec_price[\"삼성전자\"]"
   ]
  },
  {
   "cell_type": "code",
   "execution_count": 449,
   "id": "02286c0b",
   "metadata": {},
   "outputs": [],
   "source": [
    "score[\"박철호\"] = 10"
   ]
  },
  {
   "cell_type": "code",
   "execution_count": 450,
   "id": "ab59cfcb",
   "metadata": {},
   "outputs": [
    {
     "data": {
      "text/plain": [
       "{'김철호': 100, '박철호': 10}"
      ]
     },
     "execution_count": 450,
     "metadata": {},
     "output_type": "execute_result"
    }
   ],
   "source": [
    "score"
   ]
  },
  {
   "cell_type": "code",
   "execution_count": 451,
   "id": "a72f04c6",
   "metadata": {},
   "outputs": [
    {
     "data": {
      "text/plain": [
       "{'박철호': 10}"
      ]
     },
     "execution_count": 451,
     "metadata": {},
     "output_type": "execute_result"
    }
   ],
   "source": [
    "del score[\"김철호\"]\n",
    "score"
   ]
  },
  {
   "cell_type": "code",
   "execution_count": null,
   "id": "5939f200",
   "metadata": {},
   "outputs": [],
   "source": []
  },
  {
   "cell_type": "markdown",
   "id": "553e4e2a",
   "metadata": {},
   "source": [
    "#### (3) 딕셔너리에 데이터 삽입 "
   ]
  },
  {
   "cell_type": "code",
   "execution_count": 452,
   "id": "7deaf617",
   "metadata": {},
   "outputs": [
    {
     "data": {
      "text/plain": [
       "{'삼성전자': 58000, 'sk하이닉스': 80000, 'naver': 150000}"
      ]
     },
     "execution_count": 452,
     "metadata": {},
     "output_type": "execute_result"
    }
   ],
   "source": [
    "sec_price['naver'] = 150000\n",
    "sec_price"
   ]
  },
  {
   "cell_type": "markdown",
   "id": "40ad053e",
   "metadata": {},
   "source": [
    "#### (4) 딕셔너리에 데이터 삭제 "
   ]
  },
  {
   "cell_type": "code",
   "execution_count": 453,
   "id": "e00027db",
   "metadata": {},
   "outputs": [],
   "source": [
    "del sec_price['sk하이닉스']"
   ]
  },
  {
   "cell_type": "code",
   "execution_count": 454,
   "id": "1f44c83c",
   "metadata": {},
   "outputs": [
    {
     "data": {
      "text/plain": [
       "{'삼성전자': 58000, 'naver': 150000}"
      ]
     },
     "execution_count": 454,
     "metadata": {},
     "output_type": "execute_result"
    }
   ],
   "source": [
    "sec_price"
   ]
  },
  {
   "cell_type": "markdown",
   "id": "57f4c3c2",
   "metadata": {},
   "source": [
    "#### (5) 딕셔너리로부터 key-value 구하기 "
   ]
  },
  {
   "cell_type": "code",
   "execution_count": 455,
   "id": "0f819bbf",
   "metadata": {},
   "outputs": [
    {
     "data": {
      "text/plain": [
       "{'삼성전자': 58000, 'naver': 150000}"
      ]
     },
     "execution_count": 455,
     "metadata": {},
     "output_type": "execute_result"
    }
   ],
   "source": [
    "sec_price"
   ]
  },
  {
   "cell_type": "code",
   "execution_count": 456,
   "id": "2b5b2434",
   "metadata": {},
   "outputs": [],
   "source": [
    "sec_price['sk하이닉스'] = 80000\n",
    "sec_price"
   ]
  },
  {
   "cell_type": "code",
   "execution_count": 458,
   "id": "58000dff",
   "metadata": {},
   "outputs": [
    {
     "data": {
      "text/plain": [
       "dict_keys(['삼성전자', 'naver', 'sk하이닉스'])"
      ]
     },
     "execution_count": 458,
     "metadata": {},
     "output_type": "execute_result"
    }
   ],
   "source": [
    "sec_price.keys()"
   ]
  },
  {
   "cell_type": "code",
   "execution_count": 459,
   "id": "bed113ea",
   "metadata": {},
   "outputs": [],
   "source": [
    "price_list = list(sec_price.values())\n",
    "price_list"
   ]
  },
  {
   "cell_type": "code",
   "execution_count": 461,
   "id": "c4d0a9ff",
   "metadata": {},
   "outputs": [
    {
     "data": {
      "text/plain": [
       "58000"
      ]
     },
     "execution_count": 461,
     "metadata": {},
     "output_type": "execute_result"
    }
   ],
   "source": [
    "sec_price['삼성전자']"
   ]
  },
  {
   "cell_type": "markdown",
   "id": "4d4c32b1",
   "metadata": {},
   "source": [
    "#### 연습 dict()를 사용해 다른 데이터 구조를 딕셔너리형으로 변환"
   ]
  },
  {
   "cell_type": "code",
   "execution_count": 462,
   "id": "2953bff9",
   "metadata": {},
   "outputs": [
    {
     "name": "stdout",
     "output_type": "stream",
     "text": [
      "{'apple': 3500, 'peer': 2500, 'cherry': 5000}\n"
     ]
    }
   ],
   "source": [
    "fruit_price =[['apple',3500],['peer',2500],['cherry',5000]] \n",
    "fruit_price=dict(fruit_price) \n",
    "print(fruit_price)"
   ]
  },
  {
   "cell_type": "markdown",
   "id": "7c7a691f",
   "metadata": {},
   "source": [
    "### 4. 세트 (Set)"
   ]
  },
  {
   "cell_type": "markdown",
   "id": "3aa40f1d",
   "metadata": {},
   "source": [
    "#### (1) 세트 이해 "
   ]
  },
  {
   "cell_type": "markdown",
   "id": "3fa5aec2",
   "metadata": {},
   "source": [
    "#### (2) (리스트와 비교한) 세트 생성"
   ]
  },
  {
   "cell_type": "code",
   "execution_count": 463,
   "id": "b73149b5",
   "metadata": {},
   "outputs": [
    {
     "data": {
      "text/plain": [
       "{'naver', '삼성전자', '하이닉스'}"
      ]
     },
     "execution_count": 463,
     "metadata": {},
     "output_type": "execute_result"
    }
   ],
   "source": [
    "stock_set= {'삼성전자', '하이닉스', 'naver'}\n",
    "stock_set"
   ]
  },
  {
   "cell_type": "code",
   "execution_count": 464,
   "id": "169897de",
   "metadata": {},
   "outputs": [
    {
     "data": {
      "text/plain": [
       "['삼성전자', '하이닉스', 'naver']"
      ]
     },
     "execution_count": 464,
     "metadata": {},
     "output_type": "execute_result"
    }
   ],
   "source": [
    "stock_list= ['삼성전자', '하이닉스', 'naver']\n",
    "stock_list"
   ]
  },
  {
   "cell_type": "code",
   "execution_count": 465,
   "id": "643036ff",
   "metadata": {},
   "outputs": [
    {
     "data": {
      "text/plain": [
       "{'naver', '삼성전자', '하이닉스'}"
      ]
     },
     "execution_count": 465,
     "metadata": {},
     "output_type": "execute_result"
    }
   ],
   "source": [
    "stock_set= {'삼성전자', '하이닉스', 'naver', '삼성전자'}\n",
    "stock_set"
   ]
  },
  {
   "cell_type": "code",
   "execution_count": 466,
   "id": "1162e856",
   "metadata": {},
   "outputs": [
    {
     "data": {
      "text/plain": [
       "['삼성전자', '하이닉스', 'naver', '삼성전자']"
      ]
     },
     "execution_count": 466,
     "metadata": {},
     "output_type": "execute_result"
    }
   ],
   "source": [
    "stock_list= ['삼성전자', '하이닉스', 'naver','삼성전자']\n",
    "stock_list"
   ]
  },
  {
   "cell_type": "markdown",
   "id": "6fb3c25f",
   "metadata": {},
   "source": [
    "#### (3) 세트 데이터 확인하기 "
   ]
  },
  {
   "cell_type": "code",
   "execution_count": 492,
   "id": "373a1668",
   "metadata": {},
   "outputs": [
    {
     "data": {
      "text/plain": [
       "{'naver', '삼성전자', '카카오', '하이닉스'}"
      ]
     },
     "execution_count": 492,
     "metadata": {},
     "output_type": "execute_result"
    }
   ],
   "source": [
    "stock_list= {'삼성전자', '하이닉스', 'naver'}\n",
    "stock_list.add(\"카카오\")\n",
    "stock_list"
   ]
  },
  {
   "cell_type": "code",
   "execution_count": 496,
   "id": "a9c34543",
   "metadata": {},
   "outputs": [
    {
     "data": {
      "text/plain": [
       "{'naver', '삼성전자', '신한지주', '카카오', '카카오뱅크', '하이닉스'}"
      ]
     },
     "execution_count": 496,
     "metadata": {},
     "output_type": "execute_result"
    }
   ],
   "source": [
    "stock_set= {'삼성전자', '하이닉스', 'naver', '카카오'}\n",
    "stock_set_1 = (\"신한지주\", \"카카오뱅크\")\n",
    "\n",
    "stock_set.update(stock_set_1)\n",
    "stock_set"
   ]
  },
  {
   "cell_type": "code",
   "execution_count": null,
   "id": "bb13a974",
   "metadata": {},
   "outputs": [],
   "source": []
  },
  {
   "cell_type": "markdown",
   "id": "9d529c86",
   "metadata": {},
   "source": [
    "### 5. 문자열"
   ]
  },
  {
   "cell_type": "code",
   "execution_count": 471,
   "id": "7ed378c2",
   "metadata": {},
   "outputs": [
    {
     "data": {
      "text/plain": [
       "11"
      ]
     },
     "execution_count": 471,
     "metadata": {},
     "output_type": "execute_result"
    }
   ],
   "source": [
    "string  = 'hello world'\n",
    "len(string)"
   ]
  },
  {
   "cell_type": "code",
   "execution_count": 472,
   "id": "96ea97ba",
   "metadata": {},
   "outputs": [
    {
     "data": {
      "text/plain": [
       "'hello'"
      ]
     },
     "execution_count": 472,
     "metadata": {},
     "output_type": "execute_result"
    }
   ],
   "source": [
    "string[0:5]"
   ]
  },
  {
   "cell_type": "code",
   "execution_count": 473,
   "id": "1b6b4a75",
   "metadata": {},
   "outputs": [
    {
     "data": {
      "text/plain": [
       "'hello w'"
      ]
     },
     "execution_count": 473,
     "metadata": {},
     "output_type": "execute_result"
    }
   ],
   "source": [
    "string[0:7]"
   ]
  },
  {
   "cell_type": "code",
   "execution_count": 474,
   "id": "979935a4",
   "metadata": {},
   "outputs": [
    {
     "data": {
      "text/plain": [
       "'world'"
      ]
     },
     "execution_count": 474,
     "metadata": {},
     "output_type": "execute_result"
    }
   ],
   "source": [
    "string[6:11]"
   ]
  },
  {
   "cell_type": "code",
   "execution_count": 475,
   "id": "6b44bd4a",
   "metadata": {},
   "outputs": [
    {
     "data": {
      "text/plain": [
       "'world'"
      ]
     },
     "execution_count": 475,
     "metadata": {},
     "output_type": "execute_result"
    }
   ],
   "source": [
    "string[6:]"
   ]
  },
  {
   "cell_type": "code",
   "execution_count": 476,
   "id": "1d856049",
   "metadata": {},
   "outputs": [
    {
     "data": {
      "text/plain": [
       "'wor'"
      ]
     },
     "execution_count": 476,
     "metadata": {},
     "output_type": "execute_result"
    }
   ],
   "source": [
    "string[6:-2]"
   ]
  },
  {
   "cell_type": "code",
   "execution_count": 477,
   "id": "f31e0727",
   "metadata": {},
   "outputs": [],
   "source": [
    "ansan_univ = 100"
   ]
  },
  {
   "cell_type": "code",
   "execution_count": 478,
   "id": "dccc06a7",
   "metadata": {},
   "outputs": [
    {
     "data": {
      "text/plain": [
       "100"
      ]
     },
     "execution_count": 478,
     "metadata": {},
     "output_type": "execute_result"
    }
   ],
   "source": [
    "ansan_univ"
   ]
  },
  {
   "cell_type": "markdown",
   "id": "25091d75",
   "metadata": {},
   "source": [
    "#### (2) 문자열 자르기 : split 메서드(metod) 지원"
   ]
  },
  {
   "cell_type": "code",
   "execution_count": 497,
   "id": "e438e03a",
   "metadata": {},
   "outputs": [
    {
     "data": {
      "text/plain": [
       "'SK LG'"
      ]
     },
     "execution_count": 497,
     "metadata": {},
     "output_type": "execute_result"
    }
   ],
   "source": [
    "stock  = \"SK LG\"\n",
    "stock "
   ]
  },
  {
   "cell_type": "code",
   "execution_count": 481,
   "id": "7cdcc258",
   "metadata": {},
   "outputs": [
    {
     "data": {
      "text/plain": [
       "['SK', 'LG']"
      ]
     },
     "execution_count": 481,
     "metadata": {},
     "output_type": "execute_result"
    }
   ],
   "source": [
    "stock.split(' ')"
   ]
  },
  {
   "cell_type": "code",
   "execution_count": 482,
   "id": "5660dc79",
   "metadata": {},
   "outputs": [
    {
     "data": {
      "text/plain": [
       "'SK'"
      ]
     },
     "execution_count": 482,
     "metadata": {},
     "output_type": "execute_result"
    }
   ],
   "source": [
    "stock.split(' ')[0]"
   ]
  },
  {
   "cell_type": "code",
   "execution_count": 483,
   "id": "838d8c55",
   "metadata": {},
   "outputs": [
    {
     "name": "stdout",
     "output_type": "stream",
     "text": [
      "SK\n"
     ]
    }
   ],
   "source": [
    "print(stock.split(' ')[0])"
   ]
  },
  {
   "cell_type": "markdown",
   "id": "7708c4bb",
   "metadata": {},
   "source": [
    "#### (3)  문자열 합치기"
   ]
  },
  {
   "cell_type": "code",
   "execution_count": 498,
   "id": "95f0077c",
   "metadata": {},
   "outputs": [],
   "source": [
    "meta = \"META\"\n",
    "facebook = \"FACEBOOK\""
   ]
  },
  {
   "cell_type": "code",
   "execution_count": 499,
   "id": "52a9cd53",
   "metadata": {},
   "outputs": [
    {
     "data": {
      "text/plain": [
       "'METAFACEBOOK'"
      ]
     },
     "execution_count": 499,
     "metadata": {},
     "output_type": "execute_result"
    }
   ],
   "source": [
    "meta + facebook"
   ]
  },
  {
   "cell_type": "code",
   "execution_count": 500,
   "id": "9771175a",
   "metadata": {},
   "outputs": [
    {
     "data": {
      "text/plain": [
       "'META FACEBOOK'"
      ]
     },
     "execution_count": 500,
     "metadata": {},
     "output_type": "execute_result"
    }
   ],
   "source": [
    "meta + ' ' +facebook"
   ]
  },
  {
   "cell_type": "markdown",
   "id": "76a384cc",
   "metadata": {},
   "source": [
    "### 6. 날짜와 시간 설정"
   ]
  },
  {
   "cell_type": "markdown",
   "id": "b53d39a2",
   "metadata": {},
   "source": [
    "#### (1) datetime 패키지"
   ]
  },
  {
   "cell_type": "code",
   "execution_count": 504,
   "id": "591ee14b",
   "metadata": {},
   "outputs": [
    {
     "name": "stdout",
     "output_type": "stream",
     "text": [
      "2024-01-08 16:17:08.010061\n"
     ]
    }
   ],
   "source": [
    "import datetime as dt\n",
    "x = dt.datetime.now()\n",
    "print(x)"
   ]
  },
  {
   "cell_type": "markdown",
   "id": "d5aa3191",
   "metadata": {},
   "source": [
    "#### (2) datetime 클래스 객체의 속성"
   ]
  },
  {
   "cell_type": "code",
   "execution_count": 505,
   "id": "4f3b5e95",
   "metadata": {},
   "outputs": [
    {
     "data": {
      "text/plain": [
       "datetime.datetime(2024, 1, 8, 16, 17, 23, 657614)"
      ]
     },
     "execution_count": 505,
     "metadata": {},
     "output_type": "execute_result"
    }
   ],
   "source": [
    "import datetime as dt\n",
    "x = dt.datetime.now()\n",
    "x"
   ]
  },
  {
   "cell_type": "markdown",
   "id": "a9adeb48",
   "metadata": {},
   "source": [
    "#### (3) 이외 추가 제공되는 메서드"
   ]
  },
  {
   "cell_type": "code",
   "execution_count": 506,
   "id": "4ca247f8",
   "metadata": {},
   "outputs": [
    {
     "data": {
      "text/plain": [
       "0"
      ]
     },
     "execution_count": 506,
     "metadata": {},
     "output_type": "execute_result"
    }
   ],
   "source": [
    "x.weekday()"
   ]
  },
  {
   "cell_type": "code",
   "execution_count": 507,
   "id": "2b5aa372",
   "metadata": {},
   "outputs": [
    {
     "data": {
      "text/plain": [
       "datetime.date(2024, 1, 8)"
      ]
     },
     "execution_count": 507,
     "metadata": {},
     "output_type": "execute_result"
    }
   ],
   "source": [
    "x.date()"
   ]
  },
  {
   "cell_type": "code",
   "execution_count": 508,
   "id": "a9099c52",
   "metadata": {},
   "outputs": [
    {
     "data": {
      "text/plain": [
       "datetime.time(16, 17, 23, 657614)"
      ]
     },
     "execution_count": 508,
     "metadata": {},
     "output_type": "execute_result"
    }
   ],
   "source": [
    "x.time()"
   ]
  },
  {
   "cell_type": "code",
   "execution_count": null,
   "id": "93000b00",
   "metadata": {},
   "outputs": [],
   "source": []
  }
 ],
 "metadata": {
  "kernelspec": {
   "display_name": "Python 3 (ipykernel)",
   "language": "python",
   "name": "python3"
  },
  "language_info": {
   "codemirror_mode": {
    "name": "ipython",
    "version": 3
   },
   "file_extension": ".py",
   "mimetype": "text/x-python",
   "name": "python",
   "nbconvert_exporter": "python",
   "pygments_lexer": "ipython3",
   "version": "3.9.6"
  },
  "toc": {
   "base_numbering": 1,
   "nav_menu": {},
   "number_sections": true,
   "sideBar": true,
   "skip_h1_title": false,
   "title_cell": "Table of Contents",
   "title_sidebar": "Contents",
   "toc_cell": false,
   "toc_position": {},
   "toc_section_display": true,
   "toc_window_display": false
  }
 },
 "nbformat": 4,
 "nbformat_minor": 5
}
