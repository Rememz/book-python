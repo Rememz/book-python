{
 "cells": [
  {
   "cell_type": "markdown",
   "id": "dc09a87a",
   "metadata": {},
   "source": [
    "# Chapter 3 데이터 유형"
   ]
  },
  {
   "cell_type": "markdown",
   "id": "5d66ce57",
   "metadata": {},
   "source": [
    "## 제1절 데이터 타입"
   ]
  },
  {
   "cell_type": "markdown",
   "id": "0b63a03e",
   "metadata": {},
   "source": [
    "### (1) 기본자료형"
   ]
  },
  {
   "cell_type": "markdown",
   "id": "9308f14d",
   "metadata": {},
   "source": [
    "#### 1) 데이터 타입 확인"
   ]
  },
  {
   "cell_type": "code",
   "execution_count": 3,
   "id": "244584d0",
   "metadata": {},
   "outputs": [
    {
     "data": {
      "text/plain": [
       "int"
      ]
     },
     "execution_count": 3,
     "metadata": {},
     "output_type": "execute_result"
    }
   ],
   "source": [
    "type(100)"
   ]
  },
  {
   "cell_type": "code",
   "execution_count": 4,
   "id": "dd00abb3",
   "metadata": {},
   "outputs": [
    {
     "data": {
      "text/plain": [
       "float"
      ]
     },
     "execution_count": 4,
     "metadata": {},
     "output_type": "execute_result"
    }
   ],
   "source": [
    "type(100.5)"
   ]
  },
  {
   "cell_type": "code",
   "execution_count": 5,
   "id": "96e54968",
   "metadata": {},
   "outputs": [
    {
     "data": {
      "text/plain": [
       "str"
      ]
     },
     "execution_count": 5,
     "metadata": {},
     "output_type": "execute_result"
    }
   ],
   "source": [
    "type(\"한국대학교\")"
   ]
  },
  {
   "cell_type": "code",
   "execution_count": 6,
   "id": "5ab62444",
   "metadata": {},
   "outputs": [
    {
     "data": {
      "text/plain": [
       "str"
      ]
     },
     "execution_count": 6,
     "metadata": {},
     "output_type": "execute_result"
    }
   ],
   "source": [
    "a = \"한국대학교 컴퓨터공학과\"\n",
    "type(a)"
   ]
  },
  {
   "cell_type": "code",
   "execution_count": 7,
   "id": "936dd76b",
   "metadata": {},
   "outputs": [
    {
     "data": {
      "text/plain": [
       "bool"
      ]
     },
     "execution_count": 7,
     "metadata": {},
     "output_type": "execute_result"
    }
   ],
   "source": [
    "x=5>2\n",
    "type(x)"
   ]
  },
  {
   "cell_type": "code",
   "execution_count": 8,
   "id": "fe720247",
   "metadata": {},
   "outputs": [
    {
     "data": {
      "text/plain": [
       "True"
      ]
     },
     "execution_count": 8,
     "metadata": {},
     "output_type": "execute_result"
    }
   ],
   "source": [
    "x"
   ]
  },
  {
   "cell_type": "code",
   "execution_count": 9,
   "id": "1ae8258a",
   "metadata": {},
   "outputs": [
    {
     "data": {
      "text/plain": [
       "bool"
      ]
     },
     "execution_count": 9,
     "metadata": {},
     "output_type": "execute_result"
    }
   ],
   "source": [
    "y=5<2\n",
    "type(y)"
   ]
  },
  {
   "cell_type": "code",
   "execution_count": 10,
   "id": "d91b53dd",
   "metadata": {},
   "outputs": [
    {
     "data": {
      "text/plain": [
       "False"
      ]
     },
     "execution_count": 10,
     "metadata": {},
     "output_type": "execute_result"
    }
   ],
   "source": [
    "y"
   ]
  },
  {
   "cell_type": "markdown",
   "id": "444ea475",
   "metadata": {},
   "source": [
    "#### 2)문자열 따옴표를 출력하기"
   ]
  },
  {
   "cell_type": "code",
   "execution_count": 11,
   "id": "d1c29cff",
   "metadata": {},
   "outputs": [
    {
     "name": "stdout",
     "output_type": "stream",
     "text": [
      "학교앞에서 누군가가  \"금융정보과 학생여러분! 화이팅하세요\" 라고 외치고 있었다\n"
     ]
    }
   ],
   "source": [
    "print('학교앞에서 누군가가  \"금융정보과 학생여러분! 화이팅하세요\" 라고 외치고 있었다')"
   ]
  },
  {
   "cell_type": "markdown",
   "id": "74debf24",
   "metadata": {},
   "source": [
    "### (2) 문자열 치환"
   ]
  },
  {
   "cell_type": "code",
   "execution_count": 12,
   "id": "8a745747",
   "metadata": {},
   "outputs": [
    {
     "data": {
      "text/plain": [
       "'2023-5-15'"
      ]
     },
     "execution_count": 12,
     "metadata": {},
     "output_type": "execute_result"
    }
   ],
   "source": [
    "\"2023.5.15\".replace(\".\", \"-\")"
   ]
  },
  {
   "cell_type": "markdown",
   "id": "e49587ba",
   "metadata": {},
   "source": [
    "### (3) 문자열의 길이 확인"
   ]
  },
  {
   "cell_type": "code",
   "execution_count": 13,
   "id": "523e8bf2",
   "metadata": {},
   "outputs": [
    {
     "data": {
      "text/plain": [
       "5"
      ]
     },
     "execution_count": 13,
     "metadata": {},
     "output_type": "execute_result"
    }
   ],
   "source": [
    "loc=\"seoul\"\n",
    "len(loc)"
   ]
  },
  {
   "cell_type": "markdown",
   "id": "6895d97d",
   "metadata": {},
   "source": [
    "### (4) 문자 중 인덱스 찾기"
   ]
  },
  {
   "cell_type": "code",
   "execution_count": 14,
   "id": "85e6047a",
   "metadata": {},
   "outputs": [
    {
     "data": {
      "text/plain": [
       "'s'"
      ]
     },
     "execution_count": 14,
     "metadata": {},
     "output_type": "execute_result"
    }
   ],
   "source": [
    "loc=\"seoul\" \n",
    "loc[0]"
   ]
  },
  {
   "cell_type": "markdown",
   "id": "55972d91",
   "metadata": {},
   "source": [
    "### (5) 문자 중 일부 잘라내기(slice)"
   ]
  },
  {
   "cell_type": "code",
   "execution_count": 15,
   "id": "2b79a1b9",
   "metadata": {},
   "outputs": [
    {
     "data": {
      "text/plain": [
       "'seou'"
      ]
     },
     "execution_count": 15,
     "metadata": {},
     "output_type": "execute_result"
    }
   ],
   "source": [
    "loc=\"seoul\" \n",
    "loc[0:4]"
   ]
  },
  {
   "cell_type": "code",
   "execution_count": 16,
   "id": "e4a3033f",
   "metadata": {},
   "outputs": [
    {
     "data": {
      "text/plain": [
       "'eou'"
      ]
     },
     "execution_count": 16,
     "metadata": {},
     "output_type": "execute_result"
    }
   ],
   "source": [
    "loc=\"seoul\" \n",
    "loc[1:4]"
   ]
  },
  {
   "cell_type": "code",
   "execution_count": 17,
   "id": "17775f18",
   "metadata": {},
   "outputs": [
    {
     "data": {
      "text/plain": [
       "'ul'"
      ]
     },
     "execution_count": 17,
     "metadata": {},
     "output_type": "execute_result"
    }
   ],
   "source": [
    "loc=\"seoul\"\n",
    "loc[3:]"
   ]
  },
  {
   "cell_type": "markdown",
   "id": "0072ae9b",
   "metadata": {},
   "source": [
    "## 제2절  파이썬 연속 데이터 구조"
   ]
  },
  {
   "cell_type": "markdown",
   "id": "19b08565",
   "metadata": {},
   "source": [
    "## 1. 리스트(List)"
   ]
  },
  {
   "cell_type": "markdown",
   "id": "846bb21c",
   "metadata": {},
   "source": [
    "### (1) 기본 구조"
   ]
  },
  {
   "cell_type": "code",
   "execution_count": 18,
   "id": "9772d595",
   "metadata": {},
   "outputs": [
    {
     "data": {
      "text/plain": [
       "'삼성전자'"
      ]
     },
     "execution_count": 18,
     "metadata": {},
     "output_type": "execute_result"
    }
   ],
   "source": [
    "a= \"삼성전자\"\n",
    "a"
   ]
  },
  {
   "cell_type": "code",
   "execution_count": 19,
   "id": "90314ec0",
   "metadata": {},
   "outputs": [
    {
     "data": {
      "text/plain": [
       "'LG엔솔'"
      ]
     },
     "execution_count": 19,
     "metadata": {},
     "output_type": "execute_result"
    }
   ],
   "source": [
    "b= \"LG엔솔\"\n",
    "b"
   ]
  },
  {
   "cell_type": "code",
   "execution_count": 20,
   "id": "1071e894",
   "metadata": {},
   "outputs": [
    {
     "data": {
      "text/plain": [
       "'sk하이닉스'"
      ]
     },
     "execution_count": 20,
     "metadata": {},
     "output_type": "execute_result"
    }
   ],
   "source": [
    "c= \"sk하이닉스\"\n",
    "c"
   ]
  },
  {
   "cell_type": "code",
   "execution_count": 21,
   "id": "5a341f6e",
   "metadata": {},
   "outputs": [
    {
     "data": {
      "text/plain": [
       "['삼성전자', 'LG엔솔', 'sk하이닉스']"
      ]
     },
     "execution_count": 21,
     "metadata": {},
     "output_type": "execute_result"
    }
   ],
   "source": [
    "mystock = [\"삼성전자\", \"LG엔솔\", \"sk하이닉스\"]\n",
    "mystock"
   ]
  },
  {
   "cell_type": "code",
   "execution_count": 22,
   "id": "9c0bb66b",
   "metadata": {},
   "outputs": [
    {
     "data": {
      "text/plain": [
       "'삼성전자'"
      ]
     },
     "execution_count": 22,
     "metadata": {},
     "output_type": "execute_result"
    }
   ],
   "source": [
    "mystock[0]"
   ]
  },
  {
   "cell_type": "code",
   "execution_count": 23,
   "id": "0a870b50",
   "metadata": {},
   "outputs": [
    {
     "data": {
      "text/plain": [
       "'sk하이닉스'"
      ]
     },
     "execution_count": 23,
     "metadata": {},
     "output_type": "execute_result"
    }
   ],
   "source": [
    "mystock[2]"
   ]
  },
  {
   "cell_type": "code",
   "execution_count": 24,
   "id": "5193817f",
   "metadata": {},
   "outputs": [
    {
     "data": {
      "text/plain": [
       "['삼성전자', 'LG엔솔', 'sk하이닉스', '카카오']"
      ]
     },
     "execution_count": 24,
     "metadata": {},
     "output_type": "execute_result"
    }
   ],
   "source": [
    "mystock = ['삼성전자', 'LG엔솔', 'sk하이닉스']\n",
    "mystock.append('카카오')\n",
    "mystock"
   ]
  },
  {
   "cell_type": "code",
   "execution_count": 25,
   "id": "b278f85f",
   "metadata": {},
   "outputs": [
    {
     "data": {
      "text/plain": [
       "['삼성전자', 'LG엔솔']"
      ]
     },
     "execution_count": 25,
     "metadata": {},
     "output_type": "execute_result"
    }
   ],
   "source": [
    "mystock = ['삼성전자', 'LG엔솔', 'sk하이닉스']\n",
    "del mystock[2]\n",
    "mystock"
   ]
  },
  {
   "cell_type": "code",
   "execution_count": 26,
   "id": "20b3bb76",
   "metadata": {},
   "outputs": [
    {
     "name": "stdout",
     "output_type": "stream",
     "text": [
      "['삼성전자', 'LG엔솔', 'sk하이닉스', '카카오', 'NAVER']\n"
     ]
    }
   ],
   "source": [
    "mystock1 = ['삼성전자', 'LG엔솔', 'sk하이닉스']\n",
    "mystock2 = ['카카오', 'NAVER']\n",
    "mystock1.extend(mystock2)\n",
    "print(mystock1)"
   ]
  },
  {
   "cell_type": "code",
   "execution_count": 27,
   "id": "d9c7472d",
   "metadata": {},
   "outputs": [
    {
     "name": "stdout",
     "output_type": "stream",
     "text": [
      "['카카오', 'NAVER', '삼성전자', 'LG엔솔', 'sk하이닉스']\n"
     ]
    }
   ],
   "source": [
    "mystock1 = ['삼성전자', 'LG엔솔', 'sk하이닉스']\n",
    "mystock2 = ['카카오', 'NAVER']\n",
    "mystock2.extend(mystock1)\n",
    "print(mystock2)"
   ]
  },
  {
   "cell_type": "code",
   "execution_count": 28,
   "id": "f3ce96ab",
   "metadata": {},
   "outputs": [
    {
     "name": "stdout",
     "output_type": "stream",
     "text": [
      "['삼성전자', 'LG엔솔', 'sk하이닉스', '카카오', 'NAVER', '삼성전자', 'LG엔솔', 'sk하이닉스']\n"
     ]
    }
   ],
   "source": [
    "mystock1.extend(mystock2)\n",
    "print(mystock1)"
   ]
  },
  {
   "cell_type": "code",
   "execution_count": 29,
   "id": "620cfc61",
   "metadata": {},
   "outputs": [
    {
     "name": "stdout",
     "output_type": "stream",
     "text": [
      "['LG엔솔', 'sk하이닉스', '삼성전자']\n"
     ]
    }
   ],
   "source": [
    "mystock = ['삼성전자', 'LG엔솔', 'sk하이닉스']\n",
    "mystock.sort()\n",
    "print(mystock)"
   ]
  },
  {
   "cell_type": "code",
   "execution_count": 30,
   "id": "5efe1b61",
   "metadata": {},
   "outputs": [
    {
     "name": "stdout",
     "output_type": "stream",
     "text": [
      "['four', 'one', 'three', 'two']\n"
     ]
    }
   ],
   "source": [
    "number=['one','two','three','four']\n",
    "number.sort()\n",
    "print(number)"
   ]
  },
  {
   "cell_type": "code",
   "execution_count": 31,
   "id": "8599401c",
   "metadata": {},
   "outputs": [
    {
     "name": "stdout",
     "output_type": "stream",
     "text": [
      "['four', 'one', 'three', 'two']\n"
     ]
    }
   ],
   "source": [
    "number=['one','two','three','four'] \n",
    "number.sort() \n",
    "print(number)"
   ]
  },
  {
   "cell_type": "code",
   "execution_count": 116,
   "id": "fe309a56",
   "metadata": {},
   "outputs": [
    {
     "name": "stdout",
     "output_type": "stream",
     "text": [
      "['삼성전자', 'LG엔솔', 'sk하이닉스']\n",
      "['LG엔솔', 'sk하이닉스', '삼성전자']\n"
     ]
    }
   ],
   "source": [
    "mystock = ['삼성전자', 'LG엔솔', 'sk하이닉스']\n",
    "mystock2 =sorted(mystock)\n",
    "print(mystock)\n",
    "print(mystock2)"
   ]
  },
  {
   "cell_type": "code",
   "execution_count": 119,
   "id": "d73a4af6",
   "metadata": {},
   "outputs": [
    {
     "name": "stdout",
     "output_type": "stream",
     "text": [
      "['LG엔솔', 'sk하이닉스', '삼성전자']\n"
     ]
    }
   ],
   "source": [
    "# 79페이지 IN!6 True -> False 변경\n",
    "mystock = ['삼성전자', 'LG엔솔', 'sk하이닉스']\n",
    "mystock.sort(reverse=False) \n",
    "print(mystock)\n"
   ]
  },
  {
   "cell_type": "code",
   "execution_count": 36,
   "id": "0405335c",
   "metadata": {},
   "outputs": [
    {
     "name": "stdout",
     "output_type": "stream",
     "text": [
      "['two', 'three', 'one', 'four']\n"
     ]
    }
   ],
   "source": [
    "number=['one','two','three','four'] \n",
    "number.sort(reverse=True) \n",
    "print(number)"
   ]
  },
  {
   "cell_type": "code",
   "execution_count": 37,
   "id": "1f818a2c",
   "metadata": {},
   "outputs": [
    {
     "data": {
      "text/plain": [
       "3"
      ]
     },
     "execution_count": 37,
     "metadata": {},
     "output_type": "execute_result"
    }
   ],
   "source": [
    "mystock = ['삼성전자', 'LG엔솔', 'sk하이닉스']\n",
    "len(mystock)\n"
   ]
  },
  {
   "cell_type": "code",
   "execution_count": 38,
   "id": "0c1050b1",
   "metadata": {},
   "outputs": [
    {
     "data": {
      "text/plain": [
       "4"
      ]
     },
     "execution_count": 38,
     "metadata": {},
     "output_type": "execute_result"
    }
   ],
   "source": [
    "number=['one','two','three','four'] \n",
    "len(number)"
   ]
  },
  {
   "cell_type": "code",
   "execution_count": null,
   "id": "c8400b12",
   "metadata": {},
   "outputs": [],
   "source": []
  },
  {
   "cell_type": "markdown",
   "id": "050e4e42",
   "metadata": {},
   "source": [
    "### (2) list 데이터 구조 활용"
   ]
  },
  {
   "cell_type": "code",
   "execution_count": 39,
   "id": "29312777",
   "metadata": {},
   "outputs": [
    {
     "name": "stdout",
     "output_type": "stream",
     "text": [
      "279700\n"
     ]
    }
   ],
   "source": [
    "sec = [55300, 55800, 56400, 56200, 56000]\n",
    "result = sum(sec)\n",
    "print(result)"
   ]
  },
  {
   "cell_type": "markdown",
   "id": "e1d61a5f",
   "metadata": {},
   "source": [
    "### (3)  리스트 인덱싱"
   ]
  },
  {
   "cell_type": "code",
   "execution_count": 40,
   "id": "d02ce370",
   "metadata": {},
   "outputs": [
    {
     "data": {
      "text/plain": [
       "55300"
      ]
     },
     "execution_count": 40,
     "metadata": {},
     "output_type": "execute_result"
    }
   ],
   "source": [
    "sec = [55300, 55800, 56400, 56200, 56000]\n",
    "sec[0]"
   ]
  },
  {
   "cell_type": "code",
   "execution_count": 41,
   "id": "d9750469",
   "metadata": {},
   "outputs": [
    {
     "data": {
      "text/plain": [
       "56000"
      ]
     },
     "execution_count": 41,
     "metadata": {},
     "output_type": "execute_result"
    }
   ],
   "source": [
    "sec[4]"
   ]
  },
  {
   "cell_type": "code",
   "execution_count": 42,
   "id": "21d51037",
   "metadata": {},
   "outputs": [
    {
     "data": {
      "text/plain": [
       "56000"
      ]
     },
     "execution_count": 42,
     "metadata": {},
     "output_type": "execute_result"
    }
   ],
   "source": [
    "sec[-1]"
   ]
  },
  {
   "cell_type": "code",
   "execution_count": 43,
   "id": "86cf7a88",
   "metadata": {},
   "outputs": [
    {
     "data": {
      "text/plain": [
       "56200"
      ]
     },
     "execution_count": 43,
     "metadata": {},
     "output_type": "execute_result"
    }
   ],
   "source": [
    "sec[-2]"
   ]
  },
  {
   "cell_type": "markdown",
   "id": "d3d1d77e",
   "metadata": {},
   "source": [
    "### (4) 리스트 슬라이싱"
   ]
  },
  {
   "cell_type": "code",
   "execution_count": 44,
   "id": "4f81d9bb",
   "metadata": {},
   "outputs": [],
   "source": [
    "kospi_top7 =['삼성전자','LG엔솔','SK하이닉스','삼바', 'LG화학','현대차','NAVER']"
   ]
  },
  {
   "cell_type": "code",
   "execution_count": 45,
   "id": "1ce474fb",
   "metadata": {},
   "outputs": [
    {
     "name": "stdout",
     "output_type": "stream",
     "text": [
      "['삼성전자', 'LG엔솔', 'SK하이닉스', '삼바', 'LG화학', '현대차', 'NAVER']\n"
     ]
    }
   ],
   "source": [
    "print(kospi_top7)"
   ]
  },
  {
   "cell_type": "code",
   "execution_count": 46,
   "id": "99289e08",
   "metadata": {},
   "outputs": [
    {
     "name": "stdout",
     "output_type": "stream",
     "text": [
      "LG화학\n"
     ]
    }
   ],
   "source": [
    "print(kospi_top7[4])"
   ]
  },
  {
   "cell_type": "code",
   "execution_count": 47,
   "id": "c047bce4",
   "metadata": {},
   "outputs": [],
   "source": [
    "kospi_top3 = kospi_top7[0:3]"
   ]
  },
  {
   "cell_type": "code",
   "execution_count": 48,
   "id": "d03297d2",
   "metadata": {},
   "outputs": [
    {
     "name": "stdout",
     "output_type": "stream",
     "text": [
      "['삼성전자', 'LG엔솔', 'SK하이닉스']\n"
     ]
    }
   ],
   "source": [
    "print(kospi_top3)"
   ]
  },
  {
   "cell_type": "code",
   "execution_count": 49,
   "id": "b8deddc0",
   "metadata": {},
   "outputs": [
    {
     "name": "stdout",
     "output_type": "stream",
     "text": [
      "['삼성전자', 'LG엔솔', 'SK하이닉스', '삼바', 'LG화학']\n"
     ]
    }
   ],
   "source": [
    "kospi_top3 = kospi_top7[0:5]\n",
    "print(kospi_top3)"
   ]
  },
  {
   "cell_type": "code",
   "execution_count": 50,
   "id": "151a5c66",
   "metadata": {},
   "outputs": [
    {
     "data": {
      "text/plain": [
       "['삼바', 'LG화학', '현대차', 'NAVER']"
      ]
     },
     "execution_count": 50,
     "metadata": {},
     "output_type": "execute_result"
    }
   ],
   "source": [
    "kospi_top7[3:]"
   ]
  },
  {
   "cell_type": "code",
   "execution_count": 51,
   "id": "a8bc1527",
   "metadata": {},
   "outputs": [
    {
     "data": {
      "text/plain": [
       "['삼바', 'LG화학']"
      ]
     },
     "execution_count": 51,
     "metadata": {},
     "output_type": "execute_result"
    }
   ],
   "source": [
    "kospi_top7[3:5]"
   ]
  },
  {
   "cell_type": "markdown",
   "id": "da3ce93f",
   "metadata": {},
   "source": [
    "### (5) 리스트에 데이터 추가"
   ]
  },
  {
   "cell_type": "code",
   "execution_count": 52,
   "id": "98219759",
   "metadata": {},
   "outputs": [
    {
     "data": {
      "text/plain": [
       "['삼성전자', 'LG엔솔', 'SK하이닉스', '삼바', 'LG화학', '현대차', 'NAVER', 'SK텔레콤']"
      ]
     },
     "execution_count": 52,
     "metadata": {},
     "output_type": "execute_result"
    }
   ],
   "source": [
    "kospi_top7 =['삼성전자','LG엔솔','SK하이닉스','삼바', 'LG화학','현대차','NAVER']\n",
    "kospi_top7.append('SK텔레콤') \n",
    "kospi_top7"
   ]
  },
  {
   "cell_type": "code",
   "execution_count": 53,
   "id": "e201a2d6",
   "metadata": {},
   "outputs": [
    {
     "data": {
      "text/plain": [
       "['삼성전자', 'LG엔솔', 'SK하이닉스', '삼바', 'LG화학', '현대차', 'NAVER', 'SK텔레콤']"
      ]
     },
     "execution_count": 53,
     "metadata": {},
     "output_type": "execute_result"
    }
   ],
   "source": [
    "kospi_top8 = kospi_top7\n",
    "kospi_top8    "
   ]
  },
  {
   "cell_type": "code",
   "execution_count": 54,
   "id": "a54174d6",
   "metadata": {},
   "outputs": [
    {
     "data": {
      "text/plain": [
       "['삼성전자', 'LG엔솔', '카카오', 'SK하이닉스', '삼바', 'LG화학', '현대차', 'NAVER', 'SK텔레콤']"
      ]
     },
     "execution_count": 54,
     "metadata": {},
     "output_type": "execute_result"
    }
   ],
   "source": [
    "kospi_top8.insert(2, '카카오')\n",
    "kospi_top9=kospi_top8\n",
    "kospi_top9"
   ]
  },
  {
   "cell_type": "markdown",
   "id": "40614a10",
   "metadata": {},
   "source": [
    "#### (6) 리스트에 데이터 삭제"
   ]
  },
  {
   "cell_type": "code",
   "execution_count": 55,
   "id": "62ff2f10",
   "metadata": {},
   "outputs": [
    {
     "data": {
      "text/plain": [
       "9"
      ]
     },
     "execution_count": 55,
     "metadata": {},
     "output_type": "execute_result"
    }
   ],
   "source": [
    "len(kospi_top9)"
   ]
  },
  {
   "cell_type": "code",
   "execution_count": 56,
   "id": "4ac8d8f4",
   "metadata": {},
   "outputs": [
    {
     "data": {
      "text/plain": [
       "'SK텔레콤'"
      ]
     },
     "execution_count": 56,
     "metadata": {},
     "output_type": "execute_result"
    }
   ],
   "source": [
    "kospi_top9[-1]"
   ]
  },
  {
   "cell_type": "code",
   "execution_count": 57,
   "id": "2459f5f7",
   "metadata": {},
   "outputs": [],
   "source": [
    "del kospi_top9[-1]"
   ]
  },
  {
   "cell_type": "code",
   "execution_count": 58,
   "id": "5bac0256",
   "metadata": {},
   "outputs": [
    {
     "data": {
      "text/plain": [
       "['삼성전자', 'LG엔솔', '카카오', 'SK하이닉스', '삼바', 'LG화학', '현대차', 'NAVER']"
      ]
     },
     "execution_count": 58,
     "metadata": {},
     "output_type": "execute_result"
    }
   ],
   "source": [
    "kospi_top9"
   ]
  },
  {
   "cell_type": "code",
   "execution_count": 59,
   "id": "550ede57",
   "metadata": {},
   "outputs": [
    {
     "data": {
      "text/plain": [
       "8"
      ]
     },
     "execution_count": 59,
     "metadata": {},
     "output_type": "execute_result"
    }
   ],
   "source": [
    "len(kospi_top9)"
   ]
  },
  {
   "cell_type": "markdown",
   "id": "91a0271e",
   "metadata": {},
   "source": [
    "##### 주의사항"
   ]
  },
  {
   "cell_type": "code",
   "execution_count": 60,
   "id": "fe95a0ed",
   "metadata": {},
   "outputs": [
    {
     "data": {
      "text/plain": [
       "[1, 2, 3, 5, 6, 7]"
      ]
     },
     "execution_count": 60,
     "metadata": {},
     "output_type": "execute_result"
    }
   ],
   "source": [
    "[1,2,3]+[5,6,7]"
   ]
  },
  {
   "cell_type": "code",
   "execution_count": 61,
   "id": "915d75f3",
   "metadata": {},
   "outputs": [
    {
     "data": {
      "text/plain": [
       "[1, 5, 3]"
      ]
     },
     "execution_count": 61,
     "metadata": {},
     "output_type": "execute_result"
    }
   ],
   "source": [
    "abc=[1,2,3]\n",
    "abc[1]=5\n",
    "abc"
   ]
  },
  {
   "cell_type": "markdown",
   "id": "5c22a46a",
   "metadata": {},
   "source": [
    "## 2. 튜플(tuple)"
   ]
  },
  {
   "cell_type": "markdown",
   "id": "e327173e",
   "metadata": {},
   "source": [
    "### (1) 튜플 데이터 생성 "
   ]
  },
  {
   "cell_type": "code",
   "execution_count": 62,
   "id": "2a1c966d",
   "metadata": {},
   "outputs": [
    {
     "data": {
      "text/plain": [
       "('삼성전자', 'LG엔솔', 'SK하이닉스', '삼바', 'LG화학', '현대차', 'NAVER')"
      ]
     },
     "execution_count": 62,
     "metadata": {},
     "output_type": "execute_result"
    }
   ],
   "source": [
    "kospi_top =('삼성전자','LG엔솔','SK하이닉스','삼바', 'LG화학','현대차','NAVER')\n",
    "kospi_top"
   ]
  },
  {
   "cell_type": "markdown",
   "id": "94d08372",
   "metadata": {},
   "source": [
    "### (2) 튜플 데이터 확인 "
   ]
  },
  {
   "cell_type": "code",
   "execution_count": 63,
   "id": "5c96abeb",
   "metadata": {},
   "outputs": [
    {
     "data": {
      "text/plain": [
       "7"
      ]
     },
     "execution_count": 63,
     "metadata": {},
     "output_type": "execute_result"
    }
   ],
   "source": [
    "len(kospi_top)"
   ]
  },
  {
   "cell_type": "code",
   "execution_count": 64,
   "id": "bcdc0ed4",
   "metadata": {},
   "outputs": [
    {
     "data": {
      "text/plain": [
       "'삼성전자'"
      ]
     },
     "execution_count": 64,
     "metadata": {},
     "output_type": "execute_result"
    }
   ],
   "source": [
    "kospi_top[0]"
   ]
  },
  {
   "cell_type": "code",
   "execution_count": 65,
   "id": "1a34c853",
   "metadata": {},
   "outputs": [
    {
     "data": {
      "text/plain": [
       "'NAVER'"
      ]
     },
     "execution_count": 65,
     "metadata": {},
     "output_type": "execute_result"
    }
   ],
   "source": [
    "kospi_top[-1]"
   ]
  },
  {
   "cell_type": "code",
   "execution_count": 66,
   "id": "3a3a0ebe",
   "metadata": {},
   "outputs": [
    {
     "data": {
      "text/plain": [
       "'현대차'"
      ]
     },
     "execution_count": 66,
     "metadata": {},
     "output_type": "execute_result"
    }
   ],
   "source": [
    "kospi_top[-2]"
   ]
  },
  {
   "cell_type": "markdown",
   "id": "bbfa5f50",
   "metadata": {},
   "source": [
    "### 3) 튜플 슬라이싱"
   ]
  },
  {
   "cell_type": "code",
   "execution_count": 67,
   "id": "0e1bd050",
   "metadata": {},
   "outputs": [
    {
     "data": {
      "text/plain": [
       "('삼성전자', 'LG엔솔')"
      ]
     },
     "execution_count": 67,
     "metadata": {},
     "output_type": "execute_result"
    }
   ],
   "source": [
    "kospi_top[0:2]"
   ]
  },
  {
   "cell_type": "markdown",
   "id": "823af6e9",
   "metadata": {},
   "source": [
    "## 3. 딕셔너리(dictionary)"
   ]
  },
  {
   "cell_type": "markdown",
   "id": "c2fccdcb",
   "metadata": {},
   "source": [
    "### (1) 딕셔너리(dictionary) 데이터 생성"
   ]
  },
  {
   "cell_type": "code",
   "execution_count": 122,
   "id": "893dbc6c",
   "metadata": {},
   "outputs": [
    {
     "data": {
      "text/plain": [
       "dict"
      ]
     },
     "execution_count": 122,
     "metadata": {},
     "output_type": "execute_result"
    }
   ],
   "source": [
    "sec_price = {}\n",
    "type(sec_price)"
   ]
  },
  {
   "cell_type": "code",
   "execution_count": 124,
   "id": "c7f11497",
   "metadata": {},
   "outputs": [
    {
     "data": {
      "text/plain": [
       "{'삼성전자': 58000}"
      ]
     },
     "execution_count": 124,
     "metadata": {},
     "output_type": "execute_result"
    }
   ],
   "source": [
    "sec_price['삼성전자'] = 58000\n",
    "sec_price"
   ]
  },
  {
   "cell_type": "code",
   "execution_count": 127,
   "id": "73d7aeaa",
   "metadata": {},
   "outputs": [
    {
     "data": {
      "text/plain": [
       "{'삼성전자': 58000, 'sk하이닉스': 80000}"
      ]
     },
     "execution_count": 127,
     "metadata": {},
     "output_type": "execute_result"
    }
   ],
   "source": [
    "sec_price['sk하이닉스'] = 80000\n",
    "sec_price"
   ]
  },
  {
   "cell_type": "markdown",
   "id": "7cf6e74b",
   "metadata": {},
   "source": [
    "### (2) 딕셔너리(dictionary) 확인 "
   ]
  },
  {
   "cell_type": "code",
   "execution_count": 128,
   "id": "03ce6a7e",
   "metadata": {},
   "outputs": [
    {
     "data": {
      "text/plain": [
       "58000"
      ]
     },
     "execution_count": 128,
     "metadata": {},
     "output_type": "execute_result"
    }
   ],
   "source": [
    "sec_price[\"삼성전자\"]"
   ]
  },
  {
   "cell_type": "code",
   "execution_count": 129,
   "id": "d655c075",
   "metadata": {},
   "outputs": [
    {
     "data": {
      "text/plain": [
       "80000"
      ]
     },
     "execution_count": 129,
     "metadata": {},
     "output_type": "execute_result"
    }
   ],
   "source": [
    "sec_price['sk하이닉스']"
   ]
  },
  {
   "cell_type": "code",
   "execution_count": 130,
   "id": "5939f200",
   "metadata": {},
   "outputs": [
    {
     "data": {
      "text/plain": [
       "2"
      ]
     },
     "execution_count": 130,
     "metadata": {},
     "output_type": "execute_result"
    }
   ],
   "source": [
    "len(sec_price)"
   ]
  },
  {
   "cell_type": "markdown",
   "id": "553e4e2a",
   "metadata": {},
   "source": [
    "### (3) 딕셔너리에 데이터 삽입 "
   ]
  },
  {
   "cell_type": "code",
   "execution_count": 134,
   "id": "7deaf617",
   "metadata": {},
   "outputs": [
    {
     "data": {
      "text/plain": [
       "{'삼성전자': 58000, 'naver': 150000}"
      ]
     },
     "execution_count": 134,
     "metadata": {},
     "output_type": "execute_result"
    }
   ],
   "source": [
    "# 85page IN13 sec_price 추가\n",
    "sec_price['naver'] = 150000\n",
    "sec_price"
   ]
  },
  {
   "cell_type": "markdown",
   "id": "40ad053e",
   "metadata": {},
   "source": [
    "### (4) 딕셔너리에 데이터 삭제 "
   ]
  },
  {
   "cell_type": "code",
   "execution_count": 135,
   "id": "e00027db",
   "metadata": {},
   "outputs": [
    {
     "ename": "KeyError",
     "evalue": "'sk하이닉스'",
     "output_type": "error",
     "traceback": [
      "\u001b[1;31m---------------------------------------------------------------------------\u001b[0m",
      "\u001b[1;31mKeyError\u001b[0m                                  Traceback (most recent call last)",
      "Cell \u001b[1;32mIn [135], line 1\u001b[0m\n\u001b[1;32m----> 1\u001b[0m \u001b[38;5;28;01mdel\u001b[39;00m sec_price[\u001b[38;5;124m'\u001b[39m\u001b[38;5;124msk하이닉스\u001b[39m\u001b[38;5;124m'\u001b[39m]\n",
      "\u001b[1;31mKeyError\u001b[0m: 'sk하이닉스'"
     ]
    }
   ],
   "source": [
    "del sec_price['sk하이닉스']"
   ]
  },
  {
   "cell_type": "code",
   "execution_count": 136,
   "id": "1f44c83c",
   "metadata": {},
   "outputs": [
    {
     "data": {
      "text/plain": [
       "{'삼성전자': 58000, 'naver': 150000}"
      ]
     },
     "execution_count": 136,
     "metadata": {},
     "output_type": "execute_result"
    }
   ],
   "source": [
    "sec_price"
   ]
  },
  {
   "cell_type": "markdown",
   "id": "57f4c3c2",
   "metadata": {},
   "source": [
    "### (5) 딕셔너리로부터 key-value 구하기 "
   ]
  },
  {
   "cell_type": "code",
   "execution_count": 137,
   "id": "0f819bbf",
   "metadata": {},
   "outputs": [
    {
     "data": {
      "text/plain": [
       "{'삼성전자': 58000, 'naver': 150000}"
      ]
     },
     "execution_count": 137,
     "metadata": {},
     "output_type": "execute_result"
    }
   ],
   "source": [
    "sec_price"
   ]
  },
  {
   "cell_type": "code",
   "execution_count": 138,
   "id": "2b5b2434",
   "metadata": {},
   "outputs": [
    {
     "data": {
      "text/plain": [
       "{'삼성전자': 58000, 'naver': 150000, 'sk하이닉스': 80000}"
      ]
     },
     "execution_count": 138,
     "metadata": {},
     "output_type": "execute_result"
    }
   ],
   "source": [
    "sec_price['sk하이닉스'] = 80000\n",
    "sec_price"
   ]
  },
  {
   "cell_type": "code",
   "execution_count": 139,
   "id": "58000dff",
   "metadata": {},
   "outputs": [
    {
     "data": {
      "text/plain": [
       "dict_keys(['삼성전자', 'naver', 'sk하이닉스'])"
      ]
     },
     "execution_count": 139,
     "metadata": {},
     "output_type": "execute_result"
    }
   ],
   "source": [
    "sec_price.keys()"
   ]
  },
  {
   "cell_type": "code",
   "execution_count": 140,
   "id": "bed113ea",
   "metadata": {},
   "outputs": [
    {
     "data": {
      "text/plain": [
       "[58000, 150000, 80000]"
      ]
     },
     "execution_count": 140,
     "metadata": {},
     "output_type": "execute_result"
    }
   ],
   "source": [
    "price_list = list(sec_price.values())\n",
    "price_list"
   ]
  },
  {
   "cell_type": "code",
   "execution_count": 141,
   "id": "c4d0a9ff",
   "metadata": {},
   "outputs": [
    {
     "data": {
      "text/plain": [
       "58000"
      ]
     },
     "execution_count": 141,
     "metadata": {},
     "output_type": "execute_result"
    }
   ],
   "source": [
    "sec_price['삼성전자']"
   ]
  },
  {
   "cell_type": "markdown",
   "id": "4d4c32b1",
   "metadata": {},
   "source": [
    "#### 연습 dict()를 사용해 다른 데이터 구조를 딕셔너리형으로 변환"
   ]
  },
  {
   "cell_type": "code",
   "execution_count": 142,
   "id": "2953bff9",
   "metadata": {},
   "outputs": [
    {
     "name": "stdout",
     "output_type": "stream",
     "text": [
      "{'apple': 3500, 'peer': 2500, 'cherry': 5000}\n"
     ]
    }
   ],
   "source": [
    "fruit_price =[['apple',3500],['peer',2500],['cherry',5000]] \n",
    "fruit_price=dict(fruit_price) \n",
    "print(fruit_price)"
   ]
  },
  {
   "cell_type": "markdown",
   "id": "7c7a691f",
   "metadata": {},
   "source": [
    "## 4. 세트 (Set)"
   ]
  },
  {
   "cell_type": "markdown",
   "id": "3aa40f1d",
   "metadata": {},
   "source": [
    "### (1) 세트 이해"
   ]
  },
  {
   "cell_type": "markdown",
   "id": "3fa5aec2",
   "metadata": {},
   "source": [
    "### (2) (리스트와 비교한) 세트 생성"
   ]
  },
  {
   "cell_type": "code",
   "execution_count": 143,
   "id": "b73149b5",
   "metadata": {},
   "outputs": [
    {
     "data": {
      "text/plain": [
       "{'naver', '삼성전자', '하이닉스'}"
      ]
     },
     "execution_count": 143,
     "metadata": {},
     "output_type": "execute_result"
    }
   ],
   "source": [
    "stock_set= {'삼성전자', '하이닉스', 'naver'}\n",
    "stock_set"
   ]
  },
  {
   "cell_type": "code",
   "execution_count": 144,
   "id": "169897de",
   "metadata": {},
   "outputs": [
    {
     "data": {
      "text/plain": [
       "['삼성전자', '하이닉스', 'naver']"
      ]
     },
     "execution_count": 144,
     "metadata": {},
     "output_type": "execute_result"
    }
   ],
   "source": [
    "stock_list= ['삼성전자', '하이닉스', 'naver']\n",
    "stock_list"
   ]
  },
  {
   "cell_type": "code",
   "execution_count": 145,
   "id": "643036ff",
   "metadata": {},
   "outputs": [
    {
     "data": {
      "text/plain": [
       "{'naver', '삼성전자', '하이닉스'}"
      ]
     },
     "execution_count": 145,
     "metadata": {},
     "output_type": "execute_result"
    }
   ],
   "source": [
    "stock_set= {'삼성전자', '하이닉스', 'naver', '삼성전자'}\n",
    "stock_set"
   ]
  },
  {
   "cell_type": "code",
   "execution_count": 146,
   "id": "1162e856",
   "metadata": {},
   "outputs": [
    {
     "data": {
      "text/plain": [
       "['삼성전자', '하이닉스', 'naver', '삼성전자']"
      ]
     },
     "execution_count": 146,
     "metadata": {},
     "output_type": "execute_result"
    }
   ],
   "source": [
    "stock_list= ['삼성전자', '하이닉스', 'naver','삼성전자']\n",
    "stock_list"
   ]
  },
  {
   "cell_type": "markdown",
   "id": "6fb3c25f",
   "metadata": {},
   "source": [
    "### (3) 세트 데이터 확인하기 "
   ]
  },
  {
   "cell_type": "code",
   "execution_count": 147,
   "id": "373a1668",
   "metadata": {},
   "outputs": [
    {
     "data": {
      "text/plain": [
       "{'naver', '삼성전자', '카카오', '하이닉스'}"
      ]
     },
     "execution_count": 147,
     "metadata": {},
     "output_type": "execute_result"
    }
   ],
   "source": [
    "stock_list= {'삼성전자', '하이닉스', 'naver'}\n",
    "stock_list.add(\"카카오\")\n",
    "stock_list"
   ]
  },
  {
   "cell_type": "code",
   "execution_count": 148,
   "id": "a9c34543",
   "metadata": {},
   "outputs": [
    {
     "data": {
      "text/plain": [
       "{'naver', '삼성전자', '신한지주', '카카오', '카카오뱅크', '하이닉스'}"
      ]
     },
     "execution_count": 148,
     "metadata": {},
     "output_type": "execute_result"
    }
   ],
   "source": [
    "stock_set= {'삼성전자', '하이닉스', 'naver', '카카오'}\n",
    "stock_set_1 = (\"신한지주\", \"카카오뱅크\")\n",
    "\n",
    "stock_set.update(stock_set_1)\n",
    "stock_set"
   ]
  },
  {
   "cell_type": "code",
   "execution_count": null,
   "id": "bb13a974",
   "metadata": {},
   "outputs": [],
   "source": []
  },
  {
   "cell_type": "markdown",
   "id": "9d529c86",
   "metadata": {},
   "source": [
    "### 5. 문자열"
   ]
  },
  {
   "cell_type": "code",
   "execution_count": 96,
   "id": "7ed378c2",
   "metadata": {},
   "outputs": [
    {
     "data": {
      "text/plain": [
       "11"
      ]
     },
     "execution_count": 96,
     "metadata": {},
     "output_type": "execute_result"
    }
   ],
   "source": [
    "string  = 'hello world'\n",
    "len(string)"
   ]
  },
  {
   "cell_type": "code",
   "execution_count": 97,
   "id": "96ea97ba",
   "metadata": {},
   "outputs": [
    {
     "data": {
      "text/plain": [
       "'hello'"
      ]
     },
     "execution_count": 97,
     "metadata": {},
     "output_type": "execute_result"
    }
   ],
   "source": [
    "string[0:5]"
   ]
  },
  {
   "cell_type": "code",
   "execution_count": 98,
   "id": "1b6b4a75",
   "metadata": {},
   "outputs": [
    {
     "data": {
      "text/plain": [
       "'hello w'"
      ]
     },
     "execution_count": 98,
     "metadata": {},
     "output_type": "execute_result"
    }
   ],
   "source": [
    "string[0:7]"
   ]
  },
  {
   "cell_type": "code",
   "execution_count": 99,
   "id": "979935a4",
   "metadata": {},
   "outputs": [
    {
     "data": {
      "text/plain": [
       "'world'"
      ]
     },
     "execution_count": 99,
     "metadata": {},
     "output_type": "execute_result"
    }
   ],
   "source": [
    "string[6:11]"
   ]
  },
  {
   "cell_type": "code",
   "execution_count": 100,
   "id": "6b44bd4a",
   "metadata": {},
   "outputs": [
    {
     "data": {
      "text/plain": [
       "'world'"
      ]
     },
     "execution_count": 100,
     "metadata": {},
     "output_type": "execute_result"
    }
   ],
   "source": [
    "string[6:]"
   ]
  },
  {
   "cell_type": "code",
   "execution_count": 150,
   "id": "f31e0727",
   "metadata": {},
   "outputs": [
    {
     "data": {
      "text/plain": [
       "'wor'"
      ]
     },
     "execution_count": 150,
     "metadata": {},
     "output_type": "execute_result"
    }
   ],
   "source": [
    "string[6:-2]"
   ]
  },
  {
   "cell_type": "markdown",
   "id": "3222ec65",
   "metadata": {},
   "source": [
    "#### 참고"
   ]
  },
  {
   "cell_type": "code",
   "execution_count": 103,
   "id": "dccc06a7",
   "metadata": {},
   "outputs": [
    {
     "data": {
      "text/plain": [
       "100"
      ]
     },
     "execution_count": 103,
     "metadata": {},
     "output_type": "execute_result"
    }
   ],
   "source": [
    "ansan_univ"
   ]
  },
  {
   "cell_type": "markdown",
   "id": "25091d75",
   "metadata": {},
   "source": [
    "### (2) 문자열 자르기 : split 메서드(metod) 지원"
   ]
  },
  {
   "cell_type": "code",
   "execution_count": 104,
   "id": "e438e03a",
   "metadata": {},
   "outputs": [
    {
     "data": {
      "text/plain": [
       "'SK LG'"
      ]
     },
     "execution_count": 104,
     "metadata": {},
     "output_type": "execute_result"
    }
   ],
   "source": [
    "stock  = \"SK LG\"\n",
    "stock "
   ]
  },
  {
   "cell_type": "code",
   "execution_count": 105,
   "id": "7cdcc258",
   "metadata": {},
   "outputs": [
    {
     "data": {
      "text/plain": [
       "['SK', 'LG']"
      ]
     },
     "execution_count": 105,
     "metadata": {},
     "output_type": "execute_result"
    }
   ],
   "source": [
    "stock.split(' ')"
   ]
  },
  {
   "cell_type": "code",
   "execution_count": 106,
   "id": "5660dc79",
   "metadata": {},
   "outputs": [
    {
     "data": {
      "text/plain": [
       "'SK'"
      ]
     },
     "execution_count": 106,
     "metadata": {},
     "output_type": "execute_result"
    }
   ],
   "source": [
    "stock.split(' ')[0]"
   ]
  },
  {
   "cell_type": "code",
   "execution_count": 107,
   "id": "838d8c55",
   "metadata": {},
   "outputs": [
    {
     "name": "stdout",
     "output_type": "stream",
     "text": [
      "SK\n"
     ]
    }
   ],
   "source": [
    "print(stock.split(' ')[0])"
   ]
  },
  {
   "cell_type": "markdown",
   "id": "7708c4bb",
   "metadata": {},
   "source": [
    "### (3)  문자열 합치기"
   ]
  },
  {
   "cell_type": "code",
   "execution_count": 108,
   "id": "95f0077c",
   "metadata": {},
   "outputs": [],
   "source": [
    "meta = \"META\"\n",
    "facebook = \"FACEBOOK\""
   ]
  },
  {
   "cell_type": "code",
   "execution_count": 109,
   "id": "52a9cd53",
   "metadata": {},
   "outputs": [
    {
     "data": {
      "text/plain": [
       "'METAFACEBOOK'"
      ]
     },
     "execution_count": 109,
     "metadata": {},
     "output_type": "execute_result"
    }
   ],
   "source": [
    "meta + facebook"
   ]
  },
  {
   "cell_type": "code",
   "execution_count": 110,
   "id": "9771175a",
   "metadata": {},
   "outputs": [
    {
     "data": {
      "text/plain": [
       "'META FACEBOOK'"
      ]
     },
     "execution_count": 110,
     "metadata": {},
     "output_type": "execute_result"
    }
   ],
   "source": [
    "meta + ' ' +facebook"
   ]
  },
  {
   "cell_type": "markdown",
   "id": "76a384cc",
   "metadata": {},
   "source": [
    "## 6. 날짜와 시간 설정"
   ]
  },
  {
   "cell_type": "markdown",
   "id": "b53d39a2",
   "metadata": {},
   "source": [
    "### (1) datetime 패키지"
   ]
  },
  {
   "cell_type": "code",
   "execution_count": 111,
   "id": "591ee14b",
   "metadata": {},
   "outputs": [
    {
     "name": "stdout",
     "output_type": "stream",
     "text": [
      "2024-02-20 09:59:58.657643\n"
     ]
    }
   ],
   "source": [
    "import datetime as dt\n",
    "x = dt.datetime.now()\n",
    "print(x)"
   ]
  },
  {
   "cell_type": "markdown",
   "id": "d5aa3191",
   "metadata": {},
   "source": [
    "### (2) datetime 클래스 객체의 속성"
   ]
  },
  {
   "cell_type": "code",
   "execution_count": 112,
   "id": "4f3b5e95",
   "metadata": {},
   "outputs": [
    {
     "data": {
      "text/plain": [
       "datetime.datetime(2024, 2, 20, 9, 59, 58, 672290)"
      ]
     },
     "execution_count": 112,
     "metadata": {},
     "output_type": "execute_result"
    }
   ],
   "source": [
    "import datetime as dt\n",
    "x = dt.datetime.now()\n",
    "x"
   ]
  },
  {
   "cell_type": "markdown",
   "id": "a9adeb48",
   "metadata": {},
   "source": [
    "### (3) 이외 추가 제공되는 메서드"
   ]
  },
  {
   "cell_type": "code",
   "execution_count": 113,
   "id": "4ca247f8",
   "metadata": {},
   "outputs": [
    {
     "data": {
      "text/plain": [
       "1"
      ]
     },
     "execution_count": 113,
     "metadata": {},
     "output_type": "execute_result"
    }
   ],
   "source": [
    "x.weekday()"
   ]
  },
  {
   "cell_type": "code",
   "execution_count": 114,
   "id": "2b5aa372",
   "metadata": {},
   "outputs": [
    {
     "data": {
      "text/plain": [
       "datetime.date(2024, 2, 20)"
      ]
     },
     "execution_count": 114,
     "metadata": {},
     "output_type": "execute_result"
    }
   ],
   "source": [
    "x.date()"
   ]
  },
  {
   "cell_type": "code",
   "execution_count": 115,
   "id": "a9099c52",
   "metadata": {},
   "outputs": [
    {
     "data": {
      "text/plain": [
       "datetime.time(9, 59, 58, 672290)"
      ]
     },
     "execution_count": 115,
     "metadata": {},
     "output_type": "execute_result"
    }
   ],
   "source": [
    "x.time()"
   ]
  },
  {
   "cell_type": "code",
   "execution_count": null,
   "id": "d781ba23",
   "metadata": {},
   "outputs": [],
   "source": []
  }
 ],
 "metadata": {
  "kernelspec": {
   "display_name": "Python 3 (ipykernel)",
   "language": "python",
   "name": "python3"
  },
  "language_info": {
   "codemirror_mode": {
    "name": "ipython",
    "version": 3
   },
   "file_extension": ".py",
   "mimetype": "text/x-python",
   "name": "python",
   "nbconvert_exporter": "python",
   "pygments_lexer": "ipython3",
   "version": "3.9.6"
  },
  "toc": {
   "base_numbering": 1,
   "nav_menu": {},
   "number_sections": true,
   "sideBar": true,
   "skip_h1_title": false,
   "title_cell": "Table of Contents",
   "title_sidebar": "Contents",
   "toc_cell": false,
   "toc_position": {},
   "toc_section_display": true,
   "toc_window_display": false
  }
 },
 "nbformat": 4,
 "nbformat_minor": 5
}
