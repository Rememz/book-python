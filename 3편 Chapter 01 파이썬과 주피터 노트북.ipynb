{
 "cells": [
  {
   "cell_type": "markdown",
   "id": "c3f6f643",
   "metadata": {},
   "source": [
    "# Chapter 1 프로그래밍 언어 + 실행도구 "
   ]
  },
  {
   "cell_type": "markdown",
   "id": "848326f0",
   "metadata": {},
   "source": [
    "## 제 1절 프로그래밍 언어"
   ]
  },
  {
   "cell_type": "markdown",
   "id": "a3b820e2",
   "metadata": {},
   "source": [
    "## 실행도구"
   ]
  },
  {
   "cell_type": "markdown",
   "id": "7b84be15",
   "metadata": {},
   "source": [
    "## 1. python 설치\n",
    "### (http://www.python.org/downloads)"
   ]
  },
  {
   "cell_type": "code",
   "execution_count": null,
   "id": "013659a6",
   "metadata": {},
   "outputs": [],
   "source": []
  },
  {
   "cell_type": "markdown",
   "id": "9f7f4557",
   "metadata": {},
   "source": [
    "# 실행 도구"
   ]
  },
  {
   "cell_type": "markdown",
   "id": "02c5cfcb",
   "metadata": {},
   "source": [
    "## 2. jupyter notebook 설치"
   ]
  },
  {
   "cell_type": "markdown",
   "id": "d0a38812",
   "metadata": {},
   "source": [
    "### 1) cmd 창 찾기"
   ]
  },
  {
   "cell_type": "markdown",
   "id": "767f4192",
   "metadata": {},
   "source": [
    "### 2) 사전에 폴더를 한개 만들기"
   ]
  },
  {
   "cell_type": "markdown",
   "id": "b7a548b4",
   "metadata": {},
   "source": [
    "### 3) jupyter notebook 설치"
   ]
  },
  {
   "cell_type": "markdown",
   "id": "52eb4693",
   "metadata": {},
   "source": [
    "### 4) 설치 여부 확인 하기"
   ]
  },
  {
   "cell_type": "markdown",
   "id": "f67c633c",
   "metadata": {},
   "source": [
    "### 5) jupyter notebook실행하기 "
   ]
  },
  {
   "cell_type": "markdown",
   "id": "ca24e64c",
   "metadata": {},
   "source": [
    "## 3. 아나콘다(Anaconda) 설치\n",
    "### https://www.anaconda.com/products/distribution"
   ]
  },
  {
   "cell_type": "markdown",
   "id": "5424a881",
   "metadata": {},
   "source": [
    "### 실행하기"
   ]
  },
  {
   "cell_type": "markdown",
   "id": "22c4111c",
   "metadata": {},
   "source": [
    "## 4. 비주얼 스튜디오 코드(Visual Studio Code) 설치\n",
    "### https://code.visualstudio.com/download"
   ]
  },
  {
   "cell_type": "markdown",
   "id": "2bbd474d",
   "metadata": {},
   "source": [
    "## 제 2절 주피터 노트북 주요 기능 점검"
   ]
  },
  {
   "cell_type": "markdown",
   "id": "ef0a02bd",
   "metadata": {},
   "source": [
    "### 1. 대시보드"
   ]
  },
  {
   "cell_type": "markdown",
   "id": "9696df5a",
   "metadata": {},
   "source": [
    "### 2. UI(User Interface) "
   ]
  },
  {
   "cell_type": "markdown",
   "id": "b4f79856",
   "metadata": {},
   "source": [
    "####  1) 파일명, 메뉴바(File, Edit, View..Help) , Tool bar(빠른 실행을 위한 메뉴), 코드/마크다운 , 셀 구성 "
   ]
  },
  {
   "cell_type": "markdown",
   "id": "e13a7746",
   "metadata": {},
   "source": [
    "### 3. 메뉴 바"
   ]
  },
  {
   "cell_type": "markdown",
   "id": "f32a93f9",
   "metadata": {},
   "source": [
    "##### 1) File"
   ]
  },
  {
   "cell_type": "markdown",
   "id": "ff32ca11",
   "metadata": {},
   "source": [
    "##### 2) Edit"
   ]
  },
  {
   "cell_type": "markdown",
   "id": "f45e9924",
   "metadata": {},
   "source": [
    "##### 3) View"
   ]
  },
  {
   "cell_type": "markdown",
   "id": "fb93689f",
   "metadata": {},
   "source": [
    "##### 4) Insert"
   ]
  },
  {
   "cell_type": "markdown",
   "id": "aaa0f1c5",
   "metadata": {},
   "source": [
    "##### 5) Cell\n",
    "##### 셀 선택모드(초록색), 코드선택 모드(파란색)"
   ]
  },
  {
   "cell_type": "markdown",
   "id": "9c180e46",
   "metadata": {},
   "source": [
    "###### 5)-1 Cell 기본 이해"
   ]
  },
  {
   "cell_type": "markdown",
   "id": "fe8548ca",
   "metadata": {},
   "source": [
    "##### 5)-2 Cell  내용"
   ]
  },
  {
   "cell_type": "markdown",
   "id": "05c38d66",
   "metadata": {},
   "source": [
    "##### 6) Kernel "
   ]
  },
  {
   "cell_type": "markdown",
   "id": "c3db298d",
   "metadata": {},
   "source": [
    "### 4. Tool bar "
   ]
  },
  {
   "cell_type": "markdown",
   "id": "4d3728b4",
   "metadata": {},
   "source": [
    "### 5. 주요 편리 기능"
   ]
  },
  {
   "cell_type": "markdown",
   "id": "b78b0665",
   "metadata": {},
   "source": [
    "### 6. Help"
   ]
  },
  {
   "cell_type": "markdown",
   "id": "55f91679",
   "metadata": {},
   "source": [
    "### 7. Markdown"
   ]
  },
  {
   "cell_type": "markdown",
   "id": "9c40fbb2",
   "metadata": {},
   "source": [
    "#### 1) 글자 크기"
   ]
  },
  {
   "cell_type": "markdown",
   "id": "1719af91",
   "metadata": {},
   "source": [
    "#### 2) 글씨체"
   ]
  },
  {
   "cell_type": "markdown",
   "id": "a7fcb467",
   "metadata": {},
   "source": [
    "*금융 디지털*"
   ]
  },
  {
   "cell_type": "markdown",
   "id": "713fbf94",
   "metadata": {},
   "source": [
    "*금융 디지털*"
   ]
  },
  {
   "cell_type": "markdown",
   "id": "e4cf3538",
   "metadata": {},
   "source": [
    "**금융디지털**"
   ]
  },
  {
   "cell_type": "markdown",
   "id": "481a6425",
   "metadata": {},
   "source": [
    "**금융디지털**"
   ]
  },
  {
   "cell_type": "markdown",
   "id": "4edae50e",
   "metadata": {},
   "source": [
    "#### 3) 목록 만들기"
   ]
  },
  {
   "cell_type": "markdown",
   "id": "103b705a",
   "metadata": {},
   "source": [
    "#### (1) 순서가 없는 목록 작성하는 경우"
   ]
  },
  {
   "cell_type": "code",
   "execution_count": null,
   "id": "96f6fc0b",
   "metadata": {},
   "outputs": [],
   "source": [
    "- 한국거래소\n",
    "- 유가증권시장"
   ]
  },
  {
   "cell_type": "markdown",
   "id": "c416f8d9",
   "metadata": {},
   "source": [
    "* 한국거래소\n",
    "* 유가증권시장"
   ]
  },
  {
   "cell_type": "markdown",
   "id": "a4fa5805",
   "metadata": {},
   "source": [
    "- 금융디지털\n",
    "- 금융실습"
   ]
  },
  {
   "cell_type": "markdown",
   "id": "074a9e73",
   "metadata": {},
   "source": [
    "#### (2) 순서가 있는 목록 작성하는 경우"
   ]
  },
  {
   "cell_type": "markdown",
   "id": "7d2e8803",
   "metadata": {},
   "source": [
    "한국거래소\n",
    "1. 유가증권시장 \n",
    "2. 코스닥시장"
   ]
  },
  {
   "cell_type": "markdown",
   "id": "abf38c09",
   "metadata": {},
   "source": [
    "#### 4) 구분선 넣기"
   ]
  },
  {
   "cell_type": "markdown",
   "id": "8c2984ec",
   "metadata": {},
   "source": [
    "## 한국거래소\n",
    "----------------------\n",
    "1. 유가증권시장\n",
    "2. 코스닥시장"
   ]
  },
  {
   "cell_type": "markdown",
   "id": "878c0b8a",
   "metadata": {},
   "source": [
    "#### 5) 링크 연결"
   ]
  },
  {
   "cell_type": "markdown",
   "id": "cf134ed3",
   "metadata": {},
   "source": [
    "# https://www.daum.net/\n",
    "# [다음](https://www.daum.net/)\n",
    "# [다음] (https://www.daum.net/)"
   ]
  },
  {
   "cell_type": "markdown",
   "id": "3ed76feb",
   "metadata": {},
   "source": [
    "# https://www.daum.net/\n",
    "# [다음](https://www.daum.net/)\n",
    "# [다음] (https://www.daum.net/)"
   ]
  },
  {
   "cell_type": "markdown",
   "id": "157987d3",
   "metadata": {},
   "source": [
    "#### 6) 이미지 추가하기"
   ]
  },
  {
   "cell_type": "code",
   "execution_count": null,
   "id": "abfe6782",
   "metadata": {},
   "outputs": [],
   "source": [
    "<img src= \"\"/>"
   ]
  },
  {
   "cell_type": "markdown",
   "id": "5372633a",
   "metadata": {},
   "source": [
    "<img src=\"https://upload.wikimedia.org/wikipedia/commons/thumb/4/44/Daum_communication_logo.svg/225px-Daum_communication_logo.svg.png\"/>"
   ]
  },
  {
   "cell_type": "code",
   "execution_count": 51,
   "id": "49e27ba4",
   "metadata": {},
   "outputs": [
    {
     "data": {
      "image/png": "[encoded data removed]",
      "text/plain": [
       "<IPython.core.display.Image object>"
      ]
     },
     "execution_count": 51,
     "metadata": {},
     "output_type": "execute_result"
    }
   ],
   "source": [
    "from IPython.display import Image\n",
    "Image(\"https://upload.wikimedia.org/wikipedia/commons/thumb/4/44/Daum_communication_logo.svg/225px-Daum_communication_logo.svg.png\")"
   ]
  },
  {
   "cell_type": "markdown",
   "id": "5b8c4d67",
   "metadata": {},
   "source": [
    "### 8. 주석"
   ]
  },
  {
   "cell_type": "markdown",
   "id": "87a13e7b",
   "metadata": {},
   "source": [
    "### 파이썬 자습서\n",
    "##### https://docs.python.org/ko/3/tutorial/"
   ]
  }
 ],
 "metadata": {
  "kernelspec": {
   "display_name": "Python 3 (ipykernel)",
   "language": "python",
   "name": "python3"
  },
  "language_info": {
   "codemirror_mode": {
    "name": "ipython",
    "version": 3
   },
   "file_extension": ".py",
   "mimetype": "text/x-python",
   "name": "python",
   "nbconvert_exporter": "python",
   "pygments_lexer": "ipython3",
   "version": "3.9.6"
  },
  "toc": {
   "base_numbering": 1,
   "nav_menu": {},
   "number_sections": true,
   "sideBar": true,
   "skip_h1_title": false,
   "title_cell": "Table of Contents",
   "title_sidebar": "Contents",
   "toc_cell": false,
   "toc_position": {},
   "toc_section_display": true,
   "toc_window_display": false
  }
 },
 "nbformat": 4,
 "nbformat_minor": 5
}
