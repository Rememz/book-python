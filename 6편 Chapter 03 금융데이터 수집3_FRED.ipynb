{
 "cells": [
  {
   "cell_type": "markdown",
   "id": "ab98700f",
   "metadata": {},
   "source": [
    "# Chapter 3 금융데이터 수집3 _FRED\n",
    "## 제 1절 FRED 경제데이터 가져오기\n",
    "### FRED : Federal Reserve Economic Data"
   ]
  },
  {
   "cell_type": "markdown",
   "id": "167d96c0",
   "metadata": {},
   "source": [
    "### 1. FRED 홈페이지 사용법"
   ]
  },
  {
   "cell_type": "markdown",
   "id": "ed9e9587",
   "metadata": {},
   "source": [
    "https://en.wikipedia.org/wiki/Federal_Reserve_Economic_Data"
   ]
  },
  {
   "cell_type": "markdown",
   "id": "d724868f",
   "metadata": {},
   "source": [
    "https://fred.stlouisfed.org"
   ]
  },
  {
   "cell_type": "markdown",
   "id": "e7828f39",
   "metadata": {},
   "source": [
    "https://pandas-datareader.readthedocs.io/en/latest/remote_data.html"
   ]
  },
  {
   "cell_type": "markdown",
   "id": "745e5045",
   "metadata": {},
   "source": [
    "https://fred.stlouisfed.org/series/GDP\n"
   ]
  },
  {
   "cell_type": "markdown",
   "id": "17b8fe6b",
   "metadata": {},
   "source": [
    "### 2. pandas_datareader로 FRED 데이터 불러오기"
   ]
  },
  {
   "cell_type": "markdown",
   "id": "a88f10e3",
   "metadata": {},
   "source": [
    "#### 1) 미국 GDP(GDP)"
   ]
  },
  {
   "cell_type": "code",
   "execution_count": 22,
   "id": "8490ff12",
   "metadata": {},
   "outputs": [
    {
     "data": {
      "text/html": [
       "<div>\n",
       "<style scoped>\n",
       "    .dataframe tbody tr th:only-of-type {\n",
       "        vertical-align: middle;\n",
       "    }\n",
       "\n",
       "    .dataframe tbody tr th {\n",
       "        vertical-align: top;\n",
       "    }\n",
       "\n",
       "    .dataframe thead th {\n",
       "        text-align: right;\n",
       "    }\n",
       "</style>\n",
       "<table border=\"1\" class=\"dataframe\">\n",
       "  <thead>\n",
       "    <tr style=\"text-align: right;\">\n",
       "      <th></th>\n",
       "      <th>GDP</th>\n",
       "    </tr>\n",
       "    <tr>\n",
       "      <th>DATE</th>\n",
       "      <th></th>\n",
       "    </tr>\n",
       "  </thead>\n",
       "  <tbody>\n",
       "    <tr>\n",
       "      <th>2000-01-01</th>\n",
       "      <td>10002.179</td>\n",
       "    </tr>\n",
       "    <tr>\n",
       "      <th>2000-04-01</th>\n",
       "      <td>10247.720</td>\n",
       "    </tr>\n",
       "    <tr>\n",
       "      <th>2000-07-01</th>\n",
       "      <td>10318.165</td>\n",
       "    </tr>\n",
       "    <tr>\n",
       "      <th>2000-10-01</th>\n",
       "      <td>10435.744</td>\n",
       "    </tr>\n",
       "    <tr>\n",
       "      <th>2001-01-01</th>\n",
       "      <td>10470.231</td>\n",
       "    </tr>\n",
       "  </tbody>\n",
       "</table>\n",
       "</div>"
      ],
      "text/plain": [
       "                  GDP\n",
       "DATE                 \n",
       "2000-01-01  10002.179\n",
       "2000-04-01  10247.720\n",
       "2000-07-01  10318.165\n",
       "2000-10-01  10435.744\n",
       "2001-01-01  10470.231"
      ]
     },
     "execution_count": 22,
     "metadata": {},
     "output_type": "execute_result"
    }
   ],
   "source": [
    "import pandas_datareader as pdr\n",
    "\n",
    "data1 = pdr.DataReader('GDP', 'fred', '2000-01-01')\n",
    "data1.head()"
   ]
  },
  {
   "cell_type": "markdown",
   "id": "8d724ed6",
   "metadata": {},
   "source": [
    "#### 2) 미국 장단기 금리차"
   ]
  },
  {
   "cell_type": "code",
   "execution_count": 2,
   "id": "0d6f3d30",
   "metadata": {},
   "outputs": [
    {
     "data": {
      "text/html": [
       "<div>\n",
       "<style scoped>\n",
       "    .dataframe tbody tr th:only-of-type {\n",
       "        vertical-align: middle;\n",
       "    }\n",
       "\n",
       "    .dataframe tbody tr th {\n",
       "        vertical-align: top;\n",
       "    }\n",
       "\n",
       "    .dataframe thead th {\n",
       "        text-align: right;\n",
       "    }\n",
       "</style>\n",
       "<table border=\"1\" class=\"dataframe\">\n",
       "  <thead>\n",
       "    <tr style=\"text-align: right;\">\n",
       "      <th></th>\n",
       "      <th>T10Y2Y</th>\n",
       "    </tr>\n",
       "    <tr>\n",
       "      <th>DATE</th>\n",
       "      <th></th>\n",
       "    </tr>\n",
       "  </thead>\n",
       "  <tbody>\n",
       "    <tr>\n",
       "      <th>2000-01-03</th>\n",
       "      <td>0.20</td>\n",
       "    </tr>\n",
       "    <tr>\n",
       "      <th>2000-01-04</th>\n",
       "      <td>0.19</td>\n",
       "    </tr>\n",
       "    <tr>\n",
       "      <th>2000-01-05</th>\n",
       "      <td>0.24</td>\n",
       "    </tr>\n",
       "    <tr>\n",
       "      <th>2000-01-06</th>\n",
       "      <td>0.22</td>\n",
       "    </tr>\n",
       "    <tr>\n",
       "      <th>2000-01-07</th>\n",
       "      <td>0.21</td>\n",
       "    </tr>\n",
       "    <tr>\n",
       "      <th>2000-01-10</th>\n",
       "      <td>0.19</td>\n",
       "    </tr>\n",
       "    <tr>\n",
       "      <th>2000-01-11</th>\n",
       "      <td>0.22</td>\n",
       "    </tr>\n",
       "    <tr>\n",
       "      <th>2000-01-12</th>\n",
       "      <td>0.23</td>\n",
       "    </tr>\n",
       "    <tr>\n",
       "      <th>2000-01-13</th>\n",
       "      <td>0.23</td>\n",
       "    </tr>\n",
       "    <tr>\n",
       "      <th>2000-01-14</th>\n",
       "      <td>0.25</td>\n",
       "    </tr>\n",
       "  </tbody>\n",
       "</table>\n",
       "</div>"
      ],
      "text/plain": [
       "            T10Y2Y\n",
       "DATE              \n",
       "2000-01-03    0.20\n",
       "2000-01-04    0.19\n",
       "2000-01-05    0.24\n",
       "2000-01-06    0.22\n",
       "2000-01-07    0.21\n",
       "2000-01-10    0.19\n",
       "2000-01-11    0.22\n",
       "2000-01-12    0.23\n",
       "2000-01-13    0.23\n",
       "2000-01-14    0.25"
      ]
     },
     "execution_count": 2,
     "metadata": {},
     "output_type": "execute_result"
    }
   ],
   "source": [
    "import pandas_datareader as pdr\n",
    "\n",
    "data2 = pdr.DataReader('T10Y2Y', 'fred', '2000-01-01')\n",
    "data2.head(10)"
   ]
  },
  {
   "cell_type": "code",
   "execution_count": 3,
   "id": "1753cedf",
   "metadata": {},
   "outputs": [
    {
     "data": {
      "image/png": "[encoded data removed]",
      "text/plain": [
       "<Figure size 1000x600 with 1 Axes>"
      ]
     },
     "metadata": {},
     "output_type": "display_data"
    }
   ],
   "source": [
    "import matplotlib.pyplot as plt\n",
    "data2.plot(figsize=(10, 6))\n",
    "plt.show()"
   ]
  },
  {
   "cell_type": "code",
   "execution_count": 25,
   "id": "11d7b9a1",
   "metadata": {},
   "outputs": [
    {
     "data": {
      "text/html": [
       "<div>\n",
       "<style scoped>\n",
       "    .dataframe tbody tr th:only-of-type {\n",
       "        vertical-align: middle;\n",
       "    }\n",
       "\n",
       "    .dataframe tbody tr th {\n",
       "        vertical-align: top;\n",
       "    }\n",
       "\n",
       "    .dataframe thead th {\n",
       "        text-align: right;\n",
       "    }\n",
       "</style>\n",
       "<table border=\"1\" class=\"dataframe\">\n",
       "  <thead>\n",
       "    <tr style=\"text-align: right;\">\n",
       "      <th></th>\n",
       "      <th>GDP</th>\n",
       "    </tr>\n",
       "    <tr>\n",
       "      <th>DATE</th>\n",
       "      <th></th>\n",
       "    </tr>\n",
       "  </thead>\n",
       "  <tbody>\n",
       "    <tr>\n",
       "      <th>2020-01-01</th>\n",
       "      <td>21706.513</td>\n",
       "    </tr>\n",
       "    <tr>\n",
       "      <th>2020-04-01</th>\n",
       "      <td>19913.143</td>\n",
       "    </tr>\n",
       "    <tr>\n",
       "      <th>2020-07-01</th>\n",
       "      <td>21647.640</td>\n",
       "    </tr>\n",
       "    <tr>\n",
       "      <th>2020-10-01</th>\n",
       "      <td>22024.502</td>\n",
       "    </tr>\n",
       "    <tr>\n",
       "      <th>2021-01-01</th>\n",
       "      <td>22600.185</td>\n",
       "    </tr>\n",
       "  </tbody>\n",
       "</table>\n",
       "</div>"
      ],
      "text/plain": [
       "                  GDP\n",
       "DATE                 \n",
       "2020-01-01  21706.513\n",
       "2020-04-01  19913.143\n",
       "2020-07-01  21647.640\n",
       "2020-10-01  22024.502\n",
       "2021-01-01  22600.185"
      ]
     },
     "execution_count": 25,
     "metadata": {},
     "output_type": "execute_result"
    }
   ],
   "source": [
    "import pandas_datareader as pdr\n",
    "import datetime\n",
    "\n",
    "start = datetime.datetime(2020, 1, 1)\n",
    "end = datetime.datetime(2023, 5, 1)\n",
    "gdp = pdr.DataReader('GDP', 'fred', start, end)\n",
    "gdp.head()"
   ]
  },
  {
   "cell_type": "code",
   "execution_count": 26,
   "id": "2004112f",
   "metadata": {},
   "outputs": [
    {
     "name": "stdout",
     "output_type": "stream",
     "text": [
      "<class 'pandas.core.frame.DataFrame'>\n",
      "DatetimeIndex: 14 entries, 2020-01-01 to 2023-04-01\n",
      "Data columns (total 1 columns):\n",
      " #   Column  Non-Null Count  Dtype  \n",
      "---  ------  --------------  -----  \n",
      " 0   GDP     14 non-null     float64\n",
      "dtypes: float64(1)\n",
      "memory usage: 224.0 bytes\n"
     ]
    }
   ],
   "source": [
    "gdp.info()"
   ]
  },
  {
   "cell_type": "code",
   "execution_count": 27,
   "id": "e2e7b57a",
   "metadata": {},
   "outputs": [
    {
     "data": {
      "text/html": [
       "<div>\n",
       "<style scoped>\n",
       "    .dataframe tbody tr th:only-of-type {\n",
       "        vertical-align: middle;\n",
       "    }\n",
       "\n",
       "    .dataframe tbody tr th {\n",
       "        vertical-align: top;\n",
       "    }\n",
       "\n",
       "    .dataframe thead th {\n",
       "        text-align: right;\n",
       "    }\n",
       "</style>\n",
       "<table border=\"1\" class=\"dataframe\">\n",
       "  <thead>\n",
       "    <tr style=\"text-align: right;\">\n",
       "      <th></th>\n",
       "      <th>GDP</th>\n",
       "    </tr>\n",
       "  </thead>\n",
       "  <tbody>\n",
       "    <tr>\n",
       "      <th>count</th>\n",
       "      <td>14.000000</td>\n",
       "    </tr>\n",
       "    <tr>\n",
       "      <th>mean</th>\n",
       "      <td>24037.211929</td>\n",
       "    </tr>\n",
       "    <tr>\n",
       "      <th>std</th>\n",
       "      <td>2232.944360</td>\n",
       "    </tr>\n",
       "    <tr>\n",
       "      <th>min</th>\n",
       "      <td>19913.143000</td>\n",
       "    </tr>\n",
       "    <tr>\n",
       "      <th>25%</th>\n",
       "      <td>22168.422750</td>\n",
       "    </tr>\n",
       "    <tr>\n",
       "      <th>50%</th>\n",
       "      <td>24241.788000</td>\n",
       "    </tr>\n",
       "    <tr>\n",
       "      <th>75%</th>\n",
       "      <td>25882.047500</td>\n",
       "    </tr>\n",
       "    <tr>\n",
       "      <th>max</th>\n",
       "      <td>27063.012000</td>\n",
       "    </tr>\n",
       "  </tbody>\n",
       "</table>\n",
       "</div>"
      ],
      "text/plain": [
       "                GDP\n",
       "count     14.000000\n",
       "mean   24037.211929\n",
       "std     2232.944360\n",
       "min    19913.143000\n",
       "25%    22168.422750\n",
       "50%    24241.788000\n",
       "75%    25882.047500\n",
       "max    27063.012000"
      ]
     },
     "execution_count": 27,
     "metadata": {},
     "output_type": "execute_result"
    }
   ],
   "source": [
    "gdp.describe()"
   ]
  },
  {
   "cell_type": "code",
   "execution_count": 9,
   "id": "f13a8614",
   "metadata": {},
   "outputs": [
    {
     "data": {
      "text/html": [
       "<div>\n",
       "<style scoped>\n",
       "    .dataframe tbody tr th:only-of-type {\n",
       "        vertical-align: middle;\n",
       "    }\n",
       "\n",
       "    .dataframe tbody tr th {\n",
       "        vertical-align: top;\n",
       "    }\n",
       "\n",
       "    .dataframe thead th {\n",
       "        text-align: right;\n",
       "    }\n",
       "</style>\n",
       "<table border=\"1\" class=\"dataframe\">\n",
       "  <thead>\n",
       "    <tr style=\"text-align: right;\">\n",
       "      <th></th>\n",
       "      <th>GDP</th>\n",
       "    </tr>\n",
       "  </thead>\n",
       "  <tbody>\n",
       "    <tr>\n",
       "      <th>count</th>\n",
       "      <td>14.000000</td>\n",
       "    </tr>\n",
       "    <tr>\n",
       "      <th>mean</th>\n",
       "      <td>24037.211929</td>\n",
       "    </tr>\n",
       "    <tr>\n",
       "      <th>std</th>\n",
       "      <td>2232.944360</td>\n",
       "    </tr>\n",
       "    <tr>\n",
       "      <th>min</th>\n",
       "      <td>19913.143000</td>\n",
       "    </tr>\n",
       "    <tr>\n",
       "      <th>25%</th>\n",
       "      <td>22168.422750</td>\n",
       "    </tr>\n",
       "    <tr>\n",
       "      <th>50%</th>\n",
       "      <td>24241.788000</td>\n",
       "    </tr>\n",
       "    <tr>\n",
       "      <th>75%</th>\n",
       "      <td>25882.047500</td>\n",
       "    </tr>\n",
       "    <tr>\n",
       "      <th>max</th>\n",
       "      <td>27063.012000</td>\n",
       "    </tr>\n",
       "  </tbody>\n",
       "</table>\n",
       "</div>"
      ],
      "text/plain": [
       "                GDP\n",
       "count     14.000000\n",
       "mean   24037.211929\n",
       "std     2232.944360\n",
       "min    19913.143000\n",
       "25%    22168.422750\n",
       "50%    24241.788000\n",
       "75%    25882.047500\n",
       "max    27063.012000"
      ]
     },
     "execution_count": 9,
     "metadata": {},
     "output_type": "execute_result"
    }
   ],
   "source": [
    "gdp.describe()"
   ]
  },
  {
   "cell_type": "code",
   "execution_count": 12,
   "id": "c040fd4f",
   "metadata": {},
   "outputs": [
    {
     "data": {
      "text/html": [
       "<div>\n",
       "<style scoped>\n",
       "    .dataframe tbody tr th:only-of-type {\n",
       "        vertical-align: middle;\n",
       "    }\n",
       "\n",
       "    .dataframe tbody tr th {\n",
       "        vertical-align: top;\n",
       "    }\n",
       "\n",
       "    .dataframe thead th {\n",
       "        text-align: right;\n",
       "    }\n",
       "</style>\n",
       "<table border=\"1\" class=\"dataframe\">\n",
       "  <thead>\n",
       "    <tr style=\"text-align: right;\">\n",
       "      <th></th>\n",
       "      <th></th>\n",
       "      <th>NY.GDP.PCAP.KD</th>\n",
       "    </tr>\n",
       "    <tr>\n",
       "      <th>country</th>\n",
       "      <th>year</th>\n",
       "      <th></th>\n",
       "    </tr>\n",
       "  </thead>\n",
       "  <tbody>\n",
       "    <tr>\n",
       "      <th rowspan=\"7\" valign=\"top\">Canada</th>\n",
       "      <th>2021</th>\n",
       "      <td>44234.542136</td>\n",
       "    </tr>\n",
       "    <tr>\n",
       "      <th>2020</th>\n",
       "      <td>42366.487145</td>\n",
       "    </tr>\n",
       "    <tr>\n",
       "      <th>2019</th>\n",
       "      <td>45113.066282</td>\n",
       "    </tr>\n",
       "    <tr>\n",
       "      <th>2018</th>\n",
       "      <td>44917.483728</td>\n",
       "    </tr>\n",
       "    <tr>\n",
       "      <th>2017</th>\n",
       "      <td>44325.488337</td>\n",
       "    </tr>\n",
       "    <tr>\n",
       "      <th>2016</th>\n",
       "      <td>43536.913403</td>\n",
       "    </tr>\n",
       "    <tr>\n",
       "      <th>2015</th>\n",
       "      <td>43596.135537</td>\n",
       "    </tr>\n",
       "    <tr>\n",
       "      <th rowspan=\"7\" valign=\"top\">Mexico</th>\n",
       "      <th>2021</th>\n",
       "      <td>9760.445299</td>\n",
       "    </tr>\n",
       "    <tr>\n",
       "      <th>2020</th>\n",
       "      <td>9273.811000</td>\n",
       "    </tr>\n",
       "    <tr>\n",
       "      <th>2019</th>\n",
       "      <td>10226.231333</td>\n",
       "    </tr>\n",
       "    <tr>\n",
       "      <th>2018</th>\n",
       "      <td>10343.353429</td>\n",
       "    </tr>\n",
       "    <tr>\n",
       "      <th>2017</th>\n",
       "      <td>10240.310425</td>\n",
       "    </tr>\n",
       "    <tr>\n",
       "      <th>2016</th>\n",
       "      <td>10161.355707</td>\n",
       "    </tr>\n",
       "    <tr>\n",
       "      <th>2015</th>\n",
       "      <td>10098.173181</td>\n",
       "    </tr>\n",
       "    <tr>\n",
       "      <th rowspan=\"7\" valign=\"top\">United States</th>\n",
       "      <th>2021</th>\n",
       "      <td>61829.845627</td>\n",
       "    </tr>\n",
       "    <tr>\n",
       "      <th>2020</th>\n",
       "      <td>58451.606715</td>\n",
       "    </tr>\n",
       "    <tr>\n",
       "      <th>2019</th>\n",
       "      <td>60698.011299</td>\n",
       "    </tr>\n",
       "    <tr>\n",
       "      <th>2018</th>\n",
       "      <td>59607.393660</td>\n",
       "    </tr>\n",
       "    <tr>\n",
       "      <th>2017</th>\n",
       "      <td>58207.578310</td>\n",
       "    </tr>\n",
       "    <tr>\n",
       "      <th>2016</th>\n",
       "      <td>57292.538783</td>\n",
       "    </tr>\n",
       "    <tr>\n",
       "      <th>2015</th>\n",
       "      <td>56762.729452</td>\n",
       "    </tr>\n",
       "  </tbody>\n",
       "</table>\n",
       "</div>"
      ],
      "text/plain": [
       "                    NY.GDP.PCAP.KD\n",
       "country       year                \n",
       "Canada        2021    44234.542136\n",
       "              2020    42366.487145\n",
       "              2019    45113.066282\n",
       "              2018    44917.483728\n",
       "              2017    44325.488337\n",
       "              2016    43536.913403\n",
       "              2015    43596.135537\n",
       "Mexico        2021     9760.445299\n",
       "              2020     9273.811000\n",
       "              2019    10226.231333\n",
       "              2018    10343.353429\n",
       "              2017    10240.310425\n",
       "              2016    10161.355707\n",
       "              2015    10098.173181\n",
       "United States 2021    61829.845627\n",
       "              2020    58451.606715\n",
       "              2019    60698.011299\n",
       "              2018    59607.393660\n",
       "              2017    58207.578310\n",
       "              2016    57292.538783\n",
       "              2015    56762.729452"
      ]
     },
     "execution_count": 12,
     "metadata": {},
     "output_type": "execute_result"
    }
   ],
   "source": [
    "from pandas_datareader import wb\n",
    "dat = wb.download(indicator='NY.GDP.PCAP.KD', country=['US', 'CA', 'MX'], start=2015, end=2021)\n",
    "dat"
   ]
  },
  {
   "cell_type": "code",
   "execution_count": 28,
   "id": "764fd890",
   "metadata": {},
   "outputs": [
    {
     "name": "stdout",
     "output_type": "stream",
     "text": [
      "<class 'pandas.core.frame.DataFrame'>\n",
      "MultiIndex: 21 entries, ('Canada', '2021') to ('United States', '2015')\n",
      "Data columns (total 1 columns):\n",
      " #   Column          Non-Null Count  Dtype  \n",
      "---  ------          --------------  -----  \n",
      " 0   NY.GDP.PCAP.KD  21 non-null     float64\n",
      "dtypes: float64(1)\n",
      "memory usage: 807.0+ bytes\n"
     ]
    }
   ],
   "source": [
    "dat.info()"
   ]
  },
  {
   "cell_type": "code",
   "execution_count": 29,
   "id": "6812063c",
   "metadata": {},
   "outputs": [
    {
     "data": {
      "text/html": [
       "<div>\n",
       "<style scoped>\n",
       "    .dataframe tbody tr th:only-of-type {\n",
       "        vertical-align: middle;\n",
       "    }\n",
       "\n",
       "    .dataframe tbody tr th {\n",
       "        vertical-align: top;\n",
       "    }\n",
       "\n",
       "    .dataframe thead th {\n",
       "        text-align: right;\n",
       "    }\n",
       "</style>\n",
       "<table border=\"1\" class=\"dataframe\">\n",
       "  <thead>\n",
       "    <tr style=\"text-align: right;\">\n",
       "      <th></th>\n",
       "      <th>CPIAUCSL</th>\n",
       "      <th>CPILFESL</th>\n",
       "    </tr>\n",
       "    <tr>\n",
       "      <th>DATE</th>\n",
       "      <th></th>\n",
       "      <th></th>\n",
       "    </tr>\n",
       "  </thead>\n",
       "  <tbody>\n",
       "    <tr>\n",
       "      <th>2023-01-01</th>\n",
       "      <td>300.536</td>\n",
       "      <td>302.702</td>\n",
       "    </tr>\n",
       "    <tr>\n",
       "      <th>2023-02-01</th>\n",
       "      <td>301.648</td>\n",
       "      <td>304.070</td>\n",
       "    </tr>\n",
       "    <tr>\n",
       "      <th>2023-03-01</th>\n",
       "      <td>301.808</td>\n",
       "      <td>305.240</td>\n",
       "    </tr>\n",
       "    <tr>\n",
       "      <th>2023-04-01</th>\n",
       "      <td>302.918</td>\n",
       "      <td>306.489</td>\n",
       "    </tr>\n",
       "    <tr>\n",
       "      <th>2023-05-01</th>\n",
       "      <td>303.294</td>\n",
       "      <td>307.824</td>\n",
       "    </tr>\n",
       "  </tbody>\n",
       "</table>\n",
       "</div>"
      ],
      "text/plain": [
       "            CPIAUCSL  CPILFESL\n",
       "DATE                          \n",
       "2023-01-01   300.536   302.702\n",
       "2023-02-01   301.648   304.070\n",
       "2023-03-01   301.808   305.240\n",
       "2023-04-01   302.918   306.489\n",
       "2023-05-01   303.294   307.824"
      ]
     },
     "execution_count": 29,
     "metadata": {},
     "output_type": "execute_result"
    }
   ],
   "source": [
    "inflation = pdr.DataReader(['CPIAUCSL', 'CPILFESL'], 'fred', start, end)\n",
    "inflation.tail()"
   ]
  },
  {
   "cell_type": "code",
   "execution_count": 23,
   "id": "551921bb",
   "metadata": {},
   "outputs": [
    {
     "data": {
      "text/html": [
       "<div>\n",
       "<style scoped>\n",
       "    .dataframe tbody tr th:only-of-type {\n",
       "        vertical-align: middle;\n",
       "    }\n",
       "\n",
       "    .dataframe tbody tr th {\n",
       "        vertical-align: top;\n",
       "    }\n",
       "\n",
       "    .dataframe thead th {\n",
       "        text-align: right;\n",
       "    }\n",
       "</style>\n",
       "<table border=\"1\" class=\"dataframe\">\n",
       "  <thead>\n",
       "    <tr style=\"text-align: right;\">\n",
       "      <th></th>\n",
       "      <th>id</th>\n",
       "      <th>name</th>\n",
       "      <th>unit</th>\n",
       "      <th>source</th>\n",
       "      <th>sourceNote</th>\n",
       "      <th>sourceOrganization</th>\n",
       "      <th>topics</th>\n",
       "    </tr>\n",
       "  </thead>\n",
       "  <tbody>\n",
       "    <tr>\n",
       "      <th>691</th>\n",
       "      <td>6.0.GDPpc_constant</td>\n",
       "      <td>GDP per capita, PPP (constant 2011 internation...</td>\n",
       "      <td></td>\n",
       "      <td>LAC Equity Lab</td>\n",
       "      <td>GDP per capita based on purchasing power parit...</td>\n",
       "      <td>b'World Development Indicators (World Bank)'</td>\n",
       "      <td>Economy &amp; Growth</td>\n",
       "    </tr>\n",
       "    <tr>\n",
       "      <th>10980</th>\n",
       "      <td>NY.GDP.PCAP.KD</td>\n",
       "      <td>GDP per capita (constant 2015 US$)</td>\n",
       "      <td></td>\n",
       "      <td>World Development Indicators</td>\n",
       "      <td>GDP per capita is gross domestic product divid...</td>\n",
       "      <td>b'World Bank national accounts data, and OECD ...</td>\n",
       "      <td>Economy &amp; Growth</td>\n",
       "    </tr>\n",
       "    <tr>\n",
       "      <th>10982</th>\n",
       "      <td>NY.GDP.PCAP.KN</td>\n",
       "      <td>GDP per capita (constant LCU)</td>\n",
       "      <td></td>\n",
       "      <td>World Development Indicators</td>\n",
       "      <td>GDP per capita is gross domestic product divid...</td>\n",
       "      <td>b'World Bank national accounts data, and OECD ...</td>\n",
       "      <td>Economy &amp; Growth</td>\n",
       "    </tr>\n",
       "    <tr>\n",
       "      <th>10984</th>\n",
       "      <td>NY.GDP.PCAP.PP.KD</td>\n",
       "      <td>GDP per capita, PPP (constant 2017 internation...</td>\n",
       "      <td></td>\n",
       "      <td>World Development Indicators</td>\n",
       "      <td>GDP per capita based on purchasing power parit...</td>\n",
       "      <td>b'International Comparison Program, World Bank...</td>\n",
       "      <td>Economy &amp; Growth</td>\n",
       "    </tr>\n",
       "    <tr>\n",
       "      <th>10985</th>\n",
       "      <td>NY.GDP.PCAP.PP.KD.87</td>\n",
       "      <td>GDP per capita, PPP (constant 1987 internation...</td>\n",
       "      <td></td>\n",
       "      <td>WDI Database Archives</td>\n",
       "      <td></td>\n",
       "      <td>b''</td>\n",
       "      <td></td>\n",
       "    </tr>\n",
       "  </tbody>\n",
       "</table>\n",
       "</div>"
      ],
      "text/plain": [
       "                         id  \\\n",
       "691      6.0.GDPpc_constant   \n",
       "10980        NY.GDP.PCAP.KD   \n",
       "10982        NY.GDP.PCAP.KN   \n",
       "10984     NY.GDP.PCAP.PP.KD   \n",
       "10985  NY.GDP.PCAP.PP.KD.87   \n",
       "\n",
       "                                                    name unit  \\\n",
       "691    GDP per capita, PPP (constant 2011 internation...        \n",
       "10980                 GDP per capita (constant 2015 US$)        \n",
       "10982                      GDP per capita (constant LCU)        \n",
       "10984  GDP per capita, PPP (constant 2017 internation...        \n",
       "10985  GDP per capita, PPP (constant 1987 internation...        \n",
       "\n",
       "                             source  \\\n",
       "691                  LAC Equity Lab   \n",
       "10980  World Development Indicators   \n",
       "10982  World Development Indicators   \n",
       "10984  World Development Indicators   \n",
       "10985         WDI Database Archives   \n",
       "\n",
       "                                              sourceNote  \\\n",
       "691    GDP per capita based on purchasing power parit...   \n",
       "10980  GDP per capita is gross domestic product divid...   \n",
       "10982  GDP per capita is gross domestic product divid...   \n",
       "10984  GDP per capita based on purchasing power parit...   \n",
       "10985                                                      \n",
       "\n",
       "                                      sourceOrganization            topics  \n",
       "691         b'World Development Indicators (World Bank)'  Economy & Growth  \n",
       "10980  b'World Bank national accounts data, and OECD ...  Economy & Growth  \n",
       "10982  b'World Bank national accounts data, and OECD ...  Economy & Growth  \n",
       "10984  b'International Comparison Program, World Bank...  Economy & Growth  \n",
       "10985                                                b''                    "
      ]
     },
     "execution_count": 23,
     "metadata": {},
     "output_type": "execute_result"
    }
   ],
   "source": [
    "from pandas_datareader import wb\n",
    "matches = wb.search('gdp.*capita.*const')\n",
    "matches"
   ]
  },
  {
   "cell_type": "code",
   "execution_count": null,
   "id": "4caa0fa6",
   "metadata": {},
   "outputs": [],
   "source": []
  },
  {
   "cell_type": "markdown",
   "id": "94551acc",
   "metadata": {},
   "source": [
    "## 3. FRED에서 API 경제데이터 가져오기"
   ]
  },
  {
   "cell_type": "markdown",
   "id": "460352c8",
   "metadata": {},
   "source": [
    "#### (1) 데이터를 가져오기 앞서 FRED에서 APIKEY 받기"
   ]
  },
  {
   "cell_type": "markdown",
   "id": "b8c5ae57",
   "metadata": {},
   "source": [
    "#### (2) 필요한 라이브러리 설치하기"
   ]
  },
  {
   "cell_type": "code",
   "execution_count": null,
   "id": "5e12a2f5",
   "metadata": {},
   "outputs": [],
   "source": [
    "import requests\n",
    "import json\n",
    "data = requests.get('https://api.stlouisfed.org/fred/series?series_id=GNPCA&api_key=43be4fc471782325cab7d47238bf8962&file_type=json')"
   ]
  },
  {
   "cell_type": "code",
   "execution_count": null,
   "id": "cf865e47",
   "metadata": {},
   "outputs": [],
   "source": [
    "data.json()"
   ]
  },
  {
   "cell_type": "code",
   "execution_count": null,
   "id": "44c7fef1",
   "metadata": {},
   "outputs": [],
   "source": [
    "!pip install datapungi_fed"
   ]
  },
  {
   "cell_type": "code",
   "execution_count": null,
   "id": "06f840bf",
   "metadata": {},
   "outputs": [],
   "source": [
    "!pytest"
   ]
  },
  {
   "cell_type": "code",
   "execution_count": null,
   "id": "ac8c4918",
   "metadata": {},
   "outputs": [],
   "source": [
    "!pip install fredapi"
   ]
  },
  {
   "cell_type": "markdown",
   "id": "abef8073",
   "metadata": {},
   "source": [
    "#### (3) 데이터 가져오기"
   ]
  },
  {
   "cell_type": "code",
   "execution_count": 14,
   "id": "4bea0bf3",
   "metadata": {},
   "outputs": [],
   "source": [
    "from fredapi import Fred\n",
    "fred = Fred(api_key='fd1643976833c89506544ff62efd7f70')"
   ]
  },
  {
   "cell_type": "code",
   "execution_count": 15,
   "id": "b5d56932",
   "metadata": {},
   "outputs": [
    {
     "data": {
      "text/plain": [
       "1946-01-01          NaN\n",
       "1946-04-01          NaN\n",
       "1946-07-01          NaN\n",
       "1946-10-01          NaN\n",
       "1947-01-01      243.164\n",
       "                ...    \n",
       "2022-07-01    25994.639\n",
       "2022-10-01    26408.405\n",
       "2023-01-01    26813.601\n",
       "2023-04-01    27063.012\n",
       "2023-07-01    27610.128\n",
       "Length: 311, dtype: float64"
      ]
     },
     "execution_count": 15,
     "metadata": {},
     "output_type": "execute_result"
    }
   ],
   "source": [
    "data = fred.get_series('GDP')\n",
    "data"
   ]
  },
  {
   "cell_type": "code",
   "execution_count": 16,
   "id": "0e2026bb",
   "metadata": {},
   "outputs": [
    {
     "data": {
      "text/plain": [
       "1953-04-01    2.83\n",
       "1953-05-01    3.05\n",
       "1953-06-01    3.11\n",
       "1953-07-01    2.93\n",
       "1953-08-01    2.95\n",
       "              ... \n",
       "2023-08-01    4.17\n",
       "2023-09-01    4.38\n",
       "2023-10-01    4.80\n",
       "2023-11-01    4.50\n",
       "2023-12-01    4.02\n",
       "Length: 849, dtype: float64"
      ]
     },
     "execution_count": 16,
     "metadata": {},
     "output_type": "execute_result"
    }
   ],
   "source": [
    "df = fred.get_series('GS10')\n",
    "df"
   ]
  },
  {
   "cell_type": "code",
   "execution_count": 17,
   "id": "fd4951cf",
   "metadata": {},
   "outputs": [
    {
     "data": {
      "text/plain": [
       "1976-06-01    0.68\n",
       "1976-06-02    0.71\n",
       "1976-06-03    0.70\n",
       "1976-06-04    0.77\n",
       "1976-06-07    0.79\n",
       "              ... \n",
       "2024-01-02   -0.38\n",
       "2024-01-03   -0.42\n",
       "2024-01-04   -0.39\n",
       "2024-01-05   -0.35\n",
       "2024-01-08   -0.35\n",
       "Length: 12420, dtype: float64"
      ]
     },
     "execution_count": 17,
     "metadata": {},
     "output_type": "execute_result"
    }
   ],
   "source": [
    "df = fred.get_series('T10Y2Y')\n",
    "df"
   ]
  },
  {
   "cell_type": "code",
   "execution_count": 18,
   "id": "0f64179e",
   "metadata": {},
   "outputs": [
    {
     "data": {
      "text/plain": [
       "date\n",
       "1946-01-01        199.7\n",
       "1946-04-01        207.7\n",
       "1946-07-01        217.9\n",
       "1946-10-01        222.2\n",
       "1947-01-01        226.7\n",
       "                ...    \n",
       "2022-07-01    25663.289\n",
       "2022-10-01    26132.458\n",
       "2023-01-01    26465.865\n",
       "2023-04-01    26834.953\n",
       "2023-07-01    27623.543\n",
       "Name: value, Length: 311, dtype: object"
      ]
     },
     "execution_count": 18,
     "metadata": {},
     "output_type": "execute_result"
    }
   ],
   "source": [
    "df = fred.get_series_first_release('GDP')\n",
    "df"
   ]
  },
  {
   "cell_type": "code",
   "execution_count": 19,
   "id": "7aeea0da",
   "metadata": {},
   "outputs": [
    {
     "data": {
      "text/plain": [
       "1946-01-01          NaN\n",
       "1946-04-01          NaN\n",
       "1946-07-01          NaN\n",
       "1946-10-01          NaN\n",
       "1947-01-01      243.164\n",
       "                ...    \n",
       "2022-07-01    25994.639\n",
       "2022-10-01    26408.405\n",
       "2023-01-01    26813.601\n",
       "2023-04-01    27063.012\n",
       "2023-07-01    27610.128\n",
       "Length: 311, dtype: float64"
      ]
     },
     "execution_count": 19,
     "metadata": {},
     "output_type": "execute_result"
    }
   ],
   "source": [
    "df = fred.get_series_latest_release('GDP')\n",
    "df"
   ]
  },
  {
   "cell_type": "code",
   "execution_count": 20,
   "id": "eec5da9e",
   "metadata": {},
   "outputs": [
    {
     "data": {
      "text/html": [
       "<div>\n",
       "<style scoped>\n",
       "    .dataframe tbody tr th:only-of-type {\n",
       "        vertical-align: middle;\n",
       "    }\n",
       "\n",
       "    .dataframe tbody tr th {\n",
       "        vertical-align: top;\n",
       "    }\n",
       "\n",
       "    .dataframe thead th {\n",
       "        text-align: right;\n",
       "    }\n",
       "</style>\n",
       "<table border=\"1\" class=\"dataframe\">\n",
       "  <thead>\n",
       "    <tr style=\"text-align: right;\">\n",
       "      <th></th>\n",
       "      <th>realtime_start</th>\n",
       "      <th>date</th>\n",
       "      <th>value</th>\n",
       "    </tr>\n",
       "  </thead>\n",
       "  <tbody>\n",
       "    <tr>\n",
       "      <th>0</th>\n",
       "      <td>1992-12-22 00:00:00</td>\n",
       "      <td>1946-01-01 00:00:00</td>\n",
       "      <td>199.7</td>\n",
       "    </tr>\n",
       "    <tr>\n",
       "      <th>1</th>\n",
       "      <td>1996-01-19 00:00:00</td>\n",
       "      <td>1946-01-01 00:00:00</td>\n",
       "      <td>NaT</td>\n",
       "    </tr>\n",
       "    <tr>\n",
       "      <th>2</th>\n",
       "      <td>1997-05-07 00:00:00</td>\n",
       "      <td>1946-01-01 00:00:00</td>\n",
       "      <td>210.4</td>\n",
       "    </tr>\n",
       "    <tr>\n",
       "      <th>3</th>\n",
       "      <td>1999-10-28 00:00:00</td>\n",
       "      <td>1946-01-01 00:00:00</td>\n",
       "      <td>NaT</td>\n",
       "    </tr>\n",
       "    <tr>\n",
       "      <th>4</th>\n",
       "      <td>1992-12-22 00:00:00</td>\n",
       "      <td>1946-04-01 00:00:00</td>\n",
       "      <td>207.7</td>\n",
       "    </tr>\n",
       "    <tr>\n",
       "      <th>...</th>\n",
       "      <td>...</td>\n",
       "      <td>...</td>\n",
       "      <td>...</td>\n",
       "    </tr>\n",
       "    <tr>\n",
       "      <th>3053</th>\n",
       "      <td>2018-12-21 00:00:00</td>\n",
       "      <td>2018-07-01 00:00:00</td>\n",
       "      <td>20658.204</td>\n",
       "    </tr>\n",
       "    <tr>\n",
       "      <th>3059</th>\n",
       "      <td>2019-02-28 00:00:00</td>\n",
       "      <td>2018-10-01 00:00:00</td>\n",
       "      <td>20891.367</td>\n",
       "    </tr>\n",
       "    <tr>\n",
       "      <th>3060</th>\n",
       "      <td>2019-03-28 00:00:00</td>\n",
       "      <td>2018-10-01 00:00:00</td>\n",
       "      <td>20865.14</td>\n",
       "    </tr>\n",
       "    <tr>\n",
       "      <th>3066</th>\n",
       "      <td>2019-04-26 00:00:00</td>\n",
       "      <td>2019-01-01 00:00:00</td>\n",
       "      <td>21062.691</td>\n",
       "    </tr>\n",
       "    <tr>\n",
       "      <th>3067</th>\n",
       "      <td>2019-05-30 00:00:00</td>\n",
       "      <td>2019-01-01 00:00:00</td>\n",
       "      <td>21048.839</td>\n",
       "    </tr>\n",
       "  </tbody>\n",
       "</table>\n",
       "<p>2906 rows × 3 columns</p>\n",
       "</div>"
      ],
      "text/plain": [
       "           realtime_start                 date      value\n",
       "0     1992-12-22 00:00:00  1946-01-01 00:00:00      199.7\n",
       "1     1996-01-19 00:00:00  1946-01-01 00:00:00        NaT\n",
       "2     1997-05-07 00:00:00  1946-01-01 00:00:00      210.4\n",
       "3     1999-10-28 00:00:00  1946-01-01 00:00:00        NaT\n",
       "4     1992-12-22 00:00:00  1946-04-01 00:00:00      207.7\n",
       "...                   ...                  ...        ...\n",
       "3053  2018-12-21 00:00:00  2018-07-01 00:00:00  20658.204\n",
       "3059  2019-02-28 00:00:00  2018-10-01 00:00:00  20891.367\n",
       "3060  2019-03-28 00:00:00  2018-10-01 00:00:00   20865.14\n",
       "3066  2019-04-26 00:00:00  2019-01-01 00:00:00  21062.691\n",
       "3067  2019-05-30 00:00:00  2019-01-01 00:00:00  21048.839\n",
       "\n",
       "[2906 rows x 3 columns]"
      ]
     },
     "execution_count": 20,
     "metadata": {},
     "output_type": "execute_result"
    }
   ],
   "source": [
    "fred.get_series_as_of_date('GDP', '6/1/2019')"
   ]
  },
  {
   "cell_type": "code",
   "execution_count": 21,
   "id": "ccf07431",
   "metadata": {},
   "outputs": [
    {
     "data": {
      "text/html": [
       "<div>\n",
       "<style scoped>\n",
       "    .dataframe tbody tr th:only-of-type {\n",
       "        vertical-align: middle;\n",
       "    }\n",
       "\n",
       "    .dataframe tbody tr th {\n",
       "        vertical-align: top;\n",
       "    }\n",
       "\n",
       "    .dataframe thead th {\n",
       "        text-align: right;\n",
       "    }\n",
       "</style>\n",
       "<table border=\"1\" class=\"dataframe\">\n",
       "  <thead>\n",
       "    <tr style=\"text-align: right;\">\n",
       "      <th></th>\n",
       "      <th>realtime_start</th>\n",
       "      <th>date</th>\n",
       "      <th>value</th>\n",
       "    </tr>\n",
       "  </thead>\n",
       "  <tbody>\n",
       "    <tr>\n",
       "      <th>0</th>\n",
       "      <td>1992-12-22 00:00:00</td>\n",
       "      <td>1946-01-01 00:00:00</td>\n",
       "      <td>199.7</td>\n",
       "    </tr>\n",
       "    <tr>\n",
       "      <th>1</th>\n",
       "      <td>1996-01-19 00:00:00</td>\n",
       "      <td>1946-01-01 00:00:00</td>\n",
       "      <td>NaT</td>\n",
       "    </tr>\n",
       "    <tr>\n",
       "      <th>2</th>\n",
       "      <td>1997-05-07 00:00:00</td>\n",
       "      <td>1946-01-01 00:00:00</td>\n",
       "      <td>210.4</td>\n",
       "    </tr>\n",
       "    <tr>\n",
       "      <th>3</th>\n",
       "      <td>1999-10-28 00:00:00</td>\n",
       "      <td>1946-01-01 00:00:00</td>\n",
       "      <td>NaT</td>\n",
       "    </tr>\n",
       "    <tr>\n",
       "      <th>4</th>\n",
       "      <td>1992-12-22 00:00:00</td>\n",
       "      <td>1946-04-01 00:00:00</td>\n",
       "      <td>207.7</td>\n",
       "    </tr>\n",
       "    <tr>\n",
       "      <th>...</th>\n",
       "      <td>...</td>\n",
       "      <td>...</td>\n",
       "      <td>...</td>\n",
       "    </tr>\n",
       "    <tr>\n",
       "      <th>3163</th>\n",
       "      <td>2023-08-30 00:00:00</td>\n",
       "      <td>2023-04-01 00:00:00</td>\n",
       "      <td>26798.605</td>\n",
       "    </tr>\n",
       "    <tr>\n",
       "      <th>3164</th>\n",
       "      <td>2023-09-28 00:00:00</td>\n",
       "      <td>2023-04-01 00:00:00</td>\n",
       "      <td>27063.012</td>\n",
       "    </tr>\n",
       "    <tr>\n",
       "      <th>3165</th>\n",
       "      <td>2023-10-26 00:00:00</td>\n",
       "      <td>2023-07-01 00:00:00</td>\n",
       "      <td>27623.543</td>\n",
       "    </tr>\n",
       "    <tr>\n",
       "      <th>3166</th>\n",
       "      <td>2023-11-29 00:00:00</td>\n",
       "      <td>2023-07-01 00:00:00</td>\n",
       "      <td>27644.463</td>\n",
       "    </tr>\n",
       "    <tr>\n",
       "      <th>3167</th>\n",
       "      <td>2023-12-21 00:00:00</td>\n",
       "      <td>2023-07-01 00:00:00</td>\n",
       "      <td>27610.128</td>\n",
       "    </tr>\n",
       "  </tbody>\n",
       "</table>\n",
       "<p>3168 rows × 3 columns</p>\n",
       "</div>"
      ],
      "text/plain": [
       "           realtime_start                 date      value\n",
       "0     1992-12-22 00:00:00  1946-01-01 00:00:00      199.7\n",
       "1     1996-01-19 00:00:00  1946-01-01 00:00:00        NaT\n",
       "2     1997-05-07 00:00:00  1946-01-01 00:00:00      210.4\n",
       "3     1999-10-28 00:00:00  1946-01-01 00:00:00        NaT\n",
       "4     1992-12-22 00:00:00  1946-04-01 00:00:00      207.7\n",
       "...                   ...                  ...        ...\n",
       "3163  2023-08-30 00:00:00  2023-04-01 00:00:00  26798.605\n",
       "3164  2023-09-28 00:00:00  2023-04-01 00:00:00  27063.012\n",
       "3165  2023-10-26 00:00:00  2023-07-01 00:00:00  27623.543\n",
       "3166  2023-11-29 00:00:00  2023-07-01 00:00:00  27644.463\n",
       "3167  2023-12-21 00:00:00  2023-07-01 00:00:00  27610.128\n",
       "\n",
       "[3168 rows x 3 columns]"
      ]
     },
     "execution_count": 21,
     "metadata": {},
     "output_type": "execute_result"
    }
   ],
   "source": [
    "df = fred.get_series_all_releases('GDP')\n",
    "df"
   ]
  },
  {
   "cell_type": "code",
   "execution_count": null,
   "id": "1975c40e",
   "metadata": {},
   "outputs": [],
   "source": []
  }
 ],
 "metadata": {
  "kernelspec": {
   "display_name": "Python 3 (ipykernel)",
   "language": "python",
   "name": "python3"
  },
  "language_info": {
   "codemirror_mode": {
    "name": "ipython",
    "version": 3
   },
   "file_extension": ".py",
   "mimetype": "text/x-python",
   "name": "python",
   "nbconvert_exporter": "python",
   "pygments_lexer": "ipython3",
   "version": "3.9.6"
  },
  "toc": {
   "base_numbering": 1,
   "nav_menu": {},
   "number_sections": true,
   "sideBar": true,
   "skip_h1_title": false,
   "title_cell": "Table of Contents",
   "title_sidebar": "Contents",
   "toc_cell": false,
   "toc_position": {},
   "toc_section_display": true,
   "toc_window_display": false
  }
 },
 "nbformat": 4,
 "nbformat_minor": 5
}
